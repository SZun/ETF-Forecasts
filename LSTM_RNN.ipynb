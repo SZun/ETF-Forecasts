{
 "cells": [
  {
   "cell_type": "markdown",
   "metadata": {
    "id": "--vHyYAZdV6U"
   },
   "source": [
    "# LSTM RNN\n",
    "\n",
    "## Imports"
   ]
  },
  {
   "cell_type": "code",
   "execution_count": 132,
   "metadata": {
    "id": "JRK1uedMi7q_"
   },
   "outputs": [],
   "source": [
    "import warnings\n",
    "import numpy as np\n",
    "import pandas as pd\n",
    "import hvplot.pandas\n",
    "from sklearn.preprocessing import MinMaxScaler\n",
    "from tensorflow.keras.models import Sequential\n",
    "from tensorflow.keras.layers import Dense, LSTM\n",
    "import yfinance as yf\n",
    "import matplotlib.pyplot as plt"
   ]
  },
  {
   "cell_type": "code",
   "execution_count": 133,
   "metadata": {},
   "outputs": [],
   "source": [
    "warnings.filterwarnings('ignore')"
   ]
  },
  {
   "cell_type": "markdown",
   "metadata": {},
   "source": [
    "## Data"
   ]
  },
  {
   "cell_type": "code",
   "execution_count": 134,
   "metadata": {},
   "outputs": [],
   "source": [
    "display_head_tail = lambda df: display(df.head(),df.tail())"
   ]
  },
  {
   "cell_type": "code",
   "execution_count": 135,
   "metadata": {},
   "outputs": [
    {
     "data": {
      "text/html": [
       "<div>\n",
       "<style scoped>\n",
       "    .dataframe tbody tr th:only-of-type {\n",
       "        vertical-align: middle;\n",
       "    }\n",
       "\n",
       "    .dataframe tbody tr th {\n",
       "        vertical-align: top;\n",
       "    }\n",
       "\n",
       "    .dataframe thead th {\n",
       "        text-align: right;\n",
       "    }\n",
       "</style>\n",
       "<table border=\"1\" class=\"dataframe\">\n",
       "  <thead>\n",
       "    <tr style=\"text-align: right;\">\n",
       "      <th></th>\n",
       "      <th>ARKK</th>\n",
       "      <th>SPY</th>\n",
       "      <th>FNGU</th>\n",
       "    </tr>\n",
       "    <tr>\n",
       "      <th>Date</th>\n",
       "      <th></th>\n",
       "      <th></th>\n",
       "      <th></th>\n",
       "    </tr>\n",
       "  </thead>\n",
       "  <tbody>\n",
       "    <tr>\n",
       "      <th>2020-03-02</th>\n",
       "      <td>52.79</td>\n",
       "      <td>294.65</td>\n",
       "      <td>80.15</td>\n",
       "    </tr>\n",
       "    <tr>\n",
       "      <th>2020-03-03</th>\n",
       "      <td>51.73</td>\n",
       "      <td>286.22</td>\n",
       "      <td>73.85</td>\n",
       "    </tr>\n",
       "    <tr>\n",
       "      <th>2020-03-04</th>\n",
       "      <td>53.49</td>\n",
       "      <td>298.25</td>\n",
       "      <td>80.57</td>\n",
       "    </tr>\n",
       "    <tr>\n",
       "      <th>2020-03-05</th>\n",
       "      <td>52.24</td>\n",
       "      <td>288.33</td>\n",
       "      <td>73.80</td>\n",
       "    </tr>\n",
       "    <tr>\n",
       "      <th>2020-03-06</th>\n",
       "      <td>50.87</td>\n",
       "      <td>283.57</td>\n",
       "      <td>68.17</td>\n",
       "    </tr>\n",
       "  </tbody>\n",
       "</table>\n",
       "</div>"
      ],
      "text/plain": [
       "             ARKK     SPY   FNGU\n",
       "Date                            \n",
       "2020-03-02  52.79  294.65  80.15\n",
       "2020-03-03  51.73  286.22  73.85\n",
       "2020-03-04  53.49  298.25  80.57\n",
       "2020-03-05  52.24  288.33  73.80\n",
       "2020-03-06  50.87  283.57  68.17"
      ]
     },
     "metadata": {},
     "output_type": "display_data"
    },
    {
     "data": {
      "text/html": [
       "<div>\n",
       "<style scoped>\n",
       "    .dataframe tbody tr th:only-of-type {\n",
       "        vertical-align: middle;\n",
       "    }\n",
       "\n",
       "    .dataframe tbody tr th {\n",
       "        vertical-align: top;\n",
       "    }\n",
       "\n",
       "    .dataframe thead th {\n",
       "        text-align: right;\n",
       "    }\n",
       "</style>\n",
       "<table border=\"1\" class=\"dataframe\">\n",
       "  <thead>\n",
       "    <tr style=\"text-align: right;\">\n",
       "      <th></th>\n",
       "      <th>ARKK</th>\n",
       "      <th>SPY</th>\n",
       "      <th>FNGU</th>\n",
       "    </tr>\n",
       "    <tr>\n",
       "      <th>Date</th>\n",
       "      <th></th>\n",
       "      <th></th>\n",
       "      <th></th>\n",
       "    </tr>\n",
       "  </thead>\n",
       "  <tbody>\n",
       "    <tr>\n",
       "      <th>2022-03-24</th>\n",
       "      <td>66.40</td>\n",
       "      <td>444.68</td>\n",
       "      <td>236.0</td>\n",
       "    </tr>\n",
       "    <tr>\n",
       "      <th>2022-03-25</th>\n",
       "      <td>64.51</td>\n",
       "      <td>446.85</td>\n",
       "      <td>233.4</td>\n",
       "    </tr>\n",
       "    <tr>\n",
       "      <th>2022-03-28</th>\n",
       "      <td>67.06</td>\n",
       "      <td>450.03</td>\n",
       "      <td>247.0</td>\n",
       "    </tr>\n",
       "    <tr>\n",
       "      <th>2022-03-29</th>\n",
       "      <td>71.39</td>\n",
       "      <td>455.59</td>\n",
       "      <td>257.7</td>\n",
       "    </tr>\n",
       "    <tr>\n",
       "      <th>2022-03-30</th>\n",
       "      <td>68.68</td>\n",
       "      <td>452.78</td>\n",
       "      <td>247.5</td>\n",
       "    </tr>\n",
       "  </tbody>\n",
       "</table>\n",
       "</div>"
      ],
      "text/plain": [
       "             ARKK     SPY   FNGU\n",
       "Date                            \n",
       "2022-03-24  66.40  444.68  236.0\n",
       "2022-03-25  64.51  446.85  233.4\n",
       "2022-03-28  67.06  450.03  247.0\n",
       "2022-03-29  71.39  455.59  257.7\n",
       "2022-03-30  68.68  452.78  247.5"
      ]
     },
     "metadata": {},
     "output_type": "display_data"
    }
   ],
   "source": [
    "etf_data = pd.read_csv('./Resources/Data/etf_data.csv', index_col='Date', parse_dates=True, infer_datetime_format=True)\n",
    "display_head_tail(etf_data)"
   ]
  },
  {
   "cell_type": "code",
   "execution_count": 136,
   "metadata": {},
   "outputs": [],
   "source": [
    "arkk,spy,fngu = [etf_data[i].to_frame(i) for i in ['ARKK','SPY','FNGU']]"
   ]
  },
  {
   "cell_type": "code",
   "execution_count": 137,
   "metadata": {
    "colab": {
     "base_uri": "https://localhost:8080/",
     "height": 575
    },
    "id": "N00O3D7NrWvU",
    "outputId": "71a276b0-f32f-42ed-d858-dc3a639980c8"
   },
   "outputs": [
    {
     "data": {
      "text/html": [
       "<div>\n",
       "<style scoped>\n",
       "    .dataframe tbody tr th:only-of-type {\n",
       "        vertical-align: middle;\n",
       "    }\n",
       "\n",
       "    .dataframe tbody tr th {\n",
       "        vertical-align: top;\n",
       "    }\n",
       "\n",
       "    .dataframe thead th {\n",
       "        text-align: right;\n",
       "    }\n",
       "</style>\n",
       "<table border=\"1\" class=\"dataframe\">\n",
       "  <thead>\n",
       "    <tr style=\"text-align: right;\">\n",
       "      <th></th>\n",
       "      <th>ARKK</th>\n",
       "    </tr>\n",
       "    <tr>\n",
       "      <th>Date</th>\n",
       "      <th></th>\n",
       "    </tr>\n",
       "  </thead>\n",
       "  <tbody>\n",
       "    <tr>\n",
       "      <th>2020-03-02</th>\n",
       "      <td>52.79</td>\n",
       "    </tr>\n",
       "    <tr>\n",
       "      <th>2020-03-03</th>\n",
       "      <td>51.73</td>\n",
       "    </tr>\n",
       "    <tr>\n",
       "      <th>2020-03-04</th>\n",
       "      <td>53.49</td>\n",
       "    </tr>\n",
       "    <tr>\n",
       "      <th>2020-03-05</th>\n",
       "      <td>52.24</td>\n",
       "    </tr>\n",
       "    <tr>\n",
       "      <th>2020-03-06</th>\n",
       "      <td>50.87</td>\n",
       "    </tr>\n",
       "  </tbody>\n",
       "</table>\n",
       "</div>"
      ],
      "text/plain": [
       "             ARKK\n",
       "Date             \n",
       "2020-03-02  52.79\n",
       "2020-03-03  51.73\n",
       "2020-03-04  53.49\n",
       "2020-03-05  52.24\n",
       "2020-03-06  50.87"
      ]
     },
     "metadata": {},
     "output_type": "display_data"
    },
    {
     "data": {
      "text/html": [
       "<div>\n",
       "<style scoped>\n",
       "    .dataframe tbody tr th:only-of-type {\n",
       "        vertical-align: middle;\n",
       "    }\n",
       "\n",
       "    .dataframe tbody tr th {\n",
       "        vertical-align: top;\n",
       "    }\n",
       "\n",
       "    .dataframe thead th {\n",
       "        text-align: right;\n",
       "    }\n",
       "</style>\n",
       "<table border=\"1\" class=\"dataframe\">\n",
       "  <thead>\n",
       "    <tr style=\"text-align: right;\">\n",
       "      <th></th>\n",
       "      <th>ARKK</th>\n",
       "    </tr>\n",
       "    <tr>\n",
       "      <th>Date</th>\n",
       "      <th></th>\n",
       "    </tr>\n",
       "  </thead>\n",
       "  <tbody>\n",
       "    <tr>\n",
       "      <th>2022-03-24</th>\n",
       "      <td>66.40</td>\n",
       "    </tr>\n",
       "    <tr>\n",
       "      <th>2022-03-25</th>\n",
       "      <td>64.51</td>\n",
       "    </tr>\n",
       "    <tr>\n",
       "      <th>2022-03-28</th>\n",
       "      <td>67.06</td>\n",
       "    </tr>\n",
       "    <tr>\n",
       "      <th>2022-03-29</th>\n",
       "      <td>71.39</td>\n",
       "    </tr>\n",
       "    <tr>\n",
       "      <th>2022-03-30</th>\n",
       "      <td>68.68</td>\n",
       "    </tr>\n",
       "  </tbody>\n",
       "</table>\n",
       "</div>"
      ],
      "text/plain": [
       "             ARKK\n",
       "Date             \n",
       "2022-03-24  66.40\n",
       "2022-03-25  64.51\n",
       "2022-03-28  67.06\n",
       "2022-03-29  71.39\n",
       "2022-03-30  68.68"
      ]
     },
     "metadata": {},
     "output_type": "display_data"
    }
   ],
   "source": [
    "display_head_tail(arkk)"
   ]
  },
  {
   "cell_type": "code",
   "execution_count": 138,
   "metadata": {},
   "outputs": [
    {
     "data": {
      "text/html": [
       "<div>\n",
       "<style scoped>\n",
       "    .dataframe tbody tr th:only-of-type {\n",
       "        vertical-align: middle;\n",
       "    }\n",
       "\n",
       "    .dataframe tbody tr th {\n",
       "        vertical-align: top;\n",
       "    }\n",
       "\n",
       "    .dataframe thead th {\n",
       "        text-align: right;\n",
       "    }\n",
       "</style>\n",
       "<table border=\"1\" class=\"dataframe\">\n",
       "  <thead>\n",
       "    <tr style=\"text-align: right;\">\n",
       "      <th></th>\n",
       "      <th>SPY</th>\n",
       "    </tr>\n",
       "    <tr>\n",
       "      <th>Date</th>\n",
       "      <th></th>\n",
       "    </tr>\n",
       "  </thead>\n",
       "  <tbody>\n",
       "    <tr>\n",
       "      <th>2020-03-02</th>\n",
       "      <td>294.65</td>\n",
       "    </tr>\n",
       "    <tr>\n",
       "      <th>2020-03-03</th>\n",
       "      <td>286.22</td>\n",
       "    </tr>\n",
       "    <tr>\n",
       "      <th>2020-03-04</th>\n",
       "      <td>298.25</td>\n",
       "    </tr>\n",
       "    <tr>\n",
       "      <th>2020-03-05</th>\n",
       "      <td>288.33</td>\n",
       "    </tr>\n",
       "    <tr>\n",
       "      <th>2020-03-06</th>\n",
       "      <td>283.57</td>\n",
       "    </tr>\n",
       "  </tbody>\n",
       "</table>\n",
       "</div>"
      ],
      "text/plain": [
       "               SPY\n",
       "Date              \n",
       "2020-03-02  294.65\n",
       "2020-03-03  286.22\n",
       "2020-03-04  298.25\n",
       "2020-03-05  288.33\n",
       "2020-03-06  283.57"
      ]
     },
     "metadata": {},
     "output_type": "display_data"
    },
    {
     "data": {
      "text/html": [
       "<div>\n",
       "<style scoped>\n",
       "    .dataframe tbody tr th:only-of-type {\n",
       "        vertical-align: middle;\n",
       "    }\n",
       "\n",
       "    .dataframe tbody tr th {\n",
       "        vertical-align: top;\n",
       "    }\n",
       "\n",
       "    .dataframe thead th {\n",
       "        text-align: right;\n",
       "    }\n",
       "</style>\n",
       "<table border=\"1\" class=\"dataframe\">\n",
       "  <thead>\n",
       "    <tr style=\"text-align: right;\">\n",
       "      <th></th>\n",
       "      <th>SPY</th>\n",
       "    </tr>\n",
       "    <tr>\n",
       "      <th>Date</th>\n",
       "      <th></th>\n",
       "    </tr>\n",
       "  </thead>\n",
       "  <tbody>\n",
       "    <tr>\n",
       "      <th>2022-03-24</th>\n",
       "      <td>444.68</td>\n",
       "    </tr>\n",
       "    <tr>\n",
       "      <th>2022-03-25</th>\n",
       "      <td>446.85</td>\n",
       "    </tr>\n",
       "    <tr>\n",
       "      <th>2022-03-28</th>\n",
       "      <td>450.03</td>\n",
       "    </tr>\n",
       "    <tr>\n",
       "      <th>2022-03-29</th>\n",
       "      <td>455.59</td>\n",
       "    </tr>\n",
       "    <tr>\n",
       "      <th>2022-03-30</th>\n",
       "      <td>452.78</td>\n",
       "    </tr>\n",
       "  </tbody>\n",
       "</table>\n",
       "</div>"
      ],
      "text/plain": [
       "               SPY\n",
       "Date              \n",
       "2022-03-24  444.68\n",
       "2022-03-25  446.85\n",
       "2022-03-28  450.03\n",
       "2022-03-29  455.59\n",
       "2022-03-30  452.78"
      ]
     },
     "metadata": {},
     "output_type": "display_data"
    }
   ],
   "source": [
    "display_head_tail(spy)"
   ]
  },
  {
   "cell_type": "code",
   "execution_count": 139,
   "metadata": {},
   "outputs": [
    {
     "data": {
      "text/html": [
       "<div>\n",
       "<style scoped>\n",
       "    .dataframe tbody tr th:only-of-type {\n",
       "        vertical-align: middle;\n",
       "    }\n",
       "\n",
       "    .dataframe tbody tr th {\n",
       "        vertical-align: top;\n",
       "    }\n",
       "\n",
       "    .dataframe thead th {\n",
       "        text-align: right;\n",
       "    }\n",
       "</style>\n",
       "<table border=\"1\" class=\"dataframe\">\n",
       "  <thead>\n",
       "    <tr style=\"text-align: right;\">\n",
       "      <th></th>\n",
       "      <th>FNGU</th>\n",
       "    </tr>\n",
       "    <tr>\n",
       "      <th>Date</th>\n",
       "      <th></th>\n",
       "    </tr>\n",
       "  </thead>\n",
       "  <tbody>\n",
       "    <tr>\n",
       "      <th>2020-03-02</th>\n",
       "      <td>80.15</td>\n",
       "    </tr>\n",
       "    <tr>\n",
       "      <th>2020-03-03</th>\n",
       "      <td>73.85</td>\n",
       "    </tr>\n",
       "    <tr>\n",
       "      <th>2020-03-04</th>\n",
       "      <td>80.57</td>\n",
       "    </tr>\n",
       "    <tr>\n",
       "      <th>2020-03-05</th>\n",
       "      <td>73.80</td>\n",
       "    </tr>\n",
       "    <tr>\n",
       "      <th>2020-03-06</th>\n",
       "      <td>68.17</td>\n",
       "    </tr>\n",
       "  </tbody>\n",
       "</table>\n",
       "</div>"
      ],
      "text/plain": [
       "             FNGU\n",
       "Date             \n",
       "2020-03-02  80.15\n",
       "2020-03-03  73.85\n",
       "2020-03-04  80.57\n",
       "2020-03-05  73.80\n",
       "2020-03-06  68.17"
      ]
     },
     "metadata": {},
     "output_type": "display_data"
    },
    {
     "data": {
      "text/html": [
       "<div>\n",
       "<style scoped>\n",
       "    .dataframe tbody tr th:only-of-type {\n",
       "        vertical-align: middle;\n",
       "    }\n",
       "\n",
       "    .dataframe tbody tr th {\n",
       "        vertical-align: top;\n",
       "    }\n",
       "\n",
       "    .dataframe thead th {\n",
       "        text-align: right;\n",
       "    }\n",
       "</style>\n",
       "<table border=\"1\" class=\"dataframe\">\n",
       "  <thead>\n",
       "    <tr style=\"text-align: right;\">\n",
       "      <th></th>\n",
       "      <th>FNGU</th>\n",
       "    </tr>\n",
       "    <tr>\n",
       "      <th>Date</th>\n",
       "      <th></th>\n",
       "    </tr>\n",
       "  </thead>\n",
       "  <tbody>\n",
       "    <tr>\n",
       "      <th>2022-03-24</th>\n",
       "      <td>236.0</td>\n",
       "    </tr>\n",
       "    <tr>\n",
       "      <th>2022-03-25</th>\n",
       "      <td>233.4</td>\n",
       "    </tr>\n",
       "    <tr>\n",
       "      <th>2022-03-28</th>\n",
       "      <td>247.0</td>\n",
       "    </tr>\n",
       "    <tr>\n",
       "      <th>2022-03-29</th>\n",
       "      <td>257.7</td>\n",
       "    </tr>\n",
       "    <tr>\n",
       "      <th>2022-03-30</th>\n",
       "      <td>247.5</td>\n",
       "    </tr>\n",
       "  </tbody>\n",
       "</table>\n",
       "</div>"
      ],
      "text/plain": [
       "             FNGU\n",
       "Date             \n",
       "2022-03-24  236.0\n",
       "2022-03-25  233.4\n",
       "2022-03-28  247.0\n",
       "2022-03-29  257.7\n",
       "2022-03-30  247.5"
      ]
     },
     "metadata": {},
     "output_type": "display_data"
    }
   ],
   "source": [
    "display_head_tail(fngu)"
   ]
  },
  {
   "cell_type": "markdown",
   "metadata": {},
   "source": [
    "## Scaling Data"
   ]
  },
  {
   "cell_type": "code",
   "execution_count": 140,
   "metadata": {},
   "outputs": [],
   "source": [
    "dataframes = [arkk,spy,fngu]"
   ]
  },
  {
   "cell_type": "code",
   "execution_count": 141,
   "metadata": {},
   "outputs": [],
   "source": [
    "arkk_scaler, spy_scaler, fngu_scaler = [MinMaxScaler(feature_range=(0,1)).fit(i) for i in dataframes]"
   ]
  },
  {
   "cell_type": "code",
   "execution_count": 142,
   "metadata": {
    "colab": {
     "base_uri": "https://localhost:8080/"
    },
    "id": "6jGHfpjIvhn0",
    "outputId": "73715f95-8c42-4315-eea3-060be0414ff4"
   },
   "outputs": [],
   "source": [
    "arkk_array, spy_array, fngu_array = [i.values for i in dataframes]"
   ]
  },
  {
   "cell_type": "code",
   "execution_count": 143,
   "metadata": {},
   "outputs": [],
   "source": [
    "get_scaled = lambda scaler, array: scaler.transform(array)\n",
    "arkk_scaled, spy_scaled, fngu_scaled = get_scaled(arkk_scaler,arkk_array),get_scaled(spy_scaler,arkk_array),get_scaled(fngu_scaler,fngu_array);"
   ]
  },
  {
   "cell_type": "markdown",
   "metadata": {},
   "source": [
    "## Train Test Split"
   ]
  },
  {
   "cell_type": "code",
   "execution_count": 144,
   "metadata": {},
   "outputs": [],
   "source": [
    "forecast_length = 60\n",
    "training_length = len(etf_data) - forecast_length"
   ]
  },
  {
   "cell_type": "code",
   "execution_count": 145,
   "metadata": {
    "colab": {
     "base_uri": "https://localhost:8080/"
    },
    "id": "eAReFKlyxSdV",
    "outputId": "d31a6e14-d802-40d8-d7d6-5ec42e22cc9a"
   },
   "outputs": [],
   "source": [
    "def train_test_split_reshape(scaled_data, array):\n",
    "    X, y = scaled_data[0:training_length, :], scaled_data[training_length - forecast_length:, :]\n",
    "\n",
    "    X_train, X_test, y_train, y_test = [],[],[], array[training_length:, :]\n",
    "\n",
    "    for i in range(forecast_length, len(X)):\n",
    "        X_train.append(X[i-forecast_length:i, 0])\n",
    "        y_train.append(X[i,0])\n",
    "\n",
    "    for i in range(forecast_length, len(y)):\n",
    "        X_test.append(y[i-forecast_length:i, 0])\n",
    "        \n",
    "    X_train, X_test, y_train = np.array(X_train), np.array(X_test), np.array(y_train)\n",
    "    X_test = np.reshape(X_test, (X_test.shape[0], X_test.shape[1], 1))\n",
    "    \n",
    "    return [X_train, X_test, y_train, y_test]"
   ]
  },
  {
   "cell_type": "code",
   "execution_count": 146,
   "metadata": {
    "id": "gChz0Omt_5Xb"
   },
   "outputs": [],
   "source": [
    "arkk_X_train, arkk_X_test, arkk_y_train, arkk_y_test =  train_test_split_reshape(arkk_scaled, arkk_array)\n",
    "spy_X_train, spy_X_test, spy_y_train, spy_y_test = train_test_split_reshape(spy_scaled, spy_array)\n",
    "fngu_X_train, fngu_X_test, fngu_y_train, fngu_y_test = train_test_split_reshape(fngu_scaled, fngu_array)"
   ]
  },
  {
   "cell_type": "markdown",
   "metadata": {},
   "source": [
    "## Create Models"
   ]
  },
  {
   "cell_type": "code",
   "execution_count": 147,
   "metadata": {},
   "outputs": [],
   "source": [
    "def get_model(n_layer1, n_layer2, n_layer3, X_train, optimizer, loss_func):\n",
    "    model = Sequential()\n",
    "    \n",
    "    model.add(LSTM(50, return_sequences=True, input_shape=(X_train.shape[1], 1)))\n",
    "    model.add(LSTM(50, return_sequences=False))\n",
    "    model.add(Dense(25))\n",
    "    model.add(Dense(1))\n",
    "    \n",
    "    display(model.summary())\n",
    "    \n",
    "    model.compile(optimizer=optimizer, loss=loss_func)\n",
    "    \n",
    "    return model"
   ]
  },
  {
   "cell_type": "code",
   "execution_count": 148,
   "metadata": {
    "id": "nIgdv2cMK1ej"
   },
   "outputs": [
    {
     "name": "stdout",
     "output_type": "stream",
     "text": [
      "Model: \"sequential_16\"\n",
      "_________________________________________________________________\n",
      " Layer (type)                Output Shape              Param #   \n",
      "=================================================================\n",
      " lstm_32 (LSTM)              (None, 60, 50)            10400     \n",
      "                                                                 \n",
      " lstm_33 (LSTM)              (None, 50)                20200     \n",
      "                                                                 \n",
      " dense_32 (Dense)            (None, 25)                1275      \n",
      "                                                                 \n",
      " dense_33 (Dense)            (None, 1)                 26        \n",
      "                                                                 \n",
      "=================================================================\n",
      "Total params: 31,901\n",
      "Trainable params: 31,901\n",
      "Non-trainable params: 0\n",
      "_________________________________________________________________\n"
     ]
    },
    {
     "data": {
      "text/plain": [
       "None"
      ]
     },
     "metadata": {},
     "output_type": "display_data"
    }
   ],
   "source": [
    "arkk_model = get_model(50,50,25,arkk_X_train,'adam','mse')"
   ]
  },
  {
   "cell_type": "code",
   "execution_count": 149,
   "metadata": {},
   "outputs": [
    {
     "name": "stdout",
     "output_type": "stream",
     "text": [
      "Model: \"sequential_17\"\n",
      "_________________________________________________________________\n",
      " Layer (type)                Output Shape              Param #   \n",
      "=================================================================\n",
      " lstm_34 (LSTM)              (None, 60, 50)            10400     \n",
      "                                                                 \n",
      " lstm_35 (LSTM)              (None, 50)                20200     \n",
      "                                                                 \n",
      " dense_34 (Dense)            (None, 25)                1275      \n",
      "                                                                 \n",
      " dense_35 (Dense)            (None, 1)                 26        \n",
      "                                                                 \n",
      "=================================================================\n",
      "Total params: 31,901\n",
      "Trainable params: 31,901\n",
      "Non-trainable params: 0\n",
      "_________________________________________________________________\n"
     ]
    },
    {
     "data": {
      "text/plain": [
       "None"
      ]
     },
     "metadata": {},
     "output_type": "display_data"
    }
   ],
   "source": [
    "spy_model = get_model(50,50,25,spy_X_train,'adam','mse')"
   ]
  },
  {
   "cell_type": "code",
   "execution_count": 150,
   "metadata": {},
   "outputs": [
    {
     "name": "stdout",
     "output_type": "stream",
     "text": [
      "Model: \"sequential_18\"\n",
      "_________________________________________________________________\n",
      " Layer (type)                Output Shape              Param #   \n",
      "=================================================================\n",
      " lstm_36 (LSTM)              (None, 60, 50)            10400     \n",
      "                                                                 \n",
      " lstm_37 (LSTM)              (None, 50)                20200     \n",
      "                                                                 \n",
      " dense_36 (Dense)            (None, 25)                1275      \n",
      "                                                                 \n",
      " dense_37 (Dense)            (None, 1)                 26        \n",
      "                                                                 \n",
      "=================================================================\n",
      "Total params: 31,901\n",
      "Trainable params: 31,901\n",
      "Non-trainable params: 0\n",
      "_________________________________________________________________\n"
     ]
    },
    {
     "data": {
      "text/plain": [
       "None"
      ]
     },
     "metadata": {},
     "output_type": "display_data"
    }
   ],
   "source": [
    "fngu_model = get_model(50,50,25,fngu_X_train,'adam','mse')"
   ]
  },
  {
   "cell_type": "markdown",
   "metadata": {},
   "source": [
    "## Train Models"
   ]
  },
  {
   "cell_type": "code",
   "execution_count": 151,
   "metadata": {
    "colab": {
     "base_uri": "https://localhost:8080/"
    },
    "id": "ZA2EuB6zMIbi",
    "outputId": "add8f863-51cc-4082-f564-215ac9628ae5"
   },
   "outputs": [
    {
     "name": "stdout",
     "output_type": "stream",
     "text": [
      "406/406 [==============================] - 6s 11ms/step - loss: 0.0074\n"
     ]
    }
   ],
   "source": [
    "arkk_model.fit(arkk_X_train, arkk_y_train, batch_size=1, epochs=1);"
   ]
  },
  {
   "cell_type": "code",
   "execution_count": 152,
   "metadata": {},
   "outputs": [
    {
     "name": "stdout",
     "output_type": "stream",
     "text": [
      "406/406 [==============================] - 6s 11ms/step - loss: 0.0017\n"
     ]
    }
   ],
   "source": [
    "spy_model.fit(spy_X_train, spy_y_train, batch_size=1, epochs=1);"
   ]
  },
  {
   "cell_type": "code",
   "execution_count": 153,
   "metadata": {},
   "outputs": [
    {
     "name": "stdout",
     "output_type": "stream",
     "text": [
      "406/406 [==============================] - 6s 11ms/step - loss: 0.0111\n"
     ]
    }
   ],
   "source": [
    "fngu_model.fit(fngu_X_train, fngu_y_train, batch_size=1, epochs=1);"
   ]
  },
  {
   "cell_type": "markdown",
   "metadata": {},
   "source": [
    "## Predict/Forecast"
   ]
  },
  {
   "cell_type": "code",
   "execution_count": 155,
   "metadata": {
    "colab": {
     "base_uri": "https://localhost:8080/"
    },
    "id": "EHRweClsPWp5",
    "outputId": "5cce878f-ac99-4744-afd4-2a1ca885f3f8"
   },
   "outputs": [
    {
     "name": "stdout",
     "output_type": "stream",
     "text": [
      "WARNING:tensorflow:5 out of the last 9 calls to <function Model.make_predict_function.<locals>.predict_function at 0x000001AE9AD13C10> triggered tf.function retracing. Tracing is expensive and the excessive number of tracings could be due to (1) creating @tf.function repeatedly in a loop, (2) passing tensors with different shapes, (3) passing Python objects instead of tensors. For (1), please define your @tf.function outside of the loop. For (2), @tf.function has reduce_retracing=True option that can avoid unnecessary retracing. For (3), please refer to https://www.tensorflow.org/guide/function#controlling_retracing and https://www.tensorflow.org/api_docs/python/tf/function for  more details.\n",
      "2/2 [==============================] - 0s 7ms/step\n",
      "WARNING:tensorflow:6 out of the last 11 calls to <function Model.make_predict_function.<locals>.predict_function at 0x000001AE91BA2280> triggered tf.function retracing. Tracing is expensive and the excessive number of tracings could be due to (1) creating @tf.function repeatedly in a loop, (2) passing tensors with different shapes, (3) passing Python objects instead of tensors. For (1), please define your @tf.function outside of the loop. For (2), @tf.function has reduce_retracing=True option that can avoid unnecessary retracing. For (3), please refer to https://www.tensorflow.org/guide/function#controlling_retracing and https://www.tensorflow.org/api_docs/python/tf/function for  more details.\n",
      "2/2 [==============================] - 0s 7ms/step\n",
      "2/2 [==============================] - 0s 8ms/step\n"
     ]
    }
   ],
   "source": [
    "arkk_predictions = arkk_model.predict(arkk_X_test)\n",
    "spy_predictions = spy_model.predict(spy_X_test)\n",
    "fngu_predictions = fngu_model.predict(fngu_X_test)"
   ]
  },
  {
   "cell_type": "markdown",
   "metadata": {},
   "source": [
    "### Actual vs Predicted "
   ]
  },
  {
   "cell_type": "code",
   "execution_count": 256,
   "metadata": {},
   "outputs": [],
   "source": [
    "def get_actual_predicted(df, predictions): \n",
    "    valid = df[training_length:]\n",
    "    predictions = scaler.inverse_transform(predictions)\n",
    "    column_name = df.columns[0]\n",
    "    valid[f'{column_name} Forecasted Adjusted Close'] = predictions\n",
    "    valid.rename(columns={column_name:f'{column_name} Actual Adjusted Close'}, inplace=True)\n",
    "    return valid"
   ]
  },
  {
   "cell_type": "code",
   "execution_count": 257,
   "metadata": {},
   "outputs": [
    {
     "data": {
      "text/html": [
       "<div>\n",
       "<style scoped>\n",
       "    .dataframe tbody tr th:only-of-type {\n",
       "        vertical-align: middle;\n",
       "    }\n",
       "\n",
       "    .dataframe tbody tr th {\n",
       "        vertical-align: top;\n",
       "    }\n",
       "\n",
       "    .dataframe thead th {\n",
       "        text-align: right;\n",
       "    }\n",
       "</style>\n",
       "<table border=\"1\" class=\"dataframe\">\n",
       "  <thead>\n",
       "    <tr style=\"text-align: right;\">\n",
       "      <th></th>\n",
       "      <th>ARKK Actual Adjusted Close</th>\n",
       "      <th>ARKK Forecasted Adjusted Close</th>\n",
       "    </tr>\n",
       "    <tr>\n",
       "      <th>Date</th>\n",
       "      <th></th>\n",
       "      <th></th>\n",
       "    </tr>\n",
       "  </thead>\n",
       "  <tbody>\n",
       "    <tr>\n",
       "      <th>2022-01-04</th>\n",
       "      <td>92.69</td>\n",
       "      <td>105.933006</td>\n",
       "    </tr>\n",
       "    <tr>\n",
       "      <th>2022-01-05</th>\n",
       "      <td>86.12</td>\n",
       "      <td>105.765465</td>\n",
       "    </tr>\n",
       "    <tr>\n",
       "      <th>2022-01-06</th>\n",
       "      <td>85.58</td>\n",
       "      <td>105.114441</td>\n",
       "    </tr>\n",
       "    <tr>\n",
       "      <th>2022-01-07</th>\n",
       "      <td>84.42</td>\n",
       "      <td>104.186623</td>\n",
       "    </tr>\n",
       "    <tr>\n",
       "      <th>2022-01-10</th>\n",
       "      <td>84.64</td>\n",
       "      <td>103.066788</td>\n",
       "    </tr>\n",
       "  </tbody>\n",
       "</table>\n",
       "</div>"
      ],
      "text/plain": [
       "            ARKK Actual Adjusted Close  ARKK Forecasted Adjusted Close\n",
       "Date                                                                  \n",
       "2022-01-04                       92.69                      105.933006\n",
       "2022-01-05                       86.12                      105.765465\n",
       "2022-01-06                       85.58                      105.114441\n",
       "2022-01-07                       84.42                      104.186623\n",
       "2022-01-10                       84.64                      103.066788"
      ]
     },
     "metadata": {},
     "output_type": "display_data"
    },
    {
     "data": {
      "text/html": [
       "<div>\n",
       "<style scoped>\n",
       "    .dataframe tbody tr th:only-of-type {\n",
       "        vertical-align: middle;\n",
       "    }\n",
       "\n",
       "    .dataframe tbody tr th {\n",
       "        vertical-align: top;\n",
       "    }\n",
       "\n",
       "    .dataframe thead th {\n",
       "        text-align: right;\n",
       "    }\n",
       "</style>\n",
       "<table border=\"1\" class=\"dataframe\">\n",
       "  <thead>\n",
       "    <tr style=\"text-align: right;\">\n",
       "      <th></th>\n",
       "      <th>ARKK Actual Adjusted Close</th>\n",
       "      <th>ARKK Forecasted Adjusted Close</th>\n",
       "    </tr>\n",
       "    <tr>\n",
       "      <th>Date</th>\n",
       "      <th></th>\n",
       "      <th></th>\n",
       "    </tr>\n",
       "  </thead>\n",
       "  <tbody>\n",
       "    <tr>\n",
       "      <th>2022-03-24</th>\n",
       "      <td>66.40</td>\n",
       "      <td>71.225555</td>\n",
       "    </tr>\n",
       "    <tr>\n",
       "      <th>2022-03-25</th>\n",
       "      <td>64.51</td>\n",
       "      <td>71.944176</td>\n",
       "    </tr>\n",
       "    <tr>\n",
       "      <th>2022-03-28</th>\n",
       "      <td>67.06</td>\n",
       "      <td>72.544334</td>\n",
       "    </tr>\n",
       "    <tr>\n",
       "      <th>2022-03-29</th>\n",
       "      <td>71.39</td>\n",
       "      <td>73.176857</td>\n",
       "    </tr>\n",
       "    <tr>\n",
       "      <th>2022-03-30</th>\n",
       "      <td>68.68</td>\n",
       "      <td>74.030190</td>\n",
       "    </tr>\n",
       "  </tbody>\n",
       "</table>\n",
       "</div>"
      ],
      "text/plain": [
       "            ARKK Actual Adjusted Close  ARKK Forecasted Adjusted Close\n",
       "Date                                                                  \n",
       "2022-03-24                       66.40                       71.225555\n",
       "2022-03-25                       64.51                       71.944176\n",
       "2022-03-28                       67.06                       72.544334\n",
       "2022-03-29                       71.39                       73.176857\n",
       "2022-03-30                       68.68                       74.030190"
      ]
     },
     "metadata": {},
     "output_type": "display_data"
    }
   ],
   "source": [
    "arkk_actual_predicted = get_actual_predicted(arkk,arkk_predictions)\n",
    "display_head_tail(arkk_actual_predicted)"
   ]
  },
  {
   "cell_type": "code",
   "execution_count": 230,
   "metadata": {},
   "outputs": [
    {
     "data": {
      "text/html": [
       "<div>\n",
       "<style scoped>\n",
       "    .dataframe tbody tr th:only-of-type {\n",
       "        vertical-align: middle;\n",
       "    }\n",
       "\n",
       "    .dataframe tbody tr th {\n",
       "        vertical-align: top;\n",
       "    }\n",
       "\n",
       "    .dataframe thead th {\n",
       "        text-align: right;\n",
       "    }\n",
       "</style>\n",
       "<table border=\"1\" class=\"dataframe\">\n",
       "  <thead>\n",
       "    <tr style=\"text-align: right;\">\n",
       "      <th></th>\n",
       "      <th>SPY Actual Adjusted Close</th>\n",
       "      <th>SPY Forecasted Adjusted Close</th>\n",
       "    </tr>\n",
       "    <tr>\n",
       "      <th>Date</th>\n",
       "      <th></th>\n",
       "      <th></th>\n",
       "    </tr>\n",
       "  </thead>\n",
       "  <tbody>\n",
       "    <tr>\n",
       "      <th>2022-01-04</th>\n",
       "      <td>469.93</td>\n",
       "      <td>-24.101727</td>\n",
       "    </tr>\n",
       "    <tr>\n",
       "      <th>2022-01-05</th>\n",
       "      <td>460.90</td>\n",
       "      <td>-24.183472</td>\n",
       "    </tr>\n",
       "    <tr>\n",
       "      <th>2022-01-06</th>\n",
       "      <td>460.47</td>\n",
       "      <td>-24.516848</td>\n",
       "    </tr>\n",
       "    <tr>\n",
       "      <th>2022-01-07</th>\n",
       "      <td>458.65</td>\n",
       "      <td>-24.986734</td>\n",
       "    </tr>\n",
       "    <tr>\n",
       "      <th>2022-01-10</th>\n",
       "      <td>458.08</td>\n",
       "      <td>-25.542082</td>\n",
       "    </tr>\n",
       "  </tbody>\n",
       "</table>\n",
       "</div>"
      ],
      "text/plain": [
       "            SPY Actual Adjusted Close  SPY Forecasted Adjusted Close\n",
       "Date                                                                \n",
       "2022-01-04                     469.93                     -24.101727\n",
       "2022-01-05                     460.90                     -24.183472\n",
       "2022-01-06                     460.47                     -24.516848\n",
       "2022-01-07                     458.65                     -24.986734\n",
       "2022-01-10                     458.08                     -25.542082"
      ]
     },
     "metadata": {},
     "output_type": "display_data"
    },
    {
     "data": {
      "text/html": [
       "<div>\n",
       "<style scoped>\n",
       "    .dataframe tbody tr th:only-of-type {\n",
       "        vertical-align: middle;\n",
       "    }\n",
       "\n",
       "    .dataframe tbody tr th {\n",
       "        vertical-align: top;\n",
       "    }\n",
       "\n",
       "    .dataframe thead th {\n",
       "        text-align: right;\n",
       "    }\n",
       "</style>\n",
       "<table border=\"1\" class=\"dataframe\">\n",
       "  <thead>\n",
       "    <tr style=\"text-align: right;\">\n",
       "      <th></th>\n",
       "      <th>SPY Actual Adjusted Close</th>\n",
       "      <th>SPY Forecasted Adjusted Close</th>\n",
       "    </tr>\n",
       "    <tr>\n",
       "      <th>Date</th>\n",
       "      <th></th>\n",
       "      <th></th>\n",
       "    </tr>\n",
       "  </thead>\n",
       "  <tbody>\n",
       "    <tr>\n",
       "      <th>2022-03-24</th>\n",
       "      <td>444.68</td>\n",
       "      <td>-39.579117</td>\n",
       "    </tr>\n",
       "    <tr>\n",
       "      <th>2022-03-25</th>\n",
       "      <td>446.85</td>\n",
       "      <td>-39.223789</td>\n",
       "    </tr>\n",
       "    <tr>\n",
       "      <th>2022-03-28</th>\n",
       "      <td>450.03</td>\n",
       "      <td>-38.948513</td>\n",
       "    </tr>\n",
       "    <tr>\n",
       "      <th>2022-03-29</th>\n",
       "      <td>455.59</td>\n",
       "      <td>-38.656994</td>\n",
       "    </tr>\n",
       "    <tr>\n",
       "      <th>2022-03-30</th>\n",
       "      <td>452.78</td>\n",
       "      <td>-38.244995</td>\n",
       "    </tr>\n",
       "  </tbody>\n",
       "</table>\n",
       "</div>"
      ],
      "text/plain": [
       "            SPY Actual Adjusted Close  SPY Forecasted Adjusted Close\n",
       "Date                                                                \n",
       "2022-03-24                     444.68                     -39.579117\n",
       "2022-03-25                     446.85                     -39.223789\n",
       "2022-03-28                     450.03                     -38.948513\n",
       "2022-03-29                     455.59                     -38.656994\n",
       "2022-03-30                     452.78                     -38.244995"
      ]
     },
     "metadata": {},
     "output_type": "display_data"
    }
   ],
   "source": [
    "spy_actual_predicted = get_actual_predicted(spy,spy_predictions)\n",
    "display_head_tail(spy_actual_predicted)"
   ]
  },
  {
   "cell_type": "code",
   "execution_count": 231,
   "metadata": {},
   "outputs": [
    {
     "data": {
      "text/html": [
       "<div>\n",
       "<style scoped>\n",
       "    .dataframe tbody tr th:only-of-type {\n",
       "        vertical-align: middle;\n",
       "    }\n",
       "\n",
       "    .dataframe tbody tr th {\n",
       "        vertical-align: top;\n",
       "    }\n",
       "\n",
       "    .dataframe thead th {\n",
       "        text-align: right;\n",
       "    }\n",
       "</style>\n",
       "<table border=\"1\" class=\"dataframe\">\n",
       "  <thead>\n",
       "    <tr style=\"text-align: right;\">\n",
       "      <th></th>\n",
       "      <th>FNGU Actual Adjusted Close</th>\n",
       "      <th>FNGU Forecasted Adjusted Close</th>\n",
       "    </tr>\n",
       "    <tr>\n",
       "      <th>Date</th>\n",
       "      <th></th>\n",
       "      <th></th>\n",
       "    </tr>\n",
       "  </thead>\n",
       "  <tbody>\n",
       "    <tr>\n",
       "      <th>2022-01-04</th>\n",
       "      <td>380.4</td>\n",
       "      <td>124.855186</td>\n",
       "    </tr>\n",
       "    <tr>\n",
       "      <th>2022-01-05</th>\n",
       "      <td>342.9</td>\n",
       "      <td>125.264259</td>\n",
       "    </tr>\n",
       "    <tr>\n",
       "      <th>2022-01-06</th>\n",
       "      <td>349.1</td>\n",
       "      <td>124.786491</td>\n",
       "    </tr>\n",
       "    <tr>\n",
       "      <th>2022-01-07</th>\n",
       "      <td>342.4</td>\n",
       "      <td>124.043999</td>\n",
       "    </tr>\n",
       "    <tr>\n",
       "      <th>2022-01-10</th>\n",
       "      <td>344.2</td>\n",
       "      <td>123.056061</td>\n",
       "    </tr>\n",
       "  </tbody>\n",
       "</table>\n",
       "</div>"
      ],
      "text/plain": [
       "            FNGU Actual Adjusted Close  FNGU Forecasted Adjusted Close\n",
       "Date                                                                  \n",
       "2022-01-04                       380.4                      124.855186\n",
       "2022-01-05                       342.9                      125.264259\n",
       "2022-01-06                       349.1                      124.786491\n",
       "2022-01-07                       342.4                      124.043999\n",
       "2022-01-10                       344.2                      123.056061"
      ]
     },
     "metadata": {},
     "output_type": "display_data"
    },
    {
     "data": {
      "text/html": [
       "<div>\n",
       "<style scoped>\n",
       "    .dataframe tbody tr th:only-of-type {\n",
       "        vertical-align: middle;\n",
       "    }\n",
       "\n",
       "    .dataframe tbody tr th {\n",
       "        vertical-align: top;\n",
       "    }\n",
       "\n",
       "    .dataframe thead th {\n",
       "        text-align: right;\n",
       "    }\n",
       "</style>\n",
       "<table border=\"1\" class=\"dataframe\">\n",
       "  <thead>\n",
       "    <tr style=\"text-align: right;\">\n",
       "      <th></th>\n",
       "      <th>FNGU Actual Adjusted Close</th>\n",
       "      <th>FNGU Forecasted Adjusted Close</th>\n",
       "    </tr>\n",
       "    <tr>\n",
       "      <th>Date</th>\n",
       "      <th></th>\n",
       "      <th></th>\n",
       "    </tr>\n",
       "  </thead>\n",
       "  <tbody>\n",
       "    <tr>\n",
       "      <th>2022-03-24</th>\n",
       "      <td>236.0</td>\n",
       "      <td>81.510818</td>\n",
       "    </tr>\n",
       "    <tr>\n",
       "      <th>2022-03-25</th>\n",
       "      <td>233.4</td>\n",
       "      <td>83.266479</td>\n",
       "    </tr>\n",
       "    <tr>\n",
       "      <th>2022-03-28</th>\n",
       "      <td>247.0</td>\n",
       "      <td>84.900230</td>\n",
       "    </tr>\n",
       "    <tr>\n",
       "      <th>2022-03-29</th>\n",
       "      <td>257.7</td>\n",
       "      <td>86.592293</td>\n",
       "    </tr>\n",
       "    <tr>\n",
       "      <th>2022-03-30</th>\n",
       "      <td>247.5</td>\n",
       "      <td>88.374146</td>\n",
       "    </tr>\n",
       "  </tbody>\n",
       "</table>\n",
       "</div>"
      ],
      "text/plain": [
       "            FNGU Actual Adjusted Close  FNGU Forecasted Adjusted Close\n",
       "Date                                                                  \n",
       "2022-03-24                       236.0                       81.510818\n",
       "2022-03-25                       233.4                       83.266479\n",
       "2022-03-28                       247.0                       84.900230\n",
       "2022-03-29                       257.7                       86.592293\n",
       "2022-03-30                       247.5                       88.374146"
      ]
     },
     "metadata": {},
     "output_type": "display_data"
    }
   ],
   "source": [
    "fngu_actual_predicted = get_actual_predicted(fngu,fngu_predictions)\n",
    "display_head_tail(fngu_actual_predicted)"
   ]
  },
  {
   "cell_type": "markdown",
   "metadata": {},
   "source": [
    "## Visualization"
   ]
  },
  {
   "cell_type": "markdown",
   "metadata": {},
   "source": [
    "### Actual vs Predicted "
   ]
  },
  {
   "cell_type": "code",
   "execution_count": 232,
   "metadata": {},
   "outputs": [],
   "source": [
    "def plot_df(df):\n",
    "    return df.hvplot()"
   ]
  },
  {
   "cell_type": "code",
   "execution_count": 233,
   "metadata": {},
   "outputs": [
    {
     "data": {},
     "metadata": {},
     "output_type": "display_data"
    },
    {
     "data": {
      "application/vnd.holoviews_exec.v0+json": "",
      "text/html": [
       "<div id='6681'>\n",
       "  <div class=\"bk-root\" id=\"1378e48b-7a9c-4ab0-a37e-4c4d1340d5dd\" data-root-id=\"6681\"></div>\n",
       "</div>\n",
       "<script type=\"application/javascript\">(function(root) {\n",
       "  function embed_document(root) {\n",
       "    var docs_json = {\"70e04ae2-23af-48bd-ad43-da9a5348a5fa\":{\"defs\":[{\"extends\":null,\"module\":null,\"name\":\"ReactiveHTML1\",\"overrides\":[],\"properties\":[]},{\"extends\":null,\"module\":null,\"name\":\"FlexBox1\",\"overrides\":[],\"properties\":[{\"default\":\"flex-start\",\"kind\":null,\"name\":\"align_content\"},{\"default\":\"flex-start\",\"kind\":null,\"name\":\"align_items\"},{\"default\":\"row\",\"kind\":null,\"name\":\"flex_direction\"},{\"default\":\"wrap\",\"kind\":null,\"name\":\"flex_wrap\"},{\"default\":\"flex-start\",\"kind\":null,\"name\":\"justify_content\"}]},{\"extends\":null,\"module\":null,\"name\":\"GridStack1\",\"overrides\":[],\"properties\":[{\"default\":\"warn\",\"kind\":null,\"name\":\"mode\"},{\"default\":null,\"kind\":null,\"name\":\"ncols\"},{\"default\":null,\"kind\":null,\"name\":\"nrows\"},{\"default\":true,\"kind\":null,\"name\":\"allow_resize\"},{\"default\":true,\"kind\":null,\"name\":\"allow_drag\"},{\"default\":[],\"kind\":null,\"name\":\"state\"}]},{\"extends\":null,\"module\":null,\"name\":\"click1\",\"overrides\":[],\"properties\":[{\"default\":\"\",\"kind\":null,\"name\":\"terminal_output\"},{\"default\":\"\",\"kind\":null,\"name\":\"debug_name\"},{\"default\":0,\"kind\":null,\"name\":\"clears\"}]},{\"extends\":null,\"module\":null,\"name\":\"NotificationAreaBase1\",\"overrides\":[],\"properties\":[{\"default\":\"bottom-right\",\"kind\":null,\"name\":\"position\"},{\"default\":0,\"kind\":null,\"name\":\"_clear\"}]},{\"extends\":null,\"module\":null,\"name\":\"NotificationArea1\",\"overrides\":[],\"properties\":[{\"default\":[],\"kind\":null,\"name\":\"notifications\"},{\"default\":\"bottom-right\",\"kind\":null,\"name\":\"position\"},{\"default\":0,\"kind\":null,\"name\":\"_clear\"},{\"default\":[{\"background\":\"#ffc107\",\"icon\":{\"className\":\"fas fa-exclamation-triangle\",\"color\":\"white\",\"tagName\":\"i\"},\"type\":\"warning\"},{\"background\":\"#007bff\",\"icon\":{\"className\":\"fas fa-info-circle\",\"color\":\"white\",\"tagName\":\"i\"},\"type\":\"info\"}],\"kind\":null,\"name\":\"types\"}]},{\"extends\":null,\"module\":null,\"name\":\"Notification\",\"overrides\":[],\"properties\":[{\"default\":null,\"kind\":null,\"name\":\"background\"},{\"default\":3000,\"kind\":null,\"name\":\"duration\"},{\"default\":null,\"kind\":null,\"name\":\"icon\"},{\"default\":\"\",\"kind\":null,\"name\":\"message\"},{\"default\":null,\"kind\":null,\"name\":\"notification_type\"},{\"default\":false,\"kind\":null,\"name\":\"_destroyed\"}]},{\"extends\":null,\"module\":null,\"name\":\"TemplateActions1\",\"overrides\":[],\"properties\":[{\"default\":0,\"kind\":null,\"name\":\"open_modal\"},{\"default\":0,\"kind\":null,\"name\":\"close_modal\"}]},{\"extends\":null,\"module\":null,\"name\":\"MaterialTemplateActions1\",\"overrides\":[],\"properties\":[{\"default\":0,\"kind\":null,\"name\":\"open_modal\"},{\"default\":0,\"kind\":null,\"name\":\"close_modal\"}]}],\"roots\":{\"references\":[{\"attributes\":{},\"id\":\"6857\",\"type\":\"YearsTicker\"},{\"attributes\":{\"coordinates\":null,\"group\":null,\"text_color\":\"black\",\"text_font_size\":\"12pt\"},\"id\":\"6688\",\"type\":\"Title\"},{\"attributes\":{\"axis_label\":\"\",\"coordinates\":null,\"formatter\":{\"id\":\"6721\"},\"group\":null,\"major_label_policy\":{\"id\":\"6722\"},\"ticker\":{\"id\":\"6701\"}},\"id\":\"6700\",\"type\":\"LinearAxis\"},{\"attributes\":{\"num_minor_ticks\":5,\"tickers\":[{\"id\":\"6741\"},{\"id\":\"6742\"},{\"id\":\"6743\"},{\"id\":\"6744\"},{\"id\":\"6745\"},{\"id\":\"6746\"},{\"id\":\"6747\"},{\"id\":\"6748\"},{\"id\":\"6749\"},{\"id\":\"6750\"},{\"id\":\"6751\"},{\"id\":\"6752\"}]},\"id\":\"6697\",\"type\":\"DatetimeTicker\"},{\"attributes\":{\"axis\":{\"id\":\"6696\"},\"coordinates\":null,\"grid_line_color\":null,\"group\":null,\"ticker\":null},\"id\":\"6699\",\"type\":\"Grid\"},{\"attributes\":{\"axis_label\":\"Date\",\"coordinates\":null,\"formatter\":{\"id\":\"6718\"},\"group\":null,\"major_label_policy\":{\"id\":\"6719\"},\"ticker\":{\"id\":\"6697\"}},\"id\":\"6696\",\"type\":\"DatetimeAxis\"},{\"attributes\":{},\"id\":\"6694\",\"type\":\"LinearScale\"},{\"attributes\":{},\"id\":\"6705\",\"type\":\"PanTool\"},{\"attributes\":{},\"id\":\"6719\",\"type\":\"AllLabels\"},{\"attributes\":{\"axis\":{\"id\":\"6700\"},\"coordinates\":null,\"dimension\":1,\"grid_line_color\":null,\"group\":null,\"ticker\":null},\"id\":\"6703\",\"type\":\"Grid\"},{\"attributes\":{},\"id\":\"6983\",\"type\":\"UnionRenderers\"},{\"attributes\":{},\"id\":\"6701\",\"type\":\"BasicTicker\"},{\"attributes\":{},\"id\":\"6706\",\"type\":\"WheelZoomTool\"},{\"attributes\":{},\"id\":\"6704\",\"type\":\"SaveTool\"},{\"attributes\":{\"children\":[{\"id\":\"6682\"},{\"id\":\"7078\"},{\"id\":\"7151\"}],\"margin\":[0,0,0,0],\"name\":\"Row05834\",\"tags\":[\"embedded\"]},\"id\":\"6681\",\"type\":\"Row\"},{\"attributes\":{\"overlay\":{\"id\":\"6709\"}},\"id\":\"6707\",\"type\":\"BoxZoomTool\"},{\"attributes\":{},\"id\":\"6708\",\"type\":\"ResetTool\"},{\"attributes\":{\"bottom_units\":\"screen\",\"coordinates\":null,\"fill_alpha\":0.5,\"fill_color\":\"lightgrey\",\"group\":null,\"left_units\":\"screen\",\"level\":\"overlay\",\"line_alpha\":1.0,\"line_color\":\"black\",\"line_dash\":[4,4],\"line_width\":2,\"right_units\":\"screen\",\"syncable\":false,\"top_units\":\"screen\"},\"id\":\"6709\",\"type\":\"BoxAnnotation\"},{\"attributes\":{},\"id\":\"6724\",\"type\":\"Selection\"},{\"attributes\":{},\"id\":\"6738\",\"type\":\"UnionRenderers\"},{\"attributes\":{\"line_alpha\":0.1,\"line_color\":\"#30a2da\",\"line_width\":2,\"x\":{\"field\":\"Date\"},\"y\":{\"field\":\"value\"}},\"id\":\"6727\",\"type\":\"Line\"},{\"attributes\":{\"days\":[1,8,15,22]},\"id\":\"6746\",\"type\":\"DaysTicker\"},{\"attributes\":{\"source\":{\"id\":\"6966\"}},\"id\":\"6973\",\"type\":\"CDSView\"},{\"attributes\":{\"line_alpha\":0.2,\"line_color\":\"#30a2da\",\"line_width\":2,\"x\":{\"field\":\"Date\"},\"y\":{\"field\":\"value\"}},\"id\":\"6728\",\"type\":\"Line\"},{\"attributes\":{\"source\":{\"id\":\"6723\"}},\"id\":\"6730\",\"type\":\"CDSView\"},{\"attributes\":{\"line_alpha\":0.1,\"line_color\":\"#fc4f30\",\"line_width\":2,\"x\":{\"field\":\"Date\"},\"y\":{\"field\":\"value\"}},\"id\":\"6970\",\"type\":\"Line\"},{\"attributes\":{\"line_color\":\"#30a2da\",\"line_width\":2,\"x\":{\"field\":\"Date\"},\"y\":{\"field\":\"value\"}},\"id\":\"6726\",\"type\":\"Line\"},{\"attributes\":{\"line_alpha\":0.2,\"line_color\":\"#fc4f30\",\"line_width\":2,\"x\":{\"field\":\"Date\"},\"y\":{\"field\":\"value\"}},\"id\":\"6971\",\"type\":\"Line\"},{\"attributes\":{\"days\":[1,2,3,4,5,6,7,8,9,10,11,12,13,14,15,16,17,18,19,20,21,22,23,24,25,26,27,28,29,30,31]},\"id\":\"6744\",\"type\":\"DaysTicker\"},{\"attributes\":{\"coordinates\":null,\"data_source\":{\"id\":\"6966\"},\"glyph\":{\"id\":\"6969\"},\"group\":null,\"hover_glyph\":null,\"muted_glyph\":{\"id\":\"6971\"},\"nonselection_glyph\":{\"id\":\"6970\"},\"selection_glyph\":{\"id\":\"6999\"},\"view\":{\"id\":\"6973\"}},\"id\":\"6972\",\"type\":\"GlyphRenderer\"},{\"attributes\":{\"label\":{\"value\":\"FNGU Forecasted Adjusted Close\"},\"renderers\":[{\"id\":\"6972\"}]},\"id\":\"6998\",\"type\":\"LegendItem\"},{\"attributes\":{\"coordinates\":null,\"data_source\":{\"id\":\"6723\"},\"glyph\":{\"id\":\"6726\"},\"group\":null,\"hover_glyph\":null,\"muted_glyph\":{\"id\":\"6728\"},\"nonselection_glyph\":{\"id\":\"6727\"},\"selection_glyph\":{\"id\":\"6755\"},\"view\":{\"id\":\"6730\"}},\"id\":\"6729\",\"type\":\"GlyphRenderer\"},{\"attributes\":{\"below\":[{\"id\":\"6906\"}],\"center\":[{\"id\":\"6909\"},{\"id\":\"6913\"}],\"height\":300,\"left\":[{\"id\":\"6910\"}],\"margin\":null,\"min_border_bottom\":10,\"min_border_left\":10,\"min_border_right\":10,\"min_border_top\":10,\"renderers\":[{\"id\":\"6939\"},{\"id\":\"6972\"}],\"right\":[{\"id\":\"6963\"}],\"sizing_mode\":\"fixed\",\"title\":{\"id\":\"6898\"},\"toolbar\":{\"id\":\"6920\"},\"toolbar_location\":null,\"width\":700,\"x_range\":{\"id\":\"6683\"},\"x_scale\":{\"id\":\"6902\"},\"y_range\":{\"id\":\"6684\"},\"y_scale\":{\"id\":\"6904\"}},\"id\":\"6897\",\"subtype\":\"Figure\",\"type\":\"Plot\"},{\"attributes\":{\"line_color\":\"#30a2da\",\"line_width\":2,\"x\":{\"field\":\"Date\"},\"y\":{\"field\":\"value\"}},\"id\":\"6860\",\"type\":\"Line\"},{\"attributes\":{\"days\":[1,4,7,10,13,16,19,22,25,28]},\"id\":\"6745\",\"type\":\"DaysTicker\"},{\"attributes\":{\"line_color\":\"#fc4f30\",\"line_width\":2,\"x\":{\"field\":\"Date\"},\"y\":{\"field\":\"value\"}},\"id\":\"6864\",\"type\":\"Line\"},{\"attributes\":{\"mantissas\":[1,2,5],\"max_interval\":500.0,\"num_minor_ticks\":0},\"id\":\"6741\",\"type\":\"AdaptiveTicker\"},{\"attributes\":{\"months\":[0,1,2,3,4,5,6,7,8,9,10,11]},\"id\":\"6748\",\"type\":\"MonthsTicker\"},{\"attributes\":{\"base\":60,\"mantissas\":[1,2,5,10,15,20,30],\"max_interval\":1800000.0,\"min_interval\":1000.0,\"num_minor_ticks\":0},\"id\":\"6742\",\"type\":\"AdaptiveTicker\"},{\"attributes\":{\"toolbars\":[{\"id\":\"6710\"},{\"id\":\"6815\"},{\"id\":\"6920\"}],\"tools\":[{\"id\":\"6685\"},{\"id\":\"6704\"},{\"id\":\"6705\"},{\"id\":\"6706\"},{\"id\":\"6707\"},{\"id\":\"6708\"},{\"id\":\"6790\"},{\"id\":\"6809\"},{\"id\":\"6810\"},{\"id\":\"6811\"},{\"id\":\"6812\"},{\"id\":\"6813\"},{\"id\":\"6895\"},{\"id\":\"6914\"},{\"id\":\"6915\"},{\"id\":\"6916\"},{\"id\":\"6917\"},{\"id\":\"6918\"}]},\"id\":\"7076\",\"type\":\"ProxyToolbar\"},{\"attributes\":{\"line_alpha\":0.1,\"line_color\":\"#fc4f30\",\"line_width\":2,\"x\":{\"field\":\"Date\"},\"y\":{\"field\":\"value\"}},\"id\":\"6865\",\"type\":\"Line\"},{\"attributes\":{\"base\":24,\"mantissas\":[1,2,4,6,8,12],\"max_interval\":43200000.0,\"min_interval\":3600000.0,\"num_minor_ticks\":0},\"id\":\"6743\",\"type\":\"AdaptiveTicker\"},{\"attributes\":{\"label\":{\"value\":\"ARKK Actual Adjusted Close\"},\"renderers\":[{\"id\":\"6729\"}]},\"id\":\"6754\",\"type\":\"LegendItem\"},{\"attributes\":{\"source\":{\"id\":\"6861\"}},\"id\":\"6868\",\"type\":\"CDSView\"},{\"attributes\":{\"months\":[0,4,8]},\"id\":\"6750\",\"type\":\"MonthsTicker\"},{\"attributes\":{\"months\":[0,6]},\"id\":\"6751\",\"type\":\"MonthsTicker\"},{\"attributes\":{\"coordinates\":null,\"data_source\":{\"id\":\"6861\"},\"glyph\":{\"id\":\"6864\"},\"group\":null,\"hover_glyph\":null,\"muted_glyph\":{\"id\":\"6866\"},\"nonselection_glyph\":{\"id\":\"6865\"},\"selection_glyph\":{\"id\":\"6894\"},\"view\":{\"id\":\"6868\"}},\"id\":\"6867\",\"type\":\"GlyphRenderer\"},{\"attributes\":{},\"id\":\"6752\",\"type\":\"YearsTicker\"},{\"attributes\":{\"line_alpha\":0.2,\"line_color\":\"#fc4f30\",\"line_width\":2,\"x\":{\"field\":\"Date\"},\"y\":{\"field\":\"value\"}},\"id\":\"6866\",\"type\":\"Line\"},{\"attributes\":{\"days\":[1,15]},\"id\":\"6747\",\"type\":\"DaysTicker\"},{\"attributes\":{},\"id\":\"6862\",\"type\":\"Selection\"},{\"attributes\":{\"label\":{\"value\":\"SPY Forecasted Adjusted Close\"},\"renderers\":[{\"id\":\"6867\"}]},\"id\":\"6893\",\"type\":\"LegendItem\"},{\"attributes\":{\"tools\":[{\"id\":\"6685\"},{\"id\":\"6704\"},{\"id\":\"6705\"},{\"id\":\"6706\"},{\"id\":\"6707\"},{\"id\":\"6708\"}]},\"id\":\"6710\",\"type\":\"Toolbar\"},{\"attributes\":{\"margin\":[5,5,5,5],\"name\":\"HSpacer05838\",\"sizing_mode\":\"stretch_width\"},\"id\":\"6682\",\"type\":\"Spacer\"},{\"attributes\":{},\"id\":\"6878\",\"type\":\"UnionRenderers\"},{\"attributes\":{\"months\":[0,2,4,6,8,10]},\"id\":\"6749\",\"type\":\"MonthsTicker\"},{\"attributes\":{},\"id\":\"6722\",\"type\":\"AllLabels\"},{\"attributes\":{},\"id\":\"6718\",\"type\":\"DatetimeTickFormatter\"},{\"attributes\":{},\"id\":\"6721\",\"type\":\"BasicTickFormatter\"},{\"attributes\":{},\"id\":\"6928\",\"type\":\"DatetimeTickFormatter\"},{\"attributes\":{},\"id\":\"6829\",\"type\":\"Selection\"},{\"attributes\":{\"mantissas\":[1,2,5],\"max_interval\":500.0,\"num_minor_ticks\":0},\"id\":\"6951\",\"type\":\"AdaptiveTicker\"},{\"attributes\":{\"data\":{\"Date\":{\"__ndarray__\":\"AAAAKybid0IAAMCQeOJ3QgAAgPbK4ndCAABAXB3jd0IAAICNFOR3QgAAQPNm5HdCAAAAWbnkd0IAAMC+C+V3QgAAgCRe5XdCAACAu6fmd0IAAEAh+uZ3QgAAAIdM53dCAADA7J7nd0IAAAAeluh3QgAAwIPo6HdCAACA6Trpd0IAAEBPjel3QgAAALXf6XdCAABA5tbqd0IAAABMKet3QgAAwLF763dCAACAF87rd0IAAEB9IOx3QgAAgK4X7XdCAABAFGrtd0IAAAB6vO13QgAAwN8O7ndCAACARWHud0IAAMB2WO93QgAAgNyq73dCAABAQv3vd0IAAACoT/B3QgAAwA2i8HdCAADApOvxd0IAAIAKPvJ3QgAAQHCQ8ndCAAAA1uLyd0IAAEAH2vN3QgAAAG0s9HdCAADA0n70d0IAAIA40fR3QgAAQJ4j9XdCAACAzxr2d0IAAEA1bfZ3QgAAAJu/9ndCAADAABL3d0IAAIBmZPd3QgAAwJdb+HdCAACA/a34d0IAAEBjAPl3QgAAAMlS+XdCAADALqX5d0IAAABgnPp3QgAAwMXu+ndCAACAK0H7d0IAAECRk/t3QgAAAPfl+3dCAABAKN38d0IAAACOL/13QgAAwPOB/XdC\",\"dtype\":\"float64\",\"order\":\"little\",\"shape\":[60]},\"Variable\":[\"FNGU Forecasted Adjusted Close\",\"FNGU Forecasted Adjusted Close\",\"FNGU Forecasted Adjusted Close\",\"FNGU Forecasted Adjusted Close\",\"FNGU Forecasted Adjusted Close\",\"FNGU Forecasted Adjusted Close\",\"FNGU Forecasted Adjusted Close\",\"FNGU Forecasted Adjusted Close\",\"FNGU Forecasted Adjusted Close\",\"FNGU Forecasted Adjusted Close\",\"FNGU Forecasted Adjusted Close\",\"FNGU Forecasted Adjusted Close\",\"FNGU Forecasted Adjusted Close\",\"FNGU Forecasted Adjusted Close\",\"FNGU Forecasted Adjusted Close\",\"FNGU Forecasted Adjusted Close\",\"FNGU Forecasted Adjusted Close\",\"FNGU Forecasted Adjusted Close\",\"FNGU Forecasted Adjusted Close\",\"FNGU Forecasted Adjusted Close\",\"FNGU Forecasted Adjusted Close\",\"FNGU Forecasted Adjusted Close\",\"FNGU Forecasted Adjusted Close\",\"FNGU Forecasted Adjusted Close\",\"FNGU Forecasted Adjusted Close\",\"FNGU Forecasted Adjusted Close\",\"FNGU Forecasted Adjusted Close\",\"FNGU Forecasted Adjusted Close\",\"FNGU Forecasted Adjusted Close\",\"FNGU Forecasted Adjusted Close\",\"FNGU Forecasted Adjusted Close\",\"FNGU Forecasted Adjusted Close\",\"FNGU Forecasted Adjusted Close\",\"FNGU Forecasted Adjusted Close\",\"FNGU Forecasted Adjusted Close\",\"FNGU Forecasted Adjusted Close\",\"FNGU Forecasted Adjusted Close\",\"FNGU Forecasted Adjusted Close\",\"FNGU Forecasted Adjusted Close\",\"FNGU Forecasted Adjusted Close\",\"FNGU Forecasted Adjusted Close\",\"FNGU Forecasted Adjusted Close\",\"FNGU Forecasted Adjusted Close\",\"FNGU Forecasted Adjusted Close\",\"FNGU Forecasted Adjusted Close\",\"FNGU Forecasted Adjusted Close\",\"FNGU Forecasted Adjusted Close\",\"FNGU Forecasted Adjusted Close\",\"FNGU Forecasted Adjusted Close\",\"FNGU Forecasted Adjusted Close\",\"FNGU Forecasted Adjusted Close\",\"FNGU Forecasted Adjusted Close\",\"FNGU Forecasted Adjusted Close\",\"FNGU Forecasted Adjusted Close\",\"FNGU Forecasted Adjusted Close\",\"FNGU Forecasted Adjusted Close\",\"FNGU Forecasted Adjusted Close\",\"FNGU Forecasted Adjusted Close\",\"FNGU Forecasted Adjusted Close\",\"FNGU Forecasted Adjusted Close\"],\"value\":{\"__ndarray__\":\"27X5Qk2H+kKvkvlChxb4QrQc9kJYGvRC587yQjZ18kIlG/FCctLvQsen7UKR6upCAQToQjNi40IAAd5C5ALYQiET0kJ1MsxClYzHQthuxUJgL8VCAgDGQqKrxUJdW8VCM3XEQunVw0KTEsRC/hvEQo0ow0KN6MFCNVfBQtwuwULWV8BCYbi+Qow0vELLsLhCsYm1QngHs0J8N7FC8NivQiABr0KV9a1C7nesQjcFqkJfGqdCQeKkQkPNokItNqBCWfCcQnLnmUIHxZhCreOYQnF3mkKjmJxCxrmfQooFo0JwiKZC68ypQkEvrUKQv7BC\",\"dtype\":\"float32\",\"order\":\"little\",\"shape\":[60]}},\"selected\":{\"id\":\"6967\"},\"selection_policy\":{\"id\":\"6983\"}},\"id\":\"6966\",\"type\":\"ColumnDataSource\"},{\"attributes\":{\"base\":60,\"mantissas\":[1,2,5,10,15,20,30],\"max_interval\":1800000.0,\"min_interval\":1000.0,\"num_minor_ticks\":0},\"id\":\"6952\",\"type\":\"AdaptiveTicker\"},{\"attributes\":{\"line_color\":\"#fc4f30\",\"line_width\":2,\"x\":{\"field\":\"Date\"},\"y\":{\"field\":\"value\"}},\"id\":\"6789\",\"type\":\"Line\"},{\"attributes\":{\"base\":24,\"mantissas\":[1,2,4,6,8,12],\"max_interval\":43200000.0,\"min_interval\":3600000.0,\"num_minor_ticks\":0},\"id\":\"6953\",\"type\":\"AdaptiveTicker\"},{\"attributes\":{\"axis_label\":\"\",\"coordinates\":null,\"formatter\":{\"id\":\"6826\"},\"group\":null,\"major_label_policy\":{\"id\":\"6827\"},\"ticker\":{\"id\":\"6806\"}},\"id\":\"6805\",\"type\":\"LinearAxis\"},{\"attributes\":{},\"id\":\"6929\",\"type\":\"AllLabels\"},{\"attributes\":{},\"id\":\"6962\",\"type\":\"YearsTicker\"},{\"attributes\":{\"coordinates\":null,\"group\":null,\"text_color\":\"black\",\"text_font_size\":\"12pt\"},\"id\":\"6793\",\"type\":\"Title\"},{\"attributes\":{\"click_policy\":\"mute\",\"coordinates\":null,\"group\":null,\"items\":[{\"id\":\"6859\"},{\"id\":\"6893\"}],\"location\":[0,0],\"title\":\"Variable\"},\"id\":\"6858\",\"type\":\"Legend\"},{\"attributes\":{\"line_alpha\":0.1,\"line_color\":\"#30a2da\",\"line_width\":2,\"x\":{\"field\":\"Date\"},\"y\":{\"field\":\"value\"}},\"id\":\"6832\",\"type\":\"Line\"},{\"attributes\":{\"line_alpha\":0.2,\"line_color\":\"#30a2da\",\"line_width\":2,\"x\":{\"field\":\"Date\"},\"y\":{\"field\":\"value\"}},\"id\":\"6833\",\"type\":\"Line\"},{\"attributes\":{\"line_color\":\"#fc4f30\",\"line_width\":2,\"x\":{\"field\":\"Date\"},\"y\":{\"field\":\"value\"}},\"id\":\"6999\",\"type\":\"Line\"},{\"attributes\":{\"days\":[1,15]},\"id\":\"6957\",\"type\":\"DaysTicker\"},{\"attributes\":{\"source\":{\"id\":\"6828\"}},\"id\":\"6835\",\"type\":\"CDSView\"},{\"attributes\":{\"days\":[1,2,3,4,5,6,7,8,9,10,11,12,13,14,15,16,17,18,19,20,21,22,23,24,25,26,27,28,29,30,31]},\"id\":\"6954\",\"type\":\"DaysTicker\"},{\"attributes\":{\"months\":[0,1,2,3,4,5,6,7,8,9,10,11]},\"id\":\"6958\",\"type\":\"MonthsTicker\"},{\"attributes\":{\"line_color\":\"#30a2da\",\"line_width\":2,\"x\":{\"field\":\"Date\"},\"y\":{\"field\":\"value\"}},\"id\":\"6831\",\"type\":\"Line\"},{\"attributes\":{},\"id\":\"6931\",\"type\":\"BasicTickFormatter\"},{\"attributes\":{\"days\":[1,4,7,10,13,16,19,22,25,28]},\"id\":\"6955\",\"type\":\"DaysTicker\"},{\"attributes\":{\"axis_label\":\"\",\"coordinates\":null,\"formatter\":{\"id\":\"6931\"},\"group\":null,\"major_label_policy\":{\"id\":\"6932\"},\"ticker\":{\"id\":\"6911\"}},\"id\":\"6910\",\"type\":\"LinearAxis\"},{\"attributes\":{},\"id\":\"6932\",\"type\":\"AllLabels\"},{\"attributes\":{\"days\":[1,8,15,22]},\"id\":\"6956\",\"type\":\"DaysTicker\"},{\"attributes\":{\"months\":[0,6]},\"id\":\"6961\",\"type\":\"MonthsTicker\"},{\"attributes\":{\"callback\":null,\"formatters\":{\"@{Date}\":\"datetime\"},\"renderers\":[{\"id\":\"6834\"},{\"id\":\"6867\"}],\"tags\":[\"hv_created\"],\"tooltips\":[[\"Variable\",\"@{Variable}\"],[\"Date\",\"@{Date}{%F %T}\"],[\"value\",\"@{value}\"]]},\"id\":\"6790\",\"type\":\"HoverTool\"},{\"attributes\":{\"end\":1648598400000.0,\"reset_end\":1648598400000.0,\"reset_start\":1641254400000.0,\"start\":1641254400000.0,\"tags\":[[[\"Date\",\"Date\",null]]]},\"id\":\"6683\",\"type\":\"Range1d\"},{\"attributes\":{\"coordinates\":null,\"data_source\":{\"id\":\"6828\"},\"glyph\":{\"id\":\"6831\"},\"group\":null,\"hover_glyph\":null,\"muted_glyph\":{\"id\":\"6833\"},\"nonselection_glyph\":{\"id\":\"6832\"},\"selection_glyph\":{\"id\":\"6860\"},\"view\":{\"id\":\"6835\"}},\"id\":\"6834\",\"type\":\"GlyphRenderer\"},{\"attributes\":{\"label\":{\"value\":\"SPY Actual Adjusted Close\"},\"renderers\":[{\"id\":\"6834\"}]},\"id\":\"6859\",\"type\":\"LegendItem\"},{\"attributes\":{\"months\":[0,2,4,6,8,10]},\"id\":\"6959\",\"type\":\"MonthsTicker\"},{\"attributes\":{\"margin\":[5,5,5,5],\"name\":\"HSpacer05839\",\"sizing_mode\":\"stretch_width\"},\"id\":\"7151\",\"type\":\"Spacer\"},{\"attributes\":{\"data\":{\"Date\":{\"__ndarray__\":\"AAAAKybid0IAAMCQeOJ3QgAAgPbK4ndCAABAXB3jd0IAAICNFOR3QgAAQPNm5HdCAAAAWbnkd0IAAMC+C+V3QgAAgCRe5XdCAACAu6fmd0IAAEAh+uZ3QgAAAIdM53dCAADA7J7nd0IAAAAeluh3QgAAwIPo6HdCAACA6Trpd0IAAEBPjel3QgAAALXf6XdCAABA5tbqd0IAAABMKet3QgAAwLF763dCAACAF87rd0IAAEB9IOx3QgAAgK4X7XdCAABAFGrtd0IAAAB6vO13QgAAwN8O7ndCAACARWHud0IAAMB2WO93QgAAgNyq73dCAABAQv3vd0IAAACoT/B3QgAAwA2i8HdCAADApOvxd0IAAIAKPvJ3QgAAQHCQ8ndCAAAA1uLyd0IAAEAH2vN3QgAAAG0s9HdCAADA0n70d0IAAIA40fR3QgAAQJ4j9XdCAACAzxr2d0IAAEA1bfZ3QgAAAJu/9ndCAADAABL3d0IAAIBmZPd3QgAAwJdb+HdCAACA/a34d0IAAEBjAPl3QgAAAMlS+XdCAADALqX5d0IAAABgnPp3QgAAwMXu+ndCAACAK0H7d0IAAECRk/t3QgAAAPfl+3dCAABAKN38d0IAAACOL/13QgAAwPOB/XdC\",\"dtype\":\"float64\",\"order\":\"little\",\"shape\":[60]},\"Variable\":[\"SPY Forecasted Adjusted Close\",\"SPY Forecasted Adjusted Close\",\"SPY Forecasted Adjusted Close\",\"SPY Forecasted Adjusted Close\",\"SPY Forecasted Adjusted Close\",\"SPY Forecasted Adjusted Close\",\"SPY Forecasted Adjusted Close\",\"SPY Forecasted Adjusted Close\",\"SPY Forecasted Adjusted Close\",\"SPY Forecasted Adjusted Close\",\"SPY Forecasted Adjusted Close\",\"SPY Forecasted Adjusted Close\",\"SPY Forecasted Adjusted Close\",\"SPY Forecasted Adjusted Close\",\"SPY Forecasted Adjusted Close\",\"SPY Forecasted Adjusted Close\",\"SPY Forecasted Adjusted Close\",\"SPY Forecasted Adjusted Close\",\"SPY Forecasted Adjusted Close\",\"SPY Forecasted Adjusted Close\",\"SPY Forecasted Adjusted Close\",\"SPY Forecasted Adjusted Close\",\"SPY Forecasted Adjusted Close\",\"SPY Forecasted Adjusted Close\",\"SPY Forecasted Adjusted Close\",\"SPY Forecasted Adjusted Close\",\"SPY Forecasted Adjusted Close\",\"SPY Forecasted Adjusted Close\",\"SPY Forecasted Adjusted Close\",\"SPY Forecasted Adjusted Close\",\"SPY Forecasted Adjusted Close\",\"SPY Forecasted Adjusted Close\",\"SPY Forecasted Adjusted Close\",\"SPY Forecasted Adjusted Close\",\"SPY Forecasted Adjusted Close\",\"SPY Forecasted Adjusted Close\",\"SPY Forecasted Adjusted Close\",\"SPY Forecasted Adjusted Close\",\"SPY Forecasted Adjusted Close\",\"SPY Forecasted Adjusted Close\",\"SPY Forecasted Adjusted Close\",\"SPY Forecasted Adjusted Close\",\"SPY Forecasted Adjusted Close\",\"SPY Forecasted Adjusted Close\",\"SPY Forecasted Adjusted Close\",\"SPY Forecasted Adjusted Close\",\"SPY Forecasted Adjusted Close\",\"SPY Forecasted Adjusted Close\",\"SPY Forecasted Adjusted Close\",\"SPY Forecasted Adjusted Close\",\"SPY Forecasted Adjusted Close\",\"SPY Forecasted Adjusted Close\",\"SPY Forecasted Adjusted Close\",\"SPY Forecasted Adjusted Close\",\"SPY Forecasted Adjusted Close\",\"SPY Forecasted Adjusted Close\",\"SPY Forecasted Adjusted Close\",\"SPY Forecasted Adjusted Close\",\"SPY Forecasted Adjusted Close\",\"SPY Forecasted Adjusted Close\"],\"value\":{\"__ndarray__\":\"VtDAwcB3wcGBIsTB1eTHwS9WzMGF1dDBmYDUwQAP2MEla9zBfdzgwUDi5cHULOvBaj3wwaDp9cGbCPvBRRgAwgW4AsKYhQXCPuoHwpgeCcLpXwnCeosJwpMiCsIjdArClaQKwrzACsJ/WQrCVfoJwm3dCcLh9gnCaLMJwr2OCcJRDwrCYU0Lwq8ODcLhTQ/CHRkRwmRDEsLOqhLCKuASwrcIE8JPrRPCzukUwvGrFsKiihjCXPoZwu9ZG8IzEx3CukYfwjtWIcJ4fiLCDLgiwm8LIsJ4HiHCPLkfwgRRHsIp5RzCR8sbwsOgGsLg+hjC\",\"dtype\":\"float32\",\"order\":\"little\",\"shape\":[60]}},\"selected\":{\"id\":\"6862\"},\"selection_policy\":{\"id\":\"6878\"}},\"id\":\"6861\",\"type\":\"ColumnDataSource\"},{\"attributes\":{},\"id\":\"6934\",\"type\":\"Selection\"},{\"attributes\":{\"months\":[0,4,8]},\"id\":\"6960\",\"type\":\"MonthsTicker\"},{\"attributes\":{\"line_color\":\"#fc4f30\",\"line_width\":2,\"x\":{\"field\":\"Date\"},\"y\":{\"field\":\"value\"}},\"id\":\"6894\",\"type\":\"Line\"},{\"attributes\":{},\"id\":\"6692\",\"type\":\"LinearScale\"},{\"attributes\":{\"axis_label\":\"Date\",\"coordinates\":null,\"formatter\":{\"id\":\"6823\"},\"group\":null,\"major_label_policy\":{\"id\":\"6824\"},\"ticker\":{\"id\":\"6802\"}},\"id\":\"6801\",\"type\":\"DatetimeAxis\"},{\"attributes\":{\"num_minor_ticks\":5,\"tickers\":[{\"id\":\"6846\"},{\"id\":\"6847\"},{\"id\":\"6848\"},{\"id\":\"6849\"},{\"id\":\"6850\"},{\"id\":\"6851\"},{\"id\":\"6852\"},{\"id\":\"6853\"},{\"id\":\"6854\"},{\"id\":\"6855\"},{\"id\":\"6856\"},{\"id\":\"6857\"}]},\"id\":\"6802\",\"type\":\"DatetimeTicker\"},{\"attributes\":{\"line_alpha\":0.1,\"line_color\":\"#30a2da\",\"line_width\":2,\"x\":{\"field\":\"Date\"},\"y\":{\"field\":\"value\"}},\"id\":\"6937\",\"type\":\"Line\"},{\"attributes\":{},\"id\":\"6799\",\"type\":\"LinearScale\"},{\"attributes\":{\"line_alpha\":0.2,\"line_color\":\"#30a2da\",\"line_width\":2,\"x\":{\"field\":\"Date\"},\"y\":{\"field\":\"value\"}},\"id\":\"6938\",\"type\":\"Line\"},{\"attributes\":{\"data\":{\"Date\":{\"__ndarray__\":\"AAAAKybid0IAAMCQeOJ3QgAAgPbK4ndCAABAXB3jd0IAAICNFOR3QgAAQPNm5HdCAAAAWbnkd0IAAMC+C+V3QgAAgCRe5XdCAACAu6fmd0IAAEAh+uZ3QgAAAIdM53dCAADA7J7nd0IAAAAeluh3QgAAwIPo6HdCAACA6Trpd0IAAEBPjel3QgAAALXf6XdCAABA5tbqd0IAAABMKet3QgAAwLF763dCAACAF87rd0IAAEB9IOx3QgAAgK4X7XdCAABAFGrtd0IAAAB6vO13QgAAwN8O7ndCAACARWHud0IAAMB2WO93QgAAgNyq73dCAABAQv3vd0IAAACoT/B3QgAAwA2i8HdCAADApOvxd0IAAIAKPvJ3QgAAQHCQ8ndCAAAA1uLyd0IAAEAH2vN3QgAAAG0s9HdCAADA0n70d0IAAIA40fR3QgAAQJ4j9XdCAACAzxr2d0IAAEA1bfZ3QgAAAJu/9ndCAADAABL3d0IAAIBmZPd3QgAAwJdb+HdCAACA/a34d0IAAEBjAPl3QgAAAMlS+XdCAADALqX5d0IAAABgnPp3QgAAwMXu+ndCAACAK0H7d0IAAECRk/t3QgAAAPfl+3dCAABAKN38d0IAAACOL/13QgAAwPOB/XdC\",\"dtype\":\"float64\",\"order\":\"little\",\"shape\":[60]},\"Variable\":[\"ARKK Forecasted Adjusted Close\",\"ARKK Forecasted Adjusted Close\",\"ARKK Forecasted Adjusted Close\",\"ARKK Forecasted Adjusted Close\",\"ARKK Forecasted Adjusted Close\",\"ARKK Forecasted Adjusted Close\",\"ARKK Forecasted Adjusted Close\",\"ARKK Forecasted Adjusted Close\",\"ARKK Forecasted Adjusted Close\",\"ARKK Forecasted Adjusted Close\",\"ARKK Forecasted Adjusted Close\",\"ARKK Forecasted Adjusted Close\",\"ARKK Forecasted Adjusted Close\",\"ARKK Forecasted Adjusted Close\",\"ARKK Forecasted Adjusted Close\",\"ARKK Forecasted Adjusted Close\",\"ARKK Forecasted Adjusted Close\",\"ARKK Forecasted Adjusted Close\",\"ARKK Forecasted Adjusted Close\",\"ARKK Forecasted Adjusted Close\",\"ARKK Forecasted Adjusted Close\",\"ARKK Forecasted Adjusted Close\",\"ARKK Forecasted Adjusted Close\",\"ARKK Forecasted Adjusted Close\",\"ARKK Forecasted Adjusted Close\",\"ARKK Forecasted Adjusted Close\",\"ARKK Forecasted Adjusted Close\",\"ARKK Forecasted Adjusted Close\",\"ARKK Forecasted Adjusted Close\",\"ARKK Forecasted Adjusted Close\",\"ARKK Forecasted Adjusted Close\",\"ARKK Forecasted Adjusted Close\",\"ARKK Forecasted Adjusted Close\",\"ARKK Forecasted Adjusted Close\",\"ARKK Forecasted Adjusted Close\",\"ARKK Forecasted Adjusted Close\",\"ARKK Forecasted Adjusted Close\",\"ARKK Forecasted Adjusted Close\",\"ARKK Forecasted Adjusted Close\",\"ARKK Forecasted Adjusted Close\",\"ARKK Forecasted Adjusted Close\",\"ARKK Forecasted Adjusted Close\",\"ARKK Forecasted Adjusted Close\",\"ARKK Forecasted Adjusted Close\",\"ARKK Forecasted Adjusted Close\",\"ARKK Forecasted Adjusted Close\",\"ARKK Forecasted Adjusted Close\",\"ARKK Forecasted Adjusted Close\",\"ARKK Forecasted Adjusted Close\",\"ARKK Forecasted Adjusted Close\",\"ARKK Forecasted Adjusted Close\",\"ARKK Forecasted Adjusted Close\",\"ARKK Forecasted Adjusted Close\",\"ARKK Forecasted Adjusted Close\",\"ARKK Forecasted Adjusted Close\",\"ARKK Forecasted Adjusted Close\",\"ARKK Forecasted Adjusted Close\",\"ARKK Forecasted Adjusted Close\",\"ARKK Forecasted Adjusted Close\",\"ARKK Forecasted Adjusted Close\"],\"value\":{\"__ndarray__\":\"s93TQuuH00KYOtJCjV/QQjIizkKfzstCF9PJQsrfx0LHisVChyjDQh58wEJ2qb1C9+q6Qifgt0K0ELVCOjuyQhtar0K5TaxCX52pQkoFqEJfX6dC9eqmQtUqpkLasqVCDWKlQt8rpUJydKVC5cGlQhXbpUINxKVCTf+lQr0hpkIhrqVCi4SkQkLRokLQlqBC862eQvRNnUKBo5xCBDicQgzom0IWNJtCD/eZQlA3mELsTJZCereUQl8vk0JtWJFCaQ+PQpXYjELOZotCatWKQkEri0Kq3otCfhmNQnxzjkJr449CsxaRQo1akkJ1D5RC\",\"dtype\":\"float32\",\"order\":\"little\",\"shape\":[60]}},\"selected\":{\"id\":\"6757\"},\"selection_policy\":{\"id\":\"6773\"}},\"id\":\"6756\",\"type\":\"ColumnDataSource\"},{\"attributes\":{\"source\":{\"id\":\"6933\"}},\"id\":\"6940\",\"type\":\"CDSView\"},{\"attributes\":{},\"id\":\"6967\",\"type\":\"Selection\"},{\"attributes\":{\"axis\":{\"id\":\"6801\"},\"coordinates\":null,\"grid_line_color\":null,\"group\":null,\"ticker\":null},\"id\":\"6804\",\"type\":\"Grid\"},{\"attributes\":{\"line_color\":\"#30a2da\",\"line_width\":2,\"x\":{\"field\":\"Date\"},\"y\":{\"field\":\"value\"}},\"id\":\"6936\",\"type\":\"Line\"},{\"attributes\":{\"callback\":null,\"formatters\":{\"@{Date}\":\"datetime\"},\"renderers\":[{\"id\":\"6939\"},{\"id\":\"6972\"}],\"tags\":[\"hv_created\"],\"tooltips\":[[\"Variable\",\"@{Variable}\"],[\"Date\",\"@{Date}{%F %T}\"],[\"value\",\"@{value}\"]]},\"id\":\"6895\",\"type\":\"HoverTool\"},{\"attributes\":{},\"id\":\"6810\",\"type\":\"PanTool\"},{\"attributes\":{\"coordinates\":null,\"data_source\":{\"id\":\"6933\"},\"glyph\":{\"id\":\"6936\"},\"group\":null,\"hover_glyph\":null,\"muted_glyph\":{\"id\":\"6938\"},\"nonselection_glyph\":{\"id\":\"6937\"},\"selection_glyph\":{\"id\":\"6965\"},\"view\":{\"id\":\"6940\"}},\"id\":\"6939\",\"type\":\"GlyphRenderer\"},{\"attributes\":{},\"id\":\"6824\",\"type\":\"AllLabels\"},{\"attributes\":{\"label\":{\"value\":\"FNGU Actual Adjusted Close\"},\"renderers\":[{\"id\":\"6939\"}]},\"id\":\"6964\",\"type\":\"LegendItem\"},{\"attributes\":{\"click_policy\":\"mute\",\"coordinates\":null,\"group\":null,\"items\":[{\"id\":\"6964\"},{\"id\":\"6998\"}],\"location\":[0,0],\"title\":\"Variable\"},\"id\":\"6963\",\"type\":\"Legend\"},{\"attributes\":{\"axis\":{\"id\":\"6805\"},\"coordinates\":null,\"dimension\":1,\"grid_line_color\":null,\"group\":null,\"ticker\":null},\"id\":\"6808\",\"type\":\"Grid\"},{\"attributes\":{\"coordinates\":null,\"group\":null,\"text_color\":\"black\",\"text_font_size\":\"12pt\"},\"id\":\"6898\",\"type\":\"Title\"},{\"attributes\":{},\"id\":\"6806\",\"type\":\"BasicTicker\"},{\"attributes\":{},\"id\":\"6811\",\"type\":\"WheelZoomTool\"},{\"attributes\":{\"below\":[{\"id\":\"6801\"}],\"center\":[{\"id\":\"6804\"},{\"id\":\"6808\"}],\"height\":300,\"left\":[{\"id\":\"6805\"}],\"margin\":null,\"min_border_bottom\":10,\"min_border_left\":10,\"min_border_right\":10,\"min_border_top\":10,\"renderers\":[{\"id\":\"6834\"},{\"id\":\"6867\"}],\"right\":[{\"id\":\"6858\"}],\"sizing_mode\":\"fixed\",\"title\":{\"id\":\"6793\"},\"toolbar\":{\"id\":\"6815\"},\"toolbar_location\":null,\"width\":700,\"x_range\":{\"id\":\"6683\"},\"x_scale\":{\"id\":\"6797\"},\"y_range\":{\"id\":\"6684\"},\"y_scale\":{\"id\":\"6799\"}},\"id\":\"6792\",\"subtype\":\"Figure\",\"type\":\"Plot\"},{\"attributes\":{},\"id\":\"6809\",\"type\":\"SaveTool\"},{\"attributes\":{\"axis\":{\"id\":\"6906\"},\"coordinates\":null,\"grid_line_color\":null,\"group\":null,\"ticker\":null},\"id\":\"6909\",\"type\":\"Grid\"},{\"attributes\":{\"overlay\":{\"id\":\"6814\"}},\"id\":\"6812\",\"type\":\"BoxZoomTool\"},{\"attributes\":{},\"id\":\"6797\",\"type\":\"LinearScale\"},{\"attributes\":{},\"id\":\"6813\",\"type\":\"ResetTool\"},{\"attributes\":{\"num_minor_ticks\":5,\"tickers\":[{\"id\":\"6951\"},{\"id\":\"6952\"},{\"id\":\"6953\"},{\"id\":\"6954\"},{\"id\":\"6955\"},{\"id\":\"6956\"},{\"id\":\"6957\"},{\"id\":\"6958\"},{\"id\":\"6959\"},{\"id\":\"6960\"},{\"id\":\"6961\"},{\"id\":\"6962\"}]},\"id\":\"6907\",\"type\":\"DatetimeTicker\"},{\"attributes\":{\"line_color\":\"#30a2da\",\"line_width\":2,\"x\":{\"field\":\"Date\"},\"y\":{\"field\":\"value\"}},\"id\":\"6755\",\"type\":\"Line\"},{\"attributes\":{\"children\":[{\"id\":\"7077\"},{\"id\":\"7075\"}]},\"id\":\"7078\",\"type\":\"Column\"},{\"attributes\":{\"bottom_units\":\"screen\",\"coordinates\":null,\"fill_alpha\":0.5,\"fill_color\":\"lightgrey\",\"group\":null,\"left_units\":\"screen\",\"level\":\"overlay\",\"line_alpha\":1.0,\"line_color\":\"black\",\"line_dash\":[4,4],\"line_width\":2,\"right_units\":\"screen\",\"syncable\":false,\"top_units\":\"screen\"},\"id\":\"6814\",\"type\":\"BoxAnnotation\"},{\"attributes\":{\"axis_label\":\"Date\",\"coordinates\":null,\"formatter\":{\"id\":\"6928\"},\"group\":null,\"major_label_policy\":{\"id\":\"6929\"},\"ticker\":{\"id\":\"6907\"}},\"id\":\"6906\",\"type\":\"DatetimeAxis\"},{\"attributes\":{},\"id\":\"6904\",\"type\":\"LinearScale\"},{\"attributes\":{\"line_color\":\"#fc4f30\",\"line_width\":2,\"x\":{\"field\":\"Date\"},\"y\":{\"field\":\"value\"}},\"id\":\"6759\",\"type\":\"Line\"},{\"attributes\":{},\"id\":\"6915\",\"type\":\"PanTool\"},{\"attributes\":{},\"id\":\"6843\",\"type\":\"UnionRenderers\"},{\"attributes\":{\"tools\":[{\"id\":\"6895\"},{\"id\":\"6914\"},{\"id\":\"6915\"},{\"id\":\"6916\"},{\"id\":\"6917\"},{\"id\":\"6918\"}]},\"id\":\"6920\",\"type\":\"Toolbar\"},{\"attributes\":{\"below\":[{\"id\":\"6696\"}],\"center\":[{\"id\":\"6699\"},{\"id\":\"6703\"}],\"height\":300,\"left\":[{\"id\":\"6700\"}],\"margin\":null,\"min_border_bottom\":10,\"min_border_left\":10,\"min_border_right\":10,\"min_border_top\":10,\"renderers\":[{\"id\":\"6729\"},{\"id\":\"6762\"}],\"right\":[{\"id\":\"6753\"}],\"sizing_mode\":\"fixed\",\"title\":{\"id\":\"6688\"},\"toolbar\":{\"id\":\"6710\"},\"toolbar_location\":null,\"width\":700,\"x_range\":{\"id\":\"6683\"},\"x_scale\":{\"id\":\"6692\"},\"y_range\":{\"id\":\"6684\"},\"y_scale\":{\"id\":\"6694\"}},\"id\":\"6687\",\"subtype\":\"Figure\",\"type\":\"Plot\"},{\"attributes\":{\"line_alpha\":0.1,\"line_color\":\"#fc4f30\",\"line_width\":2,\"x\":{\"field\":\"Date\"},\"y\":{\"field\":\"value\"}},\"id\":\"6760\",\"type\":\"Line\"},{\"attributes\":{},\"id\":\"6827\",\"type\":\"AllLabels\"},{\"attributes\":{\"axis\":{\"id\":\"6910\"},\"coordinates\":null,\"dimension\":1,\"grid_line_color\":null,\"group\":null,\"ticker\":null},\"id\":\"6913\",\"type\":\"Grid\"},{\"attributes\":{\"data\":{\"Date\":{\"__ndarray__\":\"AAAAKybid0IAAMCQeOJ3QgAAgPbK4ndCAABAXB3jd0IAAICNFOR3QgAAQPNm5HdCAAAAWbnkd0IAAMC+C+V3QgAAgCRe5XdCAACAu6fmd0IAAEAh+uZ3QgAAAIdM53dCAADA7J7nd0IAAAAeluh3QgAAwIPo6HdCAACA6Trpd0IAAEBPjel3QgAAALXf6XdCAABA5tbqd0IAAABMKet3QgAAwLF763dCAACAF87rd0IAAEB9IOx3QgAAgK4X7XdCAABAFGrtd0IAAAB6vO13QgAAwN8O7ndCAACARWHud0IAAMB2WO93QgAAgNyq73dCAABAQv3vd0IAAACoT/B3QgAAwA2i8HdCAADApOvxd0IAAIAKPvJ3QgAAQHCQ8ndCAAAA1uLyd0IAAEAH2vN3QgAAAG0s9HdCAADA0n70d0IAAIA40fR3QgAAQJ4j9XdCAACAzxr2d0IAAEA1bfZ3QgAAAJu/9ndCAADAABL3d0IAAIBmZPd3QgAAwJdb+HdCAACA/a34d0IAAEBjAPl3QgAAAMlS+XdCAADALqX5d0IAAABgnPp3QgAAwMXu+ndCAACAK0H7d0IAAECRk/t3QgAAAPfl+3dCAABAKN38d0IAAACOL/13QgAAwPOB/XdC\",\"dtype\":\"float64\",\"order\":\"little\",\"shape\":[60]},\"Variable\":[\"SPY Actual Adjusted Close\",\"SPY Actual Adjusted Close\",\"SPY Actual Adjusted Close\",\"SPY Actual Adjusted Close\",\"SPY Actual Adjusted Close\",\"SPY Actual Adjusted Close\",\"SPY Actual Adjusted Close\",\"SPY Actual Adjusted Close\",\"SPY Actual Adjusted Close\",\"SPY Actual Adjusted Close\",\"SPY Actual Adjusted Close\",\"SPY Actual Adjusted Close\",\"SPY Actual Adjusted Close\",\"SPY Actual Adjusted Close\",\"SPY Actual Adjusted Close\",\"SPY Actual Adjusted Close\",\"SPY Actual Adjusted Close\",\"SPY Actual Adjusted Close\",\"SPY Actual Adjusted Close\",\"SPY Actual Adjusted Close\",\"SPY Actual Adjusted Close\",\"SPY Actual Adjusted Close\",\"SPY Actual Adjusted Close\",\"SPY Actual Adjusted Close\",\"SPY Actual Adjusted Close\",\"SPY Actual Adjusted Close\",\"SPY Actual Adjusted Close\",\"SPY Actual Adjusted Close\",\"SPY Actual Adjusted Close\",\"SPY Actual Adjusted Close\",\"SPY Actual Adjusted Close\",\"SPY Actual Adjusted Close\",\"SPY Actual Adjusted Close\",\"SPY Actual Adjusted Close\",\"SPY Actual Adjusted Close\",\"SPY Actual Adjusted Close\",\"SPY Actual Adjusted Close\",\"SPY Actual Adjusted Close\",\"SPY Actual Adjusted Close\",\"SPY Actual Adjusted Close\",\"SPY Actual Adjusted Close\",\"SPY Actual Adjusted Close\",\"SPY Actual Adjusted Close\",\"SPY Actual Adjusted Close\",\"SPY Actual Adjusted Close\",\"SPY Actual Adjusted Close\",\"SPY Actual Adjusted Close\",\"SPY Actual Adjusted Close\",\"SPY Actual Adjusted Close\",\"SPY Actual Adjusted Close\",\"SPY Actual Adjusted Close\",\"SPY Actual Adjusted Close\",\"SPY Actual Adjusted Close\",\"SPY Actual Adjusted Close\",\"SPY Actual Adjusted Close\",\"SPY Actual Adjusted Close\",\"SPY Actual Adjusted Close\",\"SPY Actual Adjusted Close\",\"SPY Actual Adjusted Close\",\"SPY Actual Adjusted Close\"],\"value\":{\"__ndarray__\":\"exSuR+FefUBmZmZmZs58QOxRuB6Fx3xAZmZmZmaqfEDhehSuR6F8QAAAAAAA5HxAAAAAAAD4fED2KFyPwpF8QM3MzMzMlHxAMzMzMzMTfEBxPQrXo8h7QFK4HoXreXtApHA9CtfvekCF61G4Hg17QBSuR+F6uHpAj8L1KFynekD2KFyPwoV6QArXo3A9LntASOF6FK6re0DsUbgehdt7QM3MzMzMIHxA7FG4HoV3e0BxPQrXo5h7QFK4HoXrgXtApHA9Cte7e0CkcD0K1yN8QGZmZmZmontAexSuR+EWe0Bcj8L1KAB7QEjhehSub3tA7FG4HoV3e0DhehSuR+F6QM3MzMzMtHpAj8L1KFxrekCPwvUoXPN5QI/C9ShcV3pAXI/C9SjsekDD9Shcj9p6QFK4HoXrcXpAZmZmZmbuekAAAAAAAMx6QLgehetRlHpASOF6FK7LeUCamZmZmZl5QD0K16NwSXpA16NwPQorekD2KFyPwtV5QD0K16NwpXlAUrgehes1ekAfhetRuMp6QBSuR+F6IHtAFK5H4Xpse0BmZmZmZmp7QHE9CtejvHtAhetRuB5he0B7FK5H4cp7QJqZmZmZ7XtAFK5H4XogfEA9CtejcHl8QBSuR+F6THxA\",\"dtype\":\"float64\",\"order\":\"little\",\"shape\":[60]}},\"selected\":{\"id\":\"6829\"},\"selection_policy\":{\"id\":\"6843\"}},\"id\":\"6828\",\"type\":\"ColumnDataSource\"},{\"attributes\":{},\"id\":\"6911\",\"type\":\"BasicTicker\"},{\"attributes\":{},\"id\":\"6916\",\"type\":\"WheelZoomTool\"},{\"attributes\":{\"source\":{\"id\":\"6756\"}},\"id\":\"6763\",\"type\":\"CDSView\"},{\"attributes\":{},\"id\":\"6826\",\"type\":\"BasicTickFormatter\"},{\"attributes\":{\"coordinates\":null,\"data_source\":{\"id\":\"6756\"},\"glyph\":{\"id\":\"6759\"},\"group\":null,\"hover_glyph\":null,\"muted_glyph\":{\"id\":\"6761\"},\"nonselection_glyph\":{\"id\":\"6760\"},\"selection_glyph\":{\"id\":\"6789\"},\"view\":{\"id\":\"6763\"}},\"id\":\"6762\",\"type\":\"GlyphRenderer\"},{\"attributes\":{},\"id\":\"6914\",\"type\":\"SaveTool\"},{\"attributes\":{\"line_alpha\":0.2,\"line_color\":\"#fc4f30\",\"line_width\":2,\"x\":{\"field\":\"Date\"},\"y\":{\"field\":\"value\"}},\"id\":\"6761\",\"type\":\"Line\"},{\"attributes\":{},\"id\":\"6757\",\"type\":\"Selection\"},{\"attributes\":{\"overlay\":{\"id\":\"6919\"}},\"id\":\"6917\",\"type\":\"BoxZoomTool\"},{\"attributes\":{\"label\":{\"value\":\"ARKK Forecasted Adjusted Close\"},\"renderers\":[{\"id\":\"6762\"}]},\"id\":\"6788\",\"type\":\"LegendItem\"},{\"attributes\":{},\"id\":\"6918\",\"type\":\"ResetTool\"},{\"attributes\":{\"data\":{\"Date\":{\"__ndarray__\":\"AAAAKybid0IAAMCQeOJ3QgAAgPbK4ndCAABAXB3jd0IAAICNFOR3QgAAQPNm5HdCAAAAWbnkd0IAAMC+C+V3QgAAgCRe5XdCAACAu6fmd0IAAEAh+uZ3QgAAAIdM53dCAADA7J7nd0IAAAAeluh3QgAAwIPo6HdCAACA6Trpd0IAAEBPjel3QgAAALXf6XdCAABA5tbqd0IAAABMKet3QgAAwLF763dCAACAF87rd0IAAEB9IOx3QgAAgK4X7XdCAABAFGrtd0IAAAB6vO13QgAAwN8O7ndCAACARWHud0IAAMB2WO93QgAAgNyq73dCAABAQv3vd0IAAACoT/B3QgAAwA2i8HdCAADApOvxd0IAAIAKPvJ3QgAAQHCQ8ndCAAAA1uLyd0IAAEAH2vN3QgAAAG0s9HdCAADA0n70d0IAAIA40fR3QgAAQJ4j9XdCAACAzxr2d0IAAEA1bfZ3QgAAAJu/9ndCAADAABL3d0IAAIBmZPd3QgAAwJdb+HdCAACA/a34d0IAAEBjAPl3QgAAAMlS+XdCAADALqX5d0IAAABgnPp3QgAAwMXu+ndCAACAK0H7d0IAAECRk/t3QgAAAPfl+3dCAABAKN38d0IAAACOL/13QgAAwPOB/XdC\",\"dtype\":\"float64\",\"order\":\"little\",\"shape\":[60]},\"Variable\":[\"FNGU Actual Adjusted Close\",\"FNGU Actual Adjusted Close\",\"FNGU Actual Adjusted Close\",\"FNGU Actual Adjusted Close\",\"FNGU Actual Adjusted Close\",\"FNGU Actual Adjusted Close\",\"FNGU Actual Adjusted Close\",\"FNGU Actual Adjusted Close\",\"FNGU Actual Adjusted Close\",\"FNGU Actual Adjusted Close\",\"FNGU Actual Adjusted Close\",\"FNGU Actual Adjusted Close\",\"FNGU Actual Adjusted Close\",\"FNGU Actual Adjusted Close\",\"FNGU Actual Adjusted Close\",\"FNGU Actual Adjusted Close\",\"FNGU Actual Adjusted Close\",\"FNGU Actual Adjusted Close\",\"FNGU Actual Adjusted Close\",\"FNGU Actual Adjusted Close\",\"FNGU Actual Adjusted Close\",\"FNGU Actual Adjusted Close\",\"FNGU Actual Adjusted Close\",\"FNGU Actual Adjusted Close\",\"FNGU Actual Adjusted Close\",\"FNGU Actual Adjusted Close\",\"FNGU Actual Adjusted Close\",\"FNGU Actual Adjusted Close\",\"FNGU Actual Adjusted Close\",\"FNGU Actual Adjusted Close\",\"FNGU Actual Adjusted Close\",\"FNGU Actual Adjusted Close\",\"FNGU Actual Adjusted Close\",\"FNGU Actual Adjusted Close\",\"FNGU Actual Adjusted Close\",\"FNGU Actual Adjusted Close\",\"FNGU Actual Adjusted Close\",\"FNGU Actual Adjusted Close\",\"FNGU Actual Adjusted Close\",\"FNGU Actual Adjusted Close\",\"FNGU Actual Adjusted Close\",\"FNGU Actual Adjusted Close\",\"FNGU Actual Adjusted Close\",\"FNGU Actual Adjusted Close\",\"FNGU Actual Adjusted Close\",\"FNGU Actual Adjusted Close\",\"FNGU Actual Adjusted Close\",\"FNGU Actual Adjusted Close\",\"FNGU Actual Adjusted Close\",\"FNGU Actual Adjusted Close\",\"FNGU Actual Adjusted Close\",\"FNGU Actual Adjusted Close\",\"FNGU Actual Adjusted Close\",\"FNGU Actual Adjusted Close\",\"FNGU Actual Adjusted Close\",\"FNGU Actual Adjusted Close\",\"FNGU Actual Adjusted Close\",\"FNGU Actual Adjusted Close\",\"FNGU Actual Adjusted Close\",\"FNGU Actual Adjusted Close\"],\"value\":{\"__ndarray__\":\"ZmZmZmbGd0BmZmZmZm51QJqZmZmZ0XVAZmZmZmZmdUAzMzMzM4N1QJqZmZmZeXZAMzMzMzNLd0AzMzMzM9N0QAAAAAAAaHVAMzMzMzPTc0DNzMzMzERzQAAAAAAAKHNAZmZmZmYWcEAzMzMzMzNvQGZmZmZmNm1AAAAAAADwbEDNzMzMzIxrQJqZmZmZCW5AmpmZmZmhcUCamZmZmTlyQDMzMzMzK3JAAAAAAACQbkAAAAAAAChwQJqZmZmZaW5AmpmZmZkRcEAAAAAAAEBxQAAAAAAAMHBAAAAAAABAbUBmZmZmZrZtQAAAAAAAMHBAZmZmZmY+cEAAAAAAAFBtQJqZmZmZiWtAZmZmZmaGaUDNzMzMzBxnQJqZmZmZWWlAzczMzMw8akAzMzMzM8NqQDMzMzMzc2pAAAAAAAAAa0DNzMzMzAxpQGZmZmZmhmdAMzMzMzOjZEAAAAAAADBkQDMzMzMz42ZAZmZmZmaGZUAzMzMzM9NiQJqZmZmZqWBAmpmZmZkJYkBmZmZmZqZnQAAAAAAAEGhAmpmZmZmZakAAAAAAAABqQJqZmZmZ2WxAzczMzMxMbEAAAAAAAIBtQM3MzMzMLG1AAAAAAADgbkAzMzMzMxtwQAAAAAAA8G5A\",\"dtype\":\"float64\",\"order\":\"little\",\"shape\":[60]}},\"selected\":{\"id\":\"6934\"},\"selection_policy\":{\"id\":\"6948\"}},\"id\":\"6933\",\"type\":\"ColumnDataSource\"},{\"attributes\":{\"end\":520.9909733276368,\"reset_end\":520.9909733276368,\"reset_start\":-91.74070660400392,\"start\":-91.74070660400392,\"tags\":[[[\"value\",\"value\",null]]]},\"id\":\"6684\",\"type\":\"Range1d\"},{\"attributes\":{\"bottom_units\":\"screen\",\"coordinates\":null,\"fill_alpha\":0.5,\"fill_color\":\"lightgrey\",\"group\":null,\"left_units\":\"screen\",\"level\":\"overlay\",\"line_alpha\":1.0,\"line_color\":\"black\",\"line_dash\":[4,4],\"line_width\":2,\"right_units\":\"screen\",\"syncable\":false,\"top_units\":\"screen\"},\"id\":\"6919\",\"type\":\"BoxAnnotation\"},{\"attributes\":{},\"id\":\"6773\",\"type\":\"UnionRenderers\"},{\"attributes\":{},\"id\":\"6948\",\"type\":\"UnionRenderers\"},{\"attributes\":{\"tools\":[{\"id\":\"6790\"},{\"id\":\"6809\"},{\"id\":\"6810\"},{\"id\":\"6811\"},{\"id\":\"6812\"},{\"id\":\"6813\"}]},\"id\":\"6815\",\"type\":\"Toolbar\"},{\"attributes\":{},\"id\":\"6902\",\"type\":\"LinearScale\"},{\"attributes\":{\"children\":[[{\"id\":\"6687\"},0,0],[{\"id\":\"6792\"},0,1],[{\"id\":\"6897\"},0,2]]},\"id\":\"7075\",\"type\":\"GridBox\"},{\"attributes\":{\"months\":[0,6]},\"id\":\"6856\",\"type\":\"MonthsTicker\"},{\"attributes\":{\"callback\":null,\"formatters\":{\"@{Date}\":\"datetime\"},\"renderers\":[{\"id\":\"6729\"},{\"id\":\"6762\"}],\"tags\":[\"hv_created\"],\"tooltips\":[[\"Variable\",\"@{Variable}\"],[\"Date\",\"@{Date}{%F %T}\"],[\"value\",\"@{value}\"]]},\"id\":\"6685\",\"type\":\"HoverTool\"},{\"attributes\":{\"click_policy\":\"mute\",\"coordinates\":null,\"group\":null,\"items\":[{\"id\":\"6754\"},{\"id\":\"6788\"}],\"location\":[0,0],\"title\":\"Variable\"},\"id\":\"6753\",\"type\":\"Legend\"},{\"attributes\":{\"mantissas\":[1,2,5],\"max_interval\":500.0,\"num_minor_ticks\":0},\"id\":\"6846\",\"type\":\"AdaptiveTicker\"},{\"attributes\":{\"line_color\":\"#fc4f30\",\"line_width\":2,\"x\":{\"field\":\"Date\"},\"y\":{\"field\":\"value\"}},\"id\":\"6969\",\"type\":\"Line\"},{\"attributes\":{\"base\":60,\"mantissas\":[1,2,5,10,15,20,30],\"max_interval\":1800000.0,\"min_interval\":1000.0,\"num_minor_ticks\":0},\"id\":\"6847\",\"type\":\"AdaptiveTicker\"},{\"attributes\":{\"line_color\":\"#30a2da\",\"line_width\":2,\"x\":{\"field\":\"Date\"},\"y\":{\"field\":\"value\"}},\"id\":\"6965\",\"type\":\"Line\"},{\"attributes\":{\"base\":24,\"mantissas\":[1,2,4,6,8,12],\"max_interval\":43200000.0,\"min_interval\":3600000.0,\"num_minor_ticks\":0},\"id\":\"6848\",\"type\":\"AdaptiveTicker\"},{\"attributes\":{\"data\":{\"Date\":{\"__ndarray__\":\"AAAAKybid0IAAMCQeOJ3QgAAgPbK4ndCAABAXB3jd0IAAICNFOR3QgAAQPNm5HdCAAAAWbnkd0IAAMC+C+V3QgAAgCRe5XdCAACAu6fmd0IAAEAh+uZ3QgAAAIdM53dCAADA7J7nd0IAAAAeluh3QgAAwIPo6HdCAACA6Trpd0IAAEBPjel3QgAAALXf6XdCAABA5tbqd0IAAABMKet3QgAAwLF763dCAACAF87rd0IAAEB9IOx3QgAAgK4X7XdCAABAFGrtd0IAAAB6vO13QgAAwN8O7ndCAACARWHud0IAAMB2WO93QgAAgNyq73dCAABAQv3vd0IAAACoT/B3QgAAwA2i8HdCAADApOvxd0IAAIAKPvJ3QgAAQHCQ8ndCAAAA1uLyd0IAAEAH2vN3QgAAAG0s9HdCAADA0n70d0IAAIA40fR3QgAAQJ4j9XdCAACAzxr2d0IAAEA1bfZ3QgAAAJu/9ndCAADAABL3d0IAAIBmZPd3QgAAwJdb+HdCAACA/a34d0IAAEBjAPl3QgAAAMlS+XdCAADALqX5d0IAAABgnPp3QgAAwMXu+ndCAACAK0H7d0IAAECRk/t3QgAAAPfl+3dCAABAKN38d0IAAACOL/13QgAAwPOB/XdC\",\"dtype\":\"float64\",\"order\":\"little\",\"shape\":[60]},\"Variable\":[\"ARKK Actual Adjusted Close\",\"ARKK Actual Adjusted Close\",\"ARKK Actual Adjusted Close\",\"ARKK Actual Adjusted Close\",\"ARKK Actual Adjusted Close\",\"ARKK Actual Adjusted Close\",\"ARKK Actual Adjusted Close\",\"ARKK Actual Adjusted Close\",\"ARKK Actual Adjusted Close\",\"ARKK Actual Adjusted Close\",\"ARKK Actual Adjusted Close\",\"ARKK Actual Adjusted Close\",\"ARKK Actual Adjusted Close\",\"ARKK Actual Adjusted Close\",\"ARKK Actual Adjusted Close\",\"ARKK Actual Adjusted Close\",\"ARKK Actual Adjusted Close\",\"ARKK Actual Adjusted Close\",\"ARKK Actual Adjusted Close\",\"ARKK Actual Adjusted Close\",\"ARKK Actual Adjusted Close\",\"ARKK Actual Adjusted Close\",\"ARKK Actual Adjusted Close\",\"ARKK Actual Adjusted Close\",\"ARKK Actual Adjusted Close\",\"ARKK Actual Adjusted Close\",\"ARKK Actual Adjusted Close\",\"ARKK Actual Adjusted Close\",\"ARKK Actual Adjusted Close\",\"ARKK Actual Adjusted Close\",\"ARKK Actual Adjusted Close\",\"ARKK Actual Adjusted Close\",\"ARKK Actual Adjusted Close\",\"ARKK Actual Adjusted Close\",\"ARKK Actual Adjusted Close\",\"ARKK Actual Adjusted Close\",\"ARKK Actual Adjusted Close\",\"ARKK Actual Adjusted Close\",\"ARKK Actual Adjusted Close\",\"ARKK Actual Adjusted Close\",\"ARKK Actual Adjusted Close\",\"ARKK Actual Adjusted Close\",\"ARKK Actual Adjusted Close\",\"ARKK Actual Adjusted Close\",\"ARKK Actual Adjusted Close\",\"ARKK Actual Adjusted Close\",\"ARKK Actual Adjusted Close\",\"ARKK Actual Adjusted Close\",\"ARKK Actual Adjusted Close\",\"ARKK Actual Adjusted Close\",\"ARKK Actual Adjusted Close\",\"ARKK Actual Adjusted Close\",\"ARKK Actual Adjusted Close\",\"ARKK Actual Adjusted Close\",\"ARKK Actual Adjusted Close\",\"ARKK Actual Adjusted Close\",\"ARKK Actual Adjusted Close\",\"ARKK Actual Adjusted Close\",\"ARKK Actual Adjusted Close\",\"ARKK Actual Adjusted Close\"],\"value\":{\"__ndarray__\":\"XI/C9SgsV0BI4XoUrodVQIXrUbgeZVVAexSuR+EaVUApXI/C9ShVQB+F61G4vlVApHA9CtcjVUAfhetRuP5TQI/C9ShcD1RACtejcD06U0AAAAAAAPBSQEjhehSu91JA4XoUrkfhUUDD9Shcj2JSQDMzMzMzs1FAUrgehetBUUCF61G4HpVQQArXo3A9OlFA7FG4HoXbUkCF61G4HkVTQClcj8L1SFJAw/UoXI9CUUAAAAAAADBSQB+F61G4HlJAKVyPwvUYUkDXo3A9CgdTQHE9CtejcFJAmpmZmZn5UUApXI/C9dhRQFK4HoXr0VJASOF6FK43UkDsUbgehQtRQDMzMzMzM1BAUrgeheuxT0BxPQrXo3BOQEjhehSuZ1BAFK5H4Xr0UECuR+F6FJ5RQKRwPQrXE1FApHA9CtfjUEDhehSuR6FPQD0K16NwHU5AZmZmZmYGTUCPwvUoXE9NQHsUrkfh2k5AhetRuB7FTUAK16NwPcpLQIXrUbgeJUpAUrgehesxS0CF61G4HgVOQNejcD0Kd09A4XoUrkdxUEA9CtejcP1PQK5H4XoUvlBAexSuR+FqUECamZmZmZlQQHE9CtejIFBApHA9CtfDUEApXI/C9dhRQOxRuB6FK1FA\",\"dtype\":\"float64\",\"order\":\"little\",\"shape\":[60]}},\"selected\":{\"id\":\"6724\"},\"selection_policy\":{\"id\":\"6738\"}},\"id\":\"6723\",\"type\":\"ColumnDataSource\"},{\"attributes\":{\"months\":[0,1,2,3,4,5,6,7,8,9,10,11]},\"id\":\"6853\",\"type\":\"MonthsTicker\"},{\"attributes\":{\"days\":[1,15]},\"id\":\"6852\",\"type\":\"DaysTicker\"},{\"attributes\":{\"days\":[1,2,3,4,5,6,7,8,9,10,11,12,13,14,15,16,17,18,19,20,21,22,23,24,25,26,27,28,29,30,31]},\"id\":\"6849\",\"type\":\"DaysTicker\"},{\"attributes\":{\"days\":[1,4,7,10,13,16,19,22,25,28]},\"id\":\"6850\",\"type\":\"DaysTicker\"},{\"attributes\":{},\"id\":\"6823\",\"type\":\"DatetimeTickFormatter\"},{\"attributes\":{\"days\":[1,8,15,22]},\"id\":\"6851\",\"type\":\"DaysTicker\"},{\"attributes\":{\"months\":[0,4,8]},\"id\":\"6855\",\"type\":\"MonthsTicker\"},{\"attributes\":{\"months\":[0,2,4,6,8,10]},\"id\":\"6854\",\"type\":\"MonthsTicker\"},{\"attributes\":{\"toolbar\":{\"id\":\"7076\"},\"toolbar_location\":\"above\"},\"id\":\"7077\",\"type\":\"ToolbarBox\"}],\"root_ids\":[\"6681\"]},\"title\":\"Bokeh Application\",\"version\":\"2.4.3\"}};\n",
       "    var render_items = [{\"docid\":\"70e04ae2-23af-48bd-ad43-da9a5348a5fa\",\"root_ids\":[\"6681\"],\"roots\":{\"6681\":\"1378e48b-7a9c-4ab0-a37e-4c4d1340d5dd\"}}];\n",
       "    root.Bokeh.embed.embed_items_notebook(docs_json, render_items);\n",
       "    for (const render_item of render_items) {\n",
       "      for (const root_id of render_item.root_ids) {\n",
       "\tconst id_el = document.getElementById(root_id)\n",
       "\tif (id_el.children.length && (id_el.children[0].className === 'bk-root')) {\n",
       "\t  const root_el = id_el.children[0]\n",
       "\t  root_el.id = root_el.id + '-rendered'\n",
       "\t}\n",
       "      }\n",
       "    }\n",
       "  }\n",
       "  if (root.Bokeh !== undefined && root.Bokeh.Panel !== undefined) {\n",
       "    embed_document(root);\n",
       "  } else {\n",
       "    var attempts = 0;\n",
       "    var timer = setInterval(function(root) {\n",
       "      if (root.Bokeh !== undefined && root.Bokeh.Panel !== undefined) {\n",
       "        clearInterval(timer);\n",
       "        embed_document(root);\n",
       "      } else if (document.readyState == \"complete\") {\n",
       "        attempts++;\n",
       "        if (attempts > 200) {\n",
       "          clearInterval(timer);\n",
       "          console.log(\"Bokeh: ERROR: Unable to run BokehJS code because BokehJS library is missing\");\n",
       "        }\n",
       "      }\n",
       "    }, 25, root)\n",
       "  }\n",
       "})(window);</script>"
      ],
      "text/plain": [
       ":Layout\n",
       "   .NdOverlay.I   :NdOverlay   [Variable]\n",
       "      :Curve   [Date]   (value)\n",
       "   .NdOverlay.II  :NdOverlay   [Variable]\n",
       "      :Curve   [Date]   (value)\n",
       "   .NdOverlay.III :NdOverlay   [Variable]\n",
       "      :Curve   [Date]   (value)"
      ]
     },
     "execution_count": 233,
     "metadata": {
      "application/vnd.holoviews_exec.v0+json": {
       "id": "6681"
      }
     },
     "output_type": "execute_result"
    }
   ],
   "source": [
    "arkk_ap_plot = display_actual_predicted(arkk_actual_predicted)\n",
    "spy_ap_plot = display_actual_predicted(spy_actual_predicted)\n",
    "fngu_ap_plot = display_actual_predicted(fngu_actual_predicted) \n",
    "arkk_ap_plot + spy_ap_plot + fngu_ap_plot"
   ]
  },
  {
   "cell_type": "markdown",
   "metadata": {},
   "source": [
    "### Training Data vs Actual vs Predicted"
   ]
  },
  {
   "cell_type": "code",
   "execution_count": null,
   "metadata": {},
   "outputs": [
    {
     "ename": "AttributeError",
     "evalue": "'Curve' object has no attribute 'rename'",
     "output_type": "error",
     "traceback": [
      "\u001b[1;31m--------------------------------------------------\u001b[0m",
      "\u001b[1;31mAttributeError\u001b[0m   Traceback (most recent call last)",
      "\u001b[1;32m~\\AppData\\Local\\Temp\\ipykernel_1396\\107049750.py\u001b[0m in \u001b[0;36m<module>\u001b[1;34m\u001b[0m\n\u001b[1;32m----> 1\u001b[1;33m \u001b[0markk_train_plot\u001b[0m\u001b[1;33m,\u001b[0m\u001b[0mspy_train_plot\u001b[0m\u001b[1;33m,\u001b[0m\u001b[0mfngu_train_plot\u001b[0m \u001b[1;33m=\u001b[0m \u001b[1;33m[\u001b[0m\u001b[0mplot_df\u001b[0m\u001b[1;33m(\u001b[0m\u001b[0mi\u001b[0m\u001b[1;33m[\u001b[0m\u001b[1;33m:\u001b[0m\u001b[0mtraining_length\u001b[0m\u001b[1;33m]\u001b[0m\u001b[1;33m)\u001b[0m\u001b[1;33m.\u001b[0m\u001b[0mrename\u001b[0m\u001b[1;33m(\u001b[0m\u001b[0mcolumns\u001b[0m\u001b[1;33m=\u001b[0m\u001b[1;34mf'{i.columns[0]} Training Data'\u001b[0m\u001b[1;33m)\u001b[0m \u001b[1;32mfor\u001b[0m \u001b[0mi\u001b[0m \u001b[1;32min\u001b[0m \u001b[0mdataframes\u001b[0m\u001b[1;33m]\u001b[0m\u001b[1;33m\u001b[0m\u001b[1;33m\u001b[0m\u001b[0m\n\u001b[0m",
      "\u001b[1;32m~\\AppData\\Local\\Temp\\ipykernel_1396\\107049750.py\u001b[0m in \u001b[0;36m<listcomp>\u001b[1;34m(.0)\u001b[0m\n\u001b[1;32m----> 1\u001b[1;33m \u001b[0markk_train_plot\u001b[0m\u001b[1;33m,\u001b[0m\u001b[0mspy_train_plot\u001b[0m\u001b[1;33m,\u001b[0m\u001b[0mfngu_train_plot\u001b[0m \u001b[1;33m=\u001b[0m \u001b[1;33m[\u001b[0m\u001b[0mplot_df\u001b[0m\u001b[1;33m(\u001b[0m\u001b[0mi\u001b[0m\u001b[1;33m[\u001b[0m\u001b[1;33m:\u001b[0m\u001b[0mtraining_length\u001b[0m\u001b[1;33m]\u001b[0m\u001b[1;33m)\u001b[0m\u001b[1;33m.\u001b[0m\u001b[0mrename\u001b[0m\u001b[1;33m(\u001b[0m\u001b[0mcolumns\u001b[0m\u001b[1;33m=\u001b[0m\u001b[1;34mf'{i.columns[0]} Training Data'\u001b[0m\u001b[1;33m)\u001b[0m \u001b[1;32mfor\u001b[0m \u001b[0mi\u001b[0m \u001b[1;32min\u001b[0m \u001b[0mdataframes\u001b[0m\u001b[1;33m]\u001b[0m\u001b[1;33m\u001b[0m\u001b[1;33m\u001b[0m\u001b[0m\n\u001b[0m",
      "\u001b[1;31mAttributeError\u001b[0m: 'Curve' object has no attribute 'rename'"
     ]
    }
   ],
   "source": [
    "# arkk_train_plot,spy_train_plot,fngu_train_plot = [plot_df(i[:training_length]).rename(columns=f'{i.columns[0]} Training Data') for i in dataframes]"
   ]
  },
  {
   "cell_type": "code",
   "execution_count": null,
   "metadata": {},
   "outputs": [
    {
     "data": {},
     "metadata": {},
     "output_type": "display_data"
    },
    {
     "data": {
      "application/vnd.holoviews_exec.v0+json": "",
      "text/html": [
       "<div id='8618'>\n",
       "  <div class=\"bk-root\" id=\"1b3257a9-f7ad-4e9e-9ea1-73c1c0af0527\" data-root-id=\"8618\"></div>\n",
       "</div>\n",
       "<script type=\"application/javascript\">(function(root) {\n",
       "  function embed_document(root) {\n",
       "    var docs_json = {\"5b0760b9-3748-4e95-a72d-fdc9c5254b45\":{\"defs\":[{\"extends\":null,\"module\":null,\"name\":\"ReactiveHTML1\",\"overrides\":[],\"properties\":[]},{\"extends\":null,\"module\":null,\"name\":\"FlexBox1\",\"overrides\":[],\"properties\":[{\"default\":\"flex-start\",\"kind\":null,\"name\":\"align_content\"},{\"default\":\"flex-start\",\"kind\":null,\"name\":\"align_items\"},{\"default\":\"row\",\"kind\":null,\"name\":\"flex_direction\"},{\"default\":\"wrap\",\"kind\":null,\"name\":\"flex_wrap\"},{\"default\":\"flex-start\",\"kind\":null,\"name\":\"justify_content\"}]},{\"extends\":null,\"module\":null,\"name\":\"GridStack1\",\"overrides\":[],\"properties\":[{\"default\":\"warn\",\"kind\":null,\"name\":\"mode\"},{\"default\":null,\"kind\":null,\"name\":\"ncols\"},{\"default\":null,\"kind\":null,\"name\":\"nrows\"},{\"default\":true,\"kind\":null,\"name\":\"allow_resize\"},{\"default\":true,\"kind\":null,\"name\":\"allow_drag\"},{\"default\":[],\"kind\":null,\"name\":\"state\"}]},{\"extends\":null,\"module\":null,\"name\":\"click1\",\"overrides\":[],\"properties\":[{\"default\":\"\",\"kind\":null,\"name\":\"terminal_output\"},{\"default\":\"\",\"kind\":null,\"name\":\"debug_name\"},{\"default\":0,\"kind\":null,\"name\":\"clears\"}]},{\"extends\":null,\"module\":null,\"name\":\"NotificationAreaBase1\",\"overrides\":[],\"properties\":[{\"default\":\"bottom-right\",\"kind\":null,\"name\":\"position\"},{\"default\":0,\"kind\":null,\"name\":\"_clear\"}]},{\"extends\":null,\"module\":null,\"name\":\"NotificationArea1\",\"overrides\":[],\"properties\":[{\"default\":[],\"kind\":null,\"name\":\"notifications\"},{\"default\":\"bottom-right\",\"kind\":null,\"name\":\"position\"},{\"default\":0,\"kind\":null,\"name\":\"_clear\"},{\"default\":[{\"background\":\"#ffc107\",\"icon\":{\"className\":\"fas fa-exclamation-triangle\",\"color\":\"white\",\"tagName\":\"i\"},\"type\":\"warning\"},{\"background\":\"#007bff\",\"icon\":{\"className\":\"fas fa-info-circle\",\"color\":\"white\",\"tagName\":\"i\"},\"type\":\"info\"}],\"kind\":null,\"name\":\"types\"}]},{\"extends\":null,\"module\":null,\"name\":\"Notification\",\"overrides\":[],\"properties\":[{\"default\":null,\"kind\":null,\"name\":\"background\"},{\"default\":3000,\"kind\":null,\"name\":\"duration\"},{\"default\":null,\"kind\":null,\"name\":\"icon\"},{\"default\":\"\",\"kind\":null,\"name\":\"message\"},{\"default\":null,\"kind\":null,\"name\":\"notification_type\"},{\"default\":false,\"kind\":null,\"name\":\"_destroyed\"}]},{\"extends\":null,\"module\":null,\"name\":\"TemplateActions1\",\"overrides\":[],\"properties\":[{\"default\":0,\"kind\":null,\"name\":\"open_modal\"},{\"default\":0,\"kind\":null,\"name\":\"close_modal\"}]},{\"extends\":null,\"module\":null,\"name\":\"MaterialTemplateActions1\",\"overrides\":[],\"properties\":[{\"default\":0,\"kind\":null,\"name\":\"open_modal\"},{\"default\":0,\"kind\":null,\"name\":\"close_modal\"}]}],\"roots\":{\"references\":[{\"attributes\":{\"end\":1641168000000.0,\"reset_end\":1641168000000.0,\"reset_start\":1583107200000.0,\"start\":1583107200000.0,\"tags\":[[[\"Date\",\"Date\",null]]]},\"id\":\"8620\",\"type\":\"Range1d\"},{\"attributes\":{},\"id\":\"8689\",\"type\":\"YearsTicker\"},{\"attributes\":{},\"id\":\"8667\",\"type\":\"AllLabels\"},{\"attributes\":{\"tools\":[{\"id\":\"8622\"},{\"id\":\"8640\"},{\"id\":\"8641\"},{\"id\":\"8642\"},{\"id\":\"8643\"},{\"id\":\"8644\"}]},\"id\":\"8646\",\"type\":\"Toolbar\"},{\"attributes\":{},\"id\":\"8664\",\"type\":\"AllLabels\"},{\"attributes\":{\"line_color\":\"#30a2da\",\"line_width\":2,\"x\":{\"field\":\"Date\"},\"y\":{\"field\":\"ARKK\"}},\"id\":\"8661\",\"type\":\"Line\"},{\"attributes\":{\"days\":[1,4,7,10,13,16,19,22,25,28]},\"id\":\"8682\",\"type\":\"DaysTicker\"},{\"attributes\":{},\"id\":\"8630\",\"type\":\"LinearScale\"},{\"attributes\":{\"months\":[0,2,4,6,8,10]},\"id\":\"8686\",\"type\":\"MonthsTicker\"},{\"attributes\":{\"months\":[0,4,8]},\"id\":\"8687\",\"type\":\"MonthsTicker\"},{\"attributes\":{\"num_minor_ticks\":5,\"tickers\":[{\"id\":\"8678\"},{\"id\":\"8679\"},{\"id\":\"8680\"},{\"id\":\"8681\"},{\"id\":\"8682\"},{\"id\":\"8683\"},{\"id\":\"8684\"},{\"id\":\"8685\"},{\"id\":\"8686\"},{\"id\":\"8687\"},{\"id\":\"8688\"},{\"id\":\"8689\"}]},\"id\":\"8633\",\"type\":\"DatetimeTicker\"},{\"attributes\":{\"months\":[0,6]},\"id\":\"8688\",\"type\":\"MonthsTicker\"},{\"attributes\":{\"line_alpha\":0.2,\"line_color\":\"#30a2da\",\"line_width\":2,\"x\":{\"field\":\"Date\"},\"y\":{\"field\":\"ARKK\"}},\"id\":\"8658\",\"type\":\"Line\"},{\"attributes\":{\"months\":[0,1,2,3,4,5,6,7,8,9,10,11]},\"id\":\"8685\",\"type\":\"MonthsTicker\"},{\"attributes\":{\"days\":[1,2,3,4,5,6,7,8,9,10,11,12,13,14,15,16,17,18,19,20,21,22,23,24,25,26,27,28,29,30,31]},\"id\":\"8681\",\"type\":\"DaysTicker\"},{\"attributes\":{\"days\":[1,15]},\"id\":\"8684\",\"type\":\"DaysTicker\"},{\"attributes\":{},\"id\":\"8628\",\"type\":\"LinearScale\"},{\"attributes\":{\"line_alpha\":0.1,\"line_color\":\"#30a2da\",\"line_width\":2,\"x\":{\"field\":\"Date\"},\"y\":{\"field\":\"ARKK\"}},\"id\":\"8657\",\"type\":\"Line\"},{\"attributes\":{},\"id\":\"8641\",\"type\":\"PanTool\"},{\"attributes\":{},\"id\":\"8654\",\"type\":\"Selection\"},{\"attributes\":{\"end\":167.44400000000002,\"reset_end\":167.44400000000002,\"reset_start\":21.715999999999998,\"start\":21.715999999999998,\"tags\":[[[\"ARKK\",\"ARKK\",null]]]},\"id\":\"8621\",\"type\":\"Range1d\"},{\"attributes\":{\"mantissas\":[1,2,5],\"max_interval\":500.0,\"num_minor_ticks\":0},\"id\":\"8678\",\"type\":\"AdaptiveTicker\"},{\"attributes\":{\"margin\":[5,5,5,5],\"name\":\"HSpacer06699\",\"sizing_mode\":\"stretch_width\"},\"id\":\"8690\",\"type\":\"Spacer\"},{\"attributes\":{\"axis\":{\"id\":\"8636\"},\"coordinates\":null,\"dimension\":1,\"grid_line_color\":null,\"group\":null,\"ticker\":null},\"id\":\"8639\",\"type\":\"Grid\"},{\"attributes\":{\"coordinates\":null,\"group\":null,\"text_color\":\"black\",\"text_font_size\":\"12pt\"},\"id\":\"8624\",\"type\":\"Title\"},{\"attributes\":{\"line_color\":\"#30a2da\",\"line_width\":2,\"x\":{\"field\":\"Date\"},\"y\":{\"field\":\"ARKK\"}},\"id\":\"8656\",\"type\":\"Line\"},{\"attributes\":{},\"id\":\"8644\",\"type\":\"ResetTool\"},{\"attributes\":{\"children\":[{\"id\":\"8619\"},{\"id\":\"8623\"},{\"id\":\"8690\"}],\"margin\":[0,0,0,0],\"name\":\"Row06694\",\"tags\":[\"embedded\"]},\"id\":\"8618\",\"type\":\"Row\"},{\"attributes\":{},\"id\":\"8640\",\"type\":\"SaveTool\"},{\"attributes\":{\"overlay\":{\"id\":\"8645\"}},\"id\":\"8643\",\"type\":\"BoxZoomTool\"},{\"attributes\":{\"callback\":null,\"formatters\":{\"@{Date}\":\"datetime\"},\"renderers\":[{\"id\":\"8659\"}],\"tags\":[\"hv_created\"],\"tooltips\":[[\"Date\",\"@{Date}{%F %T}\"],[\"ARKK\",\"@{ARKK}\"]]},\"id\":\"8622\",\"type\":\"HoverTool\"},{\"attributes\":{\"base\":60,\"mantissas\":[1,2,5,10,15,20,30],\"max_interval\":1800000.0,\"min_interval\":1000.0,\"num_minor_ticks\":0},\"id\":\"8679\",\"type\":\"AdaptiveTicker\"},{\"attributes\":{\"days\":[1,8,15,22]},\"id\":\"8683\",\"type\":\"DaysTicker\"},{\"attributes\":{},\"id\":\"8675\",\"type\":\"UnionRenderers\"},{\"attributes\":{\"axis_label\":\"Date\",\"coordinates\":null,\"formatter\":{\"id\":\"8663\"},\"group\":null,\"major_label_policy\":{\"id\":\"8664\"},\"ticker\":{\"id\":\"8633\"}},\"id\":\"8632\",\"type\":\"DatetimeAxis\"},{\"attributes\":{\"bottom_units\":\"screen\",\"coordinates\":null,\"fill_alpha\":0.5,\"fill_color\":\"lightgrey\",\"group\":null,\"left_units\":\"screen\",\"level\":\"overlay\",\"line_alpha\":1.0,\"line_color\":\"black\",\"line_dash\":[4,4],\"line_width\":2,\"right_units\":\"screen\",\"syncable\":false,\"top_units\":\"screen\"},\"id\":\"8645\",\"type\":\"BoxAnnotation\"},{\"attributes\":{},\"id\":\"8642\",\"type\":\"WheelZoomTool\"},{\"attributes\":{\"margin\":[5,5,5,5],\"name\":\"HSpacer06698\",\"sizing_mode\":\"stretch_width\"},\"id\":\"8619\",\"type\":\"Spacer\"},{\"attributes\":{\"below\":[{\"id\":\"8632\"}],\"center\":[{\"id\":\"8635\"},{\"id\":\"8639\"}],\"height\":300,\"left\":[{\"id\":\"8636\"}],\"margin\":[5,5,5,5],\"min_border_bottom\":10,\"min_border_left\":10,\"min_border_right\":10,\"min_border_top\":10,\"renderers\":[{\"id\":\"8659\"}],\"sizing_mode\":\"fixed\",\"title\":{\"id\":\"8624\"},\"toolbar\":{\"id\":\"8646\"},\"width\":700,\"x_range\":{\"id\":\"8620\"},\"x_scale\":{\"id\":\"8628\"},\"y_range\":{\"id\":\"8621\"},\"y_scale\":{\"id\":\"8630\"}},\"id\":\"8623\",\"subtype\":\"Figure\",\"type\":\"Plot\"},{\"attributes\":{\"base\":24,\"mantissas\":[1,2,4,6,8,12],\"max_interval\":43200000.0,\"min_interval\":3600000.0,\"num_minor_ticks\":0},\"id\":\"8680\",\"type\":\"AdaptiveTicker\"},{\"attributes\":{\"data\":{\"ARKK\":{\"__ndarray__\":\"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\",\"dtype\":\"float64\",\"order\":\"little\",\"shape\":[466]},\"Date\":{\"__ndarray__\":\"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\",\"dtype\":\"float64\",\"order\":\"little\",\"shape\":[466]}},\"selected\":{\"id\":\"8654\"},\"selection_policy\":{\"id\":\"8675\"}},\"id\":\"8653\",\"type\":\"ColumnDataSource\"},{\"attributes\":{},\"id\":\"8663\",\"type\":\"DatetimeTickFormatter\"},{\"attributes\":{\"source\":{\"id\":\"8653\"}},\"id\":\"8660\",\"type\":\"CDSView\"},{\"attributes\":{\"axis\":{\"id\":\"8632\"},\"coordinates\":null,\"grid_line_color\":null,\"group\":null,\"ticker\":null},\"id\":\"8635\",\"type\":\"Grid\"},{\"attributes\":{\"coordinates\":null,\"data_source\":{\"id\":\"8653\"},\"glyph\":{\"id\":\"8656\"},\"group\":null,\"hover_glyph\":null,\"muted_glyph\":{\"id\":\"8658\"},\"nonselection_glyph\":{\"id\":\"8657\"},\"selection_glyph\":{\"id\":\"8661\"},\"view\":{\"id\":\"8660\"}},\"id\":\"8659\",\"type\":\"GlyphRenderer\"},{\"attributes\":{\"axis_label\":\"ARKK\",\"coordinates\":null,\"formatter\":{\"id\":\"8666\"},\"group\":null,\"major_label_policy\":{\"id\":\"8667\"},\"ticker\":{\"id\":\"8637\"}},\"id\":\"8636\",\"type\":\"LinearAxis\"},{\"attributes\":{},\"id\":\"8666\",\"type\":\"BasicTickFormatter\"},{\"attributes\":{},\"id\":\"8637\",\"type\":\"BasicTicker\"}],\"root_ids\":[\"8618\"]},\"title\":\"Bokeh Application\",\"version\":\"2.4.3\"}};\n",
       "    var render_items = [{\"docid\":\"5b0760b9-3748-4e95-a72d-fdc9c5254b45\",\"root_ids\":[\"8618\"],\"roots\":{\"8618\":\"1b3257a9-f7ad-4e9e-9ea1-73c1c0af0527\"}}];\n",
       "    root.Bokeh.embed.embed_items_notebook(docs_json, render_items);\n",
       "    for (const render_item of render_items) {\n",
       "      for (const root_id of render_item.root_ids) {\n",
       "\tconst id_el = document.getElementById(root_id)\n",
       "\tif (id_el.children.length && (id_el.children[0].className === 'bk-root')) {\n",
       "\t  const root_el = id_el.children[0]\n",
       "\t  root_el.id = root_el.id + '-rendered'\n",
       "\t}\n",
       "      }\n",
       "    }\n",
       "  }\n",
       "  if (root.Bokeh !== undefined && root.Bokeh.Panel !== undefined) {\n",
       "    embed_document(root);\n",
       "  } else {\n",
       "    var attempts = 0;\n",
       "    var timer = setInterval(function(root) {\n",
       "      if (root.Bokeh !== undefined && root.Bokeh.Panel !== undefined) {\n",
       "        clearInterval(timer);\n",
       "        embed_document(root);\n",
       "      } else if (document.readyState == \"complete\") {\n",
       "        attempts++;\n",
       "        if (attempts > 200) {\n",
       "          clearInterval(timer);\n",
       "          console.log(\"Bokeh: ERROR: Unable to run BokehJS code because BokehJS library is missing\");\n",
       "        }\n",
       "      }\n",
       "    }, 25, root)\n",
       "  }\n",
       "})(window);</script>"
      ],
      "text/plain": [
       ":Curve   [Date]   (ARKK)"
      ]
     },
     "execution_count": 241,
     "metadata": {
      "application/vnd.holoviews_exec.v0+json": {
       "id": "8618"
      }
     },
     "output_type": "execute_result"
    }
   ],
   "source": [
    "# arkk_train_plot"
   ]
  },
  {
   "cell_type": "code",
   "execution_count": 258,
   "metadata": {},
   "outputs": [],
   "source": [
    "# pd.concat([arkk, arkk_actual_predicted], join='inner', axis=1).apply(lambda x: round(x,2))"
   ]
  },
  {
   "cell_type": "code",
   "execution_count": 248,
   "metadata": {},
   "outputs": [
    {
     "data": {
      "text/html": [
       "<div>\n",
       "<style scoped>\n",
       "    .dataframe tbody tr th:only-of-type {\n",
       "        vertical-align: middle;\n",
       "    }\n",
       "\n",
       "    .dataframe tbody tr th {\n",
       "        vertical-align: top;\n",
       "    }\n",
       "\n",
       "    .dataframe thead th {\n",
       "        text-align: right;\n",
       "    }\n",
       "</style>\n",
       "<table border=\"1\" class=\"dataframe\">\n",
       "  <thead>\n",
       "    <tr style=\"text-align: right;\">\n",
       "      <th></th>\n",
       "      <th>SPY</th>\n",
       "      <th>SPY Actual Adjusted Close</th>\n",
       "      <th>SPY Forecasted Adjusted Close</th>\n",
       "    </tr>\n",
       "    <tr>\n",
       "      <th>Date</th>\n",
       "      <th></th>\n",
       "      <th></th>\n",
       "      <th></th>\n",
       "    </tr>\n",
       "  </thead>\n",
       "  <tbody>\n",
       "  </tbody>\n",
       "</table>\n",
       "</div>"
      ],
      "text/plain": [
       "Empty DataFrame\n",
       "Columns: [SPY, SPY Actual Adjusted Close, SPY Forecasted Adjusted Close]\n",
       "Index: []"
      ]
     },
     "execution_count": 248,
     "metadata": {},
     "output_type": "execute_result"
    }
   ],
   "source": [
    "pd.concat([spy[:training_length], spy_actual_predicted], join='inner', axis=1)"
   ]
  },
  {
   "cell_type": "code",
   "execution_count": 249,
   "metadata": {},
   "outputs": [
    {
     "data": {
      "text/html": [
       "<div>\n",
       "<style scoped>\n",
       "    .dataframe tbody tr th:only-of-type {\n",
       "        vertical-align: middle;\n",
       "    }\n",
       "\n",
       "    .dataframe tbody tr th {\n",
       "        vertical-align: top;\n",
       "    }\n",
       "\n",
       "    .dataframe thead th {\n",
       "        text-align: right;\n",
       "    }\n",
       "</style>\n",
       "<table border=\"1\" class=\"dataframe\">\n",
       "  <thead>\n",
       "    <tr style=\"text-align: right;\">\n",
       "      <th></th>\n",
       "      <th>FNGU</th>\n",
       "      <th>FNGU Actual Adjusted Close</th>\n",
       "      <th>FNGU Forecasted Adjusted Close</th>\n",
       "    </tr>\n",
       "    <tr>\n",
       "      <th>Date</th>\n",
       "      <th></th>\n",
       "      <th></th>\n",
       "      <th></th>\n",
       "    </tr>\n",
       "  </thead>\n",
       "  <tbody>\n",
       "  </tbody>\n",
       "</table>\n",
       "</div>"
      ],
      "text/plain": [
       "Empty DataFrame\n",
       "Columns: [FNGU, FNGU Actual Adjusted Close, FNGU Forecasted Adjusted Close]\n",
       "Index: []"
      ]
     },
     "execution_count": 249,
     "metadata": {},
     "output_type": "execute_result"
    }
   ],
   "source": [
    "pd.concat([fngu[:training_length], fngu_actual_predicted], join='inner', axis=1)"
   ]
  },
  {
   "cell_type": "markdown",
   "metadata": {},
   "source": [
    "## Evaluation"
   ]
  },
  {
   "cell_type": "code",
   "execution_count": null,
   "metadata": {},
   "outputs": [],
   "source": [
    "rmse = np.sqrt(np.mean(predictions - y_test)**2)\n",
    "rmse"
   ]
  },
  {
   "cell_type": "markdown",
   "metadata": {},
   "source": [
    "## Write-Up/Conclusion"
   ]
  }
 ],
 "metadata": {
  "colab": {
   "provenance": []
  },
  "kernelspec": {
   "display_name": "Python 3 (ipykernel)",
   "language": "python",
   "name": "python3"
  },
  "language_info": {
   "codemirror_mode": {
    "name": "ipython",
    "version": 3
   },
   "file_extension": ".py",
   "mimetype": "text/x-python",
   "name": "python",
   "nbconvert_exporter": "python",
   "pygments_lexer": "ipython3",
   "version": "3.9.13"
  }
 },
 "nbformat": 4,
 "nbformat_minor": 4
}
