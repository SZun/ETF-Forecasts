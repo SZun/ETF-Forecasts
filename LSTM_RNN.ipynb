{
 "cells": [
  {
   "cell_type": "code",
   "execution_count": 3,
   "id": "1345d35c-9fef-4a00-a48b-094a9aa53f04",
   "metadata": {},
   "outputs": [],
   "source": [
    "import pandas as pd\n",
    "from pathlib import Path\n",
    "from sklearn.preprocessing import MinMaxScaler\n",
    "from tensorflow.keras.models import Sequential\n",
    "from tensorflow.keras.layers import Dense, LSTM\n",
    "from tensorflow.keras.preprocessing.sequence import TimeseriesGenerator"
   ]
  },
  {
   "cell_type": "code",
   "execution_count": 4,
   "id": "f1518371-6888-4d5a-86a4-91ed5fc6f2b7",
   "metadata": {},
   "outputs": [],
   "source": [
    "etf_data = pd.read_csv(Path('./Resources/Data/etf_data.csv'), index_col='Date', parse_dates=True, infer_datetime_format=True)"
   ]
  },
  {
   "cell_type": "code",
   "execution_count": 5,
   "id": "2fd0c401-caef-46ca-9114-3adaecba8608",
   "metadata": {},
   "outputs": [],
   "source": [
    "spy_df = pd.DataFrame(etf_data['SPY'])"
   ]
  },
  {
   "cell_type": "code",
   "execution_count": 6,
   "id": "1ba817c2-87e1-416d-9af5-611bd975456a",
   "metadata": {},
   "outputs": [],
   "source": [
    "X_train, X_test, y_train, y_test = spy_df.iloc[:-120], spy_df[:-60], spy_df.iloc[:-120], spy_df[:-60]"
   ]
  },
  {
   "cell_type": "code",
   "execution_count": 10,
   "id": "7e3bdcdc-c1ff-4def-8953-c48d3a9ba9b7",
   "metadata": {},
   "outputs": [],
   "source": [
    "X_train_scaled, y_scaled = [MinMaxScaler().fit(X_train).transform(i) for i in [X_train,y_train]]"
   ]
  },
  {
   "cell_type": "code",
   "execution_count": 11,
   "id": "3b25c28f-5156-4518-a5f3-2383557573e8",
   "metadata": {},
   "outputs": [],
   "source": [
    "model = Sequential()"
   ]
  },
  {
   "cell_type": "code",
   "execution_count": 17,
   "id": "6db29c8c-dd2c-48bd-815c-ec3f6c7086f9",
   "metadata": {},
   "outputs": [
    {
     "ename": "NameError",
     "evalue": "name 'length' is not defined",
     "output_type": "error",
     "traceback": [
      "\u001b[1;31m---------------------------------------------------------------------------\u001b[0m",
      "\u001b[1;31mNameError\u001b[0m                                 Traceback (most recent call last)",
      "Input \u001b[1;32mIn [17]\u001b[0m, in \u001b[0;36m<cell line: 1>\u001b[1;34m()\u001b[0m\n\u001b[1;32m----> 1\u001b[0m model\u001b[38;5;241m.\u001b[39madd(LSTM(\u001b[38;5;241m100\u001b[39m, activation\u001b[38;5;241m=\u001b[39m\u001b[38;5;124m'\u001b[39m\u001b[38;5;124mrelu\u001b[39m\u001b[38;5;124m'\u001b[39m, input_shape\u001b[38;5;241m=\u001b[39m(\u001b[43mlength\u001b[49m(n_features))))\n\u001b[0;32m      2\u001b[0m model\u001b[38;5;241m.\u001b[39madd(Dense(\u001b[38;5;241m1\u001b[39m))\n\u001b[0;32m      3\u001b[0m model\u001b[38;5;241m.\u001b[39mcompile(optimizer\u001b[38;5;241m=\u001b[39m\u001b[38;5;124m'\u001b[39m\u001b[38;5;124madam\u001b[39m\u001b[38;5;124m'\u001b[39m, loss\u001b[38;5;241m=\u001b[39m\u001b[38;5;124m'\u001b[39m\u001b[38;5;124mmse\u001b[39m\u001b[38;5;124m'\u001b[39m)\n",
      "\u001b[1;31mNameError\u001b[0m: name 'length' is not defined"
     ]
    }
   ],
   "source": [
    "model.add(LSTM(100, activation='relu', input_shape=(length(n_features))))\n",
    "model.add(Dense(1))\n",
    "model.compile(optimizer='adam', loss='mse')"
   ]
  },
  {
   "cell_type": "code",
   "execution_count": null,
   "id": "1cea9a8f-6afe-40b4-8639-511f44771613",
   "metadata": {},
   "outputs": [],
   "source": [
    "model.summary()"
   ]
  },
  {
   "cell_type": "code",
   "execution_count": null,
   "id": "eca0a3db-47be-4409-a869-d340633103c9",
   "metadata": {},
   "outputs": [],
   "source": [
    "model.fit_generate(X)"
   ]
  }
 ],
 "metadata": {
  "kernelspec": {
   "display_name": "Python 3 (ipykernel)",
   "language": "python",
   "name": "python3"
  },
  "language_info": {
   "codemirror_mode": {
    "name": "ipython",
    "version": 3
   },
   "file_extension": ".py",
   "mimetype": "text/x-python",
   "name": "python",
   "nbconvert_exporter": "python",
   "pygments_lexer": "ipython3",
   "version": "3.9.12"
  }
 },
 "nbformat": 4,
 "nbformat_minor": 5
}
