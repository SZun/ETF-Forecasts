{
 "cells": [
  {
   "cell_type": "markdown",
   "id": "f3a41dc5-93ba-45ea-946a-2883f2b328b8",
   "metadata": {},
   "source": [
    "## Prophet Model"
   ]
  },
  {
   "cell_type": "markdown",
   "id": "defce9a0-dc4a-4d7c-b0dc-e3d8a1129b99",
   "metadata": {},
   "source": [
    "## Imports"
   ]
  },
  {
   "cell_type": "code",
   "execution_count": null,
   "id": "59a1929f-3ecf-45ea-9102-84d19c1b8096",
   "metadata": {},
   "outputs": [],
   "source": [
    "# Import the required libraries and dependencies\n",
    "import pandas as pd\n",
    "import hvplot.pandas\n",
    "import datetime as dt\n",
    "import holoviews as hv\n",
    "from prophet import Prophet\n",
    "from pathlib import Path\n",
    "from plotting import Plotter\n",
    "%matplotlib inline"
   ]
  },
  {
   "cell_type": "markdown",
   "id": "94087dd0-497c-4c59-a809-f46674aae26c",
   "metadata": {},
   "source": [
    "## Data"
   ]
  },
  {
   "cell_type": "code",
   "execution_count": null,
   "id": "f7b271c2-fbff-4251-b08f-70eeb8587599",
   "metadata": {},
   "outputs": [],
   "source": [
    "etf_data = pd.read_csv(Path(\"Resources/Data/etf_data.csv\"), index_col=\"Date\", infer_datetime_format=True, parse_dates=True)\n",
    "etf_data.head()"
   ]
  },
  {
   "cell_type": "code",
   "execution_count": null,
   "id": "5f82e258-baf1-4103-b35b-e130ca390c63",
   "metadata": {},
   "outputs": [],
   "source": [
    "# Setting global variables\n",
    "tickers = ['ARKK','SPY','FNGU']\n",
    "# Separating ETF DataFrame into separate DataFrames\n",
    "df_ARKK,df_SPY,df_FNGU = [etf_data[i].to_frame(i) for i in tickers]"
   ]
  },
  {
   "cell_type": "code",
   "execution_count": null,
   "id": "a7505c09-9368-4f03-a2e8-c69bbd8336e8",
   "metadata": {},
   "outputs": [],
   "source": [
    "hv.extension(\"bokeh\")\n",
    "\n",
    "df_ARKK['ARKK'].hvplot()"
   ]
  },
  {
   "cell_type": "markdown",
   "id": "ac0f3d14-980c-418f-9298-052339125242",
   "metadata": {},
   "source": [
    "## Create Model"
   ]
  },
  {
   "cell_type": "code",
   "execution_count": null,
   "id": "24c61f0f-8970-4916-a251-0847b4c92cca",
   "metadata": {},
   "outputs": [],
   "source": [
    "# Reset the index so that we recode the columns for Prophet\n",
    "df_ARKK=df_ARKK.reset_index()\n",
    "df_SPY=df_SPY.reset_index()\n",
    "df_FNGU=df_FNGU.reset_index()"
   ]
  },
  {
   "cell_type": "code",
   "execution_count": null,
   "id": "1cccc860-0b4b-4998-87ef-a09de0094eac",
   "metadata": {},
   "outputs": [],
   "source": [
    "# Label the columns ds and y so that the syntax is recognized by Prophet\n",
    "df_ARKK.columns=['ds','y']\n",
    "df_SPY.columns=['ds', 'y']\n",
    "df_FNGU.columns=['ds', 'y']"
   ]
  },
  {
   "cell_type": "code",
   "execution_count": null,
   "id": "784f9030-dda2-465b-b957-73b773f84a0c",
   "metadata": {},
   "outputs": [],
   "source": [
    "# View dataframe shape, and the first and last five rows of the mercado_prophet_df DataFrame\n",
    "display(df_ARKK.tail())\n",
    "display(df_SPY.head())\n",
    "display(df_FNGU.head())"
   ]
  },
  {
   "cell_type": "markdown",
   "id": "d093e720-33c2-4634-ac9d-47d7a6259a0d",
   "metadata": {
    "tags": []
   },
   "source": [
    "## Train Model"
   ]
  },
  {
   "cell_type": "code",
   "execution_count": null,
   "id": "21734758-4330-4c48-bae8-378a7c524ec5",
   "metadata": {},
   "outputs": [],
   "source": [
    "# Sort the DataFrame by `ds` in ascending order\n",
    "df_ARKK=df_ARKK.sort_values(by=['ds'], ascending=True)\n",
    "df_SPY=df_SPY.sort_values(by=['ds'], ascending=True)\n",
    "df_FNGU=df_FNGU.sort_values(by=['ds'], ascending=True)"
   ]
  },
  {
   "cell_type": "code",
   "execution_count": null,
   "id": "61e966e9-3065-48ea-9672-035d23c4703a",
   "metadata": {},
   "outputs": [],
   "source": [
    "# Set `bokeh` to render hvPlot charts\n",
    "hv.extension(\"bokeh\")\n",
    "\n",
    "# Diplay the data using hvPlot\n",
    "df_ARKK.hvplot()"
   ]
  },
  {
   "cell_type": "code",
   "execution_count": null,
   "id": "6ba6583a-fa94-440c-8396-fe205fd6aa81",
   "metadata": {},
   "outputs": [],
   "source": [
    "# Call the Prophet function, store as an object\n",
    "model_ARKK=Prophet()\n",
    "model_SPY=Prophet()\n",
    "model_FNGU=Prophet()"
   ]
  },
  {
   "cell_type": "code",
   "execution_count": null,
   "id": "77ffbac9-95e1-4246-ba6e-82cc8dc1d613",
   "metadata": {},
   "outputs": [],
   "source": [
    "# Fit the Prophet model. Cut last 60 days of data\n",
    "model_ARKK.fit(df_ARKK[:-60])\n",
    "model_SPY.fit(df_SPY[:-60])\n",
    "model_FNGU.fit(df_FNGU[:-60])"
   ]
  },
  {
   "cell_type": "code",
   "execution_count": null,
   "id": "e9c9f592-1bc2-4de4-9f6c-2fc558a1d591",
   "metadata": {},
   "outputs": [],
   "source": [
    "plotter = Plotter('Prophet')"
   ]
  },
  {
   "cell_type": "markdown",
   "id": "d9843bd2-fa37-4c8f-a261-6ae36076b56c",
   "metadata": {},
   "source": [
    "## Forecast Model"
   ]
  },
  {
   "cell_type": "code",
   "execution_count": null,
   "id": "5e3f7efe-7a8f-478d-84d7-ad9925dbec6d",
   "metadata": {},
   "outputs": [],
   "source": [
    "# Create a future dataframe to hold predictions\n",
    "# Make the prediction go out as far as 60 days\n",
    "future_trends_ARKK = model_ARKK.make_future_dataframe(periods=86, freq='D')\n",
    "future_trends_SPY = model_SPY.make_future_dataframe(periods=86, freq='D')\n",
    "future_trends_FNGU = model_FNGU.make_future_dataframe(periods=86, freq='D')"
   ]
  },
  {
   "cell_type": "code",
   "execution_count": null,
   "id": "5f68d12f-4eea-4122-872f-92df8487af9d",
   "metadata": {},
   "outputs": [],
   "source": [
    "# Make the predictions for the trend data using the future_trends DataFrame\n",
    "forecast_trends_ARKK = model_ARKK.predict(future_trends_ARKK)\n",
    "forecast_trends_SPY = model_SPY.predict(future_trends_SPY)\n",
    "forecast_trends_FNGU = model_FNGU.predict(future_trends_FNGU)"
   ]
  },
  {
   "cell_type": "code",
   "execution_count": null,
   "id": "2a74ed3e-8bde-45e6-b963-c4db8a140ca9",
   "metadata": {},
   "outputs": [],
   "source": [
    "def filter_days(df):\n",
    "\n",
    "    df = df[df['ds'].dt.dayofweek < 5]\n",
    "\n",
    "    df.drop(\n",
    "        labels=[1005, 1040],\n",
    "        axis=0,\n",
    "        inplace=True\n",
    "    )\n",
    "    return df\n"
   ]
  },
  {
   "cell_type": "code",
   "execution_count": null,
   "id": "296648d0-d352-48a7-b167-b65829c916e4",
   "metadata": {},
   "outputs": [],
   "source": [
    "forecast_trends_ARKK,forecast_trends_SPY,forecast_trends_FNGU=[filter_days(i) for i in [forecast_trends_ARKK,forecast_trends_SPY,forecast_trends_FNGU]]"
   ]
  },
  {
   "cell_type": "code",
   "execution_count": null,
   "id": "050b525c-b530-4d88-b7b4-e7cc09ae3b40",
   "metadata": {},
   "outputs": [],
   "source": [
    "forecast_trends_FNGU"
   ]
  },
  {
   "cell_type": "code",
   "execution_count": null,
   "id": "ac87f73f-504e-4d74-a40a-338b70cf2f6e",
   "metadata": {},
   "outputs": [],
   "source": [
    "# Plot the Prophet predictions for the ARKK trends data\n",
    "#model_ARKK.plot(forecast_trends_ARKK)\n",
    "# model_SPY.plot(forecast_trends_SPY)\n",
    "# model_FNGU.plot(forecast_trends_FNGU)\n"
   ]
  },
  {
   "cell_type": "code",
   "execution_count": null,
   "id": "3c2d4f2e-e93a-4cfb-8b5d-dfb31b737a99",
   "metadata": {},
   "outputs": [],
   "source": [
    "# Use the plot_components function to visualize the forecast results \n",
    "#figures_ARKK = model_ARKK.plot_components(forecast_trends_ARKK)"
   ]
  },
  {
   "cell_type": "code",
   "execution_count": null,
   "id": "7689985c-d00f-4ba0-8b94-fd65b29d98b1",
   "metadata": {},
   "outputs": [],
   "source": [
    "# At this point, it's useful to set the `datetime` index of the forecast data.\n",
    "forecast_trends_ARKK = forecast_trends_ARKK.set_index(['ds'])\n",
    "forecast_trends_SPY = forecast_trends_SPY.set_index(['ds'])\n",
    "forecast_trends_FNGU = forecast_trends_FNGU.set_index(['ds'])"
   ]
  },
  {
   "cell_type": "markdown",
   "id": "248ccbd5-ecdd-4c36-a1bd-9e31b0f37d31",
   "metadata": {},
   "source": [
    "## Evaluation"
   ]
  },
  {
   "cell_type": "markdown",
   "id": "80e6092c-ba8c-406f-ab44-3ec220a0530d",
   "metadata": {},
   "source": [
    "### ARKK"
   ]
  },
  {
   "cell_type": "code",
   "execution_count": null,
   "id": "f8dc9a5e-390d-411d-b0ce-89994873d005",
   "metadata": {},
   "outputs": [],
   "source": [
    "# From the `forecast_trends` DataFrame, use hvPlot to visualize\n",
    "#  the yhat, yhat_lower, and yhat_upper columns over the last 60 days \n",
    "hv.extension(\"bokeh\")\n",
    "forecast_trends_ARKK[['yhat', 'yhat_lower', 'yhat_upper']].iloc[-60:].hvplot()"
   ]
  },
  {
   "cell_type": "code",
   "execution_count": null,
   "id": "d1879002-22d0-4a88-bd53-22e1e6996661",
   "metadata": {},
   "outputs": [],
   "source": [
    "# Create a `forecast_60_days_ARKK` Dataframe, which contains just forecasts for that month\n",
    "# The DataFrame should include the columns yhat_upper, yhat_lower, and yhat\n",
    "forecast_60_days_ARKK = forecast_trends_ARKK.loc['2022-01-04':'2022-03-30'][['yhat_upper', 'yhat_lower', 'yhat']]\n",
    "# Replace the column names to something less technical sounding\n",
    "forecast_60_days_ARKK = forecast_60_days_ARKK.rename(\n",
    "    columns={\n",
    "        'yhat_upper':'Best Case',\n",
    "        'yhat_lower':'Worst Case',\n",
    "        'yhat':'Most Likely Case'\n",
    "    }\n",
    ")"
   ]
  },
  {
   "cell_type": "markdown",
   "id": "f853c8a2-b73b-4690-a995-41cbd0d78bc1",
   "metadata": {},
   "source": [
    "### SPY"
   ]
  },
  {
   "cell_type": "code",
   "execution_count": null,
   "id": "14bfdeb9-9941-42e9-8f5d-4e1e722a5ee9",
   "metadata": {},
   "outputs": [],
   "source": [
    "# From the `forecast_trends` DataFrame, use hvPlot to visualize\n",
    "#  the yhat, yhat_lower, and yhat_upper columns over the last 60 days \n",
    "hv.extension(\"bokeh\")\n",
    "forecast_trends_SPY[['yhat', 'yhat_lower', 'yhat_upper']].iloc[-60:].hvplot()"
   ]
  },
  {
   "cell_type": "code",
   "execution_count": null,
   "id": "2eb39f90-02c5-476c-aae7-3544ac76e7c8",
   "metadata": {},
   "outputs": [],
   "source": [
    "# Create a `forecast_60_days_ARKK` Dataframe, which contains just forecasts for that month\n",
    "# The DataFrame should include the columns yhat_upper, yhat_lower, and yhat\n",
    "forecast_60_days_SPY = forecast_trends_SPY.loc['2022-01-04':'2022-03-30'][['yhat_upper', 'yhat_lower', 'yhat']]\n",
    "# Replace the column names to something less technical sounding\n",
    "forecast_60_days_SPY = forecast_60_days_SPY.rename(\n",
    "    columns={\n",
    "        'yhat_upper':'Best Case',\n",
    "        'yhat_lower':'Worst Case',\n",
    "        'yhat':'Most Likely Case'\n",
    "    }\n",
    ")"
   ]
  },
  {
   "cell_type": "markdown",
   "id": "9f495413-36e3-4790-9902-4d885fe433c1",
   "metadata": {},
   "source": [
    "### FNGU"
   ]
  },
  {
   "cell_type": "code",
   "execution_count": null,
   "id": "d08af75a-b27a-4ff5-ae22-8fff031319a8",
   "metadata": {},
   "outputs": [],
   "source": [
    "# From the `forecast_trends` DataFrame, use hvPlot to visualize\n",
    "#  the yhat, yhat_lower, and yhat_upper columns over the last 60 days \n",
    "hv.extension(\"bokeh\")\n",
    "forecast_trends_FNGU[['yhat', 'yhat_lower', 'yhat_upper']].iloc[-60:].hvplot()"
   ]
  },
  {
   "cell_type": "code",
   "execution_count": null,
   "id": "ec513d7d-ab2a-4e83-b874-949ab5acb00b",
   "metadata": {},
   "outputs": [],
   "source": [
    "# Create a `forecast_60_days_ARKK` Dataframe, which contains just forecasts for that month\n",
    "# The DataFrame should include the columns yhat_upper, yhat_lower, and yhat\n",
    "forecast_60_days_FNGU = forecast_trends_FNGU.loc['2022-01-04':'2022-03-30'][['yhat_upper', 'yhat_lower', 'yhat']]\n",
    "# Replace the column names to something less technical sounding\n",
    "forecast_60_days_FNGU = forecast_60_days_FNGU.rename(\n",
    "    columns={\n",
    "        'yhat_upper':'Best Case',\n",
    "        'yhat_lower':'Worst Case',\n",
    "        'yhat':'Most Likely Case'\n",
    "    }\n",
    ")\n"
   ]
  },
  {
   "cell_type": "markdown",
   "id": "d4878348-27fd-474e-a88d-cb24439d1098",
   "metadata": {},
   "source": [
    "### Mean Absolute Error"
   ]
  },
  {
   "cell_type": "code",
   "execution_count": null,
   "id": "1c077b33-bff3-4038-8d5b-9fb4ab1b72c8",
   "metadata": {},
   "outputs": [],
   "source": [
    "forecast_60_days_ARKK.mean()"
   ]
  },
  {
   "cell_type": "code",
   "execution_count": null,
   "id": "f0ab9a12-26a3-4ef1-9d9f-f4b10cac18b7",
   "metadata": {},
   "outputs": [],
   "source": [
    "forecast_60_days_SPY.mean()"
   ]
  },
  {
   "cell_type": "code",
   "execution_count": null,
   "id": "82adddb7-d141-4472-952e-2857df9bd00f",
   "metadata": {},
   "outputs": [],
   "source": [
    "forecast_60_days_FNGU.mean()"
   ]
  },
  {
   "cell_type": "markdown",
   "id": "11f590a2-a5eb-4afa-9bba-dccf9405c4ff",
   "metadata": {},
   "source": [
    "### Mean Squared Error"
   ]
  },
  {
   "cell_type": "markdown",
   "id": "19b031d8-5afc-490d-af33-d21a1a8a285f",
   "metadata": {},
   "source": [
    "### Root Mean Squared Error"
   ]
  },
  {
   "cell_type": "markdown",
   "id": "1ee67f26-d987-46a2-9b12-90d34982b746",
   "metadata": {},
   "source": [
    "## Results"
   ]
  },
  {
   "cell_type": "markdown",
   "id": "84af2a14-8e54-4bb6-bd22-3b25e1a08e8b",
   "metadata": {},
   "source": [
    "### Actual vs Forecast"
   ]
  },
  {
   "cell_type": "code",
   "execution_count": null,
   "id": "51ecab04-0671-4ced-9e2c-5fec9babf4e0",
   "metadata": {},
   "outputs": [],
   "source": [
    "# Helper method to display DataFrame head and tail\n",
    "display_head_tail = lambda df: display(df.head(),df.tail())\n",
    "# Variable for titles\n",
    "avf = 'Actual vs Forecasted'\n",
    "# Helper method to get titles\n",
    "get_avf_title = lambda index: tickers[index] + ' ' + avf\n"
   ]
  },
  {
   "cell_type": "code",
   "execution_count": null,
   "id": "c471ba3e-aba5-4b39-b2b8-97673b15068d",
   "metadata": {},
   "outputs": [],
   "source": [
    "def get_actual_forecasted(df, ticker, forecast_60_days):\n",
    "    \n",
    "\n",
    "    df.index=df['ds']\n",
    "    df_actual=df[-60:]\n",
    "\n",
    "\n",
    "    actual_forecasted = pd.concat([forecast_60_days, df_actual], axis=1, join=\"inner\")\n",
    "\n",
    "    actual_forecasted.drop(columns=['Best Case', 'Most Likely Case', 'ds'], inplace=True)\n",
    "    actual_forecasted.rename(columns={'Worst Case':f'{ticker} Forecasted','y':f'{ticker} Actual'}, inplace=True)\n",
    "    actual_forecasted[f'{ticker} Forecasted']= actual_forecasted[f'{ticker} Forecasted'].apply(lambda x: round(x,2))\n",
    "    \n",
    "    return actual_forecasted\n"
   ]
  },
  {
   "cell_type": "code",
   "execution_count": null,
   "id": "5dd3fe09-dd31-44ca-8ee3-ec21fcd32c55",
   "metadata": {},
   "outputs": [],
   "source": [
    "ARKK_actual_forecasted=get_actual_forecasted(df_ARKK, 'ARKK', forecast_60_days_ARKK)"
   ]
  },
  {
   "cell_type": "code",
   "execution_count": null,
   "id": "e12d20bf-cfff-43c0-a8dc-2d7108545e2b",
   "metadata": {},
   "outputs": [],
   "source": [
    "# Plotting ARKK actual vs forecasted adjusted closing prices\n",
    "plotter.line(ARKK_actual_forecasted, get_avf_title(0)) "
   ]
  },
  {
   "cell_type": "code",
   "execution_count": null,
   "id": "a3420eb6-af0b-4661-8fd9-4b048d3db66e",
   "metadata": {},
   "outputs": [],
   "source": [
    "SPY_actual_forecasted=get_actual_forecasted(df_SPY, 'SPY', forecast_60_days_SPY)"
   ]
  },
  {
   "cell_type": "code",
   "execution_count": null,
   "id": "1a06e569-168c-41d9-8e71-834b6fd97290",
   "metadata": {},
   "outputs": [],
   "source": [
    "# Plotting ARKK actual vs forecasted adjusted closing prices\n",
    "plotter.line(SPY_actual_forecasted, get_avf_title(1)) "
   ]
  },
  {
   "cell_type": "code",
   "execution_count": null,
   "id": "de6e695d-b4c1-4e95-9d16-895e0e504f1d",
   "metadata": {},
   "outputs": [],
   "source": [
    "FNGU_actual_forecasted=get_actual_forecasted(df_FNGU, 'FNGU', forecast_60_days_FNGU)"
   ]
  },
  {
   "cell_type": "code",
   "execution_count": null,
   "id": "01254646-47e7-4d07-bddb-59c29a36e960",
   "metadata": {},
   "outputs": [],
   "source": [
    "# Plotting ARKK actual vs forecasted adjusted closing prices\n",
    "plotter.line(FNGU_actual_forecasted, get_avf_title(2)) "
   ]
  },
  {
   "cell_type": "markdown",
   "id": "2099350f-fcb1-4f48-9964-8f4ad642c015",
   "metadata": {},
   "source": [
    "### Training Data vs Actual vs Forecast"
   ]
  },
  {
   "cell_type": "markdown",
   "id": "65151212-a047-4f20-b331-b98fe0cf1514",
   "metadata": {},
   "source": [
    "## Write-Up"
   ]
  },
  {
   "cell_type": "markdown",
   "id": "cd7227c3-7055-4f98-bc19-afdc0ef485c2",
   "metadata": {
    "tags": []
   },
   "source": [
    "## Conclusion"
   ]
  }
 ],
 "metadata": {
  "kernelspec": {
   "display_name": "Python 3 (ipykernel)",
   "language": "python",
   "name": "python3"
  },
  "language_info": {
   "codemirror_mode": {
    "name": "ipython",
    "version": 3
   },
   "file_extension": ".py",
   "mimetype": "text/x-python",
   "name": "python",
   "nbconvert_exporter": "python",
   "pygments_lexer": "ipython3",
   "version": "3.9.13"
  }
 },
 "nbformat": 4,
 "nbformat_minor": 5
}
