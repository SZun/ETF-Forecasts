{
 "cells": [
  {
   "cell_type": "markdown",
   "metadata": {
    "id": "--vHyYAZdV6U"
   },
   "source": [
    "## LSTM RNN"
   ]
  },
  {
   "cell_type": "code",
   "execution_count": 536,
   "metadata": {
    "id": "JRK1uedMi7q_"
   },
   "outputs": [],
   "source": [
    "import warnings\n",
    "import numpy as np\n",
    "import pandas as pd\n",
    "import hvplot.pandas\n",
    "from sklearn.preprocessing import MinMaxScaler\n",
    "from tensorflow.keras.models import Sequential\n",
    "from tensorflow.keras.layers import Dense, LSTM\n",
    "import yfinance as yf\n",
    "import matplotlib.pyplot as plt"
   ]
  },
  {
   "cell_type": "code",
   "execution_count": 537,
   "metadata": {},
   "outputs": [],
   "source": [
    "warnings.filterwarnings('ignore')"
   ]
  },
  {
   "cell_type": "code",
   "execution_count": 538,
   "metadata": {
    "colab": {
     "base_uri": "https://localhost:8080/"
    },
    "id": "CIMDOWnIleFE",
    "outputId": "2b1609df-5fb4-46de-b3c0-865b5bf41fb6"
   },
   "outputs": [
    {
     "name": "stdout",
     "output_type": "stream",
     "text": [
      "[*********************100%***********************]  1 of 1 completed\n"
     ]
    }
   ],
   "source": [
    "aark = pd.DataFrame(yf.download('ARKK', '2020-03-01','2022-03-31')['Adj Close'].apply(lambda x: round(x,2)))"
   ]
  },
  {
   "cell_type": "code",
   "execution_count": 539,
   "metadata": {
    "colab": {
     "base_uri": "https://localhost:8080/",
     "height": 455
    },
    "id": "0VAxLaFAoVGi",
    "outputId": "c5ec50a0-2cd0-4957-ae23-7ad893ea26d6"
   },
   "outputs": [
    {
     "data": {
      "text/html": [
       "<div>\n",
       "<style scoped>\n",
       "    .dataframe tbody tr th:only-of-type {\n",
       "        vertical-align: middle;\n",
       "    }\n",
       "\n",
       "    .dataframe tbody tr th {\n",
       "        vertical-align: top;\n",
       "    }\n",
       "\n",
       "    .dataframe thead th {\n",
       "        text-align: right;\n",
       "    }\n",
       "</style>\n",
       "<table border=\"1\" class=\"dataframe\">\n",
       "  <thead>\n",
       "    <tr style=\"text-align: right;\">\n",
       "      <th></th>\n",
       "      <th>Adj Close</th>\n",
       "    </tr>\n",
       "    <tr>\n",
       "      <th>Date</th>\n",
       "      <th></th>\n",
       "    </tr>\n",
       "  </thead>\n",
       "  <tbody>\n",
       "    <tr>\n",
       "      <th>2020-03-02</th>\n",
       "      <td>52.79</td>\n",
       "    </tr>\n",
       "    <tr>\n",
       "      <th>2020-03-03</th>\n",
       "      <td>51.73</td>\n",
       "    </tr>\n",
       "    <tr>\n",
       "      <th>2020-03-04</th>\n",
       "      <td>53.49</td>\n",
       "    </tr>\n",
       "    <tr>\n",
       "      <th>2020-03-05</th>\n",
       "      <td>52.24</td>\n",
       "    </tr>\n",
       "    <tr>\n",
       "      <th>2020-03-06</th>\n",
       "      <td>50.87</td>\n",
       "    </tr>\n",
       "  </tbody>\n",
       "</table>\n",
       "</div>"
      ],
      "text/plain": [
       "            Adj Close\n",
       "Date                 \n",
       "2020-03-02      52.79\n",
       "2020-03-03      51.73\n",
       "2020-03-04      53.49\n",
       "2020-03-05      52.24\n",
       "2020-03-06      50.87"
      ]
     },
     "metadata": {},
     "output_type": "display_data"
    },
    {
     "data": {
      "text/html": [
       "<div>\n",
       "<style scoped>\n",
       "    .dataframe tbody tr th:only-of-type {\n",
       "        vertical-align: middle;\n",
       "    }\n",
       "\n",
       "    .dataframe tbody tr th {\n",
       "        vertical-align: top;\n",
       "    }\n",
       "\n",
       "    .dataframe thead th {\n",
       "        text-align: right;\n",
       "    }\n",
       "</style>\n",
       "<table border=\"1\" class=\"dataframe\">\n",
       "  <thead>\n",
       "    <tr style=\"text-align: right;\">\n",
       "      <th></th>\n",
       "      <th>Adj Close</th>\n",
       "    </tr>\n",
       "    <tr>\n",
       "      <th>Date</th>\n",
       "      <th></th>\n",
       "    </tr>\n",
       "  </thead>\n",
       "  <tbody>\n",
       "    <tr>\n",
       "      <th>2022-03-24</th>\n",
       "      <td>66.40</td>\n",
       "    </tr>\n",
       "    <tr>\n",
       "      <th>2022-03-25</th>\n",
       "      <td>64.51</td>\n",
       "    </tr>\n",
       "    <tr>\n",
       "      <th>2022-03-28</th>\n",
       "      <td>67.06</td>\n",
       "    </tr>\n",
       "    <tr>\n",
       "      <th>2022-03-29</th>\n",
       "      <td>71.39</td>\n",
       "    </tr>\n",
       "    <tr>\n",
       "      <th>2022-03-30</th>\n",
       "      <td>68.68</td>\n",
       "    </tr>\n",
       "  </tbody>\n",
       "</table>\n",
       "</div>"
      ],
      "text/plain": [
       "            Adj Close\n",
       "Date                 \n",
       "2022-03-24      66.40\n",
       "2022-03-25      64.51\n",
       "2022-03-28      67.06\n",
       "2022-03-29      71.39\n",
       "2022-03-30      68.68"
      ]
     },
     "metadata": {},
     "output_type": "display_data"
    }
   ],
   "source": [
    "display(aark.head(),aark.tail())"
   ]
  },
  {
   "cell_type": "code",
   "execution_count": 540,
   "metadata": {
    "colab": {
     "base_uri": "https://localhost:8080/",
     "height": 575
    },
    "id": "N00O3D7NrWvU",
    "outputId": "71a276b0-f32f-42ed-d858-dc3a639980c8"
   },
   "outputs": [
    {
     "data": {},
     "metadata": {},
     "output_type": "display_data"
    },
    {
     "data": {
      "application/vnd.holoviews_exec.v0+json": "",
      "text/html": [
       "<div id='12622'>\n",
       "  <div class=\"bk-root\" id=\"276906d7-56b4-49ff-88b4-2acad7222e9e\" data-root-id=\"12622\"></div>\n",
       "</div>\n",
       "<script type=\"application/javascript\">(function(root) {\n",
       "  function embed_document(root) {\n",
       "    var docs_json = {\"47109e42-c835-41ff-aa7c-dfa895c56964\":{\"defs\":[{\"extends\":null,\"module\":null,\"name\":\"ReactiveHTML1\",\"overrides\":[],\"properties\":[]},{\"extends\":null,\"module\":null,\"name\":\"FlexBox1\",\"overrides\":[],\"properties\":[{\"default\":\"flex-start\",\"kind\":null,\"name\":\"align_content\"},{\"default\":\"flex-start\",\"kind\":null,\"name\":\"align_items\"},{\"default\":\"row\",\"kind\":null,\"name\":\"flex_direction\"},{\"default\":\"wrap\",\"kind\":null,\"name\":\"flex_wrap\"},{\"default\":\"flex-start\",\"kind\":null,\"name\":\"justify_content\"}]},{\"extends\":null,\"module\":null,\"name\":\"GridStack1\",\"overrides\":[],\"properties\":[{\"default\":\"warn\",\"kind\":null,\"name\":\"mode\"},{\"default\":null,\"kind\":null,\"name\":\"ncols\"},{\"default\":null,\"kind\":null,\"name\":\"nrows\"},{\"default\":true,\"kind\":null,\"name\":\"allow_resize\"},{\"default\":true,\"kind\":null,\"name\":\"allow_drag\"},{\"default\":[],\"kind\":null,\"name\":\"state\"}]},{\"extends\":null,\"module\":null,\"name\":\"click1\",\"overrides\":[],\"properties\":[{\"default\":\"\",\"kind\":null,\"name\":\"terminal_output\"},{\"default\":\"\",\"kind\":null,\"name\":\"debug_name\"},{\"default\":0,\"kind\":null,\"name\":\"clears\"}]},{\"extends\":null,\"module\":null,\"name\":\"NotificationAreaBase1\",\"overrides\":[],\"properties\":[{\"default\":\"bottom-right\",\"kind\":null,\"name\":\"position\"},{\"default\":0,\"kind\":null,\"name\":\"_clear\"}]},{\"extends\":null,\"module\":null,\"name\":\"NotificationArea1\",\"overrides\":[],\"properties\":[{\"default\":[],\"kind\":null,\"name\":\"notifications\"},{\"default\":\"bottom-right\",\"kind\":null,\"name\":\"position\"},{\"default\":0,\"kind\":null,\"name\":\"_clear\"},{\"default\":[{\"background\":\"#ffc107\",\"icon\":{\"className\":\"fas fa-exclamation-triangle\",\"color\":\"white\",\"tagName\":\"i\"},\"type\":\"warning\"},{\"background\":\"#007bff\",\"icon\":{\"className\":\"fas fa-info-circle\",\"color\":\"white\",\"tagName\":\"i\"},\"type\":\"info\"}],\"kind\":null,\"name\":\"types\"}]},{\"extends\":null,\"module\":null,\"name\":\"Notification\",\"overrides\":[],\"properties\":[{\"default\":null,\"kind\":null,\"name\":\"background\"},{\"default\":3000,\"kind\":null,\"name\":\"duration\"},{\"default\":null,\"kind\":null,\"name\":\"icon\"},{\"default\":\"\",\"kind\":null,\"name\":\"message\"},{\"default\":null,\"kind\":null,\"name\":\"notification_type\"},{\"default\":false,\"kind\":null,\"name\":\"_destroyed\"}]},{\"extends\":null,\"module\":null,\"name\":\"TemplateActions1\",\"overrides\":[],\"properties\":[{\"default\":0,\"kind\":null,\"name\":\"open_modal\"},{\"default\":0,\"kind\":null,\"name\":\"close_modal\"}]},{\"extends\":null,\"module\":null,\"name\":\"MaterialTemplateActions1\",\"overrides\":[],\"properties\":[{\"default\":0,\"kind\":null,\"name\":\"open_modal\"},{\"default\":0,\"kind\":null,\"name\":\"close_modal\"}]}],\"roots\":{\"references\":[{\"attributes\":{\"base\":24,\"mantissas\":[1,2,4,6,8,12],\"max_interval\":43200000.0,\"min_interval\":3600000.0,\"num_minor_ticks\":0},\"id\":\"12684\",\"type\":\"AdaptiveTicker\"},{\"attributes\":{},\"id\":\"12671\",\"type\":\"AllLabels\"},{\"attributes\":{\"axis\":{\"id\":\"12636\"},\"coordinates\":null,\"grid_line_color\":null,\"group\":null,\"ticker\":null},\"id\":\"12639\",\"type\":\"Grid\"},{\"attributes\":{\"coordinates\":null,\"data_source\":{\"id\":\"12657\"},\"glyph\":{\"id\":\"12660\"},\"group\":null,\"hover_glyph\":null,\"muted_glyph\":{\"id\":\"12662\"},\"nonselection_glyph\":{\"id\":\"12661\"},\"selection_glyph\":{\"id\":\"12665\"},\"view\":{\"id\":\"12664\"}},\"id\":\"12663\",\"type\":\"GlyphRenderer\"},{\"attributes\":{},\"id\":\"12667\",\"type\":\"DatetimeTickFormatter\"},{\"attributes\":{},\"id\":\"12648\",\"type\":\"ResetTool\"},{\"attributes\":{},\"id\":\"12645\",\"type\":\"PanTool\"},{\"attributes\":{\"axis\":{\"id\":\"12640\"},\"coordinates\":null,\"dimension\":1,\"grid_line_color\":null,\"group\":null,\"ticker\":null},\"id\":\"12643\",\"type\":\"Grid\"},{\"attributes\":{\"days\":[1,4,7,10,13,16,19,22,25,28]},\"id\":\"12686\",\"type\":\"DaysTicker\"},{\"attributes\":{},\"id\":\"12668\",\"type\":\"AllLabels\"},{\"attributes\":{\"days\":[1,15]},\"id\":\"12688\",\"type\":\"DaysTicker\"},{\"attributes\":{\"days\":[1,2,3,4,5,6,7,8,9,10,11,12,13,14,15,16,17,18,19,20,21,22,23,24,25,26,27,28,29,30,31]},\"id\":\"12685\",\"type\":\"DaysTicker\"},{\"attributes\":{\"overlay\":{\"id\":\"12649\"}},\"id\":\"12647\",\"type\":\"BoxZoomTool\"},{\"attributes\":{\"line_color\":\"#30a2da\",\"line_width\":2,\"x\":{\"field\":\"Date\"},\"y\":{\"field\":\"Adj Close\"}},\"id\":\"12660\",\"type\":\"Line\"},{\"attributes\":{\"line_alpha\":0.1,\"line_color\":\"#30a2da\",\"line_width\":2,\"x\":{\"field\":\"Date\"},\"y\":{\"field\":\"Adj Close\"}},\"id\":\"12661\",\"type\":\"Line\"},{\"attributes\":{\"mantissas\":[1,2,5],\"max_interval\":500.0,\"num_minor_ticks\":0},\"id\":\"12682\",\"type\":\"AdaptiveTicker\"},{\"attributes\":{\"end\":1648598400000.0,\"reset_end\":1648598400000.0,\"reset_start\":1583107200000.0,\"start\":1583107200000.0,\"tags\":[[[\"Date\",\"Date\",null]]]},\"id\":\"12624\",\"type\":\"Range1d\"},{\"attributes\":{\"margin\":[5,5,5,5],\"name\":\"HSpacer09473\",\"sizing_mode\":\"stretch_width\"},\"id\":\"12623\",\"type\":\"Spacer\"},{\"attributes\":{\"line_alpha\":0.2,\"line_color\":\"#30a2da\",\"line_width\":2,\"x\":{\"field\":\"Date\"},\"y\":{\"field\":\"Adj Close\"}},\"id\":\"12662\",\"type\":\"Line\"},{\"attributes\":{},\"id\":\"12670\",\"type\":\"BasicTickFormatter\"},{\"attributes\":{},\"id\":\"12658\",\"type\":\"Selection\"},{\"attributes\":{\"source\":{\"id\":\"12657\"}},\"id\":\"12664\",\"type\":\"CDSView\"},{\"attributes\":{},\"id\":\"12644\",\"type\":\"SaveTool\"},{\"attributes\":{\"axis_label\":\"Date\",\"coordinates\":null,\"formatter\":{\"id\":\"12667\"},\"group\":null,\"major_label_policy\":{\"id\":\"12668\"},\"ticker\":{\"id\":\"12637\"}},\"id\":\"12636\",\"type\":\"DatetimeAxis\"},{\"attributes\":{\"tools\":[{\"id\":\"12626\"},{\"id\":\"12644\"},{\"id\":\"12645\"},{\"id\":\"12646\"},{\"id\":\"12647\"},{\"id\":\"12648\"}]},\"id\":\"12650\",\"type\":\"Toolbar\"},{\"attributes\":{\"callback\":null,\"formatters\":{\"@{Date}\":\"datetime\"},\"renderers\":[{\"id\":\"12663\"}],\"tags\":[\"hv_created\"],\"tooltips\":[[\"Date\",\"@{Date}{%F %T}\"],[\"Adj Close\",\"@{Adj_Close}\"]]},\"id\":\"12626\",\"type\":\"HoverTool\"},{\"attributes\":{},\"id\":\"12634\",\"type\":\"LinearScale\"},{\"attributes\":{\"months\":[0,6]},\"id\":\"12692\",\"type\":\"MonthsTicker\"},{\"attributes\":{},\"id\":\"12646\",\"type\":\"WheelZoomTool\"},{\"attributes\":{\"axis_label\":\"Adj Close\",\"coordinates\":null,\"formatter\":{\"id\":\"12670\"},\"group\":null,\"major_label_policy\":{\"id\":\"12671\"},\"ticker\":{\"id\":\"12641\"}},\"id\":\"12640\",\"type\":\"LinearAxis\"},{\"attributes\":{},\"id\":\"12679\",\"type\":\"UnionRenderers\"},{\"attributes\":{\"margin\":[5,5,5,5],\"name\":\"HSpacer09474\",\"sizing_mode\":\"stretch_width\"},\"id\":\"12694\",\"type\":\"Spacer\"},{\"attributes\":{\"days\":[1,8,15,22]},\"id\":\"12687\",\"type\":\"DaysTicker\"},{\"attributes\":{},\"id\":\"12641\",\"type\":\"BasicTicker\"},{\"attributes\":{\"num_minor_ticks\":5,\"tickers\":[{\"id\":\"12682\"},{\"id\":\"12683\"},{\"id\":\"12684\"},{\"id\":\"12685\"},{\"id\":\"12686\"},{\"id\":\"12687\"},{\"id\":\"12688\"},{\"id\":\"12689\"},{\"id\":\"12690\"},{\"id\":\"12691\"},{\"id\":\"12692\"},{\"id\":\"12693\"}]},\"id\":\"12637\",\"type\":\"DatetimeTicker\"},{\"attributes\":{\"months\":[0,2,4,6,8,10]},\"id\":\"12690\",\"type\":\"MonthsTicker\"},{\"attributes\":{\"data\":{\"Adj Close\":{\"__ndarray__\":\"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\",\"dtype\":\"float64\",\"order\":\"little\",\"shape\":[526]},\"Adj_Close\":{\"__ndarray__\":\"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\",\"dtype\":\"float64\",\"order\":\"little\",\"shape\":[526]},\"Date\":{\"__ndarray__\":\"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\",\"dtype\":\"float64\",\"order\":\"little\",\"shape\":[526]}},\"selected\":{\"id\":\"12658\"},\"selection_policy\":{\"id\":\"12679\"}},\"id\":\"12657\",\"type\":\"ColumnDataSource\"},{\"attributes\":{\"base\":60,\"mantissas\":[1,2,5,10,15,20,30],\"max_interval\":1800000.0,\"min_interval\":1000.0,\"num_minor_ticks\":0},\"id\":\"12683\",\"type\":\"AdaptiveTicker\"},{\"attributes\":{\"months\":[0,1,2,3,4,5,6,7,8,9,10,11]},\"id\":\"12689\",\"type\":\"MonthsTicker\"},{\"attributes\":{\"end\":167.44400000000002,\"reset_end\":167.44400000000002,\"reset_start\":21.715999999999998,\"start\":21.715999999999998,\"tags\":[[[\"Adj Close\",\"Adj Close\",null]]]},\"id\":\"12625\",\"type\":\"Range1d\"},{\"attributes\":{\"line_color\":\"#30a2da\",\"line_width\":2,\"x\":{\"field\":\"Date\"},\"y\":{\"field\":\"Adj Close\"}},\"id\":\"12665\",\"type\":\"Line\"},{\"attributes\":{\"months\":[0,4,8]},\"id\":\"12691\",\"type\":\"MonthsTicker\"},{\"attributes\":{\"below\":[{\"id\":\"12636\"}],\"center\":[{\"id\":\"12639\"},{\"id\":\"12643\"}],\"height\":300,\"left\":[{\"id\":\"12640\"}],\"margin\":[5,5,5,5],\"min_border_bottom\":10,\"min_border_left\":10,\"min_border_right\":10,\"min_border_top\":10,\"renderers\":[{\"id\":\"12663\"}],\"sizing_mode\":\"fixed\",\"title\":{\"id\":\"12628\"},\"toolbar\":{\"id\":\"12650\"},\"width\":700,\"x_range\":{\"id\":\"12624\"},\"x_scale\":{\"id\":\"12632\"},\"y_range\":{\"id\":\"12625\"},\"y_scale\":{\"id\":\"12634\"}},\"id\":\"12627\",\"subtype\":\"Figure\",\"type\":\"Plot\"},{\"attributes\":{},\"id\":\"12693\",\"type\":\"YearsTicker\"},{\"attributes\":{\"bottom_units\":\"screen\",\"coordinates\":null,\"fill_alpha\":0.5,\"fill_color\":\"lightgrey\",\"group\":null,\"left_units\":\"screen\",\"level\":\"overlay\",\"line_alpha\":1.0,\"line_color\":\"black\",\"line_dash\":[4,4],\"line_width\":2,\"right_units\":\"screen\",\"syncable\":false,\"top_units\":\"screen\"},\"id\":\"12649\",\"type\":\"BoxAnnotation\"},{\"attributes\":{},\"id\":\"12632\",\"type\":\"LinearScale\"},{\"attributes\":{\"coordinates\":null,\"group\":null,\"text_color\":\"black\",\"text_font_size\":\"12pt\"},\"id\":\"12628\",\"type\":\"Title\"},{\"attributes\":{\"children\":[{\"id\":\"12623\"},{\"id\":\"12627\"},{\"id\":\"12694\"}],\"margin\":[0,0,0,0],\"name\":\"Row09469\",\"tags\":[\"embedded\"]},\"id\":\"12622\",\"type\":\"Row\"}],\"root_ids\":[\"12622\"]},\"title\":\"Bokeh Application\",\"version\":\"2.4.3\"}};\n",
       "    var render_items = [{\"docid\":\"47109e42-c835-41ff-aa7c-dfa895c56964\",\"root_ids\":[\"12622\"],\"roots\":{\"12622\":\"276906d7-56b4-49ff-88b4-2acad7222e9e\"}}];\n",
       "    root.Bokeh.embed.embed_items_notebook(docs_json, render_items);\n",
       "    for (const render_item of render_items) {\n",
       "      for (const root_id of render_item.root_ids) {\n",
       "\tconst id_el = document.getElementById(root_id)\n",
       "\tif (id_el.children.length && (id_el.children[0].className === 'bk-root')) {\n",
       "\t  const root_el = id_el.children[0]\n",
       "\t  root_el.id = root_el.id + '-rendered'\n",
       "\t}\n",
       "      }\n",
       "    }\n",
       "  }\n",
       "  if (root.Bokeh !== undefined && root.Bokeh.Panel !== undefined) {\n",
       "    embed_document(root);\n",
       "  } else {\n",
       "    var attempts = 0;\n",
       "    var timer = setInterval(function(root) {\n",
       "      if (root.Bokeh !== undefined && root.Bokeh.Panel !== undefined) {\n",
       "        clearInterval(timer);\n",
       "        embed_document(root);\n",
       "      } else if (document.readyState == \"complete\") {\n",
       "        attempts++;\n",
       "        if (attempts > 200) {\n",
       "          clearInterval(timer);\n",
       "          console.log(\"Bokeh: ERROR: Unable to run BokehJS code because BokehJS library is missing\");\n",
       "        }\n",
       "      }\n",
       "    }, 25, root)\n",
       "  }\n",
       "})(window);</script>"
      ],
      "text/plain": [
       ":Curve   [Date]   (Adj Close)"
      ]
     },
     "execution_count": 540,
     "metadata": {
      "application/vnd.holoviews_exec.v0+json": {
       "id": "12622"
      }
     },
     "output_type": "execute_result"
    }
   ],
   "source": [
    "aark.hvplot()"
   ]
  },
  {
   "cell_type": "code",
   "execution_count": 541,
   "metadata": {
    "colab": {
     "base_uri": "https://localhost:8080/"
    },
    "id": "YAt13rf9togf",
    "outputId": "92ce1d92-9475-4ded-ae87-83d5df5a7bd5"
   },
   "outputs": [],
   "source": [
    "training_data_len = len(aark[:-60])"
   ]
  },
  {
   "cell_type": "code",
   "execution_count": 542,
   "metadata": {
    "colab": {
     "base_uri": "https://localhost:8080/"
    },
    "id": "6jGHfpjIvhn0",
    "outputId": "73715f95-8c42-4315-eea3-060be0414ff4"
   },
   "outputs": [],
   "source": [
    "scaler = MinMaxScaler(feature_range=(0,1))\n",
    "scaled_data = scaler.fit_transform(aark.values)"
   ]
  },
  {
   "cell_type": "code",
   "execution_count": 543,
   "metadata": {
    "colab": {
     "base_uri": "https://localhost:8080/"
    },
    "id": "eAReFKlyxSdV",
    "outputId": "d31a6e14-d802-40d8-d7d6-5ec42e22cc9a"
   },
   "outputs": [],
   "source": [
    "train_data, test_data = scaled_data[0:training_data_len, :], scaled_data[training_data_len - 60:, :]\n",
    "\n",
    "X_train,X_test, y_train, y_test = [],[],[],aark.values[training_data_len:, :]\n",
    "\n",
    "for i in range(60, len(train_data)):\n",
    "    X_train.append(train_data[i-60:i, 0])\n",
    "    y_train.append(train_data[i,0])\n",
    "    \n",
    "for i in range(60, len(test_data)):\n",
    "    X_test.append(test_data[i-60:i, 0])"
   ]
  },
  {
   "cell_type": "code",
   "execution_count": 544,
   "metadata": {
    "id": "gChz0Omt_5Xb"
   },
   "outputs": [],
   "source": [
    "X_train, y_train = np.array(X_train), np.array(y_train)\n",
    "X_test = np.array(X_test)\n",
    "X_test = np.reshape(X_test, (X_test.shape[0], X_test.shape[1], 1 ))"
   ]
  },
  {
   "cell_type": "code",
   "execution_count": 545,
   "metadata": {},
   "outputs": [],
   "source": [
    "model = Sequential()"
   ]
  },
  {
   "cell_type": "code",
   "execution_count": 546,
   "metadata": {
    "id": "d1p4H47lHso0"
   },
   "outputs": [],
   "source": [
    "model.add(LSTM(50, return_sequences=True, input_shape=(X_train.shape[1], 1)))\n",
    "model.add(LSTM(50, return_sequences=False))\n",
    "model.add(Dense(25))\n",
    "model.add(Dense(1))"
   ]
  },
  {
   "cell_type": "code",
   "execution_count": 547,
   "metadata": {},
   "outputs": [
    {
     "name": "stdout",
     "output_type": "stream",
     "text": [
      "Model: \"sequential_22\"\n",
      "_________________________________________________________________\n",
      " Layer (type)                Output Shape              Param #   \n",
      "=================================================================\n",
      " lstm_44 (LSTM)              (None, 60, 50)            10400     \n",
      "                                                                 \n",
      " lstm_45 (LSTM)              (None, 50)                20200     \n",
      "                                                                 \n",
      " dense_44 (Dense)            (None, 25)                1275      \n",
      "                                                                 \n",
      " dense_45 (Dense)            (None, 1)                 26        \n",
      "                                                                 \n",
      "=================================================================\n",
      "Total params: 31,901\n",
      "Trainable params: 31,901\n",
      "Non-trainable params: 0\n",
      "_________________________________________________________________\n"
     ]
    }
   ],
   "source": [
    "model.summary()"
   ]
  },
  {
   "cell_type": "code",
   "execution_count": 548,
   "metadata": {
    "id": "nIgdv2cMK1ej"
   },
   "outputs": [],
   "source": [
    "model.compile(optimizer='adam', loss='mse')"
   ]
  },
  {
   "cell_type": "code",
   "execution_count": 549,
   "metadata": {
    "colab": {
     "base_uri": "https://localhost:8080/"
    },
    "id": "ZA2EuB6zMIbi",
    "outputId": "add8f863-51cc-4082-f564-215ac9628ae5"
   },
   "outputs": [
    {
     "name": "stdout",
     "output_type": "stream",
     "text": [
      "406/406 [==============================] - 6s 10ms/step - loss: 0.0077\n"
     ]
    },
    {
     "data": {
      "text/plain": [
       "<keras.callbacks.History at 0x1d6bb0a0130>"
      ]
     },
     "execution_count": 549,
     "metadata": {},
     "output_type": "execute_result"
    }
   ],
   "source": [
    "model.fit(X_train, y_train, batch_size=1, epochs=1)"
   ]
  },
  {
   "cell_type": "code",
   "execution_count": 550,
   "metadata": {
    "colab": {
     "base_uri": "https://localhost:8080/"
    },
    "id": "EHRweClsPWp5",
    "outputId": "5cce878f-ac99-4744-afd4-2a1ca885f3f8"
   },
   "outputs": [
    {
     "name": "stdout",
     "output_type": "stream",
     "text": [
      "2/2 [==============================] - 0s 7ms/step\n"
     ]
    }
   ],
   "source": [
    "predictions = model.predict(X_test) "
   ]
  },
  {
   "cell_type": "code",
   "execution_count": 552,
   "metadata": {
    "colab": {
     "base_uri": "https://localhost:8080/",
     "height": 662
    },
    "id": "mTPhh99OQfla",
    "outputId": "936008eb-48d7-427c-e649-783b1757de94"
   },
   "outputs": [
    {
     "data": {},
     "metadata": {},
     "output_type": "display_data"
    },
    {
     "data": {
      "application/vnd.holoviews_exec.v0+json": "",
      "text/html": [
       "<div id='12806'>\n",
       "  <div class=\"bk-root\" id=\"7ea30435-c060-439a-8ccf-cd4971009218\" data-root-id=\"12806\"></div>\n",
       "</div>\n",
       "<script type=\"application/javascript\">(function(root) {\n",
       "  function embed_document(root) {\n",
       "    var docs_json = {\"2e31c2dc-42ef-481f-a0cc-0313936538d7\":{\"defs\":[{\"extends\":null,\"module\":null,\"name\":\"ReactiveHTML1\",\"overrides\":[],\"properties\":[]},{\"extends\":null,\"module\":null,\"name\":\"FlexBox1\",\"overrides\":[],\"properties\":[{\"default\":\"flex-start\",\"kind\":null,\"name\":\"align_content\"},{\"default\":\"flex-start\",\"kind\":null,\"name\":\"align_items\"},{\"default\":\"row\",\"kind\":null,\"name\":\"flex_direction\"},{\"default\":\"wrap\",\"kind\":null,\"name\":\"flex_wrap\"},{\"default\":\"flex-start\",\"kind\":null,\"name\":\"justify_content\"}]},{\"extends\":null,\"module\":null,\"name\":\"GridStack1\",\"overrides\":[],\"properties\":[{\"default\":\"warn\",\"kind\":null,\"name\":\"mode\"},{\"default\":null,\"kind\":null,\"name\":\"ncols\"},{\"default\":null,\"kind\":null,\"name\":\"nrows\"},{\"default\":true,\"kind\":null,\"name\":\"allow_resize\"},{\"default\":true,\"kind\":null,\"name\":\"allow_drag\"},{\"default\":[],\"kind\":null,\"name\":\"state\"}]},{\"extends\":null,\"module\":null,\"name\":\"click1\",\"overrides\":[],\"properties\":[{\"default\":\"\",\"kind\":null,\"name\":\"terminal_output\"},{\"default\":\"\",\"kind\":null,\"name\":\"debug_name\"},{\"default\":0,\"kind\":null,\"name\":\"clears\"}]},{\"extends\":null,\"module\":null,\"name\":\"NotificationAreaBase1\",\"overrides\":[],\"properties\":[{\"default\":\"bottom-right\",\"kind\":null,\"name\":\"position\"},{\"default\":0,\"kind\":null,\"name\":\"_clear\"}]},{\"extends\":null,\"module\":null,\"name\":\"NotificationArea1\",\"overrides\":[],\"properties\":[{\"default\":[],\"kind\":null,\"name\":\"notifications\"},{\"default\":\"bottom-right\",\"kind\":null,\"name\":\"position\"},{\"default\":0,\"kind\":null,\"name\":\"_clear\"},{\"default\":[{\"background\":\"#ffc107\",\"icon\":{\"className\":\"fas fa-exclamation-triangle\",\"color\":\"white\",\"tagName\":\"i\"},\"type\":\"warning\"},{\"background\":\"#007bff\",\"icon\":{\"className\":\"fas fa-info-circle\",\"color\":\"white\",\"tagName\":\"i\"},\"type\":\"info\"}],\"kind\":null,\"name\":\"types\"}]},{\"extends\":null,\"module\":null,\"name\":\"Notification\",\"overrides\":[],\"properties\":[{\"default\":null,\"kind\":null,\"name\":\"background\"},{\"default\":3000,\"kind\":null,\"name\":\"duration\"},{\"default\":null,\"kind\":null,\"name\":\"icon\"},{\"default\":\"\",\"kind\":null,\"name\":\"message\"},{\"default\":null,\"kind\":null,\"name\":\"notification_type\"},{\"default\":false,\"kind\":null,\"name\":\"_destroyed\"}]},{\"extends\":null,\"module\":null,\"name\":\"TemplateActions1\",\"overrides\":[],\"properties\":[{\"default\":0,\"kind\":null,\"name\":\"open_modal\"},{\"default\":0,\"kind\":null,\"name\":\"close_modal\"}]},{\"extends\":null,\"module\":null,\"name\":\"MaterialTemplateActions1\",\"overrides\":[],\"properties\":[{\"default\":0,\"kind\":null,\"name\":\"open_modal\"},{\"default\":0,\"kind\":null,\"name\":\"close_modal\"}]}],\"roots\":{\"references\":[{\"attributes\":{},\"id\":\"12865\",\"type\":\"UnionRenderers\"},{\"attributes\":{\"base\":24,\"mantissas\":[1,2,4,6,8,12],\"max_interval\":43200000.0,\"min_interval\":3600000.0,\"num_minor_ticks\":0},\"id\":\"12870\",\"type\":\"AdaptiveTicker\"},{\"attributes\":{},\"id\":\"12879\",\"type\":\"YearsTicker\"},{\"attributes\":{\"months\":[0,1,2,3,4,5,6,7,8,9,10,11]},\"id\":\"12875\",\"type\":\"MonthsTicker\"},{\"attributes\":{\"days\":[1,15]},\"id\":\"12874\",\"type\":\"DaysTicker\"},{\"attributes\":{\"days\":[1,2,3,4,5,6,7,8,9,10,11,12,13,14,15,16,17,18,19,20,21,22,23,24,25,26,27,28,29,30,31]},\"id\":\"12871\",\"type\":\"DaysTicker\"},{\"attributes\":{\"margin\":[5,5,5,5],\"name\":\"HSpacer09694\",\"sizing_mode\":\"stretch_width\"},\"id\":\"12979\",\"type\":\"Spacer\"},{\"attributes\":{\"days\":[1,4,7,10,13,16,19,22,25,28]},\"id\":\"12872\",\"type\":\"DaysTicker\"},{\"attributes\":{},\"id\":\"12900\",\"type\":\"UnionRenderers\"},{\"attributes\":{\"days\":[1,8,15,22]},\"id\":\"12873\",\"type\":\"DaysTicker\"},{\"attributes\":{\"months\":[0,6]},\"id\":\"12878\",\"type\":\"MonthsTicker\"},{\"attributes\":{\"months\":[0,2,4,6,8,10]},\"id\":\"12876\",\"type\":\"MonthsTicker\"},{\"attributes\":{\"end\":167.44400000000002,\"reset_end\":167.44400000000002,\"reset_start\":21.715999999999998,\"start\":21.715999999999998,\"tags\":[[[\"Training Data\",\"Training Data\",null]]]},\"id\":\"12809\",\"type\":\"Range1d\"},{\"attributes\":{},\"id\":\"12884\",\"type\":\"Selection\"},{\"attributes\":{\"months\":[0,4,8]},\"id\":\"12877\",\"type\":\"MonthsTicker\"},{\"attributes\":{},\"id\":\"12849\",\"type\":\"AllLabels\"},{\"attributes\":{\"callback\":null,\"formatters\":{\"@{Date}\":\"datetime\"},\"renderers\":[{\"id\":\"12889\"},{\"id\":\"12923\"}],\"tags\":[\"hv_created\"],\"tooltips\":[[\"Variable\",\"@{Variable}\"],[\"Date\",\"@{Date}{%F %T}\"],[\"value\",\"@{value}\"]]},\"id\":\"12811\",\"type\":\"HoverTool\"},{\"attributes\":{\"callback\":null,\"formatters\":{\"@{Date}\":\"datetime\"},\"renderers\":[{\"id\":\"12856\"}],\"tags\":[\"hv_created\"],\"tooltips\":[[\"Date\",\"@{Date}{%F %T}\"],[\"Training Data\",\"@{Training_Data}\"]]},\"id\":\"12810\",\"type\":\"HoverTool\"},{\"attributes\":{\"axis_label\":\"\",\"coordinates\":null,\"formatter\":{\"id\":\"12848\"},\"group\":null,\"major_label_policy\":{\"id\":\"12849\"},\"ticker\":{\"id\":\"12827\"}},\"id\":\"12826\",\"type\":\"LinearAxis\"},{\"attributes\":{\"coordinates\":null,\"group\":null,\"text_color\":\"black\",\"text_font_size\":\"12pt\"},\"id\":\"12814\",\"type\":\"Title\"},{\"attributes\":{\"num_minor_ticks\":5,\"tickers\":[{\"id\":\"12868\"},{\"id\":\"12869\"},{\"id\":\"12870\"},{\"id\":\"12871\"},{\"id\":\"12872\"},{\"id\":\"12873\"},{\"id\":\"12874\"},{\"id\":\"12875\"},{\"id\":\"12876\"},{\"id\":\"12877\"},{\"id\":\"12878\"},{\"id\":\"12879\"}]},\"id\":\"12823\",\"type\":\"DatetimeTicker\"},{\"attributes\":{},\"id\":\"12818\",\"type\":\"LinearScale\"},{\"attributes\":{\"axis_label\":\"Date\",\"coordinates\":null,\"formatter\":{\"id\":\"12845\"},\"group\":null,\"major_label_policy\":{\"id\":\"12846\"},\"ticker\":{\"id\":\"12823\"}},\"id\":\"12822\",\"type\":\"DatetimeAxis\"},{\"attributes\":{},\"id\":\"12820\",\"type\":\"LinearScale\"},{\"attributes\":{},\"id\":\"12831\",\"type\":\"PanTool\"},{\"attributes\":{\"axis\":{\"id\":\"12822\"},\"coordinates\":null,\"grid_line_color\":null,\"group\":null,\"ticker\":null},\"id\":\"12825\",\"type\":\"Grid\"},{\"attributes\":{},\"id\":\"12846\",\"type\":\"AllLabels\"},{\"attributes\":{\"axis\":{\"id\":\"12826\"},\"coordinates\":null,\"dimension\":1,\"grid_line_color\":null,\"group\":null,\"ticker\":null},\"id\":\"12829\",\"type\":\"Grid\"},{\"attributes\":{\"line_color\":\"#fc4f30\",\"line_width\":2,\"x\":{\"field\":\"Date\"},\"y\":{\"field\":\"value\"}},\"id\":\"12916\",\"type\":\"Line\"},{\"attributes\":{},\"id\":\"12827\",\"type\":\"BasicTicker\"},{\"attributes\":{\"click_policy\":\"mute\",\"coordinates\":null,\"group\":null,\"items\":[{\"id\":\"12881\"},{\"id\":\"12915\"},{\"id\":\"12951\"}],\"location\":[0,0]},\"id\":\"12880\",\"type\":\"Legend\"},{\"attributes\":{\"line_color\":\"#e5ae38\",\"line_width\":2,\"x\":{\"field\":\"Date\"},\"y\":{\"field\":\"value\"}},\"id\":\"12920\",\"type\":\"Line\"},{\"attributes\":{},\"id\":\"12832\",\"type\":\"WheelZoomTool\"},{\"attributes\":{\"end\":1648598400000.0,\"reset_end\":1648598400000.0,\"reset_start\":1583107200000.0,\"start\":1583107200000.0,\"tags\":[[[\"Date\",\"Date\",null]]]},\"id\":\"12808\",\"type\":\"Range1d\"},{\"attributes\":{\"line_color\":\"#e5ae38\",\"line_width\":2,\"x\":{\"field\":\"Date\"},\"y\":{\"field\":\"value\"}},\"id\":\"12952\",\"type\":\"Line\"},{\"attributes\":{\"source\":{\"id\":\"12850\"}},\"id\":\"12857\",\"type\":\"CDSView\"},{\"attributes\":{\"data\":{\"Date\":{\"__ndarray__\":\"AAAAKybid0IAAMCQeOJ3QgAAgPbK4ndCAABAXB3jd0IAAICNFOR3QgAAQPNm5HdCAAAAWbnkd0IAAMC+C+V3QgAAgCRe5XdCAACAu6fmd0IAAEAh+uZ3QgAAAIdM53dCAADA7J7nd0IAAAAeluh3QgAAwIPo6HdCAACA6Trpd0IAAEBPjel3QgAAALXf6XdCAABA5tbqd0IAAABMKet3QgAAwLF763dCAACAF87rd0IAAEB9IOx3QgAAgK4X7XdCAABAFGrtd0IAAAB6vO13QgAAwN8O7ndCAACARWHud0IAAMB2WO93QgAAgNyq73dCAABAQv3vd0IAAACoT/B3QgAAwA2i8HdCAADApOvxd0IAAIAKPvJ3QgAAQHCQ8ndCAAAA1uLyd0IAAEAH2vN3QgAAAG0s9HdCAADA0n70d0IAAIA40fR3QgAAQJ4j9XdCAACAzxr2d0IAAEA1bfZ3QgAAAJu/9ndCAADAABL3d0IAAIBmZPd3QgAAwJdb+HdCAACA/a34d0IAAEBjAPl3QgAAAMlS+XdCAADALqX5d0IAAABgnPp3QgAAwMXu+ndCAACAK0H7d0IAAECRk/t3QgAAAPfl+3dCAABAKN38d0IAAACOL/13QgAAwPOB/XdC\",\"dtype\":\"float64\",\"order\":\"little\",\"shape\":[60]},\"Variable\":[\"Forecasted Adjusted Close\",\"Forecasted Adjusted Close\",\"Forecasted Adjusted Close\",\"Forecasted Adjusted Close\",\"Forecasted Adjusted Close\",\"Forecasted Adjusted Close\",\"Forecasted Adjusted Close\",\"Forecasted Adjusted Close\",\"Forecasted Adjusted Close\",\"Forecasted Adjusted Close\",\"Forecasted Adjusted Close\",\"Forecasted Adjusted Close\",\"Forecasted Adjusted Close\",\"Forecasted Adjusted Close\",\"Forecasted Adjusted Close\",\"Forecasted Adjusted Close\",\"Forecasted Adjusted Close\",\"Forecasted Adjusted Close\",\"Forecasted Adjusted Close\",\"Forecasted Adjusted Close\",\"Forecasted Adjusted Close\",\"Forecasted Adjusted Close\",\"Forecasted Adjusted Close\",\"Forecasted Adjusted Close\",\"Forecasted Adjusted Close\",\"Forecasted Adjusted Close\",\"Forecasted Adjusted Close\",\"Forecasted Adjusted Close\",\"Forecasted Adjusted Close\",\"Forecasted Adjusted Close\",\"Forecasted Adjusted Close\",\"Forecasted Adjusted Close\",\"Forecasted Adjusted Close\",\"Forecasted Adjusted Close\",\"Forecasted Adjusted Close\",\"Forecasted Adjusted Close\",\"Forecasted Adjusted Close\",\"Forecasted Adjusted Close\",\"Forecasted Adjusted Close\",\"Forecasted Adjusted Close\",\"Forecasted Adjusted Close\",\"Forecasted Adjusted Close\",\"Forecasted Adjusted Close\",\"Forecasted Adjusted Close\",\"Forecasted Adjusted Close\",\"Forecasted Adjusted Close\",\"Forecasted Adjusted Close\",\"Forecasted Adjusted Close\",\"Forecasted Adjusted Close\",\"Forecasted Adjusted Close\",\"Forecasted Adjusted Close\",\"Forecasted Adjusted Close\",\"Forecasted Adjusted Close\",\"Forecasted Adjusted Close\",\"Forecasted Adjusted Close\",\"Forecasted Adjusted Close\",\"Forecasted Adjusted Close\",\"Forecasted Adjusted Close\",\"Forecasted Adjusted Close\",\"Forecasted Adjusted Close\"],\"value\":{\"__ndarray__\":\"VRbRQr2/0EJbNc9CSP3MQr5PykLHjcdC2z/FQjsGw0LBYsBCH7y9QmfIukKNs7dCzsK0QtuCsULvlK5CeamrQm25qEKGnqVCefaiQsiaoUIhW6FCe1KhQuDqoEJmz6BC29agQj7yoEIil6FCOzWiQvmJokK6mqJCdgKjQjNDo0KLy6JC8XihQiuDn0JG8ZxCCMWaQjw/mUIVlJhCgTeYQrn+l0LJUpdCRgiWQlQnlELwF5JC8W6QQhLZjkJU7IxC+4CKQlwwiEJfx4ZCR2OGQtkJh0JMGYhCfr+JQpyAi0JoUI1CcM2OQu9RkEKxTpJC\",\"dtype\":\"float32\",\"order\":\"little\",\"shape\":[60]}},\"selected\":{\"id\":\"12918\"},\"selection_policy\":{\"id\":\"12936\"}},\"id\":\"12917\",\"type\":\"ColumnDataSource\"},{\"attributes\":{},\"id\":\"12830\",\"type\":\"SaveTool\"},{\"attributes\":{\"line_alpha\":0.1,\"line_color\":\"#e5ae38\",\"line_width\":2,\"x\":{\"field\":\"Date\"},\"y\":{\"field\":\"value\"}},\"id\":\"12921\",\"type\":\"Line\"},{\"attributes\":{\"overlay\":{\"id\":\"12835\"}},\"id\":\"12833\",\"type\":\"BoxZoomTool\"},{\"attributes\":{},\"id\":\"12834\",\"type\":\"ResetTool\"},{\"attributes\":{\"label\":{\"value\":\"Training Data\"},\"renderers\":[{\"id\":\"12856\"}]},\"id\":\"12881\",\"type\":\"LegendItem\"},{\"attributes\":{\"source\":{\"id\":\"12917\"}},\"id\":\"12924\",\"type\":\"CDSView\"},{\"attributes\":{\"bottom_units\":\"screen\",\"coordinates\":null,\"fill_alpha\":0.5,\"fill_color\":\"lightgrey\",\"group\":null,\"left_units\":\"screen\",\"level\":\"overlay\",\"line_alpha\":1.0,\"line_color\":\"black\",\"line_dash\":[4,4],\"line_width\":2,\"right_units\":\"screen\",\"syncable\":false,\"top_units\":\"screen\"},\"id\":\"12835\",\"type\":\"BoxAnnotation\"},{\"attributes\":{\"coordinates\":null,\"data_source\":{\"id\":\"12917\"},\"glyph\":{\"id\":\"12920\"},\"group\":null,\"hover_glyph\":null,\"muted_glyph\":{\"id\":\"12922\"},\"nonselection_glyph\":{\"id\":\"12921\"},\"selection_glyph\":{\"id\":\"12952\"},\"view\":{\"id\":\"12924\"}},\"id\":\"12923\",\"type\":\"GlyphRenderer\"},{\"attributes\":{\"line_alpha\":0.2,\"line_color\":\"#30a2da\",\"line_width\":2,\"x\":{\"field\":\"Date\"},\"y\":{\"field\":\"Training Data\"}},\"id\":\"12855\",\"type\":\"Line\"},{\"attributes\":{\"line_alpha\":0.2,\"line_color\":\"#e5ae38\",\"line_width\":2,\"x\":{\"field\":\"Date\"},\"y\":{\"field\":\"value\"}},\"id\":\"12922\",\"type\":\"Line\"},{\"attributes\":{\"coordinates\":null,\"data_source\":{\"id\":\"12850\"},\"glyph\":{\"id\":\"12853\"},\"group\":null,\"hover_glyph\":null,\"muted_glyph\":{\"id\":\"12855\"},\"nonselection_glyph\":{\"id\":\"12854\"},\"selection_glyph\":{\"id\":\"12882\"},\"view\":{\"id\":\"12857\"}},\"id\":\"12856\",\"type\":\"GlyphRenderer\"},{\"attributes\":{},\"id\":\"12918\",\"type\":\"Selection\"},{\"attributes\":{\"line_alpha\":0.1,\"line_color\":\"#30a2da\",\"line_width\":2,\"x\":{\"field\":\"Date\"},\"y\":{\"field\":\"Training Data\"}},\"id\":\"12854\",\"type\":\"Line\"},{\"attributes\":{\"label\":{\"value\":\"Forecasted Adjusted Close\"},\"renderers\":[{\"id\":\"12923\"}]},\"id\":\"12951\",\"type\":\"LegendItem\"},{\"attributes\":{\"line_color\":\"#30a2da\",\"line_width\":2,\"x\":{\"field\":\"Date\"},\"y\":{\"field\":\"Training Data\"}},\"id\":\"12853\",\"type\":\"Line\"},{\"attributes\":{},\"id\":\"12936\",\"type\":\"UnionRenderers\"},{\"attributes\":{},\"id\":\"12845\",\"type\":\"DatetimeTickFormatter\"},{\"attributes\":{},\"id\":\"12848\",\"type\":\"BasicTickFormatter\"},{\"attributes\":{\"data\":{\"Date\":{\"__ndarray__\":\"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\",\"dtype\":\"float64\",\"order\":\"little\",\"shape\":[466]},\"Training Data\":{\"__ndarray__\":\"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\",\"dtype\":\"float64\",\"order\":\"little\",\"shape\":[466]},\"Training_Data\":{\"__ndarray__\":\"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\",\"dtype\":\"float64\",\"order\":\"little\",\"shape\":[466]}},\"selected\":{\"id\":\"12851\"},\"selection_policy\":{\"id\":\"12865\"}},\"id\":\"12850\",\"type\":\"ColumnDataSource\"},{\"attributes\":{\"children\":[{\"id\":\"12807\"},{\"id\":\"12813\"},{\"id\":\"12979\"}],\"margin\":[0,0,0,0],\"name\":\"Row09689\",\"tags\":[\"embedded\"]},\"id\":\"12806\",\"type\":\"Row\"},{\"attributes\":{\"line_color\":\"#30a2da\",\"line_width\":2,\"x\":{\"field\":\"Date\"},\"y\":{\"field\":\"Training Data\"}},\"id\":\"12882\",\"type\":\"Line\"},{\"attributes\":{\"line_color\":\"#fc4f30\",\"line_width\":2,\"x\":{\"field\":\"Date\"},\"y\":{\"field\":\"value\"}},\"id\":\"12886\",\"type\":\"Line\"},{\"attributes\":{\"tools\":[{\"id\":\"12810\"},{\"id\":\"12811\"},{\"id\":\"12830\"},{\"id\":\"12831\"},{\"id\":\"12832\"},{\"id\":\"12833\"},{\"id\":\"12834\"}]},\"id\":\"12836\",\"type\":\"Toolbar\"},{\"attributes\":{\"line_alpha\":0.1,\"line_color\":\"#fc4f30\",\"line_width\":2,\"x\":{\"field\":\"Date\"},\"y\":{\"field\":\"value\"}},\"id\":\"12887\",\"type\":\"Line\"},{\"attributes\":{},\"id\":\"12851\",\"type\":\"Selection\"},{\"attributes\":{\"below\":[{\"id\":\"12822\"}],\"center\":[{\"id\":\"12825\"},{\"id\":\"12829\"}],\"height\":300,\"left\":[{\"id\":\"12826\"}],\"margin\":[5,5,5,5],\"min_border_bottom\":10,\"min_border_left\":10,\"min_border_right\":10,\"min_border_top\":10,\"renderers\":[{\"id\":\"12856\"},{\"id\":\"12889\"},{\"id\":\"12923\"}],\"right\":[{\"id\":\"12880\"}],\"sizing_mode\":\"fixed\",\"title\":{\"id\":\"12814\"},\"toolbar\":{\"id\":\"12836\"},\"width\":700,\"x_range\":{\"id\":\"12808\"},\"x_scale\":{\"id\":\"12818\"},\"y_range\":{\"id\":\"12809\"},\"y_scale\":{\"id\":\"12820\"}},\"id\":\"12813\",\"subtype\":\"Figure\",\"type\":\"Plot\"},{\"attributes\":{\"coordinates\":null,\"data_source\":{\"id\":\"12883\"},\"glyph\":{\"id\":\"12886\"},\"group\":null,\"hover_glyph\":null,\"muted_glyph\":{\"id\":\"12888\"},\"nonselection_glyph\":{\"id\":\"12887\"},\"selection_glyph\":{\"id\":\"12916\"},\"view\":{\"id\":\"12890\"}},\"id\":\"12889\",\"type\":\"GlyphRenderer\"},{\"attributes\":{\"data\":{\"Date\":{\"__ndarray__\":\"AAAAKybid0IAAMCQeOJ3QgAAgPbK4ndCAABAXB3jd0IAAICNFOR3QgAAQPNm5HdCAAAAWbnkd0IAAMC+C+V3QgAAgCRe5XdCAACAu6fmd0IAAEAh+uZ3QgAAAIdM53dCAADA7J7nd0IAAAAeluh3QgAAwIPo6HdCAACA6Trpd0IAAEBPjel3QgAAALXf6XdCAABA5tbqd0IAAABMKet3QgAAwLF763dCAACAF87rd0IAAEB9IOx3QgAAgK4X7XdCAABAFGrtd0IAAAB6vO13QgAAwN8O7ndCAACARWHud0IAAMB2WO93QgAAgNyq73dCAABAQv3vd0IAAACoT/B3QgAAwA2i8HdCAADApOvxd0IAAIAKPvJ3QgAAQHCQ8ndCAAAA1uLyd0IAAEAH2vN3QgAAAG0s9HdCAADA0n70d0IAAIA40fR3QgAAQJ4j9XdCAACAzxr2d0IAAEA1bfZ3QgAAAJu/9ndCAADAABL3d0IAAIBmZPd3QgAAwJdb+HdCAACA/a34d0IAAEBjAPl3QgAAAMlS+XdCAADALqX5d0IAAABgnPp3QgAAwMXu+ndCAACAK0H7d0IAAECRk/t3QgAAAPfl+3dCAABAKN38d0IAAACOL/13QgAAwPOB/XdC\",\"dtype\":\"float64\",\"order\":\"little\",\"shape\":[60]},\"Variable\":[\"Actual Adjusted Close\",\"Actual Adjusted Close\",\"Actual Adjusted Close\",\"Actual Adjusted Close\",\"Actual Adjusted Close\",\"Actual Adjusted Close\",\"Actual Adjusted Close\",\"Actual Adjusted Close\",\"Actual Adjusted Close\",\"Actual Adjusted Close\",\"Actual Adjusted Close\",\"Actual Adjusted Close\",\"Actual Adjusted Close\",\"Actual Adjusted Close\",\"Actual Adjusted Close\",\"Actual Adjusted Close\",\"Actual Adjusted Close\",\"Actual Adjusted Close\",\"Actual Adjusted Close\",\"Actual Adjusted Close\",\"Actual Adjusted Close\",\"Actual Adjusted Close\",\"Actual Adjusted Close\",\"Actual Adjusted Close\",\"Actual Adjusted Close\",\"Actual Adjusted Close\",\"Actual Adjusted Close\",\"Actual Adjusted Close\",\"Actual Adjusted Close\",\"Actual Adjusted Close\",\"Actual Adjusted Close\",\"Actual Adjusted Close\",\"Actual Adjusted Close\",\"Actual Adjusted Close\",\"Actual Adjusted Close\",\"Actual Adjusted Close\",\"Actual Adjusted Close\",\"Actual Adjusted Close\",\"Actual Adjusted Close\",\"Actual Adjusted Close\",\"Actual Adjusted Close\",\"Actual Adjusted Close\",\"Actual Adjusted Close\",\"Actual Adjusted Close\",\"Actual Adjusted Close\",\"Actual Adjusted Close\",\"Actual Adjusted Close\",\"Actual Adjusted Close\",\"Actual Adjusted Close\",\"Actual Adjusted Close\",\"Actual Adjusted Close\",\"Actual Adjusted Close\",\"Actual Adjusted Close\",\"Actual Adjusted Close\",\"Actual Adjusted Close\",\"Actual Adjusted Close\",\"Actual Adjusted Close\",\"Actual Adjusted Close\",\"Actual Adjusted Close\",\"Actual Adjusted Close\"],\"value\":{\"__ndarray__\":\"XI/C9SgsV0BI4XoUrodVQIXrUbgeZVVAexSuR+EaVUApXI/C9ShVQB+F61G4vlVApHA9CtcjVUAfhetRuP5TQI/C9ShcD1RACtejcD06U0AAAAAAAPBSQEjhehSu91JA4XoUrkfhUUDD9Shcj2JSQDMzMzMzs1FAUrgehetBUUCF61G4HpVQQArXo3A9OlFA7FG4HoXbUkCF61G4HkVTQClcj8L1SFJAw/UoXI9CUUAAAAAAADBSQB+F61G4HlJAKVyPwvUYUkDXo3A9CgdTQHE9CtejcFJAmpmZmZn5UUApXI/C9dhRQFK4HoXr0VJASOF6FK43UkDsUbgehQtRQDMzMzMzM1BAUrgeheuxT0BxPQrXo3BOQEjhehSuZ1BAFK5H4Xr0UECuR+F6FJ5RQKRwPQrXE1FApHA9CtfjUEDhehSuR6FPQD0K16NwHU5AZmZmZmYGTUCPwvUoXE9NQHsUrkfh2k5AhetRuB7FTUAK16NwPcpLQIXrUbgeJUpAUrgehesxS0CF61G4HgVOQNejcD0Kd09A4XoUrkdxUEA9CtejcP1PQK5H4XoUvlBAexSuR+FqUECamZmZmZlQQHE9CtejIFBApHA9CtfDUEApXI/C9dhRQOxRuB6FK1FA\",\"dtype\":\"float64\",\"order\":\"little\",\"shape\":[60]}},\"selected\":{\"id\":\"12884\"},\"selection_policy\":{\"id\":\"12900\"}},\"id\":\"12883\",\"type\":\"ColumnDataSource\"},{\"attributes\":{\"line_alpha\":0.2,\"line_color\":\"#fc4f30\",\"line_width\":2,\"x\":{\"field\":\"Date\"},\"y\":{\"field\":\"value\"}},\"id\":\"12888\",\"type\":\"Line\"},{\"attributes\":{\"margin\":[5,5,5,5],\"name\":\"HSpacer09693\",\"sizing_mode\":\"stretch_width\"},\"id\":\"12807\",\"type\":\"Spacer\"},{\"attributes\":{\"mantissas\":[1,2,5],\"max_interval\":500.0,\"num_minor_ticks\":0},\"id\":\"12868\",\"type\":\"AdaptiveTicker\"},{\"attributes\":{\"source\":{\"id\":\"12883\"}},\"id\":\"12890\",\"type\":\"CDSView\"},{\"attributes\":{\"label\":{\"value\":\"Actual Adjusted Close\"},\"renderers\":[{\"id\":\"12889\"}]},\"id\":\"12915\",\"type\":\"LegendItem\"},{\"attributes\":{\"base\":60,\"mantissas\":[1,2,5,10,15,20,30],\"max_interval\":1800000.0,\"min_interval\":1000.0,\"num_minor_ticks\":0},\"id\":\"12869\",\"type\":\"AdaptiveTicker\"}],\"root_ids\":[\"12806\"]},\"title\":\"Bokeh Application\",\"version\":\"2.4.3\"}};\n",
       "    var render_items = [{\"docid\":\"2e31c2dc-42ef-481f-a0cc-0313936538d7\",\"root_ids\":[\"12806\"],\"roots\":{\"12806\":\"7ea30435-c060-439a-8ccf-cd4971009218\"}}];\n",
       "    root.Bokeh.embed.embed_items_notebook(docs_json, render_items);\n",
       "    for (const render_item of render_items) {\n",
       "      for (const root_id of render_item.root_ids) {\n",
       "\tconst id_el = document.getElementById(root_id)\n",
       "\tif (id_el.children.length && (id_el.children[0].className === 'bk-root')) {\n",
       "\t  const root_el = id_el.children[0]\n",
       "\t  root_el.id = root_el.id + '-rendered'\n",
       "\t}\n",
       "      }\n",
       "    }\n",
       "  }\n",
       "  if (root.Bokeh !== undefined && root.Bokeh.Panel !== undefined) {\n",
       "    embed_document(root);\n",
       "  } else {\n",
       "    var attempts = 0;\n",
       "    var timer = setInterval(function(root) {\n",
       "      if (root.Bokeh !== undefined && root.Bokeh.Panel !== undefined) {\n",
       "        clearInterval(timer);\n",
       "        embed_document(root);\n",
       "      } else if (document.readyState == \"complete\") {\n",
       "        attempts++;\n",
       "        if (attempts > 200) {\n",
       "          clearInterval(timer);\n",
       "          console.log(\"Bokeh: ERROR: Unable to run BokehJS code because BokehJS library is missing\");\n",
       "        }\n",
       "      }\n",
       "    }, 25, root)\n",
       "  }\n",
       "})(window);</script>"
      ],
      "text/plain": [
       ":Overlay\n",
       "   .Curve.Training_Data :Curve   [Date]   (Training Data)\n",
       "   .NdOverlay.I         :NdOverlay   [Variable]\n",
       "      :Curve   [Date]   (value)"
      ]
     },
     "execution_count": 552,
     "metadata": {
      "application/vnd.holoviews_exec.v0+json": {
       "id": "12806"
      }
     },
     "output_type": "execute_result"
    }
   ],
   "source": [
    "train = aark[:training_data_len]\n",
    "valid = aark[training_data_len:]\n",
    "valid['Predictions'] = scaler.inverse_transform(predictions)\n",
    "train.rename(columns={'Adj Close':'Training Data'}, inplace=True)\n",
    "valid.rename(columns={'Adj Close':'Actual Adjusted Close', 'Predictions': 'Forecasted Adjusted Close'}, inplace=True)\n",
    "train['Training Data'].hvplot() * valid[['Actual Adjusted Close', 'Forecasted Adjusted Close']].hvplot()"
   ]
  },
  {
   "cell_type": "code",
   "execution_count": 553,
   "metadata": {
    "colab": {
     "base_uri": "https://localhost:8080/",
     "height": 455
    },
    "id": "qEmOgqjoS8_r",
    "outputId": "e2de1167-f425-4fde-bb2a-0f31a8dfbcfa"
   },
   "outputs": [
    {
     "data": {
      "text/html": [
       "<div>\n",
       "<style scoped>\n",
       "    .dataframe tbody tr th:only-of-type {\n",
       "        vertical-align: middle;\n",
       "    }\n",
       "\n",
       "    .dataframe tbody tr th {\n",
       "        vertical-align: top;\n",
       "    }\n",
       "\n",
       "    .dataframe thead th {\n",
       "        text-align: right;\n",
       "    }\n",
       "</style>\n",
       "<table border=\"1\" class=\"dataframe\">\n",
       "  <thead>\n",
       "    <tr style=\"text-align: right;\">\n",
       "      <th></th>\n",
       "      <th>Actual Adjusted Close</th>\n",
       "      <th>Forecasted Adjusted Close</th>\n",
       "    </tr>\n",
       "    <tr>\n",
       "      <th>Date</th>\n",
       "      <th></th>\n",
       "      <th></th>\n",
       "    </tr>\n",
       "  </thead>\n",
       "  <tbody>\n",
       "    <tr>\n",
       "      <th>2022-01-04</th>\n",
       "      <td>92.69</td>\n",
       "      <td>104.543617</td>\n",
       "    </tr>\n",
       "    <tr>\n",
       "      <th>2022-01-05</th>\n",
       "      <td>86.12</td>\n",
       "      <td>104.374489</td>\n",
       "    </tr>\n",
       "    <tr>\n",
       "      <th>2022-01-06</th>\n",
       "      <td>85.58</td>\n",
       "      <td>103.604210</td>\n",
       "    </tr>\n",
       "    <tr>\n",
       "      <th>2022-01-07</th>\n",
       "      <td>84.42</td>\n",
       "      <td>102.494690</td>\n",
       "    </tr>\n",
       "    <tr>\n",
       "      <th>2022-01-10</th>\n",
       "      <td>84.64</td>\n",
       "      <td>101.155746</td>\n",
       "    </tr>\n",
       "  </tbody>\n",
       "</table>\n",
       "</div>"
      ],
      "text/plain": [
       "            Actual Adjusted Close  Forecasted Adjusted Close\n",
       "Date                                                        \n",
       "2022-01-04                  92.69                 104.543617\n",
       "2022-01-05                  86.12                 104.374489\n",
       "2022-01-06                  85.58                 103.604210\n",
       "2022-01-07                  84.42                 102.494690\n",
       "2022-01-10                  84.64                 101.155746"
      ]
     },
     "metadata": {},
     "output_type": "display_data"
    },
    {
     "data": {
      "text/html": [
       "<div>\n",
       "<style scoped>\n",
       "    .dataframe tbody tr th:only-of-type {\n",
       "        vertical-align: middle;\n",
       "    }\n",
       "\n",
       "    .dataframe tbody tr th {\n",
       "        vertical-align: top;\n",
       "    }\n",
       "\n",
       "    .dataframe thead th {\n",
       "        text-align: right;\n",
       "    }\n",
       "</style>\n",
       "<table border=\"1\" class=\"dataframe\">\n",
       "  <thead>\n",
       "    <tr style=\"text-align: right;\">\n",
       "      <th></th>\n",
       "      <th>Actual Adjusted Close</th>\n",
       "      <th>Forecasted Adjusted Close</th>\n",
       "    </tr>\n",
       "    <tr>\n",
       "      <th>Date</th>\n",
       "      <th></th>\n",
       "      <th></th>\n",
       "    </tr>\n",
       "  </thead>\n",
       "  <tbody>\n",
       "    <tr>\n",
       "      <th>2022-03-24</th>\n",
       "      <td>66.40</td>\n",
       "      <td>69.751190</td>\n",
       "    </tr>\n",
       "    <tr>\n",
       "      <th>2022-03-25</th>\n",
       "      <td>64.51</td>\n",
       "      <td>70.657043</td>\n",
       "    </tr>\n",
       "    <tr>\n",
       "      <th>2022-03-28</th>\n",
       "      <td>67.06</td>\n",
       "      <td>71.401245</td>\n",
       "    </tr>\n",
       "    <tr>\n",
       "      <th>2022-03-29</th>\n",
       "      <td>71.39</td>\n",
       "      <td>72.160027</td>\n",
       "    </tr>\n",
       "    <tr>\n",
       "      <th>2022-03-30</th>\n",
       "      <td>68.68</td>\n",
       "      <td>73.153694</td>\n",
       "    </tr>\n",
       "  </tbody>\n",
       "</table>\n",
       "</div>"
      ],
      "text/plain": [
       "            Actual Adjusted Close  Forecasted Adjusted Close\n",
       "Date                                                        \n",
       "2022-03-24                  66.40                  69.751190\n",
       "2022-03-25                  64.51                  70.657043\n",
       "2022-03-28                  67.06                  71.401245\n",
       "2022-03-29                  71.39                  72.160027\n",
       "2022-03-30                  68.68                  73.153694"
      ]
     },
     "metadata": {},
     "output_type": "display_data"
    }
   ],
   "source": [
    "display(valid.head(),valid.tail())"
   ]
  },
  {
   "cell_type": "code",
   "execution_count": 554,
   "metadata": {},
   "outputs": [
    {
     "data": {
      "text/plain": [
       "69.8010157216986"
      ]
     },
     "execution_count": 554,
     "metadata": {},
     "output_type": "execute_result"
    }
   ],
   "source": [
    "rmse = np.sqrt(np.mean(predictions - y_test)**2)\n",
    "rmse"
   ]
  }
 ],
 "metadata": {
  "colab": {
   "provenance": []
  },
  "kernelspec": {
   "display_name": "Python 3 (ipykernel)",
   "language": "python",
   "name": "python3"
  },
  "language_info": {
   "codemirror_mode": {
    "name": "ipython",
    "version": 3
   },
   "file_extension": ".py",
   "mimetype": "text/x-python",
   "name": "python",
   "nbconvert_exporter": "python",
   "pygments_lexer": "ipython3",
   "version": "3.9.13"
  }
 },
 "nbformat": 4,
 "nbformat_minor": 4
}
