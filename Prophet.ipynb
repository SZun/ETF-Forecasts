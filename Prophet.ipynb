{
 "cells": [
  {
   "cell_type": "markdown",
   "id": "f3a41dc5-93ba-45ea-946a-2883f2b328b8",
   "metadata": {},
   "source": [
    "## Prophet Model"
   ]
  },
  {
   "cell_type": "markdown",
   "id": "defce9a0-dc4a-4d7c-b0dc-e3d8a1129b99",
   "metadata": {},
   "source": [
    "## Imports"
   ]
  },
  {
   "cell_type": "code",
   "execution_count": null,
   "id": "59a1929f-3ecf-45ea-9102-84d19c1b8096",
   "metadata": {},
   "outputs": [],
   "source": [
    "# Import the required libraries and dependencies\n",
    "import warnings\n",
    "import pandas as pd\n",
    "import numpy as np\n",
    "import hvplot.pandas\n",
    "from prophet import Prophet\n",
    "from pathlib import Path\n",
    "from plotting import Plotter\n",
    "from sklearn.metrics import mean_absolute_error,mean_squared_error"
   ]
  },
  {
   "cell_type": "code",
   "execution_count": null,
   "id": "065e3c77-dc7d-4aa7-81f5-bfd311784bbf",
   "metadata": {},
   "outputs": [],
   "source": [
    "# Ignoring warnings\n",
    "warnings.filterwarnings('ignore')"
   ]
  },
  {
   "cell_type": "markdown",
   "id": "94087dd0-497c-4c59-a809-f46674aae26c",
   "metadata": {},
   "source": [
    "## Data"
   ]
  },
  {
   "cell_type": "code",
   "execution_count": null,
   "id": "8a3a81b9-9f3a-44c7-8058-6891c7c0c249",
   "metadata": {},
   "outputs": [],
   "source": [
    "# Setting global variables\n",
    "tickers = ['ARKK','SPY','FNGU']"
   ]
  },
  {
   "cell_type": "code",
   "execution_count": null,
   "id": "f7b271c2-fbff-4251-b08f-70eeb8587599",
   "metadata": {},
   "outputs": [],
   "source": [
    "# Reading in ETF data to DataFrame\n",
    "etf_data = pd.read_csv(Path(\"Resources/Data/etf_data.csv\"), index_col=\"Date\", infer_datetime_format=True, parse_dates=True)"
   ]
  },
  {
   "cell_type": "code",
   "execution_count": null,
   "id": "5f82e258-baf1-4103-b35b-e130ca390c63",
   "metadata": {},
   "outputs": [],
   "source": [
    "# Separating ETF DataFrame into separate DataFrames\n",
    "arkk,spy,fngu = [etf_data[i].to_frame(i) for i in tickers]"
   ]
  },
  {
   "cell_type": "markdown",
   "id": "39790022-17d2-42d3-a62c-0886dd8e3037",
   "metadata": {},
   "source": [
    "## Trian Test Split"
   ]
  },
  {
   "cell_type": "code",
   "execution_count": null,
   "id": "f80bd516-7f8e-44c2-a73c-430dfc5b21f6",
   "metadata": {},
   "outputs": [],
   "source": [
    "# Method for train test split\n",
    "def train_test_split(df):\n",
    "    # Creating copy of DataFame and resetting the index\n",
    "    data = df.copy().reset_index()\n",
    "    # Changing column names\n",
    "    data.columns = ['ds','y']\n",
    "    # Returning train and test daa\n",
    "    return data[:-60],data[-60:]"
   ]
  },
  {
   "cell_type": "code",
   "execution_count": null,
   "id": "c3e109b7-b864-423d-8046-1b45c9bd0a7c",
   "metadata": {},
   "outputs": [],
   "source": [
    "# Splitting data into train and test\n",
    "arkk_train,arkk_test = train_test_split(arkk)\n",
    "spy_train,spy_test = train_test_split(spy)\n",
    "fngu_train,fngu_test = train_test_split(fngu)"
   ]
  },
  {
   "cell_type": "markdown",
   "id": "ac0f3d14-980c-418f-9298-052339125242",
   "metadata": {},
   "source": [
    "## Create Model, Train Model & Forecast"
   ]
  },
  {
   "cell_type": "code",
   "execution_count": null,
   "id": "c5857fbe-b189-4a3b-9961-149fbc557b07",
   "metadata": {},
   "outputs": [],
   "source": [
    "# Method to create, train and forecast models\n",
    "def model_forecast(train,test):\n",
    "    # Create Prophet model\n",
    "    model = Prophet()\n",
    "    \n",
    "    # Train Prophet model\n",
    "    model.fit(train)\n",
    "    \n",
    "    # Saving forecacsts\n",
    "    forecast = model.predict(test)[['ds','yhat_lower']]\n",
    "\n",
    "    # Returning forecast\n",
    "    return forecast"
   ]
  },
  {
   "cell_type": "markdown",
   "id": "2eb59af5-6f56-432b-8e80-a79987e2aa43",
   "metadata": {},
   "source": [
    "### Forecasting"
   ]
  },
  {
   "cell_type": "code",
   "execution_count": null,
   "id": "65a76e86-3780-4726-80c8-c5fb108c78be",
   "metadata": {},
   "outputs": [],
   "source": [
    "# Saving forecast\n",
    "arkk_forecast, spy_forecast, fngu_forecast = [model_forecast(i[0],i[1]) for i in [(arkk_train,arkk_test),(spy_train,spy_test),(fngu_train,fngu_test)]]"
   ]
  },
  {
   "cell_type": "markdown",
   "id": "248ccbd5-ecdd-4c36-a1bd-9e31b0f37d31",
   "metadata": {},
   "source": [
    "## Evaluation"
   ]
  },
  {
   "cell_type": "code",
   "execution_count": null,
   "id": "8461eae8-9c4b-4131-ad14-f4f9aba6e97b",
   "metadata": {},
   "outputs": [],
   "source": [
    "def evaluate(ticker, forecast, test):\n",
    "    # Converting testing data and forecast to numpy arrays\n",
    "    test,forecast = [np.array(i) for i in [test['y'],forecast['yhat_lower']]]\n",
    "    \n",
    "    # Saving each metric as variable\n",
    "    mae = round(mean_absolute_error(test,forecast),2)\n",
    "    mse = round(mean_squared_error(test,forecast),2)\n",
    "    rmse = round(mse**.5,2)\n",
    "    \n",
    "    # Printing ETF ticker\n",
    "    print(ticker)\n",
    "    # Printing metrics\n",
    "    print(f'Mean Absolute Error: {mae}')\n",
    "    print(f'Mean Squared Error: {mse}')\n",
    "    print(f'Root Mean Squared Error: {rmse}')\n",
    "    \n",
    "    # Returning metrics\n",
    "    return [mae,mse,rmse]"
   ]
  },
  {
   "cell_type": "markdown",
   "id": "80e6092c-ba8c-406f-ab44-3ec220a0530d",
   "metadata": {},
   "source": [
    "### ARKK"
   ]
  },
  {
   "cell_type": "code",
   "execution_count": null,
   "id": "23a984ae-993b-415d-8c01-ba4422c37f49",
   "metadata": {},
   "outputs": [],
   "source": [
    "# Saving and printing ARKK metrics\n",
    "arkk_mae, arkk_mse, arkk_rmse = evaluate(tickers[0],arkk_forecast,arkk_test)"
   ]
  },
  {
   "cell_type": "markdown",
   "id": "f853c8a2-b73b-4690-a995-41cbd0d78bc1",
   "metadata": {},
   "source": [
    "### SPY"
   ]
  },
  {
   "cell_type": "code",
   "execution_count": null,
   "id": "2aa7a5f3-deaf-434c-8be1-7eab8edfe796",
   "metadata": {},
   "outputs": [],
   "source": [
    "# Saving and printing SPY metrics\n",
    "spy_mae, spy_mse, spy_rmse = evaluate(tickers[1],spy_forecast,spy_test)"
   ]
  },
  {
   "cell_type": "markdown",
   "id": "9f495413-36e3-4790-9902-4d885fe433c1",
   "metadata": {},
   "source": [
    "### FNGU"
   ]
  },
  {
   "cell_type": "code",
   "execution_count": null,
   "id": "16762124-ef2a-401a-ad2e-803c55b33258",
   "metadata": {},
   "outputs": [],
   "source": [
    "# Saving and printing FNGU metrics\n",
    "fngu_mae, fngu_mse, fngu_rmse = evaluate(tickers[2],fngu_forecast,fngu_test)"
   ]
  },
  {
   "cell_type": "code",
   "execution_count": null,
   "id": "f61a12f9-7977-425e-82e7-4bc3f8880ef8",
   "metadata": {},
   "outputs": [],
   "source": [
    "# Instantiating custom Plotter class\n",
    "plotter = Plotter('Prophet')"
   ]
  },
  {
   "cell_type": "code",
   "execution_count": null,
   "id": "6eb4ec76-a74a-49f2-8c77-d74d549cd381",
   "metadata": {},
   "outputs": [],
   "source": [
    "# Lambda helper method to create DataFrame of error metrics\n",
    "get_error_df = lambda a,s,f: pd.DataFrame({tickers[0]:a,tickers[1]:s,tickers[2]:f}, index=[0])"
   ]
  },
  {
   "cell_type": "markdown",
   "id": "d4878348-27fd-474e-a88d-cb24439d1098",
   "metadata": {},
   "source": [
    "### Mean Absolute Error"
   ]
  },
  {
   "cell_type": "code",
   "execution_count": null,
   "id": "c41b6869-eb14-42b9-8b6a-77d42da01603",
   "metadata": {},
   "outputs": [],
   "source": [
    "# Plotting MAS bar plot\n",
    "plotter.bar(get_error_df(arkk_mae,spy_mae,fngu_mae),'Mean Absolute Error')"
   ]
  },
  {
   "cell_type": "markdown",
   "id": "11f590a2-a5eb-4afa-9bba-dccf9405c4ff",
   "metadata": {},
   "source": [
    "### Mean Squared Error"
   ]
  },
  {
   "cell_type": "code",
   "execution_count": null,
   "id": "18b108ff-73d7-4876-81af-98dd61412434",
   "metadata": {},
   "outputs": [],
   "source": [
    "# Plotting MSE bar plot\n",
    "plotter.bar(get_error_df(arkk_mse,spy_mse,fngu_mse),'Mean Squared Error')"
   ]
  },
  {
   "cell_type": "markdown",
   "id": "19b031d8-5afc-490d-af33-d21a1a8a285f",
   "metadata": {},
   "source": [
    "### Root Mean Squared Error"
   ]
  },
  {
   "cell_type": "code",
   "execution_count": null,
   "id": "481d4083-e81b-4277-b925-ef5750889df4",
   "metadata": {},
   "outputs": [],
   "source": [
    "# Plotting RMSE bar plot\n",
    "plotter.bar(get_error_df(arkk_rmse,spy_rmse,fngu_rmse),'Root Mean Squared Error')"
   ]
  },
  {
   "cell_type": "markdown",
   "id": "1ee67f26-d987-46a2-9b12-90d34982b746",
   "metadata": {},
   "source": [
    "## Results"
   ]
  },
  {
   "cell_type": "markdown",
   "id": "84af2a14-8e54-4bb6-bd22-3b25e1a08e8b",
   "metadata": {},
   "source": [
    "### Actual vs Forecast"
   ]
  },
  {
   "cell_type": "code",
   "execution_count": null,
   "id": "604d064d-85d7-4def-8532-047eaf6ab7ad",
   "metadata": {},
   "outputs": [],
   "source": [
    "# Helper method to display DataFrame head and tail\n",
    "display_head_tail = lambda df: display(df.head(),df.tail())\n",
    "# Variable for titles\n",
    "avf = 'Actual vs Forecasted'\n",
    "# Helper method to get titles\n",
    "get_avf_title = lambda index: tickers[index] + ' ' + avf"
   ]
  },
  {
   "cell_type": "code",
   "execution_count": null,
   "id": "d249a80a-18f0-48bb-87d7-398f9e69953d",
   "metadata": {},
   "outputs": [],
   "source": [
    "# Helper method to get actual and forecasted adjusted closing prices as DataFrame\n",
    "def get_actual_forecast(ticker,X_test,forecast):\n",
    "    # Setting index as 'ds'\n",
    "    test,forecasted = [i.copy().set_index('ds') for i in [X_test,forecast]]\n",
    "    \n",
    "    # Joining DataFrames\n",
    "    df = pd.concat([test,forecasted], join='inner', axis=1)\n",
    "    # Rounding yhat_lower column to two decimal places\n",
    "    df['yhat_lower'] = df['yhat_lower'].apply(lambda x: round(x,2))\n",
    "    # Renaming columns\n",
    "    df.rename(columns={'yhat_lower': f'{ticker} Forecasted', 'y': f'{ticker} Actual'}, inplace=True)\n",
    "    # Renaming index\n",
    "    df.index.rename('Date',inplace=True)\n",
    "    \n",
    "    # Returning DataFrame\n",
    "    return df"
   ]
  },
  {
   "cell_type": "code",
   "execution_count": null,
   "id": "db5f3431-c209-4ddb-8ed7-b4da5bb43a15",
   "metadata": {},
   "outputs": [],
   "source": [
    "# Saving and displaying ARKK actual and forecasted adjusted closing prices\n",
    "arkk_actual_forecasted = get_actual_forecast(tickers[0],arkk_test,arkk_forecast)\n",
    "display_head_tail(arkk_actual_forecasted)"
   ]
  },
  {
   "cell_type": "code",
   "execution_count": null,
   "id": "f8b057b0-9957-4a83-84af-27d30928e852",
   "metadata": {},
   "outputs": [],
   "source": [
    "# Plotting ARKK actual vs forecasted adjusted closing prices\n",
    "plotter.line(arkk_actual_forecasted, get_avf_title(0)) "
   ]
  },
  {
   "cell_type": "code",
   "execution_count": null,
   "id": "de14a03b-b200-4642-b315-ca15a37ff759",
   "metadata": {},
   "outputs": [],
   "source": [
    "# Saving and displaying SPY actual and forecasted adjusted closing prices\n",
    "spy_actual_forecasted = get_actual_forecast(tickers[1],spy_test,spy_forecast)\n",
    "display_head_tail(spy_actual_forecasted)"
   ]
  },
  {
   "cell_type": "code",
   "execution_count": null,
   "id": "a50e0485-5e8c-4782-8b15-7d136364cebe",
   "metadata": {},
   "outputs": [],
   "source": [
    "# Plotting SPY actual vs forecasted adjusted closing prices\n",
    "plotter.line(spy_actual_forecasted, get_avf_title(1)) "
   ]
  },
  {
   "cell_type": "code",
   "execution_count": null,
   "id": "6fe35561-a446-43ef-85c6-cdeaee8ab01b",
   "metadata": {},
   "outputs": [],
   "source": [
    "# Saving and displaying FNGU actual and forecasted adjusted closing prices\n",
    "fngu_actual_forecasted = get_actual_forecast(tickers[2],fngu_test,fngu_forecast)\n",
    "display_head_tail(fngu_actual_forecasted)"
   ]
  },
  {
   "cell_type": "code",
   "execution_count": null,
   "id": "0592654c-5ac9-4570-aa68-ee4966a515bc",
   "metadata": {},
   "outputs": [],
   "source": [
    "# Plotting FNGU actual vs forecasted adjusted closing prices\n",
    "plotter.line(fngu_actual_forecasted, get_avf_title(2)) "
   ]
  },
  {
   "cell_type": "code",
   "execution_count": null,
   "id": "8548c822-d90f-442e-8f15-7c08641932bc",
   "metadata": {},
   "outputs": [],
   "source": [
    "# Saving and displaying ETF actual and forecasted adjusted closing prices\n",
    "actual_forecasted = pd.concat([arkk_actual_forecasted,spy_actual_forecasted,fngu_actual_forecasted], axis=1, join='inner')\n",
    "display_head_tail(actual_forecasted)"
   ]
  },
  {
   "cell_type": "code",
   "execution_count": null,
   "id": "7aa3edd6-ac55-49cb-9483-3583e5d56d11",
   "metadata": {},
   "outputs": [],
   "source": [
    "# Plotting ETF actual vs forecasted adjusted closing prices\n",
    "plotter.line(actual_forecasted, avf, None)"
   ]
  },
  {
   "cell_type": "markdown",
   "id": "2099350f-fcb1-4f48-9964-8f4ad642c015",
   "metadata": {},
   "source": [
    "### Training Data vs Actual vs Forecast"
   ]
  },
  {
   "cell_type": "code",
   "execution_count": null,
   "id": "c52e226c-f2c7-4f99-88ca-112bcd1e80e9",
   "metadata": {},
   "outputs": [],
   "source": [
    "# Creating DataFrame of training, actual and forecasted adjusted cloding prices\n",
    "training_data = etf_data[:-60].rename(columns={tickers[i]: tickers[i] + ' Training Data' for i in range(3)})\n",
    "train_actual_forecasted = pd.concat([training_data,actual_forecasted])"
   ]
  },
  {
   "cell_type": "code",
   "execution_count": null,
   "id": "b815dedc-8d8a-4964-9ee7-239ed2fbc5ae",
   "metadata": {},
   "outputs": [],
   "source": [
    "# Helper method to get DataFrame by ticker\n",
    "get_df_by_ticker = lambda ticker: train_actual_forecasted[[col for col in train_actual_forecasted if col.startswith(ticker)]]"
   ]
  },
  {
   "cell_type": "code",
   "execution_count": null,
   "id": "30965299-0bab-4d85-a578-49321980460c",
   "metadata": {},
   "outputs": [],
   "source": [
    "# Variable for title and lambda helper method to get title\n",
    "taf = 'Training Data vs Actual vs Forecasted'\n",
    "get_train_title = lambda index: tickers[index] + ' ' + taf"
   ]
  },
  {
   "cell_type": "code",
   "execution_count": null,
   "id": "4fa9fd49-7538-4670-81d5-2aa456fcda27",
   "metadata": {},
   "outputs": [],
   "source": [
    "# Saving and displaying ARKK data\n",
    "arrk_train_actual_forecasted = get_df_by_ticker(tickers[0])\n",
    "display_head_tail(arrk_train_actual_forecasted)"
   ]
  },
  {
   "cell_type": "code",
   "execution_count": null,
   "id": "e9eb9ebd-eacf-429e-8fbc-ee8a70bf7507",
   "metadata": {},
   "outputs": [],
   "source": [
    "# Plotting ARKK data\n",
    "plotter.line(arrk_train_actual_forecasted, get_train_title(0))"
   ]
  },
  {
   "cell_type": "code",
   "execution_count": null,
   "id": "3f00c2e3-9be4-4056-97cb-9f4e7c70c8ef",
   "metadata": {},
   "outputs": [],
   "source": [
    "# Saving and displaying SPY data\n",
    "spy_train_actual_forecasted = get_df_by_ticker(tickers[1])\n",
    "display_head_tail(spy_train_actual_forecasted)"
   ]
  },
  {
   "cell_type": "code",
   "execution_count": null,
   "id": "5f6f7202-bf63-402a-a70b-5d7cee43bc05",
   "metadata": {},
   "outputs": [],
   "source": [
    "# Plotting SPY data\n",
    "plotter.line(spy_train_actual_forecasted, get_train_title(1))"
   ]
  },
  {
   "cell_type": "code",
   "execution_count": null,
   "id": "c4dac101-e356-4cc6-b306-d9a71729af32",
   "metadata": {},
   "outputs": [],
   "source": [
    "# Saving and displaying FNGU data\n",
    "fngu_train_actual_forecasted = get_df_by_ticker(tickers[2])\n",
    "display_head_tail(fngu_train_actual_forecasted)"
   ]
  },
  {
   "cell_type": "code",
   "execution_count": null,
   "id": "cfa03749-b1bb-43a6-9ee4-4292c1ab9c3e",
   "metadata": {},
   "outputs": [],
   "source": [
    "# Plotting FNGU data\n",
    "plotter.line(fngu_train_actual_forecasted, get_train_title(2))"
   ]
  },
  {
   "cell_type": "code",
   "execution_count": null,
   "id": "4da372ad-e4b4-4458-ab48-a6ad2afd64d6",
   "metadata": {},
   "outputs": [],
   "source": [
    "# Displaying ETF data\n",
    "display_head_tail(train_actual_forecasted)"
   ]
  },
  {
   "cell_type": "code",
   "execution_count": null,
   "id": "bbb57c71-4d9a-4d70-8bd3-5d1b0ab0feee",
   "metadata": {},
   "outputs": [],
   "source": [
    "# Plotting ETF data\n",
    "plotter.line(train_actual_forecasted, taf, None)"
   ]
  }
 ],
 "metadata": {
  "kernelspec": {
   "display_name": "Python 3 (ipykernel)",
   "language": "python",
   "name": "python3"
  },
  "language_info": {
   "codemirror_mode": {
    "name": "ipython",
    "version": 3
   },
   "file_extension": ".py",
   "mimetype": "text/x-python",
   "name": "python",
   "nbconvert_exporter": "python",
   "pygments_lexer": "ipython3",
   "version": "3.9.13"
  }
 },
 "nbformat": 4,
 "nbformat_minor": 5
}
