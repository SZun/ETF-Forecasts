{
 "cells": [
  {
   "cell_type": "markdown",
   "id": "1f924286-2529-4ec2-a9a4-40a2b979b12c",
   "metadata": {},
   "source": [
    "# Facebook/Meta Prophet Model vs Tensorflow LSTM RNN Model"
   ]
  },
  {
   "cell_type": "markdown",
   "id": "158e5bbe-6ce4-4f6b-b5e7-0fbccbf134e0",
   "metadata": {},
   "source": [
    "## Write-Up"
   ]
  },
  {
   "cell_type": "markdown",
   "id": "8b50c0ee-e549-485a-a40d-d4a6b50f9008",
   "metadata": {},
   "source": [
    "## Conclusion"
   ]
  }
 ],
 "metadata": {
  "kernelspec": {
   "display_name": "Python 3 (ipykernel)",
   "language": "python",
   "name": "python3"
  },
  "language_info": {
   "codemirror_mode": {
    "name": "ipython",
    "version": 3
   },
   "file_extension": ".py",
   "mimetype": "text/x-python",
   "name": "python",
   "nbconvert_exporter": "python",
   "pygments_lexer": "ipython3",
   "version": "3.9.13"
  }
 },
 "nbformat": 4,
 "nbformat_minor": 5
}
