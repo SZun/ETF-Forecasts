{
 "cells": [
  {
   "cell_type": "markdown",
   "id": "6abf772f-4479-41a4-ae84-ef2f828cb776",
   "metadata": {},
   "source": [
    "# Data Preprocessing\n",
    "\n",
    "## The Data\n",
    "\n",
    "@TODO Add description of the data and where we got it from\n",
    "\n",
    "### Imports"
   ]
  },
  {
   "cell_type": "code",
   "execution_count": 26,
   "id": "8ece9ae9-a055-40a9-b5fc-04383971e5b8",
   "metadata": {},
   "outputs": [],
   "source": [
    "# Import modules\n",
    "\n",
    "# Import Yahoo Finance API\n",
    "import yfinance as yf\n",
    "# Import Pandas\n",
    "import pandas as pd\n",
    "# Import Path Class\n",
    "from pathlib import Path"
   ]
  },
  {
   "cell_type": "markdown",
   "id": "77918ad6-c517-4a59-8df2-8c97edbbc6b1",
   "metadata": {},
   "source": [
    "### Extract, Transform and Load"
   ]
  },
  {
   "cell_type": "code",
   "execution_count": 23,
   "id": "ee032d09-f252-4662-b46c-84d751c30b8c",
   "metadata": {},
   "outputs": [
    {
     "name": "stdout",
     "output_type": "stream",
     "text": [
      "[*********************100%***********************]  1 of 1 completed\n",
      "[*********************100%***********************]  1 of 1 completed\n",
      "[*********************100%***********************]  1 of 1 completed\n"
     ]
    }
   ],
   "source": [
    "# Create dictionary with ETF Adjusted Close prices, by Ticker, rounded to 2 decimal places\n",
    "etf_data = {i: yf.download(i, '2020-03-01','2022-03-31')['Adj Close'].apply(lambda x: round(x,2)).rename(i) for i in ['ARKK','SPY','FNGU']}\n",
    "# Save ETF Adjusted Close prices to CSV \n",
    "pd.DataFrame(etf_data).to_csv(Path(\"./Resources/Data/etf_data.csv\"))"
   ]
  }
 ],
 "metadata": {
  "kernelspec": {
   "display_name": "etf_forecasting_env",
   "language": "python",
   "name": "etf_forecasting_env"
  },
  "language_info": {
   "codemirror_mode": {
    "name": "ipython",
    "version": 3
   },
   "file_extension": ".py",
   "mimetype": "text/x-python",
   "name": "python",
   "nbconvert_exporter": "python",
   "pygments_lexer": "ipython3",
   "version": "3.9.13"
  }
 },
 "nbformat": 4,
 "nbformat_minor": 5
}
