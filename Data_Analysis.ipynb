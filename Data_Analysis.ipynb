{
 "cells": [
  {
   "cell_type": "markdown",
   "id": "6abf772f-4479-41a4-ae84-ef2f828cb776",
   "metadata": {},
   "source": [
    "# Data Preprocessing\n",
    "\n",
    "## The Data\n",
    "\n",
    "The data that used was pulled from Yahoo Finance. The focus of the data was on three ETFs: ARKK, SPY, and FNGU. The timeframe of the data is from March of 2020 to March of 2022. To get a clear review and analysis of the data we used the \"Adjusted Close\" price.\n",
    "\n",
    "### Imports"
   ]
  },
  {
   "cell_type": "code",
   "execution_count": 16,
   "id": "8ece9ae9-a055-40a9-b5fc-04383971e5b8",
   "metadata": {},
   "outputs": [],
   "source": [
    "# Import modules\n",
    "\n",
    "# Import Yahoo Finance API\n",
    "import yfinance as yf\n",
    "# Import Pandas\n",
    "import pandas as pd\n",
    "# Import Path Class\n",
    "from pathlib import Path\n",
    "# Import custom plotting class\n",
    "from plotting import Plotter"
   ]
  },
  {
   "cell_type": "code",
   "execution_count": 17,
   "id": "5bca47aa-af7c-4c3c-ac16-6fc9fd4cecd4",
   "metadata": {},
   "outputs": [],
   "source": [
    "# Set global variable for tickers\n",
    "tickers = ['ARKK','SPY','FNGU']"
   ]
  },
  {
   "cell_type": "markdown",
   "id": "918ae30f-d6aa-4bb4-9fc8-8522ca2bf8bf",
   "metadata": {
    "tags": []
   },
   "source": [
    "### Extract, Transform and Load"
   ]
  },
  {
   "cell_type": "code",
   "execution_count": 18,
   "id": "5646d69b-4765-4912-844d-a4a20b16368e",
   "metadata": {},
   "outputs": [
    {
     "name": "stdout",
     "output_type": "stream",
     "text": [
      "[*********************100%***********************]  1 of 1 completed\n",
      "[*********************100%***********************]  1 of 1 completed\n",
      "[*********************100%***********************]  1 of 1 completed\n"
     ]
    }
   ],
   "source": [
    "## Extract, transform and load etf data\n",
    "etfs = pd.DataFrame({i: yf.download(i, '2020-03-01','2022-03-31')['Adj Close'].apply(lambda x: round(x,2)).rename(i) for i in tickers})"
   ]
  },
  {
   "cell_type": "markdown",
   "id": "b18332b0-e88e-4439-9892-0eb49c053e5a",
   "metadata": {},
   "source": [
    "## Data Exploration"
   ]
  },
  {
   "cell_type": "code",
   "execution_count": 19,
   "id": "7fa7bfcd-765b-4f55-97ec-3384eac12ebf",
   "metadata": {},
   "outputs": [],
   "source": [
    "# Lambda method to display head and tail of DataFrame\n",
    "display_head_tail = lambda df: display(df.head(),df.tail())\n",
    "# Instantiating instance of Plotter class\n",
    "plotter = Plotter()"
   ]
  },
  {
   "cell_type": "markdown",
   "id": "6b32199a-4f4e-4ff8-9d63-1654bade8440",
   "metadata": {},
   "source": [
    "### ETFs"
   ]
  },
  {
   "cell_type": "code",
   "execution_count": 20,
   "id": "c987d0c4-cf76-4ae4-b90a-e2bc2b3e1cc6",
   "metadata": {},
   "outputs": [
    {
     "data": {
      "text/html": [
       "<div>\n",
       "<style scoped>\n",
       "    .dataframe tbody tr th:only-of-type {\n",
       "        vertical-align: middle;\n",
       "    }\n",
       "\n",
       "    .dataframe tbody tr th {\n",
       "        vertical-align: top;\n",
       "    }\n",
       "\n",
       "    .dataframe thead th {\n",
       "        text-align: right;\n",
       "    }\n",
       "</style>\n",
       "<table border=\"1\" class=\"dataframe\">\n",
       "  <thead>\n",
       "    <tr style=\"text-align: right;\">\n",
       "      <th></th>\n",
       "      <th>ARKK</th>\n",
       "      <th>SPY</th>\n",
       "      <th>FNGU</th>\n",
       "    </tr>\n",
       "    <tr>\n",
       "      <th>Date</th>\n",
       "      <th></th>\n",
       "      <th></th>\n",
       "      <th></th>\n",
       "    </tr>\n",
       "  </thead>\n",
       "  <tbody>\n",
       "    <tr>\n",
       "      <th>2020-03-02</th>\n",
       "      <td>52.79</td>\n",
       "      <td>294.65</td>\n",
       "      <td>80.15</td>\n",
       "    </tr>\n",
       "    <tr>\n",
       "      <th>2020-03-03</th>\n",
       "      <td>51.73</td>\n",
       "      <td>286.22</td>\n",
       "      <td>73.85</td>\n",
       "    </tr>\n",
       "    <tr>\n",
       "      <th>2020-03-04</th>\n",
       "      <td>53.49</td>\n",
       "      <td>298.25</td>\n",
       "      <td>80.57</td>\n",
       "    </tr>\n",
       "    <tr>\n",
       "      <th>2020-03-05</th>\n",
       "      <td>52.24</td>\n",
       "      <td>288.33</td>\n",
       "      <td>73.80</td>\n",
       "    </tr>\n",
       "    <tr>\n",
       "      <th>2020-03-06</th>\n",
       "      <td>50.87</td>\n",
       "      <td>283.57</td>\n",
       "      <td>68.17</td>\n",
       "    </tr>\n",
       "  </tbody>\n",
       "</table>\n",
       "</div>"
      ],
      "text/plain": [
       "             ARKK     SPY   FNGU\n",
       "Date                            \n",
       "2020-03-02  52.79  294.65  80.15\n",
       "2020-03-03  51.73  286.22  73.85\n",
       "2020-03-04  53.49  298.25  80.57\n",
       "2020-03-05  52.24  288.33  73.80\n",
       "2020-03-06  50.87  283.57  68.17"
      ]
     },
     "metadata": {},
     "output_type": "display_data"
    },
    {
     "data": {
      "text/html": [
       "<div>\n",
       "<style scoped>\n",
       "    .dataframe tbody tr th:only-of-type {\n",
       "        vertical-align: middle;\n",
       "    }\n",
       "\n",
       "    .dataframe tbody tr th {\n",
       "        vertical-align: top;\n",
       "    }\n",
       "\n",
       "    .dataframe thead th {\n",
       "        text-align: right;\n",
       "    }\n",
       "</style>\n",
       "<table border=\"1\" class=\"dataframe\">\n",
       "  <thead>\n",
       "    <tr style=\"text-align: right;\">\n",
       "      <th></th>\n",
       "      <th>ARKK</th>\n",
       "      <th>SPY</th>\n",
       "      <th>FNGU</th>\n",
       "    </tr>\n",
       "    <tr>\n",
       "      <th>Date</th>\n",
       "      <th></th>\n",
       "      <th></th>\n",
       "      <th></th>\n",
       "    </tr>\n",
       "  </thead>\n",
       "  <tbody>\n",
       "    <tr>\n",
       "      <th>2022-03-24</th>\n",
       "      <td>66.40</td>\n",
       "      <td>444.68</td>\n",
       "      <td>236.0</td>\n",
       "    </tr>\n",
       "    <tr>\n",
       "      <th>2022-03-25</th>\n",
       "      <td>64.51</td>\n",
       "      <td>446.85</td>\n",
       "      <td>233.4</td>\n",
       "    </tr>\n",
       "    <tr>\n",
       "      <th>2022-03-28</th>\n",
       "      <td>67.06</td>\n",
       "      <td>450.03</td>\n",
       "      <td>247.0</td>\n",
       "    </tr>\n",
       "    <tr>\n",
       "      <th>2022-03-29</th>\n",
       "      <td>71.39</td>\n",
       "      <td>455.59</td>\n",
       "      <td>257.7</td>\n",
       "    </tr>\n",
       "    <tr>\n",
       "      <th>2022-03-30</th>\n",
       "      <td>68.68</td>\n",
       "      <td>452.78</td>\n",
       "      <td>247.5</td>\n",
       "    </tr>\n",
       "  </tbody>\n",
       "</table>\n",
       "</div>"
      ],
      "text/plain": [
       "             ARKK     SPY   FNGU\n",
       "Date                            \n",
       "2022-03-24  66.40  444.68  236.0\n",
       "2022-03-25  64.51  446.85  233.4\n",
       "2022-03-28  67.06  450.03  247.0\n",
       "2022-03-29  71.39  455.59  257.7\n",
       "2022-03-30  68.68  452.78  247.5"
      ]
     },
     "metadata": {},
     "output_type": "display_data"
    }
   ],
   "source": [
    "# Displaying head/tail of ETFs\n",
    "display_head_tail(etfs)"
   ]
  },
  {
   "cell_type": "code",
   "execution_count": 21,
   "id": "a1021809-6d91-4880-8f5b-093580f45c75",
   "metadata": {},
   "outputs": [
    {
     "data": {},
     "metadata": {},
     "output_type": "display_data"
    },
    {
     "data": {
      "application/vnd.holoviews_exec.v0+json": "",
      "text/html": [
       "<div id='4216'>\n",
       "  <div class=\"bk-root\" id=\"55ef4169-0090-42af-ac91-ce9c6d6fb99e\" data-root-id=\"4216\"></div>\n",
       "</div>\n",
       "<script type=\"application/javascript\">(function(root) {\n",
       "  function embed_document(root) {\n",
       "    var docs_json = {\"0dab7cc1-bf62-4e7f-a399-76023485f651\":{\"defs\":[{\"extends\":null,\"module\":null,\"name\":\"ReactiveHTML1\",\"overrides\":[],\"properties\":[]},{\"extends\":null,\"module\":null,\"name\":\"FlexBox1\",\"overrides\":[],\"properties\":[{\"default\":\"flex-start\",\"kind\":null,\"name\":\"align_content\"},{\"default\":\"flex-start\",\"kind\":null,\"name\":\"align_items\"},{\"default\":\"row\",\"kind\":null,\"name\":\"flex_direction\"},{\"default\":\"wrap\",\"kind\":null,\"name\":\"flex_wrap\"},{\"default\":\"flex-start\",\"kind\":null,\"name\":\"justify_content\"}]},{\"extends\":null,\"module\":null,\"name\":\"GridStack1\",\"overrides\":[],\"properties\":[{\"default\":\"warn\",\"kind\":null,\"name\":\"mode\"},{\"default\":null,\"kind\":null,\"name\":\"ncols\"},{\"default\":null,\"kind\":null,\"name\":\"nrows\"},{\"default\":true,\"kind\":null,\"name\":\"allow_resize\"},{\"default\":true,\"kind\":null,\"name\":\"allow_drag\"},{\"default\":[],\"kind\":null,\"name\":\"state\"}]},{\"extends\":null,\"module\":null,\"name\":\"click1\",\"overrides\":[],\"properties\":[{\"default\":\"\",\"kind\":null,\"name\":\"terminal_output\"},{\"default\":\"\",\"kind\":null,\"name\":\"debug_name\"},{\"default\":0,\"kind\":null,\"name\":\"clears\"}]},{\"extends\":null,\"module\":null,\"name\":\"NotificationAreaBase1\",\"overrides\":[],\"properties\":[{\"default\":\"bottom-right\",\"kind\":null,\"name\":\"position\"},{\"default\":0,\"kind\":null,\"name\":\"_clear\"}]},{\"extends\":null,\"module\":null,\"name\":\"NotificationArea1\",\"overrides\":[],\"properties\":[{\"default\":[],\"kind\":null,\"name\":\"notifications\"},{\"default\":\"bottom-right\",\"kind\":null,\"name\":\"position\"},{\"default\":0,\"kind\":null,\"name\":\"_clear\"},{\"default\":[{\"background\":\"#ffc107\",\"icon\":{\"className\":\"fas fa-exclamation-triangle\",\"color\":\"white\",\"tagName\":\"i\"},\"type\":\"warning\"},{\"background\":\"#007bff\",\"icon\":{\"className\":\"fas fa-info-circle\",\"color\":\"white\",\"tagName\":\"i\"},\"type\":\"info\"}],\"kind\":null,\"name\":\"types\"}]},{\"extends\":null,\"module\":null,\"name\":\"Notification\",\"overrides\":[],\"properties\":[{\"default\":null,\"kind\":null,\"name\":\"background\"},{\"default\":3000,\"kind\":null,\"name\":\"duration\"},{\"default\":null,\"kind\":null,\"name\":\"icon\"},{\"default\":\"\",\"kind\":null,\"name\":\"message\"},{\"default\":null,\"kind\":null,\"name\":\"notification_type\"},{\"default\":false,\"kind\":null,\"name\":\"_destroyed\"}]},{\"extends\":null,\"module\":null,\"name\":\"TemplateActions1\",\"overrides\":[],\"properties\":[{\"default\":0,\"kind\":null,\"name\":\"open_modal\"},{\"default\":0,\"kind\":null,\"name\":\"close_modal\"}]},{\"extends\":null,\"module\":null,\"name\":\"MaterialTemplateActions1\",\"overrides\":[],\"properties\":[{\"default\":0,\"kind\":null,\"name\":\"open_modal\"},{\"default\":0,\"kind\":null,\"name\":\"close_modal\"}]}],\"roots\":{\"references\":[{\"attributes\":{\"line_alpha\":0.2,\"line_color\":\"#30a2da\",\"line_width\":3,\"x\":{\"field\":\"Date\"},\"y\":{\"field\":\"value\"}},\"id\":\"4267\",\"type\":\"Line\"},{\"attributes\":{\"callback\":null,\"formatters\":{\"@{Date}\":\"datetime\"},\"renderers\":[{\"id\":\"4268\"},{\"id\":\"4302\"},{\"id\":\"4337\"}],\"tags\":[\"hv_created\"],\"tooltips\":[[\"Adjusted Close Price\",\"@{Adjusted_Close_Price}\"],[\"Date\",\"@{Date}{%F %T}\"],[\"value\",\"@{value}\"]]},\"id\":\"4220\",\"type\":\"HoverTool\"},{\"attributes\":{\"line_alpha\":0.7,\"line_color\":\"#30a2da\",\"line_width\":3,\"x\":{\"field\":\"Date\"},\"y\":{\"field\":\"value\"}},\"id\":\"4264\",\"type\":\"Line\"},{\"attributes\":{\"months\":[0,2,4,6,8,10]},\"id\":\"4288\",\"type\":\"MonthsTicker\"},{\"attributes\":{},\"id\":\"4262\",\"type\":\"Selection\"},{\"attributes\":{},\"id\":\"4350\",\"type\":\"UnionRenderers\"},{\"attributes\":{\"line_color\":\"#e5ae38\",\"line_width\":5,\"x\":{\"field\":\"Date\"},\"y\":{\"field\":\"value\"}},\"id\":\"4335\",\"type\":\"Line\"},{\"attributes\":{},\"id\":\"4257\",\"type\":\"BasicTickFormatter\"},{\"attributes\":{},\"id\":\"4313\",\"type\":\"UnionRenderers\"},{\"attributes\":{},\"id\":\"4331\",\"type\":\"Selection\"},{\"attributes\":{\"click_policy\":\"mute\",\"coordinates\":null,\"group\":null,\"items\":[{\"id\":\"4293\"},{\"id\":\"4328\"},{\"id\":\"4365\"}],\"label_text_font_size\":\"11pt\",\"location\":[0,0],\"title\":\"Adjusted Close Price\",\"title_text_font_size\":\"14pt\"},\"id\":\"4292\",\"type\":\"Legend\"},{\"attributes\":{\"tools\":[{\"id\":\"4220\"},{\"id\":\"4240\"},{\"id\":\"4241\"},{\"id\":\"4242\"},{\"id\":\"4243\"},{\"id\":\"4244\"}]},\"id\":\"4246\",\"type\":\"Toolbar\"},{\"attributes\":{\"coordinates\":null,\"data_source\":{\"id\":\"4295\"},\"glyph\":{\"id\":\"4298\"},\"group\":null,\"hover_glyph\":{\"id\":\"4300\"},\"muted_glyph\":{\"id\":\"4301\"},\"nonselection_glyph\":{\"id\":\"4299\"},\"selection_glyph\":{\"id\":\"4329\"},\"view\":{\"id\":\"4303\"}},\"id\":\"4302\",\"type\":\"GlyphRenderer\"},{\"attributes\":{\"source\":{\"id\":\"4261\"}},\"id\":\"4269\",\"type\":\"CDSView\"},{\"attributes\":{},\"id\":\"4244\",\"type\":\"ResetTool\"},{\"attributes\":{\"background_fill_color\":\"#F5F5F5\",\"below\":[{\"id\":\"4232\"}],\"center\":[{\"id\":\"4235\"},{\"id\":\"4239\"}],\"height\":750,\"left\":[{\"id\":\"4236\"}],\"margin\":[5,5,5,5],\"min_border_bottom\":10,\"min_border_left\":10,\"min_border_right\":10,\"min_border_top\":10,\"renderers\":[{\"id\":\"4268\"},{\"id\":\"4302\"},{\"id\":\"4337\"}],\"right\":[{\"id\":\"4292\"}],\"sizing_mode\":\"fixed\",\"title\":{\"id\":\"4224\"},\"toolbar\":{\"id\":\"4246\"},\"width\":1500,\"x_range\":{\"id\":\"4218\"},\"x_scale\":{\"id\":\"4228\"},\"y_range\":{\"id\":\"4219\"},\"y_scale\":{\"id\":\"4230\"}},\"id\":\"4223\",\"subtype\":\"Figure\",\"type\":\"Plot\"},{\"attributes\":{},\"id\":\"4255\",\"type\":\"AllLabels\"},{\"attributes\":{\"line_color\":\"#30a2da\",\"line_width\":5,\"x\":{\"field\":\"Date\"},\"y\":{\"field\":\"value\"}},\"id\":\"4266\",\"type\":\"Line\"},{\"attributes\":{\"end\":1648598400000.0,\"reset_end\":1648598400000.0,\"reset_start\":1583107200000.0,\"start\":1583107200000.0,\"tags\":[[[\"Date\",\"Date\",null]]]},\"id\":\"4218\",\"type\":\"Range1d\"},{\"attributes\":{\"line_alpha\":0.7,\"line_color\":\"#30a2da\",\"line_width\":3,\"x\":{\"field\":\"Date\"},\"y\":{\"field\":\"value\"}},\"id\":\"4265\",\"type\":\"Line\"},{\"attributes\":{\"overlay\":{\"id\":\"4245\"}},\"id\":\"4243\",\"type\":\"BoxZoomTool\"},{\"attributes\":{},\"id\":\"4258\",\"type\":\"AllLabels\"},{\"attributes\":{\"label\":{\"value\":\"SPY\"},\"renderers\":[{\"id\":\"4302\"}]},\"id\":\"4328\",\"type\":\"LegendItem\"},{\"attributes\":{\"line_alpha\":0.7,\"line_color\":\"#e5ae38\",\"line_width\":3,\"x\":{\"field\":\"Date\"},\"y\":{\"field\":\"value\"}},\"id\":\"4334\",\"type\":\"Line\"},{\"attributes\":{\"months\":[0,4,8]},\"id\":\"4289\",\"type\":\"MonthsTicker\"},{\"attributes\":{},\"id\":\"4240\",\"type\":\"SaveTool\"},{\"attributes\":{\"base\":24,\"mantissas\":[1,2,4,6,8,12],\"max_interval\":43200000.0,\"min_interval\":3600000.0,\"num_minor_ticks\":0},\"id\":\"4282\",\"type\":\"AdaptiveTicker\"},{\"attributes\":{\"end\":533.38,\"reset_end\":533.38,\"reset_start\":-19.580000000000005,\"start\":-19.580000000000005,\"tags\":[[[\"value\",\"value\",null]]]},\"id\":\"4219\",\"type\":\"Range1d\"},{\"attributes\":{\"margin\":[5,5,5,5],\"name\":\"HSpacer01641\",\"sizing_mode\":\"stretch_width\"},\"id\":\"4217\",\"type\":\"Spacer\"},{\"attributes\":{\"line_alpha\":0.7,\"line_color\":\"#fc4f30\",\"line_width\":3,\"x\":{\"field\":\"Date\"},\"y\":{\"field\":\"value\"}},\"id\":\"4298\",\"type\":\"Line\"},{\"attributes\":{\"label\":{\"value\":\"ARKK\"},\"renderers\":[{\"id\":\"4268\"}]},\"id\":\"4293\",\"type\":\"LegendItem\"},{\"attributes\":{\"children\":[{\"id\":\"4217\"},{\"id\":\"4223\"},{\"id\":\"4393\"}],\"margin\":[0,0,0,0],\"name\":\"Row01637\",\"tags\":[\"embedded\"]},\"id\":\"4216\",\"type\":\"Row\"},{\"attributes\":{\"days\":[1,15]},\"id\":\"4286\",\"type\":\"DaysTicker\"},{\"attributes\":{\"base\":60,\"mantissas\":[1,2,5,10,15,20,30],\"max_interval\":1800000.0,\"min_interval\":1000.0,\"num_minor_ticks\":0},\"id\":\"4281\",\"type\":\"AdaptiveTicker\"},{\"attributes\":{\"days\":[1,8,15,22]},\"id\":\"4285\",\"type\":\"DaysTicker\"},{\"attributes\":{},\"id\":\"4254\",\"type\":\"DatetimeTickFormatter\"},{\"attributes\":{\"months\":[0,1,2,3,4,5,6,7,8,9,10,11]},\"id\":\"4287\",\"type\":\"MonthsTicker\"},{\"attributes\":{\"coordinates\":null,\"data_source\":{\"id\":\"4261\"},\"glyph\":{\"id\":\"4264\"},\"group\":null,\"hover_glyph\":{\"id\":\"4266\"},\"muted_glyph\":{\"id\":\"4267\"},\"nonselection_glyph\":{\"id\":\"4265\"},\"selection_glyph\":{\"id\":\"4294\"},\"view\":{\"id\":\"4269\"}},\"id\":\"4268\",\"type\":\"GlyphRenderer\"},{\"attributes\":{},\"id\":\"4291\",\"type\":\"YearsTicker\"},{\"attributes\":{\"line_alpha\":0.7,\"line_color\":\"#fc4f30\",\"line_width\":3,\"x\":{\"field\":\"Date\"},\"y\":{\"field\":\"value\"}},\"id\":\"4299\",\"type\":\"Line\"},{\"attributes\":{\"months\":[0,6]},\"id\":\"4290\",\"type\":\"MonthsTicker\"},{\"attributes\":{\"coordinates\":null,\"data_source\":{\"id\":\"4330\"},\"glyph\":{\"id\":\"4333\"},\"group\":null,\"hover_glyph\":{\"id\":\"4335\"},\"muted_glyph\":{\"id\":\"4336\"},\"nonselection_glyph\":{\"id\":\"4334\"},\"selection_glyph\":{\"id\":\"4366\"},\"view\":{\"id\":\"4338\"}},\"id\":\"4337\",\"type\":\"GlyphRenderer\"},{\"attributes\":{\"days\":[1,4,7,10,13,16,19,22,25,28]},\"id\":\"4284\",\"type\":\"DaysTicker\"},{\"attributes\":{\"days\":[1,2,3,4,5,6,7,8,9,10,11,12,13,14,15,16,17,18,19,20,21,22,23,24,25,26,27,28,29,30,31]},\"id\":\"4283\",\"type\":\"DaysTicker\"},{\"attributes\":{\"line_color\":\"#fc4f30\",\"line_width\":5,\"x\":{\"field\":\"Date\"},\"y\":{\"field\":\"value\"}},\"id\":\"4300\",\"type\":\"Line\"},{\"attributes\":{},\"id\":\"4242\",\"type\":\"WheelZoomTool\"},{\"attributes\":{\"source\":{\"id\":\"4330\"}},\"id\":\"4338\",\"type\":\"CDSView\"},{\"attributes\":{\"axis\":{\"id\":\"4236\"},\"coordinates\":null,\"dimension\":1,\"group\":null,\"ticker\":{\"id\":\"4237\"}},\"id\":\"4239\",\"type\":\"Grid\"},{\"attributes\":{\"source\":{\"id\":\"4295\"}},\"id\":\"4303\",\"type\":\"CDSView\"},{\"attributes\":{},\"id\":\"4237\",\"type\":\"BasicTicker\"},{\"attributes\":{\"line_alpha\":0.2,\"line_color\":\"#fc4f30\",\"line_width\":3,\"x\":{\"field\":\"Date\"},\"y\":{\"field\":\"value\"}},\"id\":\"4301\",\"type\":\"Line\"},{\"attributes\":{\"margin\":[5,5,5,5],\"name\":\"HSpacer01642\",\"sizing_mode\":\"stretch_width\"},\"id\":\"4393\",\"type\":\"Spacer\"},{\"attributes\":{\"axis_label\":\"Date\",\"axis_label_text_font_size\":\"15pt\",\"coordinates\":null,\"formatter\":{\"id\":\"4254\"},\"group\":null,\"major_label_orientation\":0.7853981633974483,\"major_label_policy\":{\"id\":\"4255\"},\"major_label_text_font_size\":\"10pt\",\"ticker\":{\"id\":\"4233\"}},\"id\":\"4232\",\"type\":\"DatetimeAxis\"},{\"attributes\":{\"label\":{\"value\":\"FNGU\"},\"renderers\":[{\"id\":\"4337\"}]},\"id\":\"4365\",\"type\":\"LegendItem\"},{\"attributes\":{\"bottom_units\":\"screen\",\"coordinates\":null,\"fill_alpha\":0.5,\"fill_color\":\"lightgrey\",\"group\":null,\"left_units\":\"screen\",\"level\":\"overlay\",\"line_alpha\":1.0,\"line_color\":\"black\",\"line_dash\":[4,4],\"line_width\":2,\"right_units\":\"screen\",\"syncable\":false,\"top_units\":\"screen\"},\"id\":\"4245\",\"type\":\"BoxAnnotation\"},{\"attributes\":{\"data\":{\"Adjusted_Close_Price\":[\"FNGU\",\"FNGU\",\"FNGU\",\"FNGU\",\"FNGU\",\"FNGU\",\"FNGU\",\"FNGU\",\"FNGU\",\"FNGU\",\"FNGU\",\"FNGU\",\"FNGU\",\"FNGU\",\"FNGU\",\"FNGU\",\"FNGU\",\"FNGU\",\"FNGU\",\"FNGU\",\"FNGU\",\"FNGU\",\"FNGU\",\"FNGU\",\"FNGU\",\"FNGU\",\"FNGU\",\"FNGU\",\"FNGU\",\"FNGU\",\"FNGU\",\"FNGU\",\"FNGU\",\"FNGU\",\"FNGU\",\"FNGU\",\"FNGU\",\"FNGU\",\"FNGU\",\"FNGU\",\"FNGU\",\"FNGU\",\"FNGU\",\"FNGU\",\"FNGU\",\"FNGU\",\"FNGU\",\"FNGU\",\"FNGU\",\"FNGU\",\"FNGU\",\"FNGU\",\"FNGU\",\"FNGU\",\"FNGU\",\"FNGU\",\"FNGU\",\"FNGU\",\"FNGU\",\"FNGU\",\"FNGU\",\"FNGU\",\"FNGU\",\"FNGU\",\"FNGU\",\"FNGU\",\"FNGU\",\"FNGU\",\"FNGU\",\"FNGU\",\"FNGU\",\"FNGU\",\"FNGU\",\"FNGU\",\"FNGU\",\"FNGU\",\"FNGU\",\"FNGU\",\"FNGU\",\"FNGU\",\"FNGU\",\"FNGU\",\"FNGU\",\"FNGU\",\"FNGU\",\"FNGU\",\"FNGU\",\"FNGU\",\"FNGU\",\"FNGU\",\"FNGU\",\"FNGU\",\"FNGU\",\"FNGU\",\"FNGU\",\"FNGU\",\"FNGU\",\"FNGU\",\"FNGU\",\"FNGU\",\"FNGU\",\"FNGU\",\"FNGU\",\"FNGU\",\"FNGU\",\"FNGU\",\"FNGU\",\"FNGU\",\"FNGU\",\"FNGU\",\"FNGU\",\"FNGU\",\"FNGU\",\"FNGU\",\"FNGU\",\"FNGU\",\"FNGU\",\"FNGU\",\"FNGU\",\"FNGU\",\"FNGU\",\"FNGU\",\"FNGU\",\"FNGU\",\"FNGU\",\"FNGU\",\"FNGU\",\"FNGU\",\"FNGU\",\"FNGU\",\"FNGU\",\"FNGU\",\"FNGU\",\"FNGU\",\"FNGU\",\"FNGU\",\"FNGU\",\"FNGU\",\"FNGU\",\"FNGU\",\"FNGU\",\"FNGU\",\"FNGU\",\"FNGU\",\"FNGU\",\"FNGU\",\"FNGU\",\"FNGU\",\"FNGU\",\"FNGU\",\"FNGU\",\"FNGU\",\"FNGU\",\"FNGU\",\"FNGU\",\"FNGU\",\"FNGU\",\"FNGU\",\"FNGU\",\"FNGU\",\"FNGU\",\"FNGU\",\"FNGU\",\"FNGU\",\"FNGU\",\"FNGU\",\"FNGU\",\"FNGU\",\"FNGU\",\"FNGU\",\"FNGU\",\"FNGU\",\"FNGU\",\"FNGU\",\"FNGU\",\"FNGU\",\"FNGU\",\"FNGU\",\"FNGU\",\"FNGU\",\"FNGU\",\"FNGU\",\"FNGU\",\"FNGU\",\"FNGU\",\"FNGU\",\"FNGU\",\"FNGU\",\"FNGU\",\"FNGU\",\"FNGU\",\"FNGU\",\"FNGU\",\"FNGU\",\"FNGU\",\"FNGU\",\"FNGU\",\"FNGU\",\"FNGU\",\"FNGU\",\"FNGU\",\"FNGU\",\"FNGU\",\"FNGU\",\"FNGU\",\"FNGU\",\"FNGU\",\"FNGU\",\"FNGU\",\"FNGU\",\"FNGU\",\"FNGU\",\"FNGU\",\"FNGU\",\"FNGU\",\"FNGU\",\"FNGU\",\"FNGU\",\"FNGU\",\"FNGU\",\"FNGU\",\"FNGU\",\"FNGU\",\"FNGU\",\"FNGU\",\"FNGU\",\"FNGU\",\"FNGU\",\"FNGU\",\"FNGU\",\"FNGU\",\"FNGU\",\"FNGU\",\"FNGU\",\"FNGU\",\"FNGU\",\"FNGU\",\"FNGU\",\"FNGU\",\"FNGU\",\"FNGU\",\"FNGU\",\"FNGU\",\"FNGU\",\"FNGU\",\"FNGU\",\"FNGU\",\"FNGU\",\"FNGU\",\"FNGU\",\"FNGU\",\"FNGU\",\"FNGU\",\"FNGU\",\"FNGU\",\"FNGU\",\"FNGU\",\"FNGU\",\"FNGU\",\"FNGU\",\"FNGU\",\"FNGU\",\"FNGU\",\"FNGU\",\"FNGU\",\"FNGU\",\"FNGU\",\"FNGU\",\"FNGU\",\"FNGU\",\"FNGU\",\"FNGU\",\"FNGU\",\"FNGU\",\"FNGU\",\"FNGU\",\"FNGU\",\"FNGU\",\"FNGU\",\"FNGU\",\"FNGU\",\"FNGU\",\"FNGU\",\"FNGU\",\"FNGU\",\"FNGU\",\"FNGU\",\"FNGU\",\"FNGU\",\"FNGU\",\"FNGU\",\"FNGU\",\"FNGU\",\"FNGU\",\"FNGU\",\"FNGU\",\"FNGU\",\"FNGU\",\"FNGU\",\"FNGU\",\"FNGU\",\"FNGU\",\"FNGU\",\"FNGU\",\"FNGU\",\"FNGU\",\"FNGU\",\"FNGU\",\"FNGU\",\"FNGU\",\"FNGU\",\"FNGU\",\"FNGU\",\"FNGU\",\"FNGU\",\"FNGU\",\"FNGU\",\"FNGU\",\"FNGU\",\"FNGU\",\"FNGU\",\"FNGU\",\"FNGU\",\"FNGU\",\"FNGU\",\"FNGU\",\"FNGU\",\"FNGU\",\"FNGU\",\"FNGU\",\"FNGU\",\"FNGU\",\"FNGU\",\"FNGU\",\"FNGU\",\"FNGU\",\"FNGU\",\"FNGU\",\"FNGU\",\"FNGU\",\"FNGU\",\"FNGU\",\"FNGU\",\"FNGU\",\"FNGU\",\"FNGU\",\"FNGU\",\"FNGU\",\"FNGU\",\"FNGU\",\"FNGU\",\"FNGU\",\"FNGU\",\"FNGU\",\"FNGU\",\"FNGU\",\"FNGU\",\"FNGU\",\"FNGU\",\"FNGU\",\"FNGU\",\"FNGU\",\"FNGU\",\"FNGU\",\"FNGU\",\"FNGU\",\"FNGU\",\"FNGU\",\"FNGU\",\"FNGU\",\"FNGU\",\"FNGU\",\"FNGU\",\"FNGU\",\"FNGU\",\"FNGU\",\"FNGU\",\"FNGU\",\"FNGU\",\"FNGU\",\"FNGU\",\"FNGU\",\"FNGU\",\"FNGU\",\"FNGU\",\"FNGU\",\"FNGU\",\"FNGU\",\"FNGU\",\"FNGU\",\"FNGU\",\"FNGU\",\"FNGU\",\"FNGU\",\"FNGU\",\"FNGU\",\"FNGU\",\"FNGU\",\"FNGU\",\"FNGU\",\"FNGU\",\"FNGU\",\"FNGU\",\"FNGU\",\"FNGU\",\"FNGU\",\"FNGU\",\"FNGU\",\"FNGU\",\"FNGU\",\"FNGU\",\"FNGU\",\"FNGU\",\"FNGU\",\"FNGU\",\"FNGU\",\"FNGU\",\"FNGU\",\"FNGU\",\"FNGU\",\"FNGU\",\"FNGU\",\"FNGU\",\"FNGU\",\"FNGU\",\"FNGU\",\"FNGU\",\"FNGU\",\"FNGU\",\"FNGU\",\"FNGU\",\"FNGU\",\"FNGU\",\"FNGU\",\"FNGU\",\"FNGU\",\"FNGU\",\"FNGU\",\"FNGU\",\"FNGU\",\"FNGU\",\"FNGU\",\"FNGU\",\"FNGU\",\"FNGU\",\"FNGU\",\"FNGU\",\"FNGU\",\"FNGU\",\"FNGU\",\"FNGU\",\"FNGU\",\"FNGU\",\"FNGU\",\"FNGU\",\"FNGU\",\"FNGU\",\"FNGU\",\"FNGU\",\"FNGU\",\"FNGU\",\"FNGU\",\"FNGU\",\"FNGU\",\"FNGU\",\"FNGU\",\"FNGU\",\"FNGU\",\"FNGU\",\"FNGU\",\"FNGU\",\"FNGU\",\"FNGU\",\"FNGU\",\"FNGU\",\"FNGU\",\"FNGU\",\"FNGU\",\"FNGU\",\"FNGU\",\"FNGU\",\"FNGU\",\"FNGU\",\"FNGU\",\"FNGU\",\"FNGU\",\"FNGU\",\"FNGU\",\"FNGU\",\"FNGU\",\"FNGU\",\"FNGU\",\"FNGU\",\"FNGU\",\"FNGU\",\"FNGU\",\"FNGU\",\"FNGU\",\"FNGU\",\"FNGU\",\"FNGU\",\"FNGU\",\"FNGU\",\"FNGU\",\"FNGU\",\"FNGU\",\"FNGU\",\"FNGU\",\"FNGU\",\"FNGU\",\"FNGU\",\"FNGU\",\"FNGU\",\"FNGU\",\"FNGU\",\"FNGU\",\"FNGU\",\"FNGU\",\"FNGU\",\"FNGU\",\"FNGU\",\"FNGU\",\"FNGU\",\"FNGU\",\"FNGU\",\"FNGU\"],\"Date\":{\"__ndarray__\":\"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\",\"dtype\":\"float64\",\"order\":\"little\",\"shape\":[526]},\"value\":{\"__ndarray__\":\"mpmZmZkJVEBmZmZmZnZSQBSuR+F6JFRAMzMzMzNzUkB7FK5H4QpRQAAAAAAA4EpAexSuR+FaT0BmZmZmZmZLQKRwPQrXY0NAexSuR+H6RUDhehSuRwFAQAAAAAAAAD5AAAAAAACAOkDD9Shcj0I+QAAAAAAAgDxAmpmZmZkZPkDNzMzMzExCQOF6FK5HIUJAAAAAAADAQ0BSuB6F6zFCQK5H4XoUbkNASOF6FK7nQ0DhehSuRwFBQClcj8L1CEFAmpmZmZm5QED2KFyPwhVEQM3MzMzMbERArkfhehRORUBmZmZmZsZFQIXrUbgeRUhASOF6FK7HS0BI4XoUrmdMQOxRuB6F601AhetRuB5lTUCkcD0K14NNQMP1KFyPIkpAXI/C9SjcTEBcj8L1KHxMQNejcD0Kl01AFK5H4XrUTkCamZmZmTlMQM3MzMzMzE9AUrgehevRT0DNzMzMzCxMQD0K16NwvU1AAAAAAABATkA9CtejcP1OQHE9CtejIFBAw/UoXI8SUUBmZmZmZoZRQIXrUbgelVBAZmZmZmbmT0CPwvUoXH9QQB+F61G4XlFA7FG4HoWrUkDNzMzMzNxSQAAAAAAAIFRAMzMzMzPTU0DNzMzMzExTQFK4HoXrcVNAZmZmZmb2UkB7FK5H4UpSQNejcD0K91JAUrgehesBVEDXo3A9CkdUQArXo3A9GlVAhetRuB4VVEAAAAAAAGBVQDMzMzMzc1ZA7FG4HoVLV0B7FK5H4YpYQPYoXI/CBVVAcT0K16NwVUBcj8L1KHxWQArXo3A9mldArkfhehQOWEDXo3A9ChdYQAAAAAAA4FdAmpmZmZnZWEAzMzMzM2NZQAAAAAAA0FdAAAAAAABgWEC4HoXrUXhVQB+F61G4PlZAexSuR+F6V0DNzMzMzDxZQB+F61G4blpAmpmZmZmpXkBI4XoUrldeQAAAAAAAYGBAAAAAAAAoYUAK16NwPTpiQNejcD0Kn2BACtejcD3aYEApXI/C9fhgQEjhehSub2BAhetRuB41YECPwvUoXB9iQAAAAAAAYGFAPQrXo3BFYUBmZmZmZg5gQBSuR+F69F5A16NwPQpPYEAAAAAAACBfQD0K16NwJWBAAAAAAABAYEAAAAAAAOBgQPYoXI/ChWFAZmZmZmYOYkA9CtejcE1iQKRwPQrXI2NA4XoUrkchYkBmZmZmZrZhQAAAAAAA0GBAZmZmZmaGYkBmZmZmZgZjQAAAAAAA6GJAAAAAAACwZECamZmZmXllQDMzMzMzU2VAuB6F61GIZkBcj8L1KIxnQAAAAAAAEGhASOF6FK7faEDNzMzMzKxrQAAAAAAA4GpArkfhehR+a0AfhetRuEZtQM3MzMzMlG5ASOF6FK6fbkDD9ShcjyJpQAAAAAAAUGhAH4XrUbgGY0AAAAAAACBlQD0K16NwFWRAAAAAAAD4Y0CPwvUoXI9lQAAAAAAAQGdAuB6F61EYZkBI4XoUrr9kQEjhehSur2RAzczMzMwUZUApXI/C9RhmQAAAAAAAQGRA4XoUrkcxZEAzMzMzM5tlQI/C9Shcz2ZAmpmZmZnpZkAK16NwPQJoQBSuR+F6VGlAw/UoXI8yZ0BSuB6F66loQLgehetRYGdASOF6FK6naEBcj8L1KPxoQKRwPQrXg2lA16NwPQofbEA9CtejcB1sQB+F61G41mtACtejcD3aakAfhetRuDZqQAAAAAAAQGlAMzMzMzO7aUC4HoXrUWBqQGZmZmZmHmpAZmZmZma2akAAAAAAAIBpQClcj8L1KGtAXI/C9SjsZ0C4HoXrUfBpQLgehetR6GVAAAAAAADIZUCamZmZmZlmQAAAAAAAiGlAZmZmZmZOa0AfhetRuH5rQI/C9Shc72hAPQrXo3D1ZkCkcD0K11NoQAAAAAAA4GdAmpmZmZkRaEAzMzMzM1toQOF6FK5HQWhA9ihcj8KlaEAAAAAAAOhoQEjhehSuv2hAAAAAAACAaEBI4XoUrv9pQEjhehSu72pAmpmZmZmpa0A9CtejcO1qQBSuR+F6VGxA7FG4HoWjbECkcD0K18tsQIXrUbge5WxAAAAAAAAobkA9CtejcBVuQIXrUbgeXWxAMzMzMzMTbkDNzMzMzOxtQDMzMzMz425Aj8L1KFxfcEDNzMzMzMRwQAAAAAAASHFA4XoUrkddcUA9CtejcDVxQKRwPQrX53BAAAAAAADEcEB7FK5H4SJwQPYoXI/C5XBAAAAAAABQcUCuR+F6FApyQNejcD0K63FAH4XrUbhqcUDsUbgehedxQGZmZmZmfnBA9ihcj8KlcUCamZmZmVFzQOxRuB6FD3FAZmZmZmaGcUDhehSuRw1yQDMzMzMzz3FAKVyPwvUccUDNzMzMzEhyQFyPwvUo8HRAmpmZmZn9dEAfhetRuBp1QDMzMzMzj3VAAAAAAADIdUAAAAAAALBzQFK4HoXr5XNAmpmZmZlpckBmZmZmZi50QAAAAAAAJHVAexSuR+FudUAzMzMzM0t2QGZmZmZmznZApHA9Ctdvd0A9CtejcDV4QB+F61G4ZnlAKVyPwvXQeUAzMzMzM0t6QAAAAAAAEHtAAAAAAADweUDNzMzMzAR5QM3MzMzM5HlAmpmZmZnRd0CamZmZmbl3QGZmZmZmhndAMzMzMzMrdUBmZmZmZi51QJqZmZmZCXdAMzMzMzOrdUCamZmZmVFzQAAAAAAAwHFAzczMzMwsckAzMzMzM/NuQDMzMzMzU3JAmpmZmZmhcUAAAAAAALBzQAAAAAAAuHJAZmZmZmZuc0DNzMzMzGRzQM3MzMzMXHRAAAAAAABQckAzMzMzM2tyQAAAAAAACHNAzczMzMzcckBmZmZmZv5wQJqZmZmZqW9AmpmZmZkRcEAAAAAAAIBwQDMzMzMzw3BAZmZmZmaOcUAzMzMzM0tyQJqZmZmZYXNAmpmZmZnRc0DNzMzMzBx0QDMzMzMz83RAAAAAAADwdEDNzMzMzLR1QDMzMzMz23ZAMzMzMzNzdUBmZmZmZnZ2QAAAAAAAOHZAMzMzMzNbdUAAAAAAALB0QJqZmZmZ2XRAzczMzMzEc0DNzMzMzMx0QDMzMzMzK3VAzczMzMy8dEBmZmZmZu50QM3MzMzMJHVAmpmZmZkRdEAAAAAAAFBzQDMzMzMzQ3JAAAAAAADocUAzMzMzMxtyQJqZmZmZSXJAmpmZmZlZcEBmZmZmZo5wQDMzMzMzc25AAAAAAADgbUBmZmZmZg5wQAAAAAAAGHBAMzMzMzOTb0BmZmZmZoZvQJqZmZmZ4XBAzczMzMyEcEAzMzMzM5txQDMzMzMzy3FAZmZmZmYeckAzMzMzMxtyQGZmZmZmRnJAAAAAAABwckBmZmZmZnZyQGZmZmZmpnFAZmZmZma+ckAAAAAAAOByQAAAAAAAwHJAZmZmZmaWckCamZmZmflyQAAAAAAAKHNAMzMzMzPrc0AzMzMzM0NzQDMzMzMzK3NAmpmZmZkxdEDNzMzMzPxzQDMzMzMzI3RAMzMzMzP7dEAAAAAAANh1QAAAAAAAoHZAAAAAAAAId0DNzMzMzCx4QAAAAAAAUHhAMzMzMzPjd0BmZmZmZt53QGZmZmZmPnhAZmZmZmY2eEAzMzMzM5t3QM3MzMzMjHZAzczMzMx0d0AzMzMzMxt4QAAAAAAAMHhAAAAAAAAoeEDNzMzMzFx3QM3MzMzMFHZAmpmZmZmxdUCamZmZmWl2QM3MzMzM1HZAzczMzMwsd0AAAAAAAKh3QDMzMzMzy3ZAMzMzMzPTdUAAAAAAAPh2QDMzMzMzA3dAzczMzMxEdkAzMzMzM6N2QDMzMzMzi3ZAZmZmZmb+dkAAAAAAAIB3QGZmZmZmvnZAmpmZmZnhdkAAAAAAAHB2QAAAAAAAGHZAMzMzMzM7dkDNzMzMzAR2QJqZmZmZYXVAmpmZmZkhdEDNzMzMzMxzQJqZmZmZmXNAMzMzMzNLdEAAAAAAAMh1QDMzMzMzo3ZAMzMzMzOzdkAAAAAAACB2QJqZmZmZ0XZAMzMzMzPjd0DNzMzMzCx4QGZmZmZmFnlAZmZmZmameECamZmZmfF4QGZmZmZm9nlAMzMzMzMLeUDNzMzMzLR4QDMzMzMzI3hAZmZmZmaud0AzMzMzM0t3QAAAAAAAyHdAmpmZmZmxd0AAAAAAAGB3QM3MzMzMLHVAzczMzMyEdUDNzMzMzFR2QGZmZmZmBndAAAAAAADodkAAAAAAANB2QAAAAAAAGHVAAAAAAACgdEAzMzMzM7t0QAAAAAAA6HRAAAAAAAAgc0DNzMzMzFx0QGZmZmZm1nRAMzMzMzMjdkAAAAAAAHB2QGZmZmZmFnZAZmZmZma+dUBmZmZmZn52QAAAAAAASHdAzczMzMy8d0BmZmZmZiZ5QAAAAAAAWHpAmpmZmZkZekDNzMzMzOR6QAAAAAAA2HlAmpmZmZkRe0DNzMzMzMx6QAAAAAAAQHpAMzMzMzNDe0CamZmZmXF7QDMzMzMz83xAAAAAAADwe0BmZmZmZk59QM3MzMzMdH5AmpmZmZm5fUAAAAAAANh9QJqZmZmZYXxAmpmZmZmRe0BmZmZmZl58QDMzMzMzO31AmpmZmZkBfUBmZmZmZp59QM3MzMzM1HxAAAAAAAC4fEDNzMzMzHx9QGZmZmZmFnxAAAAAAABIe0AAAAAAABh8QDMzMzMzk3pAAAAAAADQe0DNzMzMzJx6QAAAAAAAaHhAMzMzMzN7eEAzMzMzM/N1QGZmZmZmZndAZmZmZmaWeUCamZmZmRl6QJqZmZmZqXhAmpmZmZnZeEAzMzMzM+N2QAAAAAAAuHZAmpmZmZnpd0DNzMzMzKx1QGZmZmZmlnVAZmZmZmZWdEAAAAAAAFB2QJqZmZmZCXdAMzMzMzOzd0AAAAAAAJh4QAAAAAAAGHhAzczMzMx8d0AzMzMzM2t4QM3MzMzMdHdAMzMzMzMDeUBmZmZmZsZ3QGZmZmZmbnVAmpmZmZnRdUBmZmZmZmZ1QDMzMzMzg3VAmpmZmZl5dkAzMzMzM0t3QDMzMzMz03RAAAAAAABodUAzMzMzM9NzQM3MzMzMRHNAAAAAAAAoc0BmZmZmZhZwQDMzMzMzM29AZmZmZmY2bUAAAAAAAPBsQM3MzMzMjGtAmpmZmZkJbkCamZmZmaFxQJqZmZmZOXJAMzMzMzMrckAAAAAAAJBuQAAAAAAAKHBAmpmZmZlpbkCamZmZmRFwQAAAAAAAQHFAAAAAAAAwcEAAAAAAAEBtQGZmZmZmtm1AAAAAAAAwcEBmZmZmZj5wQAAAAAAAUG1AmpmZmZmJa0BmZmZmZoZpQM3MzMzMHGdAmpmZmZlZaUDNzMzMzDxqQDMzMzMzw2pAMzMzMzNzakAAAAAAAABrQM3MzMzMDGlAZmZmZmaGZ0AzMzMzM6NkQAAAAAAAMGRAMzMzMzPjZkBmZmZmZoZlQDMzMzMz02JAmpmZmZmpYECamZmZmQliQGZmZmZmpmdAAAAAAAAQaECamZmZmZlqQAAAAAAAAGpAmpmZmZnZbEDNzMzMzExsQAAAAAAAgG1AzczMzMwsbUAAAAAAAOBuQDMzMzMzG3BAAAAAAADwbkA=\",\"dtype\":\"float64\",\"order\":\"little\",\"shape\":[526]}},\"selected\":{\"id\":\"4331\"},\"selection_policy\":{\"id\":\"4350\"}},\"id\":\"4330\",\"type\":\"ColumnDataSource\"},{\"attributes\":{\"line_alpha\":0.7,\"line_color\":\"#30a2da\",\"line_width\":3,\"x\":{\"field\":\"Date\"},\"y\":{\"field\":\"value\"}},\"id\":\"4294\",\"type\":\"Line\"},{\"attributes\":{\"num_minor_ticks\":5,\"tickers\":[{\"id\":\"4280\"},{\"id\":\"4281\"},{\"id\":\"4282\"},{\"id\":\"4283\"},{\"id\":\"4284\"},{\"id\":\"4285\"},{\"id\":\"4286\"},{\"id\":\"4287\"},{\"id\":\"4288\"},{\"id\":\"4289\"},{\"id\":\"4290\"},{\"id\":\"4291\"}]},\"id\":\"4233\",\"type\":\"DatetimeTicker\"},{\"attributes\":{},\"id\":\"4230\",\"type\":\"LinearScale\"},{\"attributes\":{},\"id\":\"4241\",\"type\":\"PanTool\"},{\"attributes\":{\"axis\":{\"id\":\"4232\"},\"coordinates\":null,\"group\":null,\"ticker\":{\"id\":\"4233\"}},\"id\":\"4235\",\"type\":\"Grid\"},{\"attributes\":{\"line_alpha\":0.2,\"line_color\":\"#e5ae38\",\"line_width\":3,\"x\":{\"field\":\"Date\"},\"y\":{\"field\":\"value\"}},\"id\":\"4336\",\"type\":\"Line\"},{\"attributes\":{\"line_alpha\":0.7,\"line_color\":\"#e5ae38\",\"line_width\":3,\"x\":{\"field\":\"Date\"},\"y\":{\"field\":\"value\"}},\"id\":\"4333\",\"type\":\"Line\"},{\"attributes\":{\"line_alpha\":0.7,\"line_color\":\"#e5ae38\",\"line_width\":3,\"x\":{\"field\":\"Date\"},\"y\":{\"field\":\"value\"}},\"id\":\"4366\",\"type\":\"Line\"},{\"attributes\":{\"mantissas\":[1,2,5],\"max_interval\":500.0,\"num_minor_ticks\":0},\"id\":\"4280\",\"type\":\"AdaptiveTicker\"},{\"attributes\":{},\"id\":\"4296\",\"type\":\"Selection\"},{\"attributes\":{\"data\":{\"Adjusted_Close_Price\":[\"SPY\",\"SPY\",\"SPY\",\"SPY\",\"SPY\",\"SPY\",\"SPY\",\"SPY\",\"SPY\",\"SPY\",\"SPY\",\"SPY\",\"SPY\",\"SPY\",\"SPY\",\"SPY\",\"SPY\",\"SPY\",\"SPY\",\"SPY\",\"SPY\",\"SPY\",\"SPY\",\"SPY\",\"SPY\",\"SPY\",\"SPY\",\"SPY\",\"SPY\",\"SPY\",\"SPY\",\"SPY\",\"SPY\",\"SPY\",\"SPY\",\"SPY\",\"SPY\",\"SPY\",\"SPY\",\"SPY\",\"SPY\",\"SPY\",\"SPY\",\"SPY\",\"SPY\",\"SPY\",\"SPY\",\"SPY\",\"SPY\",\"SPY\",\"SPY\",\"SPY\",\"SPY\",\"SPY\",\"SPY\",\"SPY\",\"SPY\",\"SPY\",\"SPY\",\"SPY\",\"SPY\",\"SPY\",\"SPY\",\"SPY\",\"SPY\",\"SPY\",\"SPY\",\"SPY\",\"SPY\",\"SPY\",\"SPY\",\"SPY\",\"SPY\",\"SPY\",\"SPY\",\"SPY\",\"SPY\",\"SPY\",\"SPY\",\"SPY\",\"SPY\",\"SPY\",\"SPY\",\"SPY\",\"SPY\",\"SPY\",\"SPY\",\"SPY\",\"SPY\",\"SPY\",\"SPY\",\"SPY\",\"SPY\",\"SPY\",\"SPY\",\"SPY\",\"SPY\",\"SPY\",\"SPY\",\"SPY\",\"SPY\",\"SPY\",\"SPY\",\"SPY\",\"SPY\",\"SPY\",\"SPY\",\"SPY\",\"SPY\",\"SPY\",\"SPY\",\"SPY\",\"SPY\",\"SPY\",\"SPY\",\"SPY\",\"SPY\",\"SPY\",\"SPY\",\"SPY\",\"SPY\",\"SPY\",\"SPY\",\"SPY\",\"SPY\",\"SPY\",\"SPY\",\"SPY\",\"SPY\",\"SPY\",\"SPY\",\"SPY\",\"SPY\",\"SPY\",\"SPY\",\"SPY\",\"SPY\",\"SPY\",\"SPY\",\"SPY\",\"SPY\",\"SPY\",\"SPY\",\"SPY\",\"SPY\",\"SPY\",\"SPY\",\"SPY\",\"SPY\",\"SPY\",\"SPY\",\"SPY\",\"SPY\",\"SPY\",\"SPY\",\"SPY\",\"SPY\",\"SPY\",\"SPY\",\"SPY\",\"SPY\",\"SPY\",\"SPY\",\"SPY\",\"SPY\",\"SPY\",\"SPY\",\"SPY\",\"SPY\",\"SPY\",\"SPY\",\"SPY\",\"SPY\",\"SPY\",\"SPY\",\"SPY\",\"SPY\",\"SPY\",\"SPY\",\"SPY\",\"SPY\",\"SPY\",\"SPY\",\"SPY\",\"SPY\",\"SPY\",\"SPY\",\"SPY\",\"SPY\",\"SPY\",\"SPY\",\"SPY\",\"SPY\",\"SPY\",\"SPY\",\"SPY\",\"SPY\",\"SPY\",\"SPY\",\"SPY\",\"SPY\",\"SPY\",\"SPY\",\"SPY\",\"SPY\",\"SPY\",\"SPY\",\"SPY\",\"SPY\",\"SPY\",\"SPY\",\"SPY\",\"SPY\",\"SPY\",\"SPY\",\"SPY\",\"SPY\",\"SPY\",\"SPY\",\"SPY\",\"SPY\",\"SPY\",\"SPY\",\"SPY\",\"SPY\",\"SPY\",\"SPY\",\"SPY\",\"SPY\",\"SPY\",\"SPY\",\"SPY\",\"SPY\",\"SPY\",\"SPY\",\"SPY\",\"SPY\",\"SPY\",\"SPY\",\"SPY\",\"SPY\",\"SPY\",\"SPY\",\"SPY\",\"SPY\",\"SPY\",\"SPY\",\"SPY\",\"SPY\",\"SPY\",\"SPY\",\"SPY\",\"SPY\",\"SPY\",\"SPY\",\"SPY\",\"SPY\",\"SPY\",\"SPY\",\"SPY\",\"SPY\",\"SPY\",\"SPY\",\"SPY\",\"SPY\",\"SPY\",\"SPY\",\"SPY\",\"SPY\",\"SPY\",\"SPY\",\"SPY\",\"SPY\",\"SPY\",\"SPY\",\"SPY\",\"SPY\",\"SPY\",\"SPY\",\"SPY\",\"SPY\",\"SPY\",\"SPY\",\"SPY\",\"SPY\",\"SPY\",\"SPY\",\"SPY\",\"SPY\",\"SPY\",\"SPY\",\"SPY\",\"SPY\",\"SPY\",\"SPY\",\"SPY\",\"SPY\",\"SPY\",\"SPY\",\"SPY\",\"SPY\",\"SPY\",\"SPY\",\"SPY\",\"SPY\",\"SPY\",\"SPY\",\"SPY\",\"SPY\",\"SPY\",\"SPY\",\"SPY\",\"SPY\",\"SPY\",\"SPY\",\"SPY\",\"SPY\",\"SPY\",\"SPY\",\"SPY\",\"SPY\",\"SPY\",\"SPY\",\"SPY\",\"SPY\",\"SPY\",\"SPY\",\"SPY\",\"SPY\",\"SPY\",\"SPY\",\"SPY\",\"SPY\",\"SPY\",\"SPY\",\"SPY\",\"SPY\",\"SPY\",\"SPY\",\"SPY\",\"SPY\",\"SPY\",\"SPY\",\"SPY\",\"SPY\",\"SPY\",\"SPY\",\"SPY\",\"SPY\",\"SPY\",\"SPY\",\"SPY\",\"SPY\",\"SPY\",\"SPY\",\"SPY\",\"SPY\",\"SPY\",\"SPY\",\"SPY\",\"SPY\",\"SPY\",\"SPY\",\"SPY\",\"SPY\",\"SPY\",\"SPY\",\"SPY\",\"SPY\",\"SPY\",\"SPY\",\"SPY\",\"SPY\",\"SPY\",\"SPY\",\"SPY\",\"SPY\",\"SPY\",\"SPY\",\"SPY\",\"SPY\",\"SPY\",\"SPY\",\"SPY\",\"SPY\",\"SPY\",\"SPY\",\"SPY\",\"SPY\",\"SPY\",\"SPY\",\"SPY\",\"SPY\",\"SPY\",\"SPY\",\"SPY\",\"SPY\",\"SPY\",\"SPY\",\"SPY\",\"SPY\",\"SPY\",\"SPY\",\"SPY\",\"SPY\",\"SPY\",\"SPY\",\"SPY\",\"SPY\",\"SPY\",\"SPY\",\"SPY\",\"SPY\",\"SPY\",\"SPY\",\"SPY\",\"SPY\",\"SPY\",\"SPY\",\"SPY\",\"SPY\",\"SPY\",\"SPY\",\"SPY\",\"SPY\",\"SPY\",\"SPY\",\"SPY\",\"SPY\",\"SPY\",\"SPY\",\"SPY\",\"SPY\",\"SPY\",\"SPY\",\"SPY\",\"SPY\",\"SPY\",\"SPY\",\"SPY\",\"SPY\",\"SPY\",\"SPY\",\"SPY\",\"SPY\",\"SPY\",\"SPY\",\"SPY\",\"SPY\",\"SPY\",\"SPY\",\"SPY\",\"SPY\",\"SPY\",\"SPY\",\"SPY\",\"SPY\",\"SPY\",\"SPY\",\"SPY\",\"SPY\",\"SPY\",\"SPY\",\"SPY\",\"SPY\",\"SPY\",\"SPY\",\"SPY\",\"SPY\",\"SPY\",\"SPY\",\"SPY\",\"SPY\",\"SPY\",\"SPY\",\"SPY\",\"SPY\",\"SPY\",\"SPY\",\"SPY\",\"SPY\",\"SPY\",\"SPY\",\"SPY\",\"SPY\",\"SPY\",\"SPY\",\"SPY\",\"SPY\",\"SPY\",\"SPY\",\"SPY\",\"SPY\",\"SPY\",\"SPY\",\"SPY\",\"SPY\",\"SPY\",\"SPY\",\"SPY\",\"SPY\",\"SPY\",\"SPY\",\"SPY\",\"SPY\",\"SPY\",\"SPY\",\"SPY\",\"SPY\",\"SPY\",\"SPY\",\"SPY\",\"SPY\",\"SPY\",\"SPY\",\"SPY\",\"SPY\",\"SPY\",\"SPY\",\"SPY\",\"SPY\",\"SPY\",\"SPY\",\"SPY\",\"SPY\",\"SPY\"],\"Date\":{\"__ndarray__\":\"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\",\"dtype\":\"float64\",\"order\":\"little\",\"shape\":[526]},\"value\":{\"__ndarray__\":\"ZmZmZmZqckDsUbgeheNxQAAAAAAApHJA4XoUrkcFckCF61G4HrlxQB+F61G4VnBAMzMzMzMvcUBxPQrXo1hwQHE9CtejkG1ApHA9CtcLcEDNzMzMzJRsQEjhehSuH25A4XoUrkeZbEApXI/C9ahsQM3MzMzMbGtA4XoUrke5akCF61G4HiVtQM3MzMzMlG1AH4XrUbhOb0AAAAAAAGBuQBSuR+F6XG9AhetRuB7lbkApXI/C9YBtQI/C9ShcL25ASOF6FK6/bUDXo3A9Cr9vQI/C9Shcx29AuB6F61FscEBcj8L1KKxwQOF6FK5HhXBAUrgehesBcUA9CtejcKVwQK5H4XoUunBA9ihcj8ItcUC4HoXrUeBwQIXrUbgeXXBArkfhehS6cED2KFyPwrlwQD0K16Nw9XBAAAAAAAA0cUBI4XoUrh9xQMP1KFyPknFAcT0K16NocUAfhetRuPJwQMP1KFyP/nBAexSuR+EmcUCF61G4HglxQJqZmZmZPXFAH4XrUbiGcUBI4XoUrodxQArXo3A9LnFAuB6F61HgcEBcj8L1KBRxQFyPwvUoKHFAUrgeheutcUDsUbgehX9xQOxRuB6Fy3FAXI/C9SiscUDNzMzMzLRxQHE9Ctej7HFAzczMzMwwckC4HoXrUShyQClcj8L1PHJApHA9CtdPckAfhetRuHZyQJqZmZmZtXJAKVyPwvWockCPwvUoXCNzQMP1KFyPXnNAmpmZmZk5c0AK16NwPR5zQAAAAAAABHJAj8L1KFw7ckB7FK5H4WZyQJqZmZmZwXJAmpmZmZmtckCPwvUoXK9yQFyPwvUolHJAw/UoXI+yckBxPQrXo8hyQFK4HoXrTXJAXI/C9SiAckBI4XoUrg9yQEjhehSuU3JApHA9CtePckCF61G4HrFyQI/C9Shcy3JA9ihcj8IVc0CPwvUoXONyQLgehetRCHNAFK5H4XrsckCuR+F6FB5zQEjhehSu83JAw/UoXI8yc0BI4XoUrl9zQI/C9ShcT3NAmpmZmZldc0D2KFyPwoVzQLgehetRkHNAzczMzMysc0DNzMzMzHBzQHE9CtejUHNAzczMzMx0c0CF61G4HlVzQK5H4XoUknNAXI/C9SiAc0BI4XoUrqdzQMP1KFyPynNACtejcD3ec0D2KFyPwv1zQAAAAAAAIHRASOF6FK4jdEDXo3A9CjN0QLgehetRCHRApHA9CtdPdEDD9Shcj0Z0QB+F61G4RnRAMzMzMzNXdEBmZmZmZmJ0QHE9CtejTHRAzczMzMxcdECPwvUoXG90QLgehetRpHRAexSuR+G2dEAAAAAAAOx0QEjhehSu93RAZmZmZmYadUB7FK5H4QZ1QD0K16NwOXVAXI/C9SiIdUBmZmZmZsp0QHsUrkfhnnRAH4XrUbgOdEBcj8L1KHR0QIXrUbgeGXRApHA9CtcbdEBI4XoUrl90QFK4HoXreXRAhetRuB5ldEAzMzMzMzd0QEjhehSu+3NAH4XrUbjCc0AK16NwPfZzQEjhehSuf3NAKVyPwvWMc0BSuB6F691zQGZmZmZmMnRACtejcD0WdEDhehSuRz10QMP1KFyPXnRAKVyPwvUsdEBxPQrXo4h0QFK4HoXrPXRAAAAAAACYdEAfhetRuMZ0QArXo3A99nRAcT0K16NMdUCF61G4Hil1QNejcD0KB3VAuB6F61EAdUCF61G4Hv10QI/C9Shcq3RAcT0K16PAdEDD9Shcj7Z0QEjhehSu03RA9ihcj8LldEB7FK5H4YJ0QM3MzMzMcHRAUrgeheu9c0DhehSuR/FzQAAAAAAAvHNAcT0K16P0c0B7FK5H4U50QNejcD0Kw3RAH4XrUbgqdUA9CtejcCl1QJqZmZmZbXVAmpmZmZlldUAK16NwPY51QHE9CtejWHVAuB6F61GkdUA9CtejcOl1QI/C9Shcy3VAXI/C9SiIdUCPwvUoXJ91QD0K16NweXVAZmZmZmaadUDsUbgehfN1QHsUrkfh6nVAw/UoXI/6dUCamZmZmeF1QHsUrkfhHnZAH4XrUbgqdkDhehSuRyl2QK5H4XoUWnZAZmZmZmZOdkDXo3A9Cl92QEjhehSuK3ZAUrgehespdkAzMzMzMyN2QFK4HoXrCXZArkfhehRWdkDXo3A9Cl92QNejcD0Kf3ZAXI/C9ShodkBI4XoUrlN2QFK4HoXrSXZA16NwPQpPdkDhehSuR2V2QMP1KFyPlnZA7FG4HoWLdkCkcD0K15N2QIXrUbgesXZArkfhehRidkCamZmZmYl2QAAAAAAArHZACtejcD0Cd0CkcD0K1yN3QKRwPQrX+3ZAhetRuB79dkApXI/C9Qx3QLgehetR+HZAPQrXo3DNdkAzMzMzM/t2QHE9CtejTHdArkfhehRSd0ApXI/C9Tx3QBSuR+F6VHdAMzMzMzNLd0A9CtejcLl2QI/C9Shc63ZAUrgehet1dkCamZmZmdV2QLgehetRKHdAKVyPwvUsd0AUrkfhenB3QAAAAAAAiHdA7FG4HoWzd0DsUbgeha93QM3MzMzMrHdAH4XrUbi2d0BxPQrXo9R3QI/C9Shcz3dAzczMzMzQd0AfhetRuLZ3QAAAAAAArHdAPQrXo3B9d0DNzMzMzIR3QNejcD0Kx3dAFK5H4Xo0d0D2KFyPwhV3QIXrUbgepXdAUrgehet1d0AK16NwPSZ3QClcj8L13HZAcT0K16NId0B7FK5H4Sp3QEjhehSuf3dAhetRuB6ld0BmZmZmZuJ3QB+F61G46ndAMzMzMzMPeECPwvUoXAd4QBSuR+F6HHhAw/UoXI/Cd0CPwvUoXLd3QKRwPQrX53dASOF6FK63d0DNzMzMzJh3QB+F61G4undAcT0K16MceECamZmZmRl4QIXrUbgeCXhArkfhehQieEDNzMzMzGR4QMP1KFyPvnhAH4XrUbi6eECuR+F6FMJ4QFyPwvUo4HhAZmZmZmYOeUDNzMzMzBB5QKRwPQrXI3lA9ihcj8INeUAfhetRuFJ5QLgehetRaHlAFK5H4XpIeUCF61G4Hhl5QFK4HoXrVXlAw/UoXI8aeUC4HoXrUWB5QFK4HoXrbXlAFK5H4XpseUDD9Shcj2p5QAAAAAAAlHlAKVyPwvVoeUDXo3A9Cnd5QHsUrkfhTnlAzczMzMxQeUBxPQrXo4R5QFyPwvUotHlA16NwPQpzeUDNzMzMzDh5QEjhehSur3hA7FG4HoX7eED2KFyPwl15QOF6FK5HTXlAPQrXo3AVeUBxPQrXowR5QJqZmZmZSXlAXI/C9ShEeUAK16NwPYZ5QEjhehSud3lAcT0K16OEeUAAAAAAAIh5QEjhehSuk3lAUrgeheuNeUC4HoXrUZh5QAAAAAAAgHlASOF6FK67eUDhehSuR7V5QB+F61G4tnlAzczMzMyseUCPwvUoXMt5QArXo3A91nlAhetRuB7leUApXI/C9dh5QAAAAAAAtHlA9ihcj8KxeUCF61G4Hll5QFK4HoXrtXlAhetRuB7ZeUCF61G4HtF5QLgehetR+HlApHA9CtcPekDhehSuRx16QClcj8L1IHpAw/UoXI8mekBI4XoUrkt6QNejcD0Kf3pAH4XrUbhyekAfhetRuIp6QI/C9ShcU3pAMzMzMzObekBI4XoUrrN6QLgehetRnHpAw/UoXI+mekAzMzMzM496QFK4HoXrWXpACtejcD32eUA9CtejcFV6QAAAAAAAjHpACtejcD2aekC4HoXrUeB6QOF6FK5H8XpA9ihcj8LRekDXo3A9Cs96QOxRuB6F63pArkfhehTKekBI4XoUrrt6QI/C9Shc83pAPQrXo3DRekDNzMzMzPx6QLgehetRCHtAw/UoXI8Ce0AzMzMzMwt7QBSuR+F6HHtA4XoUrkcxe0BSuB6F6z17QArXo3A9TntAFK5H4Xoge0AUrkfhetR6QDMzMzMz33pAUrgehesVe0B7FK5H4VJ7QFK4HoXrXXtAcT0K16Nse0AzMzMzM0N7QJqZmZmZgXtAcT0K16Oge0CuR+F6FJZ7QFK4HoXrmXtA7FG4HoWve0BSuB6F6617QBSuR+F6lHtAAAAAAACMe0D2KFyPwm17QGZmZmZmNntAXI/C9ShIe0DD9ShcjyJ7QBSuR+F6XHtAPQrXo3BRe0DhehSuRw17QFK4HoXrmXpAj8L1KFyTekD2KFyPwtV6QOF6FK5HKXtAcT0K16M0e0DNzMzMzCB7QM3MzMzMlHpAuB6F61GgekApXI/C9Ux6QClcj8L1nHpAhetRuB5FekDXo3A9Cot6QI/C9Shcp3pAZmZmZmbiekD2KFyPwtV6QAAAAAAApHpAMzMzMzOTekBI4XoUrqt6QMP1KFyPHntA7FG4HoVTe0Bcj8L1KGh7QArXo3A9nntArkfhehS6e0BxPQrXo8x7QOF6FK5HxXtAj8L1KFzre0D2KFyPwvF7QK5H4XoU0ntAH4XrUbgWfEA9CtejcCV8QPYoXI/CMXxAexSuR+FOfEAzMzMzM3t8QJqZmZmZnXxA16NwPQq3fEDhehSuR718QClcj8L1pHxAUrgehetpfEC4HoXrUWx8QDMzMzMzo3xA9ihcj8KlfEAfhetRuMJ8QM3MzMzMsHxA9ihcj8LJfEBxPQrXo7x8QKRwPQrXp3xAmpmZmZmxfEDhehSuR8V8QClcj8L1IHxA4XoUrkd5fEDsUbgehet7QFyPwvUonHtAuB6F61EIfEBSuB6F68l7QArXo3A9HnxA16NwPQqzfEDD9Shcj8Z8QM3MzMzMlHxAmpmZmZnZfEBcj8L1KJh8QFK4HoXrZXxA7FG4HoXXfEBmZmZmZpZ8QBSuR+F6SHxA7FG4HoX7e0AfhetRuHp8QOxRuB6Fw3xAPQrXo3DxfEAK16NwPVp9QFyPwvUoVH1A9ihcj8JdfUApXI/C9Uh9QK5H4XoUNn1A4XoUrkdhfUB7FK5H4V59QGZmZmZmznxA7FG4HoXHfEBmZmZmZqp8QOF6FK5HoXxAAAAAAADkfEAAAAAAAPh8QPYoXI/CkXxAzczMzMyUfEAzMzMzMxN8QHE9CtejyHtAUrgehet5e0CkcD0K1+96QIXrUbgeDXtAFK5H4Xq4ekCPwvUoXKd6QPYoXI/ChXpACtejcD0ue0BI4XoUrqt7QOxRuB6F23tAzczMzMwgfEDsUbgehXd7QHE9CtejmHtAUrgeheuBe0CkcD0K17t7QKRwPQrXI3xAZmZmZmaie0B7FK5H4RZ7QFyPwvUoAHtASOF6FK5ve0DsUbgehXd7QOF6FK5H4XpAzczMzMy0ekCPwvUoXGt6QI/C9Shc83lAj8L1KFxXekBcj8L1KOx6QMP1KFyP2npAUrgehetxekBmZmZmZu56QAAAAAAAzHpAuB6F61GUekBI4XoUrst5QJqZmZmZmXlAPQrXo3BJekDXo3A9Cit6QPYoXI/C1XlAPQrXo3CleUBSuB6F6zV6QB+F61G4ynpAFK5H4Xoge0AUrkfhemx7QGZmZmZmantAcT0K16O8e0CF61G4HmF7QHsUrkfhyntAmpmZmZnte0AUrkfheiB8QD0K16NweXxAFK5H4XpMfEA=\",\"dtype\":\"float64\",\"order\":\"little\",\"shape\":[526]}},\"selected\":{\"id\":\"4296\"},\"selection_policy\":{\"id\":\"4313\"}},\"id\":\"4295\",\"type\":\"ColumnDataSource\"},{\"attributes\":{},\"id\":\"4277\",\"type\":\"UnionRenderers\"},{\"attributes\":{\"data\":{\"Adjusted_Close_Price\":[\"ARKK\",\"ARKK\",\"ARKK\",\"ARKK\",\"ARKK\",\"ARKK\",\"ARKK\",\"ARKK\",\"ARKK\",\"ARKK\",\"ARKK\",\"ARKK\",\"ARKK\",\"ARKK\",\"ARKK\",\"ARKK\",\"ARKK\",\"ARKK\",\"ARKK\",\"ARKK\",\"ARKK\",\"ARKK\",\"ARKK\",\"ARKK\",\"ARKK\",\"ARKK\",\"ARKK\",\"ARKK\",\"ARKK\",\"ARKK\",\"ARKK\",\"ARKK\",\"ARKK\",\"ARKK\",\"ARKK\",\"ARKK\",\"ARKK\",\"ARKK\",\"ARKK\",\"ARKK\",\"ARKK\",\"ARKK\",\"ARKK\",\"ARKK\",\"ARKK\",\"ARKK\",\"ARKK\",\"ARKK\",\"ARKK\",\"ARKK\",\"ARKK\",\"ARKK\",\"ARKK\",\"ARKK\",\"ARKK\",\"ARKK\",\"ARKK\",\"ARKK\",\"ARKK\",\"ARKK\",\"ARKK\",\"ARKK\",\"ARKK\",\"ARKK\",\"ARKK\",\"ARKK\",\"ARKK\",\"ARKK\",\"ARKK\",\"ARKK\",\"ARKK\",\"ARKK\",\"ARKK\",\"ARKK\",\"ARKK\",\"ARKK\",\"ARKK\",\"ARKK\",\"ARKK\",\"ARKK\",\"ARKK\",\"ARKK\",\"ARKK\",\"ARKK\",\"ARKK\",\"ARKK\",\"ARKK\",\"ARKK\",\"ARKK\",\"ARKK\",\"ARKK\",\"ARKK\",\"ARKK\",\"ARKK\",\"ARKK\",\"ARKK\",\"ARKK\",\"ARKK\",\"ARKK\",\"ARKK\",\"ARKK\",\"ARKK\",\"ARKK\",\"ARKK\",\"ARKK\",\"ARKK\",\"ARKK\",\"ARKK\",\"ARKK\",\"ARKK\",\"ARKK\",\"ARKK\",\"ARKK\",\"ARKK\",\"ARKK\",\"ARKK\",\"ARKK\",\"ARKK\",\"ARKK\",\"ARKK\",\"ARKK\",\"ARKK\",\"ARKK\",\"ARKK\",\"ARKK\",\"ARKK\",\"ARKK\",\"ARKK\",\"ARKK\",\"ARKK\",\"ARKK\",\"ARKK\",\"ARKK\",\"ARKK\",\"ARKK\",\"ARKK\",\"ARKK\",\"ARKK\",\"ARKK\",\"ARKK\",\"ARKK\",\"ARKK\",\"ARKK\",\"ARKK\",\"ARKK\",\"ARKK\",\"ARKK\",\"ARKK\",\"ARKK\",\"ARKK\",\"ARKK\",\"ARKK\",\"ARKK\",\"ARKK\",\"ARKK\",\"ARKK\",\"ARKK\",\"ARKK\",\"ARKK\",\"ARKK\",\"ARKK\",\"ARKK\",\"ARKK\",\"ARKK\",\"ARKK\",\"ARKK\",\"ARKK\",\"ARKK\",\"ARKK\",\"ARKK\",\"ARKK\",\"ARKK\",\"ARKK\",\"ARKK\",\"ARKK\",\"ARKK\",\"ARKK\",\"ARKK\",\"ARKK\",\"ARKK\",\"ARKK\",\"ARKK\",\"ARKK\",\"ARKK\",\"ARKK\",\"ARKK\",\"ARKK\",\"ARKK\",\"ARKK\",\"ARKK\",\"ARKK\",\"ARKK\",\"ARKK\",\"ARKK\",\"ARKK\",\"ARKK\",\"ARKK\",\"ARKK\",\"ARKK\",\"ARKK\",\"ARKK\",\"ARKK\",\"ARKK\",\"ARKK\",\"ARKK\",\"ARKK\",\"ARKK\",\"ARKK\",\"ARKK\",\"ARKK\",\"ARKK\",\"ARKK\",\"ARKK\",\"ARKK\",\"ARKK\",\"ARKK\",\"ARKK\",\"ARKK\",\"ARKK\",\"ARKK\",\"ARKK\",\"ARKK\",\"ARKK\",\"ARKK\",\"ARKK\",\"ARKK\",\"ARKK\",\"ARKK\",\"ARKK\",\"ARKK\",\"ARKK\",\"ARKK\",\"ARKK\",\"ARKK\",\"ARKK\",\"ARKK\",\"ARKK\",\"ARKK\",\"ARKK\",\"ARKK\",\"ARKK\",\"ARKK\",\"ARKK\",\"ARKK\",\"ARKK\",\"ARKK\",\"ARKK\",\"ARKK\",\"ARKK\",\"ARKK\",\"ARKK\",\"ARKK\",\"ARKK\",\"ARKK\",\"ARKK\",\"ARKK\",\"ARKK\",\"ARKK\",\"ARKK\",\"ARKK\",\"ARKK\",\"ARKK\",\"ARKK\",\"ARKK\",\"ARKK\",\"ARKK\",\"ARKK\",\"ARKK\",\"ARKK\",\"ARKK\",\"ARKK\",\"ARKK\",\"ARKK\",\"ARKK\",\"ARKK\",\"ARKK\",\"ARKK\",\"ARKK\",\"ARKK\",\"ARKK\",\"ARKK\",\"ARKK\",\"ARKK\",\"ARKK\",\"ARKK\",\"ARKK\",\"ARKK\",\"ARKK\",\"ARKK\",\"ARKK\",\"ARKK\",\"ARKK\",\"ARKK\",\"ARKK\",\"ARKK\",\"ARKK\",\"ARKK\",\"ARKK\",\"ARKK\",\"ARKK\",\"ARKK\",\"ARKK\",\"ARKK\",\"ARKK\",\"ARKK\",\"ARKK\",\"ARKK\",\"ARKK\",\"ARKK\",\"ARKK\",\"ARKK\",\"ARKK\",\"ARKK\",\"ARKK\",\"ARKK\",\"ARKK\",\"ARKK\",\"ARKK\",\"ARKK\",\"ARKK\",\"ARKK\",\"ARKK\",\"ARKK\",\"ARKK\",\"ARKK\",\"ARKK\",\"ARKK\",\"ARKK\",\"ARKK\",\"ARKK\",\"ARKK\",\"ARKK\",\"ARKK\",\"ARKK\",\"ARKK\",\"ARKK\",\"ARKK\",\"ARKK\",\"ARKK\",\"ARKK\",\"ARKK\",\"ARKK\",\"ARKK\",\"ARKK\",\"ARKK\",\"ARKK\",\"ARKK\",\"ARKK\",\"ARKK\",\"ARKK\",\"ARKK\",\"ARKK\",\"ARKK\",\"ARKK\",\"ARKK\",\"ARKK\",\"ARKK\",\"ARKK\",\"ARKK\",\"ARKK\",\"ARKK\",\"ARKK\",\"ARKK\",\"ARKK\",\"ARKK\",\"ARKK\",\"ARKK\",\"ARKK\",\"ARKK\",\"ARKK\",\"ARKK\",\"ARKK\",\"ARKK\",\"ARKK\",\"ARKK\",\"ARKK\",\"ARKK\",\"ARKK\",\"ARKK\",\"ARKK\",\"ARKK\",\"ARKK\",\"ARKK\",\"ARKK\",\"ARKK\",\"ARKK\",\"ARKK\",\"ARKK\",\"ARKK\",\"ARKK\",\"ARKK\",\"ARKK\",\"ARKK\",\"ARKK\",\"ARKK\",\"ARKK\",\"ARKK\",\"ARKK\",\"ARKK\",\"ARKK\",\"ARKK\",\"ARKK\",\"ARKK\",\"ARKK\",\"ARKK\",\"ARKK\",\"ARKK\",\"ARKK\",\"ARKK\",\"ARKK\",\"ARKK\",\"ARKK\",\"ARKK\",\"ARKK\",\"ARKK\",\"ARKK\",\"ARKK\",\"ARKK\",\"ARKK\",\"ARKK\",\"ARKK\",\"ARKK\",\"ARKK\",\"ARKK\",\"ARKK\",\"ARKK\",\"ARKK\",\"ARKK\",\"ARKK\",\"ARKK\",\"ARKK\",\"ARKK\",\"ARKK\",\"ARKK\",\"ARKK\",\"ARKK\",\"ARKK\",\"ARKK\",\"ARKK\",\"ARKK\",\"ARKK\",\"ARKK\",\"ARKK\",\"ARKK\",\"ARKK\",\"ARKK\",\"ARKK\",\"ARKK\",\"ARKK\",\"ARKK\",\"ARKK\",\"ARKK\",\"ARKK\",\"ARKK\",\"ARKK\",\"ARKK\",\"ARKK\",\"ARKK\",\"ARKK\",\"ARKK\",\"ARKK\",\"ARKK\",\"ARKK\",\"ARKK\",\"ARKK\",\"ARKK\",\"ARKK\",\"ARKK\",\"ARKK\",\"ARKK\",\"ARKK\",\"ARKK\",\"ARKK\",\"ARKK\",\"ARKK\",\"ARKK\",\"ARKK\",\"ARKK\",\"ARKK\",\"ARKK\",\"ARKK\",\"ARKK\",\"ARKK\",\"ARKK\",\"ARKK\",\"ARKK\",\"ARKK\",\"ARKK\",\"ARKK\",\"ARKK\",\"ARKK\",\"ARKK\",\"ARKK\",\"ARKK\",\"ARKK\",\"ARKK\",\"ARKK\",\"ARKK\",\"ARKK\",\"ARKK\",\"ARKK\",\"ARKK\",\"ARKK\",\"ARKK\",\"ARKK\",\"ARKK\",\"ARKK\",\"ARKK\",\"ARKK\",\"ARKK\",\"ARKK\",\"ARKK\",\"ARKK\",\"ARKK\",\"ARKK\",\"ARKK\",\"ARKK\",\"ARKK\",\"ARKK\",\"ARKK\",\"ARKK\",\"ARKK\",\"ARKK\",\"ARKK\",\"ARKK\",\"ARKK\"],\"Date\":{\"__ndarray__\":\"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\",\"dtype\":\"float64\",\"order\":\"little\",\"shape\":[526]},\"value\":{\"__ndarray__\":\"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\",\"dtype\":\"float64\",\"order\":\"little\",\"shape\":[526]}},\"selected\":{\"id\":\"4262\"},\"selection_policy\":{\"id\":\"4277\"}},\"id\":\"4261\",\"type\":\"ColumnDataSource\"},{\"attributes\":{\"coordinates\":null,\"group\":null,\"text\":\"ETF Adjusted Closing Prices\",\"text_color\":\"black\",\"text_font_size\":\"24pt\"},\"id\":\"4224\",\"type\":\"Title\"},{\"attributes\":{\"line_alpha\":0.7,\"line_color\":\"#fc4f30\",\"line_width\":3,\"x\":{\"field\":\"Date\"},\"y\":{\"field\":\"value\"}},\"id\":\"4329\",\"type\":\"Line\"},{\"attributes\":{},\"id\":\"4228\",\"type\":\"LinearScale\"},{\"attributes\":{\"axis_label\":\"Adjusted Close Price - USD\",\"axis_label_text_font_size\":\"15pt\",\"coordinates\":null,\"formatter\":{\"id\":\"4257\"},\"group\":null,\"major_label_policy\":{\"id\":\"4258\"},\"major_label_text_font_size\":\"10pt\",\"ticker\":{\"id\":\"4237\"}},\"id\":\"4236\",\"type\":\"LinearAxis\"}],\"root_ids\":[\"4216\"]},\"title\":\"Bokeh Application\",\"version\":\"2.4.3\"}};\n",
       "    var render_items = [{\"docid\":\"0dab7cc1-bf62-4e7f-a399-76023485f651\",\"root_ids\":[\"4216\"],\"roots\":{\"4216\":\"55ef4169-0090-42af-ac91-ce9c6d6fb99e\"}}];\n",
       "    root.Bokeh.embed.embed_items_notebook(docs_json, render_items);\n",
       "    for (const render_item of render_items) {\n",
       "      for (const root_id of render_item.root_ids) {\n",
       "\tconst id_el = document.getElementById(root_id)\n",
       "\tif (id_el.children.length && (id_el.children[0].className === 'bk-root')) {\n",
       "\t  const root_el = id_el.children[0]\n",
       "\t  root_el.id = root_el.id + '-rendered'\n",
       "\t}\n",
       "      }\n",
       "    }\n",
       "  }\n",
       "  if (root.Bokeh !== undefined && root.Bokeh.Panel !== undefined) {\n",
       "    embed_document(root);\n",
       "  } else {\n",
       "    var attempts = 0;\n",
       "    var timer = setInterval(function(root) {\n",
       "      if (root.Bokeh !== undefined && root.Bokeh.Panel !== undefined) {\n",
       "        clearInterval(timer);\n",
       "        embed_document(root);\n",
       "      } else if (document.readyState == \"complete\") {\n",
       "        attempts++;\n",
       "        if (attempts > 200) {\n",
       "          clearInterval(timer);\n",
       "          console.log(\"Bokeh: ERROR: Unable to run BokehJS code because BokehJS library is missing\");\n",
       "        }\n",
       "      }\n",
       "    }, 25, root)\n",
       "  }\n",
       "})(window);</script>"
      ],
      "text/plain": [
       ":NdOverlay   [Adjusted Close Price]\n",
       "   :Curve   [Date]   (value)"
      ]
     },
     "execution_count": 21,
     "metadata": {
      "application/vnd.holoviews_exec.v0+json": {
       "id": "4216"
      }
     },
     "output_type": "execute_result"
    }
   ],
   "source": [
    "# Plotting ETF Adjusted Closing Prices\n",
    "plotter.line(etfs, '')"
   ]
  },
  {
   "cell_type": "code",
   "execution_count": 22,
   "id": "5c5b766f-ba48-433c-8eeb-803a53456990",
   "metadata": {},
   "outputs": [
    {
     "data": {
      "image/png": "[encoded data removed]",
      "text/plain": [
       "<Figure size 1500x800 with 2 Axes>"
      ]
     },
     "metadata": {},
     "output_type": "display_data"
    }
   ],
   "source": [
    "# Plotting heatmap for ETFs\n",
    "plotter.heatmap(etfs,'')"
   ]
  },
  {
   "cell_type": "code",
   "execution_count": 23,
   "id": "c2b01330-407b-4a54-8ac7-3781ea9694eb",
   "metadata": {},
   "outputs": [],
   "source": [
    "# Creating DataFrame for each ETF\n",
    "arkk,spy,fngu = [etfs[i].to_frame(i) for i in tickers]"
   ]
  },
  {
   "cell_type": "markdown",
   "id": "b1a002d6-bfc6-44b4-9a0e-1dedc6b8d14b",
   "metadata": {},
   "source": [
    "### ARKK"
   ]
  },
  {
   "cell_type": "code",
   "execution_count": 24,
   "id": "24d24a05-7fd9-460f-b5ad-db4bf31c13b7",
   "metadata": {},
   "outputs": [
    {
     "data": {
      "text/html": [
       "<div>\n",
       "<style scoped>\n",
       "    .dataframe tbody tr th:only-of-type {\n",
       "        vertical-align: middle;\n",
       "    }\n",
       "\n",
       "    .dataframe tbody tr th {\n",
       "        vertical-align: top;\n",
       "    }\n",
       "\n",
       "    .dataframe thead th {\n",
       "        text-align: right;\n",
       "    }\n",
       "</style>\n",
       "<table border=\"1\" class=\"dataframe\">\n",
       "  <thead>\n",
       "    <tr style=\"text-align: right;\">\n",
       "      <th></th>\n",
       "      <th>ARKK</th>\n",
       "    </tr>\n",
       "    <tr>\n",
       "      <th>Date</th>\n",
       "      <th></th>\n",
       "    </tr>\n",
       "  </thead>\n",
       "  <tbody>\n",
       "    <tr>\n",
       "      <th>2020-03-02</th>\n",
       "      <td>52.79</td>\n",
       "    </tr>\n",
       "    <tr>\n",
       "      <th>2020-03-03</th>\n",
       "      <td>51.73</td>\n",
       "    </tr>\n",
       "    <tr>\n",
       "      <th>2020-03-04</th>\n",
       "      <td>53.49</td>\n",
       "    </tr>\n",
       "    <tr>\n",
       "      <th>2020-03-05</th>\n",
       "      <td>52.24</td>\n",
       "    </tr>\n",
       "    <tr>\n",
       "      <th>2020-03-06</th>\n",
       "      <td>50.87</td>\n",
       "    </tr>\n",
       "  </tbody>\n",
       "</table>\n",
       "</div>"
      ],
      "text/plain": [
       "             ARKK\n",
       "Date             \n",
       "2020-03-02  52.79\n",
       "2020-03-03  51.73\n",
       "2020-03-04  53.49\n",
       "2020-03-05  52.24\n",
       "2020-03-06  50.87"
      ]
     },
     "metadata": {},
     "output_type": "display_data"
    },
    {
     "data": {
      "text/html": [
       "<div>\n",
       "<style scoped>\n",
       "    .dataframe tbody tr th:only-of-type {\n",
       "        vertical-align: middle;\n",
       "    }\n",
       "\n",
       "    .dataframe tbody tr th {\n",
       "        vertical-align: top;\n",
       "    }\n",
       "\n",
       "    .dataframe thead th {\n",
       "        text-align: right;\n",
       "    }\n",
       "</style>\n",
       "<table border=\"1\" class=\"dataframe\">\n",
       "  <thead>\n",
       "    <tr style=\"text-align: right;\">\n",
       "      <th></th>\n",
       "      <th>ARKK</th>\n",
       "    </tr>\n",
       "    <tr>\n",
       "      <th>Date</th>\n",
       "      <th></th>\n",
       "    </tr>\n",
       "  </thead>\n",
       "  <tbody>\n",
       "    <tr>\n",
       "      <th>2022-03-24</th>\n",
       "      <td>66.40</td>\n",
       "    </tr>\n",
       "    <tr>\n",
       "      <th>2022-03-25</th>\n",
       "      <td>64.51</td>\n",
       "    </tr>\n",
       "    <tr>\n",
       "      <th>2022-03-28</th>\n",
       "      <td>67.06</td>\n",
       "    </tr>\n",
       "    <tr>\n",
       "      <th>2022-03-29</th>\n",
       "      <td>71.39</td>\n",
       "    </tr>\n",
       "    <tr>\n",
       "      <th>2022-03-30</th>\n",
       "      <td>68.68</td>\n",
       "    </tr>\n",
       "  </tbody>\n",
       "</table>\n",
       "</div>"
      ],
      "text/plain": [
       "             ARKK\n",
       "Date             \n",
       "2022-03-24  66.40\n",
       "2022-03-25  64.51\n",
       "2022-03-28  67.06\n",
       "2022-03-29  71.39\n",
       "2022-03-30  68.68"
      ]
     },
     "metadata": {},
     "output_type": "display_data"
    }
   ],
   "source": [
    "# Displaying head/tail of ARKK ETF\n",
    "display_head_tail(arkk)"
   ]
  },
  {
   "cell_type": "code",
   "execution_count": 25,
   "id": "96b87381-8082-4dfb-b15b-327478940a74",
   "metadata": {},
   "outputs": [
    {
     "data": {},
     "metadata": {},
     "output_type": "display_data"
    },
    {
     "data": {
      "application/vnd.holoviews_exec.v0+json": "",
      "text/html": [
       "<div id='4929'>\n",
       "  <div class=\"bk-root\" id=\"0956811b-6987-43f3-8556-a960f6f69d9e\" data-root-id=\"4929\"></div>\n",
       "</div>\n",
       "<script type=\"application/javascript\">(function(root) {\n",
       "  function embed_document(root) {\n",
       "    var docs_json = {\"1cabe51e-b12b-4549-a13c-fb0b62528c8f\":{\"defs\":[{\"extends\":null,\"module\":null,\"name\":\"ReactiveHTML1\",\"overrides\":[],\"properties\":[]},{\"extends\":null,\"module\":null,\"name\":\"FlexBox1\",\"overrides\":[],\"properties\":[{\"default\":\"flex-start\",\"kind\":null,\"name\":\"align_content\"},{\"default\":\"flex-start\",\"kind\":null,\"name\":\"align_items\"},{\"default\":\"row\",\"kind\":null,\"name\":\"flex_direction\"},{\"default\":\"wrap\",\"kind\":null,\"name\":\"flex_wrap\"},{\"default\":\"flex-start\",\"kind\":null,\"name\":\"justify_content\"}]},{\"extends\":null,\"module\":null,\"name\":\"GridStack1\",\"overrides\":[],\"properties\":[{\"default\":\"warn\",\"kind\":null,\"name\":\"mode\"},{\"default\":null,\"kind\":null,\"name\":\"ncols\"},{\"default\":null,\"kind\":null,\"name\":\"nrows\"},{\"default\":true,\"kind\":null,\"name\":\"allow_resize\"},{\"default\":true,\"kind\":null,\"name\":\"allow_drag\"},{\"default\":[],\"kind\":null,\"name\":\"state\"}]},{\"extends\":null,\"module\":null,\"name\":\"click1\",\"overrides\":[],\"properties\":[{\"default\":\"\",\"kind\":null,\"name\":\"terminal_output\"},{\"default\":\"\",\"kind\":null,\"name\":\"debug_name\"},{\"default\":0,\"kind\":null,\"name\":\"clears\"}]},{\"extends\":null,\"module\":null,\"name\":\"NotificationAreaBase1\",\"overrides\":[],\"properties\":[{\"default\":\"bottom-right\",\"kind\":null,\"name\":\"position\"},{\"default\":0,\"kind\":null,\"name\":\"_clear\"}]},{\"extends\":null,\"module\":null,\"name\":\"NotificationArea1\",\"overrides\":[],\"properties\":[{\"default\":[],\"kind\":null,\"name\":\"notifications\"},{\"default\":\"bottom-right\",\"kind\":null,\"name\":\"position\"},{\"default\":0,\"kind\":null,\"name\":\"_clear\"},{\"default\":[{\"background\":\"#ffc107\",\"icon\":{\"className\":\"fas fa-exclamation-triangle\",\"color\":\"white\",\"tagName\":\"i\"},\"type\":\"warning\"},{\"background\":\"#007bff\",\"icon\":{\"className\":\"fas fa-info-circle\",\"color\":\"white\",\"tagName\":\"i\"},\"type\":\"info\"}],\"kind\":null,\"name\":\"types\"}]},{\"extends\":null,\"module\":null,\"name\":\"Notification\",\"overrides\":[],\"properties\":[{\"default\":null,\"kind\":null,\"name\":\"background\"},{\"default\":3000,\"kind\":null,\"name\":\"duration\"},{\"default\":null,\"kind\":null,\"name\":\"icon\"},{\"default\":\"\",\"kind\":null,\"name\":\"message\"},{\"default\":null,\"kind\":null,\"name\":\"notification_type\"},{\"default\":false,\"kind\":null,\"name\":\"_destroyed\"}]},{\"extends\":null,\"module\":null,\"name\":\"TemplateActions1\",\"overrides\":[],\"properties\":[{\"default\":0,\"kind\":null,\"name\":\"open_modal\"},{\"default\":0,\"kind\":null,\"name\":\"close_modal\"}]},{\"extends\":null,\"module\":null,\"name\":\"MaterialTemplateActions1\",\"overrides\":[],\"properties\":[{\"default\":0,\"kind\":null,\"name\":\"open_modal\"},{\"default\":0,\"kind\":null,\"name\":\"close_modal\"}]}],\"roots\":{\"references\":[{\"attributes\":{},\"id\":\"4948\",\"type\":\"BasicTicker\"},{\"attributes\":{\"axis\":{\"id\":\"4947\"},\"coordinates\":null,\"dimension\":1,\"group\":null,\"ticker\":{\"id\":\"4948\"}},\"id\":\"4950\",\"type\":\"Grid\"},{\"attributes\":{\"months\":[0,4,8]},\"id\":\"5001\",\"type\":\"MonthsTicker\"},{\"attributes\":{\"axis\":{\"id\":\"4943\"},\"coordinates\":null,\"group\":null,\"ticker\":{\"id\":\"4944\"}},\"id\":\"4946\",\"type\":\"Grid\"},{\"attributes\":{},\"id\":\"4939\",\"type\":\"LinearScale\"},{\"attributes\":{\"margin\":[5,5,5,5],\"name\":\"HSpacer01803\",\"sizing_mode\":\"stretch_width\"},\"id\":\"4930\",\"type\":\"Spacer\"},{\"attributes\":{\"axis_label\":\"Date\",\"axis_label_text_font_size\":\"15pt\",\"coordinates\":null,\"formatter\":{\"id\":\"4975\"},\"group\":null,\"major_label_orientation\":0.7853981633974483,\"major_label_policy\":{\"id\":\"4976\"},\"major_label_text_font_size\":\"10pt\",\"ticker\":{\"id\":\"4944\"}},\"id\":\"4943\",\"type\":\"DatetimeAxis\"},{\"attributes\":{\"end\":167.44400000000002,\"reset_end\":167.44400000000002,\"reset_start\":21.715999999999998,\"start\":21.715999999999998,\"tags\":[[[\"ARKK\",\"ARKK\",null]]]},\"id\":\"4932\",\"type\":\"Range1d\"},{\"attributes\":{},\"id\":\"4965\",\"type\":\"Selection\"},{\"attributes\":{\"axis_label\":\"Adjusted Close Price - USD\",\"axis_label_text_font_size\":\"15pt\",\"coordinates\":null,\"formatter\":{\"id\":\"4978\"},\"group\":null,\"major_label_policy\":{\"id\":\"4979\"},\"major_label_text_font_size\":\"10pt\",\"ticker\":{\"id\":\"4948\"}},\"id\":\"4947\",\"type\":\"LinearAxis\"},{\"attributes\":{\"children\":[{\"id\":\"4930\"},{\"id\":\"4934\"},{\"id\":\"5004\"}],\"margin\":[0,0,0,0],\"name\":\"Row01799\",\"tags\":[\"embedded\"]},\"id\":\"4929\",\"type\":\"Row\"},{\"attributes\":{\"mantissas\":[1,2,5],\"max_interval\":500.0,\"num_minor_ticks\":0},\"id\":\"4992\",\"type\":\"AdaptiveTicker\"},{\"attributes\":{},\"id\":\"4941\",\"type\":\"LinearScale\"},{\"attributes\":{},\"id\":\"4978\",\"type\":\"BasicTickFormatter\"},{\"attributes\":{\"months\":[0,1,2,3,4,5,6,7,8,9,10,11]},\"id\":\"4999\",\"type\":\"MonthsTicker\"},{\"attributes\":{\"coordinates\":null,\"group\":null,\"text\":\"ARKK ETF Adjusted Closing Prices\",\"text_color\":\"black\",\"text_font_size\":\"24pt\"},\"id\":\"4935\",\"type\":\"Title\"},{\"attributes\":{\"base\":60,\"mantissas\":[1,2,5,10,15,20,30],\"max_interval\":1800000.0,\"min_interval\":1000.0,\"num_minor_ticks\":0},\"id\":\"4993\",\"type\":\"AdaptiveTicker\"},{\"attributes\":{\"base\":24,\"mantissas\":[1,2,4,6,8,12],\"max_interval\":43200000.0,\"min_interval\":3600000.0,\"num_minor_ticks\":0},\"id\":\"4994\",\"type\":\"AdaptiveTicker\"},{\"attributes\":{\"bottom_units\":\"screen\",\"coordinates\":null,\"fill_alpha\":0.5,\"fill_color\":\"lightgrey\",\"group\":null,\"left_units\":\"screen\",\"level\":\"overlay\",\"line_alpha\":1.0,\"line_color\":\"black\",\"line_dash\":[4,4],\"line_width\":2,\"right_units\":\"screen\",\"syncable\":false,\"top_units\":\"screen\"},\"id\":\"4956\",\"type\":\"BoxAnnotation\"},{\"attributes\":{},\"id\":\"5003\",\"type\":\"YearsTicker\"},{\"attributes\":{\"num_minor_ticks\":5,\"tickers\":[{\"id\":\"4992\"},{\"id\":\"4993\"},{\"id\":\"4994\"},{\"id\":\"4995\"},{\"id\":\"4996\"},{\"id\":\"4997\"},{\"id\":\"4998\"},{\"id\":\"4999\"},{\"id\":\"5000\"},{\"id\":\"5001\"},{\"id\":\"5002\"},{\"id\":\"5003\"}]},\"id\":\"4944\",\"type\":\"DatetimeTicker\"},{\"attributes\":{\"days\":[1,2,3,4,5,6,7,8,9,10,11,12,13,14,15,16,17,18,19,20,21,22,23,24,25,26,27,28,29,30,31]},\"id\":\"4995\",\"type\":\"DaysTicker\"},{\"attributes\":{\"callback\":null,\"formatters\":{\"@{Date}\":\"datetime\"},\"renderers\":[{\"id\":\"4971\"}],\"tags\":[\"hv_created\"],\"tooltips\":[[\"Date\",\"@{Date}{%F %T}\"],[\"ARKK\",\"@{ARKK}\"]]},\"id\":\"4933\",\"type\":\"HoverTool\"},{\"attributes\":{},\"id\":\"4979\",\"type\":\"AllLabels\"},{\"attributes\":{},\"id\":\"4976\",\"type\":\"AllLabels\"},{\"attributes\":{\"data\":{\"ARKK\":{\"__ndarray__\":\"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\",\"dtype\":\"float64\",\"order\":\"little\",\"shape\":[526]},\"Date\":{\"__ndarray__\":\"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\",\"dtype\":\"float64\",\"order\":\"little\",\"shape\":[526]}},\"selected\":{\"id\":\"4965\"},\"selection_policy\":{\"id\":\"4989\"}},\"id\":\"4964\",\"type\":\"ColumnDataSource\"},{\"attributes\":{\"line_alpha\":0.7,\"line_color\":\"#30a2da\",\"line_width\":3,\"x\":{\"field\":\"Date\"},\"y\":{\"field\":\"ARKK\"}},\"id\":\"4967\",\"type\":\"Line\"},{\"attributes\":{},\"id\":\"4951\",\"type\":\"SaveTool\"},{\"attributes\":{\"background_fill_color\":\"#F5F5F5\",\"below\":[{\"id\":\"4943\"}],\"center\":[{\"id\":\"4946\"},{\"id\":\"4950\"}],\"height\":750,\"left\":[{\"id\":\"4947\"}],\"margin\":[5,5,5,5],\"min_border_bottom\":10,\"min_border_left\":10,\"min_border_right\":10,\"min_border_top\":10,\"renderers\":[{\"id\":\"4971\"}],\"sizing_mode\":\"fixed\",\"title\":{\"id\":\"4935\"},\"toolbar\":{\"id\":\"4957\"},\"width\":1500,\"x_range\":{\"id\":\"4931\"},\"x_scale\":{\"id\":\"4939\"},\"y_range\":{\"id\":\"4932\"},\"y_scale\":{\"id\":\"4941\"}},\"id\":\"4934\",\"subtype\":\"Figure\",\"type\":\"Plot\"},{\"attributes\":{\"months\":[0,6]},\"id\":\"5002\",\"type\":\"MonthsTicker\"},{\"attributes\":{\"margin\":[5,5,5,5],\"name\":\"HSpacer01804\",\"sizing_mode\":\"stretch_width\"},\"id\":\"5004\",\"type\":\"Spacer\"},{\"attributes\":{\"tools\":[{\"id\":\"4933\"},{\"id\":\"4951\"},{\"id\":\"4952\"},{\"id\":\"4953\"},{\"id\":\"4954\"},{\"id\":\"4955\"}]},\"id\":\"4957\",\"type\":\"Toolbar\"},{\"attributes\":{\"line_alpha\":0.7,\"line_color\":\"#30a2da\",\"line_width\":3,\"x\":{\"field\":\"Date\"},\"y\":{\"field\":\"ARKK\"}},\"id\":\"4968\",\"type\":\"Line\"},{\"attributes\":{},\"id\":\"4989\",\"type\":\"UnionRenderers\"},{\"attributes\":{\"end\":1648598400000.0,\"reset_end\":1648598400000.0,\"reset_start\":1583107200000.0,\"start\":1583107200000.0,\"tags\":[[[\"Date\",\"Date\",null]]]},\"id\":\"4931\",\"type\":\"Range1d\"},{\"attributes\":{\"source\":{\"id\":\"4964\"}},\"id\":\"4972\",\"type\":\"CDSView\"},{\"attributes\":{\"coordinates\":null,\"data_source\":{\"id\":\"4964\"},\"glyph\":{\"id\":\"4967\"},\"group\":null,\"hover_glyph\":{\"id\":\"4969\"},\"muted_glyph\":{\"id\":\"4970\"},\"nonselection_glyph\":{\"id\":\"4968\"},\"selection_glyph\":{\"id\":\"4973\"},\"view\":{\"id\":\"4972\"}},\"id\":\"4971\",\"type\":\"GlyphRenderer\"},{\"attributes\":{},\"id\":\"4955\",\"type\":\"ResetTool\"},{\"attributes\":{},\"id\":\"4952\",\"type\":\"PanTool\"},{\"attributes\":{\"line_alpha\":0.2,\"line_color\":\"#30a2da\",\"line_width\":3,\"x\":{\"field\":\"Date\"},\"y\":{\"field\":\"ARKK\"}},\"id\":\"4970\",\"type\":\"Line\"},{\"attributes\":{\"months\":[0,2,4,6,8,10]},\"id\":\"5000\",\"type\":\"MonthsTicker\"},{\"attributes\":{\"days\":[1,15]},\"id\":\"4998\",\"type\":\"DaysTicker\"},{\"attributes\":{},\"id\":\"4953\",\"type\":\"WheelZoomTool\"},{\"attributes\":{\"overlay\":{\"id\":\"4956\"}},\"id\":\"4954\",\"type\":\"BoxZoomTool\"},{\"attributes\":{\"line_alpha\":0.7,\"line_color\":\"#30a2da\",\"line_width\":3,\"x\":{\"field\":\"Date\"},\"y\":{\"field\":\"ARKK\"}},\"id\":\"4973\",\"type\":\"Line\"},{\"attributes\":{\"days\":[1,4,7,10,13,16,19,22,25,28]},\"id\":\"4996\",\"type\":\"DaysTicker\"},{\"attributes\":{\"line_color\":\"#30a2da\",\"line_width\":5,\"x\":{\"field\":\"Date\"},\"y\":{\"field\":\"ARKK\"}},\"id\":\"4969\",\"type\":\"Line\"},{\"attributes\":{\"days\":[1,8,15,22]},\"id\":\"4997\",\"type\":\"DaysTicker\"},{\"attributes\":{},\"id\":\"4975\",\"type\":\"DatetimeTickFormatter\"}],\"root_ids\":[\"4929\"]},\"title\":\"Bokeh Application\",\"version\":\"2.4.3\"}};\n",
       "    var render_items = [{\"docid\":\"1cabe51e-b12b-4549-a13c-fb0b62528c8f\",\"root_ids\":[\"4929\"],\"roots\":{\"4929\":\"0956811b-6987-43f3-8556-a960f6f69d9e\"}}];\n",
       "    root.Bokeh.embed.embed_items_notebook(docs_json, render_items);\n",
       "    for (const render_item of render_items) {\n",
       "      for (const root_id of render_item.root_ids) {\n",
       "\tconst id_el = document.getElementById(root_id)\n",
       "\tif (id_el.children.length && (id_el.children[0].className === 'bk-root')) {\n",
       "\t  const root_el = id_el.children[0]\n",
       "\t  root_el.id = root_el.id + '-rendered'\n",
       "\t}\n",
       "      }\n",
       "    }\n",
       "  }\n",
       "  if (root.Bokeh !== undefined && root.Bokeh.Panel !== undefined) {\n",
       "    embed_document(root);\n",
       "  } else {\n",
       "    var attempts = 0;\n",
       "    var timer = setInterval(function(root) {\n",
       "      if (root.Bokeh !== undefined && root.Bokeh.Panel !== undefined) {\n",
       "        clearInterval(timer);\n",
       "        embed_document(root);\n",
       "      } else if (document.readyState == \"complete\") {\n",
       "        attempts++;\n",
       "        if (attempts > 200) {\n",
       "          clearInterval(timer);\n",
       "          console.log(\"Bokeh: ERROR: Unable to run BokehJS code because BokehJS library is missing\");\n",
       "        }\n",
       "      }\n",
       "    }, 25, root)\n",
       "  }\n",
       "})(window);</script>"
      ],
      "text/plain": [
       ":Curve   [Date]   (ARKK)"
      ]
     },
     "execution_count": 25,
     "metadata": {
      "application/vnd.holoviews_exec.v0+json": {
       "id": "4929"
      }
     },
     "output_type": "execute_result"
    }
   ],
   "source": [
    "# Plotting ARKK ETF Adjusted Closing Prices\n",
    "plotter.line(arkk, tickers[0])"
   ]
  },
  {
   "cell_type": "markdown",
   "id": "68614480-3d8f-43ee-9022-d14dc7dc609e",
   "metadata": {},
   "source": [
    "### SPY"
   ]
  },
  {
   "cell_type": "code",
   "execution_count": 26,
   "id": "de83c636-801c-4126-86da-83b4476940ff",
   "metadata": {},
   "outputs": [
    {
     "data": {
      "text/html": [
       "<div>\n",
       "<style scoped>\n",
       "    .dataframe tbody tr th:only-of-type {\n",
       "        vertical-align: middle;\n",
       "    }\n",
       "\n",
       "    .dataframe tbody tr th {\n",
       "        vertical-align: top;\n",
       "    }\n",
       "\n",
       "    .dataframe thead th {\n",
       "        text-align: right;\n",
       "    }\n",
       "</style>\n",
       "<table border=\"1\" class=\"dataframe\">\n",
       "  <thead>\n",
       "    <tr style=\"text-align: right;\">\n",
       "      <th></th>\n",
       "      <th>SPY</th>\n",
       "    </tr>\n",
       "    <tr>\n",
       "      <th>Date</th>\n",
       "      <th></th>\n",
       "    </tr>\n",
       "  </thead>\n",
       "  <tbody>\n",
       "    <tr>\n",
       "      <th>2020-03-02</th>\n",
       "      <td>294.65</td>\n",
       "    </tr>\n",
       "    <tr>\n",
       "      <th>2020-03-03</th>\n",
       "      <td>286.22</td>\n",
       "    </tr>\n",
       "    <tr>\n",
       "      <th>2020-03-04</th>\n",
       "      <td>298.25</td>\n",
       "    </tr>\n",
       "    <tr>\n",
       "      <th>2020-03-05</th>\n",
       "      <td>288.33</td>\n",
       "    </tr>\n",
       "    <tr>\n",
       "      <th>2020-03-06</th>\n",
       "      <td>283.57</td>\n",
       "    </tr>\n",
       "  </tbody>\n",
       "</table>\n",
       "</div>"
      ],
      "text/plain": [
       "               SPY\n",
       "Date              \n",
       "2020-03-02  294.65\n",
       "2020-03-03  286.22\n",
       "2020-03-04  298.25\n",
       "2020-03-05  288.33\n",
       "2020-03-06  283.57"
      ]
     },
     "metadata": {},
     "output_type": "display_data"
    },
    {
     "data": {
      "text/html": [
       "<div>\n",
       "<style scoped>\n",
       "    .dataframe tbody tr th:only-of-type {\n",
       "        vertical-align: middle;\n",
       "    }\n",
       "\n",
       "    .dataframe tbody tr th {\n",
       "        vertical-align: top;\n",
       "    }\n",
       "\n",
       "    .dataframe thead th {\n",
       "        text-align: right;\n",
       "    }\n",
       "</style>\n",
       "<table border=\"1\" class=\"dataframe\">\n",
       "  <thead>\n",
       "    <tr style=\"text-align: right;\">\n",
       "      <th></th>\n",
       "      <th>SPY</th>\n",
       "    </tr>\n",
       "    <tr>\n",
       "      <th>Date</th>\n",
       "      <th></th>\n",
       "    </tr>\n",
       "  </thead>\n",
       "  <tbody>\n",
       "    <tr>\n",
       "      <th>2022-03-24</th>\n",
       "      <td>444.68</td>\n",
       "    </tr>\n",
       "    <tr>\n",
       "      <th>2022-03-25</th>\n",
       "      <td>446.85</td>\n",
       "    </tr>\n",
       "    <tr>\n",
       "      <th>2022-03-28</th>\n",
       "      <td>450.03</td>\n",
       "    </tr>\n",
       "    <tr>\n",
       "      <th>2022-03-29</th>\n",
       "      <td>455.59</td>\n",
       "    </tr>\n",
       "    <tr>\n",
       "      <th>2022-03-30</th>\n",
       "      <td>452.78</td>\n",
       "    </tr>\n",
       "  </tbody>\n",
       "</table>\n",
       "</div>"
      ],
      "text/plain": [
       "               SPY\n",
       "Date              \n",
       "2022-03-24  444.68\n",
       "2022-03-25  446.85\n",
       "2022-03-28  450.03\n",
       "2022-03-29  455.59\n",
       "2022-03-30  452.78"
      ]
     },
     "metadata": {},
     "output_type": "display_data"
    }
   ],
   "source": [
    "# Displaying head/tail of SPY ETF\n",
    "display_head_tail(spy)"
   ]
  },
  {
   "cell_type": "code",
   "execution_count": 27,
   "id": "8dce3d7f-22b6-4a22-8d33-d9b8b613d2af",
   "metadata": {},
   "outputs": [
    {
     "data": {},
     "metadata": {},
     "output_type": "display_data"
    },
    {
     "data": {
      "application/vnd.holoviews_exec.v0+json": "",
      "text/html": [
       "<div id='5520'>\n",
       "  <div class=\"bk-root\" id=\"0a84a30b-96ae-4962-b5a9-e8656000d414\" data-root-id=\"5520\"></div>\n",
       "</div>\n",
       "<script type=\"application/javascript\">(function(root) {\n",
       "  function embed_document(root) {\n",
       "    var docs_json = {\"c098f9a3-68fc-4f00-b88a-b1f49d4da844\":{\"defs\":[{\"extends\":null,\"module\":null,\"name\":\"ReactiveHTML1\",\"overrides\":[],\"properties\":[]},{\"extends\":null,\"module\":null,\"name\":\"FlexBox1\",\"overrides\":[],\"properties\":[{\"default\":\"flex-start\",\"kind\":null,\"name\":\"align_content\"},{\"default\":\"flex-start\",\"kind\":null,\"name\":\"align_items\"},{\"default\":\"row\",\"kind\":null,\"name\":\"flex_direction\"},{\"default\":\"wrap\",\"kind\":null,\"name\":\"flex_wrap\"},{\"default\":\"flex-start\",\"kind\":null,\"name\":\"justify_content\"}]},{\"extends\":null,\"module\":null,\"name\":\"GridStack1\",\"overrides\":[],\"properties\":[{\"default\":\"warn\",\"kind\":null,\"name\":\"mode\"},{\"default\":null,\"kind\":null,\"name\":\"ncols\"},{\"default\":null,\"kind\":null,\"name\":\"nrows\"},{\"default\":true,\"kind\":null,\"name\":\"allow_resize\"},{\"default\":true,\"kind\":null,\"name\":\"allow_drag\"},{\"default\":[],\"kind\":null,\"name\":\"state\"}]},{\"extends\":null,\"module\":null,\"name\":\"click1\",\"overrides\":[],\"properties\":[{\"default\":\"\",\"kind\":null,\"name\":\"terminal_output\"},{\"default\":\"\",\"kind\":null,\"name\":\"debug_name\"},{\"default\":0,\"kind\":null,\"name\":\"clears\"}]},{\"extends\":null,\"module\":null,\"name\":\"NotificationAreaBase1\",\"overrides\":[],\"properties\":[{\"default\":\"bottom-right\",\"kind\":null,\"name\":\"position\"},{\"default\":0,\"kind\":null,\"name\":\"_clear\"}]},{\"extends\":null,\"module\":null,\"name\":\"NotificationArea1\",\"overrides\":[],\"properties\":[{\"default\":[],\"kind\":null,\"name\":\"notifications\"},{\"default\":\"bottom-right\",\"kind\":null,\"name\":\"position\"},{\"default\":0,\"kind\":null,\"name\":\"_clear\"},{\"default\":[{\"background\":\"#ffc107\",\"icon\":{\"className\":\"fas fa-exclamation-triangle\",\"color\":\"white\",\"tagName\":\"i\"},\"type\":\"warning\"},{\"background\":\"#007bff\",\"icon\":{\"className\":\"fas fa-info-circle\",\"color\":\"white\",\"tagName\":\"i\"},\"type\":\"info\"}],\"kind\":null,\"name\":\"types\"}]},{\"extends\":null,\"module\":null,\"name\":\"Notification\",\"overrides\":[],\"properties\":[{\"default\":null,\"kind\":null,\"name\":\"background\"},{\"default\":3000,\"kind\":null,\"name\":\"duration\"},{\"default\":null,\"kind\":null,\"name\":\"icon\"},{\"default\":\"\",\"kind\":null,\"name\":\"message\"},{\"default\":null,\"kind\":null,\"name\":\"notification_type\"},{\"default\":false,\"kind\":null,\"name\":\"_destroyed\"}]},{\"extends\":null,\"module\":null,\"name\":\"TemplateActions1\",\"overrides\":[],\"properties\":[{\"default\":0,\"kind\":null,\"name\":\"open_modal\"},{\"default\":0,\"kind\":null,\"name\":\"close_modal\"}]},{\"extends\":null,\"module\":null,\"name\":\"MaterialTemplateActions1\",\"overrides\":[],\"properties\":[{\"default\":0,\"kind\":null,\"name\":\"open_modal\"},{\"default\":0,\"kind\":null,\"name\":\"close_modal\"}]}],\"roots\":{\"references\":[{\"attributes\":{\"axis_label\":\"Adjusted Close Price - USD\",\"axis_label_text_font_size\":\"15pt\",\"coordinates\":null,\"formatter\":{\"id\":\"5569\"},\"group\":null,\"major_label_policy\":{\"id\":\"5570\"},\"major_label_text_font_size\":\"10pt\",\"ticker\":{\"id\":\"5539\"}},\"id\":\"5538\",\"type\":\"LinearAxis\"},{\"attributes\":{\"axis\":{\"id\":\"5534\"},\"coordinates\":null,\"group\":null,\"ticker\":{\"id\":\"5535\"}},\"id\":\"5537\",\"type\":\"Grid\"},{\"attributes\":{\"axis_label\":\"Date\",\"axis_label_text_font_size\":\"15pt\",\"coordinates\":null,\"formatter\":{\"id\":\"5566\"},\"group\":null,\"major_label_orientation\":0.7853981633974483,\"major_label_policy\":{\"id\":\"5567\"},\"major_label_text_font_size\":\"10pt\",\"ticker\":{\"id\":\"5535\"}},\"id\":\"5534\",\"type\":\"DatetimeAxis\"},{\"attributes\":{\"axis\":{\"id\":\"5538\"},\"coordinates\":null,\"dimension\":1,\"group\":null,\"ticker\":{\"id\":\"5539\"}},\"id\":\"5541\",\"type\":\"Grid\"},{\"attributes\":{\"coordinates\":null,\"group\":null,\"text\":\"SPY ETF Adjusted Closing Prices\",\"text_color\":\"black\",\"text_font_size\":\"24pt\"},\"id\":\"5526\",\"type\":\"Title\"},{\"attributes\":{\"bottom_units\":\"screen\",\"coordinates\":null,\"fill_alpha\":0.5,\"fill_color\":\"lightgrey\",\"group\":null,\"left_units\":\"screen\",\"level\":\"overlay\",\"line_alpha\":1.0,\"line_color\":\"black\",\"line_dash\":[4,4],\"line_width\":2,\"right_units\":\"screen\",\"syncable\":false,\"top_units\":\"screen\"},\"id\":\"5547\",\"type\":\"BoxAnnotation\"},{\"attributes\":{\"margin\":[5,5,5,5],\"name\":\"HSpacer01937\",\"sizing_mode\":\"stretch_width\"},\"id\":\"5595\",\"type\":\"Spacer\"},{\"attributes\":{\"num_minor_ticks\":5,\"tickers\":[{\"id\":\"5583\"},{\"id\":\"5584\"},{\"id\":\"5585\"},{\"id\":\"5586\"},{\"id\":\"5587\"},{\"id\":\"5588\"},{\"id\":\"5589\"},{\"id\":\"5590\"},{\"id\":\"5591\"},{\"id\":\"5592\"},{\"id\":\"5593\"},{\"id\":\"5594\"}]},\"id\":\"5535\",\"type\":\"DatetimeTicker\"},{\"attributes\":{\"line_alpha\":0.7,\"line_color\":\"#30a2da\",\"line_width\":3,\"x\":{\"field\":\"Date\"},\"y\":{\"field\":\"SPY\"}},\"id\":\"5564\",\"type\":\"Line\"},{\"attributes\":{},\"id\":\"5539\",\"type\":\"BasicTicker\"},{\"attributes\":{\"overlay\":{\"id\":\"5547\"}},\"id\":\"5545\",\"type\":\"BoxZoomTool\"},{\"attributes\":{\"line_alpha\":0.2,\"line_color\":\"#30a2da\",\"line_width\":3,\"x\":{\"field\":\"Date\"},\"y\":{\"field\":\"SPY\"}},\"id\":\"5561\",\"type\":\"Line\"},{\"attributes\":{},\"id\":\"5532\",\"type\":\"LinearScale\"},{\"attributes\":{\"source\":{\"id\":\"5555\"}},\"id\":\"5563\",\"type\":\"CDSView\"},{\"attributes\":{},\"id\":\"5546\",\"type\":\"ResetTool\"},{\"attributes\":{},\"id\":\"5544\",\"type\":\"WheelZoomTool\"},{\"attributes\":{\"coordinates\":null,\"data_source\":{\"id\":\"5555\"},\"glyph\":{\"id\":\"5558\"},\"group\":null,\"hover_glyph\":{\"id\":\"5560\"},\"muted_glyph\":{\"id\":\"5561\"},\"nonselection_glyph\":{\"id\":\"5559\"},\"selection_glyph\":{\"id\":\"5564\"},\"view\":{\"id\":\"5563\"}},\"id\":\"5562\",\"type\":\"GlyphRenderer\"},{\"attributes\":{\"data\":{\"Date\":{\"__ndarray__\":\"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\",\"dtype\":\"float64\",\"order\":\"little\",\"shape\":[526]},\"SPY\":{\"__ndarray__\":\"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\",\"dtype\":\"float64\",\"order\":\"little\",\"shape\":[526]}},\"selected\":{\"id\":\"5556\"},\"selection_policy\":{\"id\":\"5580\"}},\"id\":\"5555\",\"type\":\"ColumnDataSource\"},{\"attributes\":{\"mantissas\":[1,2,5],\"max_interval\":500.0,\"num_minor_ticks\":0},\"id\":\"5583\",\"type\":\"AdaptiveTicker\"},{\"attributes\":{},\"id\":\"5542\",\"type\":\"SaveTool\"},{\"attributes\":{\"base\":60,\"mantissas\":[1,2,5,10,15,20,30],\"max_interval\":1800000.0,\"min_interval\":1000.0,\"num_minor_ticks\":0},\"id\":\"5584\",\"type\":\"AdaptiveTicker\"},{\"attributes\":{\"base\":24,\"mantissas\":[1,2,4,6,8,12],\"max_interval\":43200000.0,\"min_interval\":3600000.0,\"num_minor_ticks\":0},\"id\":\"5585\",\"type\":\"AdaptiveTicker\"},{\"attributes\":{},\"id\":\"5594\",\"type\":\"YearsTicker\"},{\"attributes\":{\"tools\":[{\"id\":\"5524\"},{\"id\":\"5542\"},{\"id\":\"5543\"},{\"id\":\"5544\"},{\"id\":\"5545\"},{\"id\":\"5546\"}]},\"id\":\"5548\",\"type\":\"Toolbar\"},{\"attributes\":{\"end\":1648598400000.0,\"reset_end\":1648598400000.0,\"reset_start\":1583107200000.0,\"start\":1583107200000.0,\"tags\":[[[\"Date\",\"Date\",null]]]},\"id\":\"5522\",\"type\":\"Range1d\"},{\"attributes\":{},\"id\":\"5543\",\"type\":\"PanTool\"},{\"attributes\":{\"days\":[1,15]},\"id\":\"5589\",\"type\":\"DaysTicker\"},{\"attributes\":{\"months\":[0,1,2,3,4,5,6,7,8,9,10,11]},\"id\":\"5590\",\"type\":\"MonthsTicker\"},{\"attributes\":{\"days\":[1,2,3,4,5,6,7,8,9,10,11,12,13,14,15,16,17,18,19,20,21,22,23,24,25,26,27,28,29,30,31]},\"id\":\"5586\",\"type\":\"DaysTicker\"},{\"attributes\":{},\"id\":\"5570\",\"type\":\"AllLabels\"},{\"attributes\":{\"days\":[1,4,7,10,13,16,19,22,25,28]},\"id\":\"5587\",\"type\":\"DaysTicker\"},{\"attributes\":{\"end\":495.709,\"reset_end\":495.709,\"reset_start\":188.161,\"start\":188.161,\"tags\":[[[\"SPY\",\"SPY\",null]]]},\"id\":\"5523\",\"type\":\"Range1d\"},{\"attributes\":{\"days\":[1,8,15,22]},\"id\":\"5588\",\"type\":\"DaysTicker\"},{\"attributes\":{\"months\":[0,6]},\"id\":\"5593\",\"type\":\"MonthsTicker\"},{\"attributes\":{},\"id\":\"5530\",\"type\":\"LinearScale\"},{\"attributes\":{\"months\":[0,2,4,6,8,10]},\"id\":\"5591\",\"type\":\"MonthsTicker\"},{\"attributes\":{},\"id\":\"5556\",\"type\":\"Selection\"},{\"attributes\":{\"margin\":[5,5,5,5],\"name\":\"HSpacer01936\",\"sizing_mode\":\"stretch_width\"},\"id\":\"5521\",\"type\":\"Spacer\"},{\"attributes\":{\"callback\":null,\"formatters\":{\"@{Date}\":\"datetime\"},\"renderers\":[{\"id\":\"5562\"}],\"tags\":[\"hv_created\"],\"tooltips\":[[\"Date\",\"@{Date}{%F %T}\"],[\"SPY\",\"@{SPY}\"]]},\"id\":\"5524\",\"type\":\"HoverTool\"},{\"attributes\":{\"children\":[{\"id\":\"5521\"},{\"id\":\"5525\"},{\"id\":\"5595\"}],\"margin\":[0,0,0,0],\"name\":\"Row01932\",\"tags\":[\"embedded\"]},\"id\":\"5520\",\"type\":\"Row\"},{\"attributes\":{\"months\":[0,4,8]},\"id\":\"5592\",\"type\":\"MonthsTicker\"},{\"attributes\":{\"line_alpha\":0.7,\"line_color\":\"#30a2da\",\"line_width\":3,\"x\":{\"field\":\"Date\"},\"y\":{\"field\":\"SPY\"}},\"id\":\"5559\",\"type\":\"Line\"},{\"attributes\":{},\"id\":\"5580\",\"type\":\"UnionRenderers\"},{\"attributes\":{\"line_alpha\":0.7,\"line_color\":\"#30a2da\",\"line_width\":3,\"x\":{\"field\":\"Date\"},\"y\":{\"field\":\"SPY\"}},\"id\":\"5558\",\"type\":\"Line\"},{\"attributes\":{\"line_color\":\"#30a2da\",\"line_width\":5,\"x\":{\"field\":\"Date\"},\"y\":{\"field\":\"SPY\"}},\"id\":\"5560\",\"type\":\"Line\"},{\"attributes\":{\"background_fill_color\":\"#F5F5F5\",\"below\":[{\"id\":\"5534\"}],\"center\":[{\"id\":\"5537\"},{\"id\":\"5541\"}],\"height\":750,\"left\":[{\"id\":\"5538\"}],\"margin\":[5,5,5,5],\"min_border_bottom\":10,\"min_border_left\":10,\"min_border_right\":10,\"min_border_top\":10,\"renderers\":[{\"id\":\"5562\"}],\"sizing_mode\":\"fixed\",\"title\":{\"id\":\"5526\"},\"toolbar\":{\"id\":\"5548\"},\"width\":1500,\"x_range\":{\"id\":\"5522\"},\"x_scale\":{\"id\":\"5530\"},\"y_range\":{\"id\":\"5523\"},\"y_scale\":{\"id\":\"5532\"}},\"id\":\"5525\",\"subtype\":\"Figure\",\"type\":\"Plot\"},{\"attributes\":{},\"id\":\"5569\",\"type\":\"BasicTickFormatter\"},{\"attributes\":{},\"id\":\"5566\",\"type\":\"DatetimeTickFormatter\"},{\"attributes\":{},\"id\":\"5567\",\"type\":\"AllLabels\"}],\"root_ids\":[\"5520\"]},\"title\":\"Bokeh Application\",\"version\":\"2.4.3\"}};\n",
       "    var render_items = [{\"docid\":\"c098f9a3-68fc-4f00-b88a-b1f49d4da844\",\"root_ids\":[\"5520\"],\"roots\":{\"5520\":\"0a84a30b-96ae-4962-b5a9-e8656000d414\"}}];\n",
       "    root.Bokeh.embed.embed_items_notebook(docs_json, render_items);\n",
       "    for (const render_item of render_items) {\n",
       "      for (const root_id of render_item.root_ids) {\n",
       "\tconst id_el = document.getElementById(root_id)\n",
       "\tif (id_el.children.length && (id_el.children[0].className === 'bk-root')) {\n",
       "\t  const root_el = id_el.children[0]\n",
       "\t  root_el.id = root_el.id + '-rendered'\n",
       "\t}\n",
       "      }\n",
       "    }\n",
       "  }\n",
       "  if (root.Bokeh !== undefined && root.Bokeh.Panel !== undefined) {\n",
       "    embed_document(root);\n",
       "  } else {\n",
       "    var attempts = 0;\n",
       "    var timer = setInterval(function(root) {\n",
       "      if (root.Bokeh !== undefined && root.Bokeh.Panel !== undefined) {\n",
       "        clearInterval(timer);\n",
       "        embed_document(root);\n",
       "      } else if (document.readyState == \"complete\") {\n",
       "        attempts++;\n",
       "        if (attempts > 200) {\n",
       "          clearInterval(timer);\n",
       "          console.log(\"Bokeh: ERROR: Unable to run BokehJS code because BokehJS library is missing\");\n",
       "        }\n",
       "      }\n",
       "    }, 25, root)\n",
       "  }\n",
       "})(window);</script>"
      ],
      "text/plain": [
       ":Curve   [Date]   (SPY)"
      ]
     },
     "execution_count": 27,
     "metadata": {
      "application/vnd.holoviews_exec.v0+json": {
       "id": "5520"
      }
     },
     "output_type": "execute_result"
    }
   ],
   "source": [
    "# Plotting SPY ETF Adjusted Closing Prices\n",
    "plotter.line(spy, tickers[1])"
   ]
  },
  {
   "cell_type": "markdown",
   "id": "02896442-20c7-4408-b453-1297625645ee",
   "metadata": {},
   "source": [
    "### FNGU"
   ]
  },
  {
   "cell_type": "code",
   "execution_count": 28,
   "id": "57392aca-8892-4c77-945d-4230ad39e5b2",
   "metadata": {},
   "outputs": [
    {
     "data": {
      "text/html": [
       "<div>\n",
       "<style scoped>\n",
       "    .dataframe tbody tr th:only-of-type {\n",
       "        vertical-align: middle;\n",
       "    }\n",
       "\n",
       "    .dataframe tbody tr th {\n",
       "        vertical-align: top;\n",
       "    }\n",
       "\n",
       "    .dataframe thead th {\n",
       "        text-align: right;\n",
       "    }\n",
       "</style>\n",
       "<table border=\"1\" class=\"dataframe\">\n",
       "  <thead>\n",
       "    <tr style=\"text-align: right;\">\n",
       "      <th></th>\n",
       "      <th>FNGU</th>\n",
       "    </tr>\n",
       "    <tr>\n",
       "      <th>Date</th>\n",
       "      <th></th>\n",
       "    </tr>\n",
       "  </thead>\n",
       "  <tbody>\n",
       "    <tr>\n",
       "      <th>2020-03-02</th>\n",
       "      <td>80.15</td>\n",
       "    </tr>\n",
       "    <tr>\n",
       "      <th>2020-03-03</th>\n",
       "      <td>73.85</td>\n",
       "    </tr>\n",
       "    <tr>\n",
       "      <th>2020-03-04</th>\n",
       "      <td>80.57</td>\n",
       "    </tr>\n",
       "    <tr>\n",
       "      <th>2020-03-05</th>\n",
       "      <td>73.80</td>\n",
       "    </tr>\n",
       "    <tr>\n",
       "      <th>2020-03-06</th>\n",
       "      <td>68.17</td>\n",
       "    </tr>\n",
       "  </tbody>\n",
       "</table>\n",
       "</div>"
      ],
      "text/plain": [
       "             FNGU\n",
       "Date             \n",
       "2020-03-02  80.15\n",
       "2020-03-03  73.85\n",
       "2020-03-04  80.57\n",
       "2020-03-05  73.80\n",
       "2020-03-06  68.17"
      ]
     },
     "metadata": {},
     "output_type": "display_data"
    },
    {
     "data": {
      "text/html": [
       "<div>\n",
       "<style scoped>\n",
       "    .dataframe tbody tr th:only-of-type {\n",
       "        vertical-align: middle;\n",
       "    }\n",
       "\n",
       "    .dataframe tbody tr th {\n",
       "        vertical-align: top;\n",
       "    }\n",
       "\n",
       "    .dataframe thead th {\n",
       "        text-align: right;\n",
       "    }\n",
       "</style>\n",
       "<table border=\"1\" class=\"dataframe\">\n",
       "  <thead>\n",
       "    <tr style=\"text-align: right;\">\n",
       "      <th></th>\n",
       "      <th>FNGU</th>\n",
       "    </tr>\n",
       "    <tr>\n",
       "      <th>Date</th>\n",
       "      <th></th>\n",
       "    </tr>\n",
       "  </thead>\n",
       "  <tbody>\n",
       "    <tr>\n",
       "      <th>2022-03-24</th>\n",
       "      <td>236.0</td>\n",
       "    </tr>\n",
       "    <tr>\n",
       "      <th>2022-03-25</th>\n",
       "      <td>233.4</td>\n",
       "    </tr>\n",
       "    <tr>\n",
       "      <th>2022-03-28</th>\n",
       "      <td>247.0</td>\n",
       "    </tr>\n",
       "    <tr>\n",
       "      <th>2022-03-29</th>\n",
       "      <td>257.7</td>\n",
       "    </tr>\n",
       "    <tr>\n",
       "      <th>2022-03-30</th>\n",
       "      <td>247.5</td>\n",
       "    </tr>\n",
       "  </tbody>\n",
       "</table>\n",
       "</div>"
      ],
      "text/plain": [
       "             FNGU\n",
       "Date             \n",
       "2022-03-24  236.0\n",
       "2022-03-25  233.4\n",
       "2022-03-28  247.0\n",
       "2022-03-29  257.7\n",
       "2022-03-30  247.5"
      ]
     },
     "metadata": {},
     "output_type": "display_data"
    }
   ],
   "source": [
    "# Displaying head/tail of FNGU ETF\n",
    "display_head_tail(fngu)"
   ]
  },
  {
   "cell_type": "code",
   "execution_count": 29,
   "id": "197dc337-02c7-40d6-972c-94ca187a65d1",
   "metadata": {},
   "outputs": [
    {
     "data": {},
     "metadata": {},
     "output_type": "display_data"
    },
    {
     "data": {
      "application/vnd.holoviews_exec.v0+json": "",
      "text/html": [
       "<div id='6111'>\n",
       "  <div class=\"bk-root\" id=\"3aabc762-518c-4ca5-8b57-5f2a00c0a34a\" data-root-id=\"6111\"></div>\n",
       "</div>\n",
       "<script type=\"application/javascript\">(function(root) {\n",
       "  function embed_document(root) {\n",
       "    var docs_json = {\"e17cf2ce-729f-421d-a8d7-e5bf0fded589\":{\"defs\":[{\"extends\":null,\"module\":null,\"name\":\"ReactiveHTML1\",\"overrides\":[],\"properties\":[]},{\"extends\":null,\"module\":null,\"name\":\"FlexBox1\",\"overrides\":[],\"properties\":[{\"default\":\"flex-start\",\"kind\":null,\"name\":\"align_content\"},{\"default\":\"flex-start\",\"kind\":null,\"name\":\"align_items\"},{\"default\":\"row\",\"kind\":null,\"name\":\"flex_direction\"},{\"default\":\"wrap\",\"kind\":null,\"name\":\"flex_wrap\"},{\"default\":\"flex-start\",\"kind\":null,\"name\":\"justify_content\"}]},{\"extends\":null,\"module\":null,\"name\":\"GridStack1\",\"overrides\":[],\"properties\":[{\"default\":\"warn\",\"kind\":null,\"name\":\"mode\"},{\"default\":null,\"kind\":null,\"name\":\"ncols\"},{\"default\":null,\"kind\":null,\"name\":\"nrows\"},{\"default\":true,\"kind\":null,\"name\":\"allow_resize\"},{\"default\":true,\"kind\":null,\"name\":\"allow_drag\"},{\"default\":[],\"kind\":null,\"name\":\"state\"}]},{\"extends\":null,\"module\":null,\"name\":\"click1\",\"overrides\":[],\"properties\":[{\"default\":\"\",\"kind\":null,\"name\":\"terminal_output\"},{\"default\":\"\",\"kind\":null,\"name\":\"debug_name\"},{\"default\":0,\"kind\":null,\"name\":\"clears\"}]},{\"extends\":null,\"module\":null,\"name\":\"NotificationAreaBase1\",\"overrides\":[],\"properties\":[{\"default\":\"bottom-right\",\"kind\":null,\"name\":\"position\"},{\"default\":0,\"kind\":null,\"name\":\"_clear\"}]},{\"extends\":null,\"module\":null,\"name\":\"NotificationArea1\",\"overrides\":[],\"properties\":[{\"default\":[],\"kind\":null,\"name\":\"notifications\"},{\"default\":\"bottom-right\",\"kind\":null,\"name\":\"position\"},{\"default\":0,\"kind\":null,\"name\":\"_clear\"},{\"default\":[{\"background\":\"#ffc107\",\"icon\":{\"className\":\"fas fa-exclamation-triangle\",\"color\":\"white\",\"tagName\":\"i\"},\"type\":\"warning\"},{\"background\":\"#007bff\",\"icon\":{\"className\":\"fas fa-info-circle\",\"color\":\"white\",\"tagName\":\"i\"},\"type\":\"info\"}],\"kind\":null,\"name\":\"types\"}]},{\"extends\":null,\"module\":null,\"name\":\"Notification\",\"overrides\":[],\"properties\":[{\"default\":null,\"kind\":null,\"name\":\"background\"},{\"default\":3000,\"kind\":null,\"name\":\"duration\"},{\"default\":null,\"kind\":null,\"name\":\"icon\"},{\"default\":\"\",\"kind\":null,\"name\":\"message\"},{\"default\":null,\"kind\":null,\"name\":\"notification_type\"},{\"default\":false,\"kind\":null,\"name\":\"_destroyed\"}]},{\"extends\":null,\"module\":null,\"name\":\"TemplateActions1\",\"overrides\":[],\"properties\":[{\"default\":0,\"kind\":null,\"name\":\"open_modal\"},{\"default\":0,\"kind\":null,\"name\":\"close_modal\"}]},{\"extends\":null,\"module\":null,\"name\":\"MaterialTemplateActions1\",\"overrides\":[],\"properties\":[{\"default\":0,\"kind\":null,\"name\":\"open_modal\"},{\"default\":0,\"kind\":null,\"name\":\"close_modal\"}]}],\"roots\":{\"references\":[{\"attributes\":{\"data\":{\"Date\":{\"__ndarray__\":\"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\",\"dtype\":\"float64\",\"order\":\"little\",\"shape\":[526]},\"FNGU\":{\"__ndarray__\":\"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\",\"dtype\":\"float64\",\"order\":\"little\",\"shape\":[526]}},\"selected\":{\"id\":\"6147\"},\"selection_policy\":{\"id\":\"6171\"}},\"id\":\"6146\",\"type\":\"ColumnDataSource\"},{\"attributes\":{\"months\":[0,4,8]},\"id\":\"6183\",\"type\":\"MonthsTicker\"},{\"attributes\":{\"margin\":[5,5,5,5],\"name\":\"HSpacer02070\",\"sizing_mode\":\"stretch_width\"},\"id\":\"6186\",\"type\":\"Spacer\"},{\"attributes\":{\"months\":[0,1,2,3,4,5,6,7,8,9,10,11]},\"id\":\"6181\",\"type\":\"MonthsTicker\"},{\"attributes\":{\"axis_label\":\"Adjusted Close Price - USD\",\"axis_label_text_font_size\":\"15pt\",\"coordinates\":null,\"formatter\":{\"id\":\"6160\"},\"group\":null,\"major_label_policy\":{\"id\":\"6161\"},\"major_label_text_font_size\":\"10pt\",\"ticker\":{\"id\":\"6130\"}},\"id\":\"6129\",\"type\":\"LinearAxis\"},{\"attributes\":{\"line_alpha\":0.2,\"line_color\":\"#30a2da\",\"line_width\":3,\"x\":{\"field\":\"Date\"},\"y\":{\"field\":\"FNGU\"}},\"id\":\"6152\",\"type\":\"Line\"},{\"attributes\":{},\"id\":\"6161\",\"type\":\"AllLabels\"},{\"attributes\":{},\"id\":\"6130\",\"type\":\"BasicTicker\"},{\"attributes\":{\"tools\":[{\"id\":\"6115\"},{\"id\":\"6133\"},{\"id\":\"6134\"},{\"id\":\"6135\"},{\"id\":\"6136\"},{\"id\":\"6137\"}]},\"id\":\"6139\",\"type\":\"Toolbar\"},{\"attributes\":{},\"id\":\"6160\",\"type\":\"BasicTickFormatter\"},{\"attributes\":{},\"id\":\"6134\",\"type\":\"PanTool\"},{\"attributes\":{\"axis_label\":\"Date\",\"axis_label_text_font_size\":\"15pt\",\"coordinates\":null,\"formatter\":{\"id\":\"6157\"},\"group\":null,\"major_label_orientation\":0.7853981633974483,\"major_label_policy\":{\"id\":\"6158\"},\"major_label_text_font_size\":\"10pt\",\"ticker\":{\"id\":\"6126\"}},\"id\":\"6125\",\"type\":\"DatetimeAxis\"},{\"attributes\":{\"overlay\":{\"id\":\"6138\"}},\"id\":\"6136\",\"type\":\"BoxZoomTool\"},{\"attributes\":{\"background_fill_color\":\"#F5F5F5\",\"below\":[{\"id\":\"6125\"}],\"center\":[{\"id\":\"6128\"},{\"id\":\"6132\"}],\"height\":750,\"left\":[{\"id\":\"6129\"}],\"margin\":[5,5,5,5],\"min_border_bottom\":10,\"min_border_left\":10,\"min_border_right\":10,\"min_border_top\":10,\"renderers\":[{\"id\":\"6153\"}],\"sizing_mode\":\"fixed\",\"title\":{\"id\":\"6117\"},\"toolbar\":{\"id\":\"6139\"},\"width\":1500,\"x_range\":{\"id\":\"6113\"},\"x_scale\":{\"id\":\"6121\"},\"y_range\":{\"id\":\"6114\"},\"y_scale\":{\"id\":\"6123\"}},\"id\":\"6116\",\"subtype\":\"Figure\",\"type\":\"Plot\"},{\"attributes\":{\"axis\":{\"id\":\"6125\"},\"coordinates\":null,\"group\":null,\"ticker\":{\"id\":\"6126\"}},\"id\":\"6128\",\"type\":\"Grid\"},{\"attributes\":{},\"id\":\"6133\",\"type\":\"SaveTool\"},{\"attributes\":{},\"id\":\"6158\",\"type\":\"AllLabels\"},{\"attributes\":{\"days\":[1,4,7,10,13,16,19,22,25,28]},\"id\":\"6178\",\"type\":\"DaysTicker\"},{\"attributes\":{},\"id\":\"6157\",\"type\":\"DatetimeTickFormatter\"},{\"attributes\":{},\"id\":\"6171\",\"type\":\"UnionRenderers\"},{\"attributes\":{\"days\":[1,8,15,22]},\"id\":\"6179\",\"type\":\"DaysTicker\"},{\"attributes\":{\"axis\":{\"id\":\"6129\"},\"coordinates\":null,\"dimension\":1,\"group\":null,\"ticker\":{\"id\":\"6130\"}},\"id\":\"6132\",\"type\":\"Grid\"},{\"attributes\":{\"margin\":[5,5,5,5],\"name\":\"HSpacer02069\",\"sizing_mode\":\"stretch_width\"},\"id\":\"6112\",\"type\":\"Spacer\"},{\"attributes\":{},\"id\":\"6135\",\"type\":\"WheelZoomTool\"},{\"attributes\":{\"line_alpha\":0.7,\"line_color\":\"#30a2da\",\"line_width\":3,\"x\":{\"field\":\"Date\"},\"y\":{\"field\":\"FNGU\"}},\"id\":\"6150\",\"type\":\"Line\"},{\"attributes\":{},\"id\":\"6123\",\"type\":\"LinearScale\"},{\"attributes\":{\"callback\":null,\"formatters\":{\"@{Date}\":\"datetime\"},\"renderers\":[{\"id\":\"6153\"}],\"tags\":[\"hv_created\"],\"tooltips\":[[\"Date\",\"@{Date}{%F %T}\"],[\"FNGU\",\"@{FNGU}\"]]},\"id\":\"6115\",\"type\":\"HoverTool\"},{\"attributes\":{\"days\":[1,2,3,4,5,6,7,8,9,10,11,12,13,14,15,16,17,18,19,20,21,22,23,24,25,26,27,28,29,30,31]},\"id\":\"6177\",\"type\":\"DaysTicker\"},{\"attributes\":{\"days\":[1,15]},\"id\":\"6180\",\"type\":\"DaysTicker\"},{\"attributes\":{\"months\":[0,2,4,6,8,10]},\"id\":\"6182\",\"type\":\"MonthsTicker\"},{\"attributes\":{\"children\":[{\"id\":\"6112\"},{\"id\":\"6116\"},{\"id\":\"6186\"}],\"margin\":[0,0,0,0],\"name\":\"Row02065\",\"tags\":[\"embedded\"]},\"id\":\"6111\",\"type\":\"Row\"},{\"attributes\":{},\"id\":\"6137\",\"type\":\"ResetTool\"},{\"attributes\":{},\"id\":\"6121\",\"type\":\"LinearScale\"},{\"attributes\":{\"line_alpha\":0.7,\"line_color\":\"#30a2da\",\"line_width\":3,\"x\":{\"field\":\"Date\"},\"y\":{\"field\":\"FNGU\"}},\"id\":\"6149\",\"type\":\"Line\"},{\"attributes\":{},\"id\":\"6185\",\"type\":\"YearsTicker\"},{\"attributes\":{\"source\":{\"id\":\"6146\"}},\"id\":\"6154\",\"type\":\"CDSView\"},{\"attributes\":{\"bottom_units\":\"screen\",\"coordinates\":null,\"fill_alpha\":0.5,\"fill_color\":\"lightgrey\",\"group\":null,\"left_units\":\"screen\",\"level\":\"overlay\",\"line_alpha\":1.0,\"line_color\":\"black\",\"line_dash\":[4,4],\"line_width\":2,\"right_units\":\"screen\",\"syncable\":false,\"top_units\":\"screen\"},\"id\":\"6138\",\"type\":\"BoxAnnotation\"},{\"attributes\":{\"mantissas\":[1,2,5],\"max_interval\":500.0,\"num_minor_ticks\":0},\"id\":\"6174\",\"type\":\"AdaptiveTicker\"},{\"attributes\":{\"coordinates\":null,\"group\":null,\"text\":\"FNGU ETF Adjusted Closing Prices\",\"text_color\":\"black\",\"text_font_size\":\"24pt\"},\"id\":\"6117\",\"type\":\"Title\"},{\"attributes\":{\"base\":60,\"mantissas\":[1,2,5,10,15,20,30],\"max_interval\":1800000.0,\"min_interval\":1000.0,\"num_minor_ticks\":0},\"id\":\"6175\",\"type\":\"AdaptiveTicker\"},{\"attributes\":{\"num_minor_ticks\":5,\"tickers\":[{\"id\":\"6174\"},{\"id\":\"6175\"},{\"id\":\"6176\"},{\"id\":\"6177\"},{\"id\":\"6178\"},{\"id\":\"6179\"},{\"id\":\"6180\"},{\"id\":\"6181\"},{\"id\":\"6182\"},{\"id\":\"6183\"},{\"id\":\"6184\"},{\"id\":\"6185\"}]},\"id\":\"6126\",\"type\":\"DatetimeTicker\"},{\"attributes\":{\"line_alpha\":0.7,\"line_color\":\"#30a2da\",\"line_width\":3,\"x\":{\"field\":\"Date\"},\"y\":{\"field\":\"FNGU\"}},\"id\":\"6155\",\"type\":\"Line\"},{\"attributes\":{\"end\":533.38,\"reset_end\":533.38,\"reset_start\":-19.580000000000005,\"start\":-19.580000000000005,\"tags\":[[[\"FNGU\",\"FNGU\",null]]]},\"id\":\"6114\",\"type\":\"Range1d\"},{\"attributes\":{\"base\":24,\"mantissas\":[1,2,4,6,8,12],\"max_interval\":43200000.0,\"min_interval\":3600000.0,\"num_minor_ticks\":0},\"id\":\"6176\",\"type\":\"AdaptiveTicker\"},{\"attributes\":{},\"id\":\"6147\",\"type\":\"Selection\"},{\"attributes\":{\"line_color\":\"#30a2da\",\"line_width\":5,\"x\":{\"field\":\"Date\"},\"y\":{\"field\":\"FNGU\"}},\"id\":\"6151\",\"type\":\"Line\"},{\"attributes\":{\"months\":[0,6]},\"id\":\"6184\",\"type\":\"MonthsTicker\"},{\"attributes\":{\"end\":1648598400000.0,\"reset_end\":1648598400000.0,\"reset_start\":1583107200000.0,\"start\":1583107200000.0,\"tags\":[[[\"Date\",\"Date\",null]]]},\"id\":\"6113\",\"type\":\"Range1d\"},{\"attributes\":{\"coordinates\":null,\"data_source\":{\"id\":\"6146\"},\"glyph\":{\"id\":\"6149\"},\"group\":null,\"hover_glyph\":{\"id\":\"6151\"},\"muted_glyph\":{\"id\":\"6152\"},\"nonselection_glyph\":{\"id\":\"6150\"},\"selection_glyph\":{\"id\":\"6155\"},\"view\":{\"id\":\"6154\"}},\"id\":\"6153\",\"type\":\"GlyphRenderer\"}],\"root_ids\":[\"6111\"]},\"title\":\"Bokeh Application\",\"version\":\"2.4.3\"}};\n",
       "    var render_items = [{\"docid\":\"e17cf2ce-729f-421d-a8d7-e5bf0fded589\",\"root_ids\":[\"6111\"],\"roots\":{\"6111\":\"3aabc762-518c-4ca5-8b57-5f2a00c0a34a\"}}];\n",
       "    root.Bokeh.embed.embed_items_notebook(docs_json, render_items);\n",
       "    for (const render_item of render_items) {\n",
       "      for (const root_id of render_item.root_ids) {\n",
       "\tconst id_el = document.getElementById(root_id)\n",
       "\tif (id_el.children.length && (id_el.children[0].className === 'bk-root')) {\n",
       "\t  const root_el = id_el.children[0]\n",
       "\t  root_el.id = root_el.id + '-rendered'\n",
       "\t}\n",
       "      }\n",
       "    }\n",
       "  }\n",
       "  if (root.Bokeh !== undefined && root.Bokeh.Panel !== undefined) {\n",
       "    embed_document(root);\n",
       "  } else {\n",
       "    var attempts = 0;\n",
       "    var timer = setInterval(function(root) {\n",
       "      if (root.Bokeh !== undefined && root.Bokeh.Panel !== undefined) {\n",
       "        clearInterval(timer);\n",
       "        embed_document(root);\n",
       "      } else if (document.readyState == \"complete\") {\n",
       "        attempts++;\n",
       "        if (attempts > 200) {\n",
       "          clearInterval(timer);\n",
       "          console.log(\"Bokeh: ERROR: Unable to run BokehJS code because BokehJS library is missing\");\n",
       "        }\n",
       "      }\n",
       "    }, 25, root)\n",
       "  }\n",
       "})(window);</script>"
      ],
      "text/plain": [
       ":Curve   [Date]   (FNGU)"
      ]
     },
     "execution_count": 29,
     "metadata": {
      "application/vnd.holoviews_exec.v0+json": {
       "id": "6111"
      }
     },
     "output_type": "execute_result"
    }
   ],
   "source": [
    "# Plotting FNGU ETF Adjusted Closing Prices\n",
    "plotter.line(fngu, tickers[2])"
   ]
  },
  {
   "cell_type": "markdown",
   "id": "f346b164-59d8-473a-ae32-407dfb7b1e41",
   "metadata": {},
   "source": [
    "## Saving"
   ]
  },
  {
   "cell_type": "code",
   "execution_count": 30,
   "id": "18670a90-73f2-4453-b549-9ae1df8e7aae",
   "metadata": {},
   "outputs": [],
   "source": [
    "# Saving ETF data as CSV\n",
    "etfs.to_csv(Path(\"./Resources/Data/etf_data.csv\"))"
   ]
  }
 ],
 "metadata": {
  "kernelspec": {
   "display_name": "Python 3 (ipykernel)",
   "language": "python",
   "name": "python3"
  },
  "language_info": {
   "codemirror_mode": {
    "name": "ipython",
    "version": 3
   },
   "file_extension": ".py",
   "mimetype": "text/x-python",
   "name": "python",
   "nbconvert_exporter": "python",
   "pygments_lexer": "ipython3",
   "version": "3.9.13"
  }
 },
 "nbformat": 4,
 "nbformat_minor": 5
}
