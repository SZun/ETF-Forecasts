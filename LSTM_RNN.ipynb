{
 "cells": [
  {
   "cell_type": "code",
   "execution_count": 114,
   "id": "1345d35c-9fef-4a00-a48b-094a9aa53f04",
   "metadata": {},
   "outputs": [],
   "source": [
    "import pandas as pd\n",
    "import yfinance as yf\n",
    "import hvplot.pandas\n",
    "from pathlib import Path\n",
    "from sklearn.preprocessing import MinMaxScaler\n",
    "from tensorflow.keras.models import Sequential\n",
    "from tensorflow.keras.layers import Dense, LSTM\n",
    "from tensorflow.keras.preprocessing.sequence import TimeseriesGenerator\n",
    "from tensorflow.keras.callbacks import EarlyStopping"
   ]
  },
  {
   "cell_type": "code",
   "execution_count": 116,
   "id": "f1518371-6888-4d5a-86a4-91ed5fc6f2b7",
   "metadata": {},
   "outputs": [
    {
     "name": "stdout",
     "output_type": "stream",
     "text": [
      "[*********************100%***********************]  1 of 1 completed\n"
     ]
    }
   ],
   "source": [
    "aark = yf.download('ARKK', '2020-03-01','2022-03-31')"
   ]
  },
  {
   "cell_type": "code",
   "execution_count": 117,
   "id": "537e8413-a82f-4209-a737-b32ce604bf0a",
   "metadata": {},
   "outputs": [
    {
     "data": {},
     "metadata": {},
     "output_type": "display_data"
    },
    {
     "data": {
      "application/vnd.holoviews_exec.v0+json": "",
      "text/html": [
       "<div id='4009'>\n",
       "  <div class=\"bk-root\" id=\"cfb01779-f45c-40a5-ab94-e9b44ecf9be9\" data-root-id=\"4009\"></div>\n",
       "</div>\n",
       "<script type=\"application/javascript\">(function(root) {\n",
       "  function embed_document(root) {\n",
       "    var docs_json = {\"d5ddd0d2-2c94-4e2a-b625-c58980132850\":{\"defs\":[{\"extends\":null,\"module\":null,\"name\":\"ReactiveHTML1\",\"overrides\":[],\"properties\":[]},{\"extends\":null,\"module\":null,\"name\":\"FlexBox1\",\"overrides\":[],\"properties\":[{\"default\":\"flex-start\",\"kind\":null,\"name\":\"align_content\"},{\"default\":\"flex-start\",\"kind\":null,\"name\":\"align_items\"},{\"default\":\"row\",\"kind\":null,\"name\":\"flex_direction\"},{\"default\":\"wrap\",\"kind\":null,\"name\":\"flex_wrap\"},{\"default\":\"flex-start\",\"kind\":null,\"name\":\"justify_content\"}]},{\"extends\":null,\"module\":null,\"name\":\"GridStack1\",\"overrides\":[],\"properties\":[{\"default\":\"warn\",\"kind\":null,\"name\":\"mode\"},{\"default\":null,\"kind\":null,\"name\":\"ncols\"},{\"default\":null,\"kind\":null,\"name\":\"nrows\"},{\"default\":true,\"kind\":null,\"name\":\"allow_resize\"},{\"default\":true,\"kind\":null,\"name\":\"allow_drag\"},{\"default\":[],\"kind\":null,\"name\":\"state\"}]},{\"extends\":null,\"module\":null,\"name\":\"click1\",\"overrides\":[],\"properties\":[{\"default\":\"\",\"kind\":null,\"name\":\"terminal_output\"},{\"default\":\"\",\"kind\":null,\"name\":\"debug_name\"},{\"default\":0,\"kind\":null,\"name\":\"clears\"}]},{\"extends\":null,\"module\":null,\"name\":\"NotificationAreaBase1\",\"overrides\":[],\"properties\":[{\"default\":\"bottom-right\",\"kind\":null,\"name\":\"position\"},{\"default\":0,\"kind\":null,\"name\":\"_clear\"}]},{\"extends\":null,\"module\":null,\"name\":\"NotificationArea1\",\"overrides\":[],\"properties\":[{\"default\":[],\"kind\":null,\"name\":\"notifications\"},{\"default\":\"bottom-right\",\"kind\":null,\"name\":\"position\"},{\"default\":0,\"kind\":null,\"name\":\"_clear\"},{\"default\":[{\"background\":\"#ffc107\",\"icon\":{\"className\":\"fas fa-exclamation-triangle\",\"color\":\"white\",\"tagName\":\"i\"},\"type\":\"warning\"},{\"background\":\"#007bff\",\"icon\":{\"className\":\"fas fa-info-circle\",\"color\":\"white\",\"tagName\":\"i\"},\"type\":\"info\"}],\"kind\":null,\"name\":\"types\"}]},{\"extends\":null,\"module\":null,\"name\":\"Notification\",\"overrides\":[],\"properties\":[{\"default\":null,\"kind\":null,\"name\":\"background\"},{\"default\":3000,\"kind\":null,\"name\":\"duration\"},{\"default\":null,\"kind\":null,\"name\":\"icon\"},{\"default\":\"\",\"kind\":null,\"name\":\"message\"},{\"default\":null,\"kind\":null,\"name\":\"notification_type\"},{\"default\":false,\"kind\":null,\"name\":\"_destroyed\"}]},{\"extends\":null,\"module\":null,\"name\":\"TemplateActions1\",\"overrides\":[],\"properties\":[{\"default\":0,\"kind\":null,\"name\":\"open_modal\"},{\"default\":0,\"kind\":null,\"name\":\"close_modal\"}]},{\"extends\":null,\"module\":null,\"name\":\"MaterialTemplateActions1\",\"overrides\":[],\"properties\":[{\"default\":0,\"kind\":null,\"name\":\"open_modal\"},{\"default\":0,\"kind\":null,\"name\":\"close_modal\"}]}],\"roots\":{\"references\":[{\"attributes\":{},\"id\":\"4057\",\"type\":\"BasicTickFormatter\"},{\"attributes\":{},\"id\":\"4055\",\"type\":\"AllLabels\"},{\"attributes\":{\"end\":167.44133796691895,\"reset_end\":167.44133796691895,\"reset_start\":21.720782852172853,\"start\":21.720782852172853,\"tags\":[[[\"Adj Close\",\"Adj Close\",null]]]},\"id\":\"4012\",\"type\":\"Range1d\"},{\"attributes\":{\"line_color\":\"#30a2da\",\"line_width\":2,\"x\":{\"field\":\"Date\"},\"y\":{\"field\":\"Adj Close\"}},\"id\":\"4052\",\"type\":\"Line\"},{\"attributes\":{},\"id\":\"4058\",\"type\":\"AllLabels\"},{\"attributes\":{\"line_color\":\"#30a2da\",\"line_width\":2,\"x\":{\"field\":\"Date\"},\"y\":{\"field\":\"Adj Close\"}},\"id\":\"4047\",\"type\":\"Line\"},{\"attributes\":{},\"id\":\"4019\",\"type\":\"LinearScale\"},{\"attributes\":{\"below\":[{\"id\":\"4023\"}],\"center\":[{\"id\":\"4026\"},{\"id\":\"4030\"}],\"height\":300,\"left\":[{\"id\":\"4027\"}],\"margin\":[5,5,5,5],\"min_border_bottom\":10,\"min_border_left\":10,\"min_border_right\":10,\"min_border_top\":10,\"renderers\":[{\"id\":\"4050\"}],\"sizing_mode\":\"fixed\",\"title\":{\"id\":\"4015\"},\"toolbar\":{\"id\":\"4037\"},\"width\":700,\"x_range\":{\"id\":\"4011\"},\"x_scale\":{\"id\":\"4019\"},\"y_range\":{\"id\":\"4012\"},\"y_scale\":{\"id\":\"4021\"}},\"id\":\"4014\",\"subtype\":\"Figure\",\"type\":\"Plot\"},{\"attributes\":{\"end\":1648598400000.0,\"reset_end\":1648598400000.0,\"reset_start\":1583107200000.0,\"start\":1583107200000.0,\"tags\":[[[\"Date\",\"Date\",null]]]},\"id\":\"4011\",\"type\":\"Range1d\"},{\"attributes\":{\"line_alpha\":0.2,\"line_color\":\"#30a2da\",\"line_width\":2,\"x\":{\"field\":\"Date\"},\"y\":{\"field\":\"Adj Close\"}},\"id\":\"4049\",\"type\":\"Line\"},{\"attributes\":{\"callback\":null,\"formatters\":{\"@{Date}\":\"datetime\"},\"renderers\":[{\"id\":\"4050\"}],\"tags\":[\"hv_created\"],\"tooltips\":[[\"Date\",\"@{Date}{%F %T}\"],[\"Adj Close\",\"@{Adj_Close}\"]]},\"id\":\"4013\",\"type\":\"HoverTool\"},{\"attributes\":{},\"id\":\"4021\",\"type\":\"LinearScale\"},{\"attributes\":{\"tools\":[{\"id\":\"4013\"},{\"id\":\"4031\"},{\"id\":\"4032\"},{\"id\":\"4033\"},{\"id\":\"4034\"},{\"id\":\"4035\"}]},\"id\":\"4037\",\"type\":\"Toolbar\"},{\"attributes\":{\"mantissas\":[1,2,5],\"max_interval\":500.0,\"num_minor_ticks\":0},\"id\":\"4069\",\"type\":\"AdaptiveTicker\"},{\"attributes\":{},\"id\":\"4032\",\"type\":\"PanTool\"},{\"attributes\":{\"coordinates\":null,\"group\":null,\"text\":\"Adj Close\",\"text_color\":\"black\",\"text_font_size\":\"12pt\"},\"id\":\"4015\",\"type\":\"Title\"},{\"attributes\":{\"axis\":{\"id\":\"4023\"},\"coordinates\":null,\"grid_line_color\":null,\"group\":null,\"ticker\":null},\"id\":\"4026\",\"type\":\"Grid\"},{\"attributes\":{\"base\":60,\"mantissas\":[1,2,5,10,15,20,30],\"max_interval\":1800000.0,\"min_interval\":1000.0,\"num_minor_ticks\":0},\"id\":\"4070\",\"type\":\"AdaptiveTicker\"},{\"attributes\":{\"axis_label\":\"Date\",\"coordinates\":null,\"formatter\":{\"id\":\"4054\"},\"group\":null,\"major_label_policy\":{\"id\":\"4055\"},\"ticker\":{\"id\":\"4024\"}},\"id\":\"4023\",\"type\":\"DatetimeAxis\"},{\"attributes\":{\"bottom_units\":\"screen\",\"coordinates\":null,\"fill_alpha\":0.5,\"fill_color\":\"lightgrey\",\"group\":null,\"left_units\":\"screen\",\"level\":\"overlay\",\"line_alpha\":1.0,\"line_color\":\"black\",\"line_dash\":[4,4],\"line_width\":2,\"right_units\":\"screen\",\"syncable\":false,\"top_units\":\"screen\"},\"id\":\"4036\",\"type\":\"BoxAnnotation\"},{\"attributes\":{\"base\":24,\"mantissas\":[1,2,4,6,8,12],\"max_interval\":43200000.0,\"min_interval\":3600000.0,\"num_minor_ticks\":0},\"id\":\"4071\",\"type\":\"AdaptiveTicker\"},{\"attributes\":{\"axis_label\":\"\",\"coordinates\":null,\"formatter\":{\"id\":\"4057\"},\"group\":null,\"major_label_policy\":{\"id\":\"4058\"},\"ticker\":{\"id\":\"4028\"}},\"id\":\"4027\",\"type\":\"LinearAxis\"},{\"attributes\":{},\"id\":\"4080\",\"type\":\"YearsTicker\"},{\"attributes\":{},\"id\":\"4054\",\"type\":\"DatetimeTickFormatter\"},{\"attributes\":{\"months\":[0,1,2,3,4,5,6,7,8,9,10,11]},\"id\":\"4076\",\"type\":\"MonthsTicker\"},{\"attributes\":{\"num_minor_ticks\":5,\"tickers\":[{\"id\":\"4069\"},{\"id\":\"4070\"},{\"id\":\"4071\"},{\"id\":\"4072\"},{\"id\":\"4073\"},{\"id\":\"4074\"},{\"id\":\"4075\"},{\"id\":\"4076\"},{\"id\":\"4077\"},{\"id\":\"4078\"},{\"id\":\"4079\"},{\"id\":\"4080\"}]},\"id\":\"4024\",\"type\":\"DatetimeTicker\"},{\"attributes\":{\"days\":[1,15]},\"id\":\"4075\",\"type\":\"DaysTicker\"},{\"attributes\":{\"days\":[1,2,3,4,5,6,7,8,9,10,11,12,13,14,15,16,17,18,19,20,21,22,23,24,25,26,27,28,29,30,31]},\"id\":\"4072\",\"type\":\"DaysTicker\"},{\"attributes\":{\"days\":[1,4,7,10,13,16,19,22,25,28]},\"id\":\"4073\",\"type\":\"DaysTicker\"},{\"attributes\":{\"axis\":{\"id\":\"4027\"},\"coordinates\":null,\"dimension\":1,\"grid_line_color\":null,\"group\":null,\"ticker\":null},\"id\":\"4030\",\"type\":\"Grid\"},{\"attributes\":{\"days\":[1,8,15,22]},\"id\":\"4074\",\"type\":\"DaysTicker\"},{\"attributes\":{},\"id\":\"4028\",\"type\":\"BasicTicker\"},{\"attributes\":{},\"id\":\"4045\",\"type\":\"Selection\"},{\"attributes\":{\"months\":[0,6]},\"id\":\"4079\",\"type\":\"MonthsTicker\"},{\"attributes\":{\"margin\":[5,5,5,5],\"name\":\"HSpacer02936\",\"sizing_mode\":\"stretch_width\"},\"id\":\"4010\",\"type\":\"Spacer\"},{\"attributes\":{\"source\":{\"id\":\"4044\"}},\"id\":\"4051\",\"type\":\"CDSView\"},{\"attributes\":{},\"id\":\"4033\",\"type\":\"WheelZoomTool\"},{\"attributes\":{\"margin\":[5,5,5,5],\"name\":\"HSpacer02937\",\"sizing_mode\":\"stretch_width\"},\"id\":\"4081\",\"type\":\"Spacer\"},{\"attributes\":{\"months\":[0,2,4,6,8,10]},\"id\":\"4077\",\"type\":\"MonthsTicker\"},{\"attributes\":{\"data\":{\"Adj Close\":{\"__ndarray__\":\"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\",\"dtype\":\"float64\",\"order\":\"little\",\"shape\":[526]},\"Adj_Close\":{\"__ndarray__\":\"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\",\"dtype\":\"float64\",\"order\":\"little\",\"shape\":[526]},\"Date\":{\"__ndarray__\":\"AABArYgJd0IAAAAT2wl3QgAAwHgtCndCAACA3n8Kd0IAAEBE0gp3QgAAgHXJC3dCAABA2xsMd0IAAABBbgx3QgAAwKbADHdCAACADBMNd0IAAMA9Cg53QgAAgKNcDndCAABACa8Od0IAAABvAQ93QgAAwNRTD3dCAAAABksQd0IAAMBrnRB3QgAAgNHvEHdCAABAN0IRd0IAAACdlBF3QgAAQM6LEndCAAAANN4Sd0IAAMCZMBN3QgAAgP+CE3dCAABAZdUTd0IAAICWzBR3QgAAQPweFXdCAAAAYnEVd0IAAMDHwxV3QgAAwF4NF3dCAACAxF8Xd0IAAEAqshd3QgAAAJAEGHdCAADA9VYYd0IAAAAnThl3QgAAwIygGXdCAACA8vIZd0IAAEBYRRp3QgAAAL6XGndCAABA744bd0IAAABV4Rt3QgAAwLozHHdCAACAIIYcd0IAAECG2Bx3QgAAgLfPHXdCAABAHSIed0IAAACDdB53QgAAwOjGHndCAACAThkfd0IAAMB/ECB3QgAAgOViIHdCAABAS7Ugd0IAAACxByF3QgAAwBZaIXdCAAAASFEid0IAAMCtoyJ3QgAAgBP2IndCAABAeUgjd0IAAADfmiN3QgAAAHbkJHdCAADA2zYld0IAAIBBiSV3QgAAQKfbJXdCAACA2NImd0IAAEA+JSd3QgAAAKR3J3dCAADACcond0IAAIBvHCh3QgAAwKATKXdCAACABmYpd0IAAEBsuCl3QgAAANIKKndCAADAN10qd0IAAABpVCt3QgAAwM6mK3dCAACANPkrd0IAAECaSyx3QgAAAACeLHdCAABAMZUtd0IAAACX5y13QgAAwPw5LndCAACAYowud0IAAEDI3i53QgAAgPnVL3dCAABAXygwd0IAAADFejB3QgAAwCrNMHdCAADAwRYyd0IAAIAnaTJ3QgAAQI27MndCAAAA8w0zd0IAAMBYYDN3QgAAAIpXNHdCAADA76k0d0IAAIBV/DR3QgAAQLtONXdCAAAAIaE1d0IAAEBSmDZ3QgAAALjqNndCAADAHT03d0IAAICDjzd3QgAAQOnhN3dCAACAGtk4d0IAAECAKzl3QgAAAOZ9OXdCAADAS9A5d0IAAICxIjp3QgAAwOIZO3dCAACASGw7d0IAAECuvjt3QgAAABQRPHdCAADAeWM8d0IAAACrWj13QgAAwBCtPXdCAACAdv89d0IAAEDcUT53QgAAAEKkPndCAABAc5s/d0IAAADZ7T93QgAAwD5AQHdCAACApJJAd0IAAEAK5UB3QgAAgDvcQXdCAABAoS5Cd0IAAAAHgUJ3QgAAwGzTQndCAACA0iVDd0IAAMADHUR3QgAAgGlvRHdCAABAz8FEd0IAAAA1FEV3QgAAwJpmRXdCAADAMbBGd0IAAICXAkd3QgAAQP1UR3dCAAAAY6dHd0IAAECUnkh3QgAAAPrwSHdCAADAX0NJd0IAAIDFlUl3QgAAQCvoSXdCAACAXN9Kd0IAAEDCMUt3QgAAACiES3dCAADAjdZLd0IAAIDzKEx3QgAAwCQgTXdCAACAinJNd0IAAEDwxE13QgAAAFYXTndCAADAu2lOd0IAAADtYE93QgAAwFKzT3dCAACAuAVQd0IAAEAeWFB3QgAAAISqUHdCAABAtaFRd0IAAAAb9FF3QgAAwIBGUndCAACA5phSd0IAAEBM61J3QgAAgH3iU3dCAABA4zRUd0IAAABJh1R3QgAAwK7ZVHdCAACAFCxVd0IAAMBFI1Z3QgAAgKt1VndCAABAEchWd0IAAAB3Gld3QgAAwNxsV3dCAAAADmRYd0IAAMBztlh3QgAAgNkIWXdCAABAP1tZd0IAAAClrVl3QgAAQNakWndCAAAAPPdad0IAAMChSVt3QgAAgAecW3dCAABAbe5bd0IAAICe5Vx3QgAAQAQ4XXdCAAAAaopdd0IAAMDP3F13QgAAgDUvXndCAADAZiZfd0IAAIDMeF93QgAAQDLLX3dCAADA/W9gd0IAAAAvZ2F3QgAAwJS5YXdCAACA+gtid0IAAEBgXmJ3QgAAAMawYndCAABA96djd0IAAABd+mN3QgAAwMJMZHdCAACAKJ9kd0IAAECO8WR3QgAAgL/oZXdCAABAJTtmd0IAAACLjWZ3QgAAwPDfZndCAACAVjJnd0IAAMCHKWh3QgAAgO17aHdCAABAU85od0IAAAC5IGl3QgAAAFBqandCAADAtbxqd0IAAIAbD2t3QgAAQIFha3dCAABAGKtsd0IAAAB+/Wx3QgAAwONPbXdCAACASaJtd0IAAECv9G13QgAAgODrbndCAABARj5vd0IAAACskG93QgAAwBHjb3dCAACAdzVwd0IAAIAOf3F3QgAAQHTRcXdCAAAA2iNyd0IAAMA/dnJ3QgAAAHFtc3dCAADA1r9zd0IAAIA8EnR3QgAAQKJkdHdCAAAACLd0d0IAAEA5rnV3QgAAAJ8AdndCAADABFN2d0IAAIBqpXZ3QgAAQND3dndCAACAAe93d0IAAEBnQXh3QgAAAM2TeHdCAADAMuZ4d0IAAICYOHl3QgAAgC+CendCAABAldR6d0IAAAD7Jnt3QgAAwGB5e3dCAAAAknB8d0IAAMD3wnx3QgAAgF0VfXdCAABAw2d9d0IAAAApun13QgAAQFqxfndCAAAAwAN/d0IAAMAlVn93QgAAgIuof3dCAABA8fp/d0IAAIAi8oB3QgAAQIhEgXdCAAAA7paBd0IAAMBT6YF3QgAAgLk7gndCAADA6jKDd0IAAIBQhYN3QgAAQLbXg3dCAAAAHCqEd0IAAMCBfIR3QgAAALNzhXdCAADAGMaFd0IAAIB+GIZ3QgAAQORqhndCAAAASr2Gd0IAAEB7tId3QgAAAOEGiHdCAADARlmId0IAAICsq4h3QgAAgEP1iXdCAABAqUeKd0IAAAAPmop3QgAAwHTsindCAACA2j6Ld0IAAMALNox3QgAAgHGIjHdCAABA19qMd0IAAAA9LY13QgAAwKJ/jXdCAAAA1HaOd0IAAMA5yY53QgAAgJ8bj3dCAABABW6Pd0IAAABrwI93QgAAQJy3kHdCAAAAAgqRd0IAAMBnXJF3QgAAgM2ukXdCAABAMwGSd0IAAIBk+JJ3QgAAQMpKk3dCAAAAMJ2Td0IAAMCV75N3QgAAgPtBlHdCAADALDmVd0IAAICSi5V3QgAAQPjdlXdCAAAAXjCWd0IAAMDDgpZ3QgAAAPV5l3dCAADAWsyXd0IAAIDAHph3QgAAQCZxmHdCAAAAjMOYd0IAAEC9upl3QgAAACMNmndCAADAiF+ad0IAAIDusZp3QgAAQFQEm3dCAABA602cd0IAAABRoJx3QgAAwLbynHdCAACAHEWdd0IAAMBNPJ53QgAAgLOOnndCAABAGeGed0IAAAB/M593QgAAwOSFn3dCAAAAFn2gd0IAAMB7z6B3QgAAgOEhoXdCAABAR3Shd0IAAACtxqF3QgAAQN69ondCAAAARBCjd0IAAMCpYqN3QgAAgA+1o3dCAABAdQekd0IAAICm/qR3QgAAQAxRpXdCAAAAcqOld0IAAMDX9aV3QgAAgD1IpndCAACA1JGnd0IAAEA65Kd3QgAAAKA2qHdCAADABYmod0IAAAA3gKl3QgAAwJzSqXdCAACAAiWqd0IAAEBod6p3QgAAAM7JqndCAABA/8Crd0IAAABlE6x3QgAAwMplrHdCAACAMLisd0IAAECWCq13QgAAgMcBrndCAABALVSud0IAAACTpq53QgAAwPj4rndCAACAXkuvd0IAAMCPQrB3QgAAgPWUsHdCAABAW+ewd0IAAADBObF3QgAAwCaMsXdCAAAAWIOyd0IAAMC91bJ3QgAAgCMos3dCAABAiXqzd0IAAADvzLN3QgAAQCDEtHdCAAAAhha1d0IAAMDraLV3QgAAgFG7tXdCAABAtw22d0IAAIDoBLd3QgAAQE5Xt3dCAAAAtKm3d0IAAMAZ/Ld3QgAAgH9OuHdCAADAsEW5d0IAAIAWmLl3QgAAQHzquXdCAAAA4jy6d0IAAMBHj7p3QgAAwN7Yu3dCAACARCu8d0IAAECqfbx3QgAAABDQvHdCAABAQce9d0IAAACnGb53QgAAwAxsvndCAACAcr6+d0IAAEDYEL93QgAAgAkIwHdCAABAb1rAd0IAAADVrMB3QgAAwDr/wHdCAACAoFHBd0IAAMDRSMJ3QgAAgDebwndCAABAne3Cd0IAAAADQMN3QgAAwGiSw3dCAAAAmonEd0IAAMD/28R3QgAAgGUuxXdCAABAy4DFd0IAAAAx08V3QgAAQGLKxndCAAAAyBzHd0IAAMAtb8d3QgAAgJPBx3dCAABA+RPId0IAAIAqC8l3QgAAQJBdyXdCAAAA9q/Jd0IAAMBbAsp3QgAAgMFUyndCAADA8kvLd0IAAIBYnst3QgAAQL7wy3dCAAAAJEPMd0IAAMCJlcx3QgAAALuMzXdCAADAIN/Nd0IAAICGMc53QgAAQOyDzndCAAAAUtbOd0IAAECDzc93QgAAAOkf0HdCAADATnLQd0IAAIC0xNB3QgAAQBoX0XdCAACASw7Sd0IAAECxYNJ3QgAAABez0ndCAADAfAXTd0IAAIDiV9N3QgAAwBNP1HdCAACAeaHUd0IAAEDf89R3QgAAwKqY1XdCAAAA3I/Wd0IAAMBB4tZ3QgAAgKc013dCAABADYfXd0IAAABz2dd3QgAAQKTQ2HdCAAAACiPZd0IAAMBvddl3QgAAgNXH2XdCAABAOxrad0IAAIBsEdt3QgAAQNJj23dCAAAAOLbbd0IAAMCdCNx3QgAAgANb3HdCAADANFLdd0IAAICapN13QgAAQAD33XdCAAAAZkned0IAAAD9kt93QgAAwGLl33dCAACAyDfgd0IAAEAuiuB3QgAAAJTc4HdCAABAxdPhd0IAAAArJuJ3QgAAwJB44ndCAACA9srid0IAAEBcHeN3QgAAgI0U5HdCAABA82bkd0IAAABZueR3QgAAwL4L5XdCAACAJF7ld0IAAIC7p+Z3QgAAQCH65ndCAAAAh0znd0IAAMDsnud3QgAAAB6W6HdCAADAg+jod0IAAIDpOul3QgAAQE+N6XdCAAAAtd/pd0IAAEDm1up3QgAAAEwp63dCAADAsXvrd0IAAIAXzut3QgAAQH0g7HdCAACArhftd0IAAEAUau13QgAAAHq87XdCAADA3w7ud0IAAIBFYe53QgAAwHZY73dCAACA3Krvd0IAAEBC/e93QgAAAKhP8HdCAADADaLwd0IAAMCk6/F3QgAAgAo+8ndCAABAcJDyd0IAAADW4vJ3QgAAQAfa83dCAAAAbSz0d0IAAMDSfvR3QgAAgDjR9HdCAABAniP1d0IAAIDPGvZ3QgAAQDVt9ndCAAAAm7/2d0IAAMAAEvd3QgAAgGZk93dCAADAl1v4d0IAAID9rfh3QgAAQGMA+XdCAAAAyVL5d0IAAMAupfl3QgAAAGCc+ndCAADAxe76d0IAAIArQft3QgAAQJGT+3dCAAAA9+X7d0IAAEAo3fx3QgAAAI4v/XdCAADA84H9d0I=\",\"dtype\":\"float64\",\"order\":\"little\",\"shape\":[526]}},\"selected\":{\"id\":\"4045\"},\"selection_policy\":{\"id\":\"4066\"}},\"id\":\"4044\",\"type\":\"ColumnDataSource\"},{\"attributes\":{},\"id\":\"4031\",\"type\":\"SaveTool\"},{\"attributes\":{\"months\":[0,4,8]},\"id\":\"4078\",\"type\":\"MonthsTicker\"},{\"attributes\":{\"children\":[{\"id\":\"4010\"},{\"id\":\"4014\"},{\"id\":\"4081\"}],\"margin\":[0,0,0,0],\"name\":\"Row02932\",\"tags\":[\"embedded\"]},\"id\":\"4009\",\"type\":\"Row\"},{\"attributes\":{\"overlay\":{\"id\":\"4036\"}},\"id\":\"4034\",\"type\":\"BoxZoomTool\"},{\"attributes\":{},\"id\":\"4035\",\"type\":\"ResetTool\"},{\"attributes\":{},\"id\":\"4066\",\"type\":\"UnionRenderers\"},{\"attributes\":{\"line_alpha\":0.1,\"line_color\":\"#30a2da\",\"line_width\":2,\"x\":{\"field\":\"Date\"},\"y\":{\"field\":\"Adj Close\"}},\"id\":\"4048\",\"type\":\"Line\"},{\"attributes\":{\"coordinates\":null,\"data_source\":{\"id\":\"4044\"},\"glyph\":{\"id\":\"4047\"},\"group\":null,\"hover_glyph\":null,\"muted_glyph\":{\"id\":\"4049\"},\"nonselection_glyph\":{\"id\":\"4048\"},\"selection_glyph\":{\"id\":\"4052\"},\"view\":{\"id\":\"4051\"}},\"id\":\"4050\",\"type\":\"GlyphRenderer\"}],\"root_ids\":[\"4009\"]},\"title\":\"Bokeh Application\",\"version\":\"2.4.3\"}};\n",
       "    var render_items = [{\"docid\":\"d5ddd0d2-2c94-4e2a-b625-c58980132850\",\"root_ids\":[\"4009\"],\"roots\":{\"4009\":\"cfb01779-f45c-40a5-ab94-e9b44ecf9be9\"}}];\n",
       "    root.Bokeh.embed.embed_items_notebook(docs_json, render_items);\n",
       "    for (const render_item of render_items) {\n",
       "      for (const root_id of render_item.root_ids) {\n",
       "\tconst id_el = document.getElementById(root_id)\n",
       "\tif (id_el.children.length && (id_el.children[0].className === 'bk-root')) {\n",
       "\t  const root_el = id_el.children[0]\n",
       "\t  root_el.id = root_el.id + '-rendered'\n",
       "\t}\n",
       "      }\n",
       "    }\n",
       "  }\n",
       "  if (root.Bokeh !== undefined && root.Bokeh.Panel !== undefined) {\n",
       "    embed_document(root);\n",
       "  } else {\n",
       "    var attempts = 0;\n",
       "    var timer = setInterval(function(root) {\n",
       "      if (root.Bokeh !== undefined && root.Bokeh.Panel !== undefined) {\n",
       "        clearInterval(timer);\n",
       "        embed_document(root);\n",
       "      } else if (document.readyState == \"complete\") {\n",
       "        attempts++;\n",
       "        if (attempts > 200) {\n",
       "          clearInterval(timer);\n",
       "          console.log(\"Bokeh: ERROR: Unable to run BokehJS code because BokehJS library is missing\");\n",
       "        }\n",
       "      }\n",
       "    }, 25, root)\n",
       "  }\n",
       "})(window);</script>"
      ],
      "text/plain": [
       ":Curve   [Date]   (Adj Close)"
      ]
     },
     "execution_count": 117,
     "metadata": {
      "application/vnd.holoviews_exec.v0+json": {
       "id": "4009"
      }
     },
     "output_type": "execute_result"
    }
   ],
   "source": [
    "aark['Adj Close'].hvplot()"
   ]
  },
  {
   "cell_type": "code",
   "execution_count": 100,
   "id": "2fd0c401-caef-46ca-9114-3adaecba8608",
   "metadata": {},
   "outputs": [],
   "source": [
    "aark"
   ]
  },
  {
   "cell_type": "code",
   "execution_count": 101,
   "id": "bdf96b6d-1d10-4533-9450-395f8caa75c0",
   "metadata": {},
   "outputs": [],
   "source": [
    "def get_train_test_scaled(df):\n",
    "    prediction_period = -60\n",
    "    y,X = df.pop(['Adj Close']), df\n",
    "    return [MinMaxScaler().fit(train).transform(i) for i in [train,df[prediction_period:]]]"
   ]
  },
  {
   "cell_type": "code",
   "execution_count": 102,
   "id": "e9856e8d-7a0a-48a7-b764-e7d4e8fe97e4",
   "metadata": {},
   "outputs": [],
   "source": [
    "aark_train_scaled, aark_test_scaled = get_train_test_scaled(aark)"
   ]
  },
  {
   "cell_type": "code",
   "execution_count": 103,
   "id": "8b92f41e-67d3-4a8d-af73-ae1260fd6676",
   "metadata": {},
   "outputs": [],
   "source": [
    "aark_model = Sequential()"
   ]
  },
  {
   "cell_type": "code",
   "execution_count": 104,
   "id": "7ae209fe-3d14-4e76-88f9-1d1d2d7eda8e",
   "metadata": {},
   "outputs": [],
   "source": [
    "aark_model.add(LSTM(100, activation='relu', return_sequences=True, input_shape=(1, 1)))\n",
    "aark_model.add(LSTM(50, activation='relu', return_sequences=False))\n",
    "aark_model.add(Dense(25))\n",
    "aark_model.add(Dense(1))"
   ]
  },
  {
   "cell_type": "code",
   "execution_count": 105,
   "id": "855d0431-78b9-42ef-be9f-9cc19e6fd8ab",
   "metadata": {},
   "outputs": [],
   "source": [
    "aark_model.compile(optimizer='adam', loss='mse')"
   ]
  },
  {
   "cell_type": "code",
   "execution_count": 106,
   "id": "c2813c19-dfab-4679-baf5-5e497a68afc1",
   "metadata": {},
   "outputs": [
    {
     "name": "stdout",
     "output_type": "stream",
     "text": [
      "Model: \"sequential_7\"\n",
      "_________________________________________________________________\n",
      " Layer (type)                Output Shape              Param #   \n",
      "=================================================================\n",
      " lstm_12 (LSTM)              (None, 1, 100)            40800     \n",
      "                                                                 \n",
      " lstm_13 (LSTM)              (None, 50)                30200     \n",
      "                                                                 \n",
      " dense_12 (Dense)            (None, 25)                1275      \n",
      "                                                                 \n",
      " dense_13 (Dense)            (None, 1)                 26        \n",
      "                                                                 \n",
      "=================================================================\n",
      "Total params: 72,301\n",
      "Trainable params: 72,301\n",
      "Non-trainable params: 0\n",
      "_________________________________________________________________\n"
     ]
    }
   ],
   "source": [
    "aark_model.summary()"
   ]
  },
  {
   "cell_type": "code",
   "execution_count": 109,
   "id": "c43ee679-c09e-436b-9415-85804341abc7",
   "metadata": {},
   "outputs": [
    {
     "name": "stdout",
     "output_type": "stream",
     "text": [
      "Epoch 1/50\n",
      "466/466 [==============================] - 2s 1ms/step - loss: 0.0270\n",
      "Epoch 2/50\n",
      "466/466 [==============================] - 0s 1ms/step - loss: 7.0937e-04\n",
      "Epoch 3/50\n",
      "466/466 [==============================] - 0s 1ms/step - loss: 4.9749e-04\n",
      "Epoch 4/50\n",
      "466/466 [==============================] - 0s 1ms/step - loss: 2.3934e-04\n",
      "Epoch 5/50\n",
      "466/466 [==============================] - 0s 1ms/step - loss: 4.3317e-05\n",
      "Epoch 6/50\n",
      "466/466 [==============================] - 0s 1ms/step - loss: 9.7464e-06\n",
      "Epoch 7/50\n",
      "466/466 [==============================] - 0s 1ms/step - loss: 5.1391e-06\n",
      "Epoch 8/50\n",
      "466/466 [==============================] - 0s 1ms/step - loss: 3.5960e-06\n",
      "Epoch 9/50\n",
      "466/466 [==============================] - 0s 1ms/step - loss: 5.9225e-06\n",
      "Epoch 10/50\n",
      "466/466 [==============================] - 0s 1ms/step - loss: 2.4516e-05\n",
      "Epoch 11/50\n",
      "466/466 [==============================] - 0s 1ms/step - loss: 1.2219e-05\n",
      "Epoch 12/50\n",
      "466/466 [==============================] - 0s 1ms/step - loss: 1.6886e-04\n",
      "Epoch 13/50\n",
      "466/466 [==============================] - 0s 1ms/step - loss: 1.1677e-05\n",
      "Epoch 14/50\n",
      "466/466 [==============================] - 0s 1ms/step - loss: 8.1809e-06\n",
      "Epoch 15/50\n",
      "466/466 [==============================] - 0s 1ms/step - loss: 2.8768e-05\n",
      "Epoch 16/50\n",
      "466/466 [==============================] - 0s 1ms/step - loss: 1.2269e-05\n",
      "Epoch 17/50\n",
      "466/466 [==============================] - 0s 1ms/step - loss: 5.3832e-05\n",
      "Epoch 18/50\n",
      "466/466 [==============================] - 0s 1ms/step - loss: 1.1079e-05\n",
      "Epoch 19/50\n",
      "466/466 [==============================] - 0s 1ms/step - loss: 3.7565e-05\n",
      "Epoch 20/50\n",
      "466/466 [==============================] - 0s 1ms/step - loss: 9.5412e-06\n",
      "Epoch 21/50\n",
      "466/466 [==============================] - 0s 1ms/step - loss: 1.2408e-05\n",
      "Epoch 22/50\n",
      "466/466 [==============================] - 0s 1ms/step - loss: 5.4893e-05\n",
      "Epoch 23/50\n",
      "466/466 [==============================] - 0s 1ms/step - loss: 2.1084e-05\n",
      "Epoch 24/50\n",
      "466/466 [==============================] - 0s 1ms/step - loss: 7.4147e-06\n",
      "Epoch 25/50\n",
      "466/466 [==============================] - 0s 1ms/step - loss: 1.6722e-05\n",
      "Epoch 26/50\n",
      "466/466 [==============================] - 0s 1ms/step - loss: 5.5919e-05\n",
      "Epoch 27/50\n",
      "466/466 [==============================] - 0s 1ms/step - loss: 1.2564e-05\n",
      "Epoch 28/50\n",
      "466/466 [==============================] - 0s 1ms/step - loss: 2.8527e-06\n",
      "Epoch 29/50\n",
      "466/466 [==============================] - 0s 1ms/step - loss: 5.4154e-05\n",
      "Epoch 30/50\n",
      "466/466 [==============================] - 0s 1ms/step - loss: 5.3722e-05\n",
      "Epoch 31/50\n",
      "466/466 [==============================] - 0s 1ms/step - loss: 2.0433e-06\n",
      "Epoch 32/50\n",
      "466/466 [==============================] - 0s 1ms/step - loss: 3.3437e-05\n",
      "Epoch 33/50\n",
      "466/466 [==============================] - 0s 1ms/step - loss: 1.6263e-05\n",
      "Epoch 34/50\n",
      "466/466 [==============================] - 0s 1ms/step - loss: 2.1388e-05\n",
      "Epoch 35/50\n",
      "466/466 [==============================] - 0s 1ms/step - loss: 1.4355e-05\n",
      "Epoch 36/50\n",
      "466/466 [==============================] - 0s 1ms/step - loss: 4.6816e-06\n",
      "Epoch 37/50\n",
      "466/466 [==============================] - 0s 1ms/step - loss: 2.2283e-05\n",
      "Epoch 38/50\n",
      "466/466 [==============================] - 0s 1ms/step - loss: 2.6052e-05\n",
      "Epoch 39/50\n",
      "466/466 [==============================] - 0s 1ms/step - loss: 7.0467e-06\n",
      "Epoch 40/50\n",
      "466/466 [==============================] - 0s 1ms/step - loss: 2.4891e-05\n",
      "Epoch 41/50\n",
      "466/466 [==============================] - 0s 1ms/step - loss: 6.6285e-06\n",
      "Epoch 42/50\n",
      "466/466 [==============================] - 0s 1ms/step - loss: 2.0140e-05\n",
      "Epoch 43/50\n",
      "466/466 [==============================] - 0s 1ms/step - loss: 3.0707e-05\n",
      "Epoch 44/50\n",
      "466/466 [==============================] - 0s 1ms/step - loss: 2.1447e-05\n",
      "Epoch 45/50\n",
      "466/466 [==============================] - 0s 1ms/step - loss: 3.2812e-06\n",
      "Epoch 46/50\n",
      "466/466 [==============================] - 0s 1ms/step - loss: 1.1053e-05\n",
      "Epoch 47/50\n",
      "466/466 [==============================] - 0s 1ms/step - loss: 3.0777e-05\n",
      "Epoch 48/50\n",
      "466/466 [==============================] - 0s 1ms/step - loss: 1.0469e-05\n",
      "Epoch 49/50\n",
      "466/466 [==============================] - 0s 1ms/step - loss: 7.4580e-06\n",
      "Epoch 50/50\n",
      "466/466 [==============================] - 0s 1ms/step - loss: 3.1332e-05\n"
     ]
    },
    {
     "data": {
      "text/plain": [
       "<keras.callbacks.History at 0x2760b20d0d0>"
      ]
     },
     "execution_count": 109,
     "metadata": {},
     "output_type": "execute_result"
    }
   ],
   "source": [
    "aark_model.fit(aark_train_scaled, aark_train_scaled, batch_size=1, epochs=50)"
   ]
  },
  {
   "cell_type": "code",
   "execution_count": 110,
   "id": "45385c6d-e4df-4153-9161-41b48b9328b4",
   "metadata": {},
   "outputs": [
    {
     "data": {},
     "metadata": {},
     "output_type": "display_data"
    },
    {
     "data": {
      "application/vnd.holoviews_exec.v0+json": "",
      "text/html": [
       "<div id='3897'>\n",
       "  <div class=\"bk-root\" id=\"a37387d1-dec8-49d8-835c-5ba4ebcf47f5\" data-root-id=\"3897\"></div>\n",
       "</div>\n",
       "<script type=\"application/javascript\">(function(root) {\n",
       "  function embed_document(root) {\n",
       "    var docs_json = {\"9bde5a17-2af3-44b4-88c9-b5d4e2d92134\":{\"defs\":[{\"extends\":null,\"module\":null,\"name\":\"ReactiveHTML1\",\"overrides\":[],\"properties\":[]},{\"extends\":null,\"module\":null,\"name\":\"FlexBox1\",\"overrides\":[],\"properties\":[{\"default\":\"flex-start\",\"kind\":null,\"name\":\"align_content\"},{\"default\":\"flex-start\",\"kind\":null,\"name\":\"align_items\"},{\"default\":\"row\",\"kind\":null,\"name\":\"flex_direction\"},{\"default\":\"wrap\",\"kind\":null,\"name\":\"flex_wrap\"},{\"default\":\"flex-start\",\"kind\":null,\"name\":\"justify_content\"}]},{\"extends\":null,\"module\":null,\"name\":\"GridStack1\",\"overrides\":[],\"properties\":[{\"default\":\"warn\",\"kind\":null,\"name\":\"mode\"},{\"default\":null,\"kind\":null,\"name\":\"ncols\"},{\"default\":null,\"kind\":null,\"name\":\"nrows\"},{\"default\":true,\"kind\":null,\"name\":\"allow_resize\"},{\"default\":true,\"kind\":null,\"name\":\"allow_drag\"},{\"default\":[],\"kind\":null,\"name\":\"state\"}]},{\"extends\":null,\"module\":null,\"name\":\"click1\",\"overrides\":[],\"properties\":[{\"default\":\"\",\"kind\":null,\"name\":\"terminal_output\"},{\"default\":\"\",\"kind\":null,\"name\":\"debug_name\"},{\"default\":0,\"kind\":null,\"name\":\"clears\"}]},{\"extends\":null,\"module\":null,\"name\":\"NotificationAreaBase1\",\"overrides\":[],\"properties\":[{\"default\":\"bottom-right\",\"kind\":null,\"name\":\"position\"},{\"default\":0,\"kind\":null,\"name\":\"_clear\"}]},{\"extends\":null,\"module\":null,\"name\":\"NotificationArea1\",\"overrides\":[],\"properties\":[{\"default\":[],\"kind\":null,\"name\":\"notifications\"},{\"default\":\"bottom-right\",\"kind\":null,\"name\":\"position\"},{\"default\":0,\"kind\":null,\"name\":\"_clear\"},{\"default\":[{\"background\":\"#ffc107\",\"icon\":{\"className\":\"fas fa-exclamation-triangle\",\"color\":\"white\",\"tagName\":\"i\"},\"type\":\"warning\"},{\"background\":\"#007bff\",\"icon\":{\"className\":\"fas fa-info-circle\",\"color\":\"white\",\"tagName\":\"i\"},\"type\":\"info\"}],\"kind\":null,\"name\":\"types\"}]},{\"extends\":null,\"module\":null,\"name\":\"Notification\",\"overrides\":[],\"properties\":[{\"default\":null,\"kind\":null,\"name\":\"background\"},{\"default\":3000,\"kind\":null,\"name\":\"duration\"},{\"default\":null,\"kind\":null,\"name\":\"icon\"},{\"default\":\"\",\"kind\":null,\"name\":\"message\"},{\"default\":null,\"kind\":null,\"name\":\"notification_type\"},{\"default\":false,\"kind\":null,\"name\":\"_destroyed\"}]},{\"extends\":null,\"module\":null,\"name\":\"TemplateActions1\",\"overrides\":[],\"properties\":[{\"default\":0,\"kind\":null,\"name\":\"open_modal\"},{\"default\":0,\"kind\":null,\"name\":\"close_modal\"}]},{\"extends\":null,\"module\":null,\"name\":\"MaterialTemplateActions1\",\"overrides\":[],\"properties\":[{\"default\":0,\"kind\":null,\"name\":\"open_modal\"},{\"default\":0,\"kind\":null,\"name\":\"close_modal\"}]}],\"roots\":{\"references\":[{\"attributes\":{\"line_color\":\"#30a2da\",\"line_width\":2,\"x\":{\"field\":\"index\"},\"y\":{\"field\":\"loss\"}},\"id\":\"3940\",\"type\":\"Line\"},{\"attributes\":{},\"id\":\"3945\",\"type\":\"BasicTickFormatter\"},{\"attributes\":{\"data\":{\"index\":[0,1,2,3,4,5,6,7,8,9,10,11,12,13,14,15,16,17,18,19,20,21,22,23,24,25,26,27,28,29,30,31,32,33,34,35,36,37,38,39,40,41,42,43,44,45,46,47,48,49],\"loss\":{\"__ndarray__\":\"AAAAIEComz8AAABgnz5HPwAAAKBGTUA/AAAAIMheLz8AAADg4rUGPwAAAMCQcOQ+AAAAoAmO1T4AAADAZCrOPgAAACBI19g+AAAAoAK1+T4AAABgz5/pPgAAAEDhISY/AAAAYDp96D4AAABAFCjhPgAAAOA4Kv4+AAAAAKK66T4AAACALjkMPwAAAEAgPOc+AAAAgO6xAz8AAACAaALkPgAAAACdBeo+AAAAQKXHDD8AAAAAwRv2PgAAAOB/Gd8+AAAAQN2I8T4AAADATlENPwAAAABnWeo+AAAAACbuxz4AAAAgXmQMPwAAAGCBKgw/AAAAgPUjwT4AAACA54cBPwAAAIB/DfE+AAAAwDBt9j4AAAAgnBruPgAAAODWotM+AAAAwKhd9z4AAABgaVH7PgAAAIBYjt0+AAAAoKwZ+j4AAAAAVc3bPgAAACBTHvU+AAAAYG4ZAD8AAADgF332PgAAAKBKhss+AAAAQA4u5z4AAACgzSIAPwAAAABh9OU+AAAAYPVH3z4AAADgTm0APw==\",\"dtype\":\"float64\",\"order\":\"little\",\"shape\":[50]}},\"selected\":{\"id\":\"3933\"},\"selection_policy\":{\"id\":\"3954\"}},\"id\":\"3932\",\"type\":\"ColumnDataSource\"},{\"attributes\":{\"below\":[{\"id\":\"3911\"}],\"center\":[{\"id\":\"3914\"},{\"id\":\"3918\"}],\"height\":300,\"left\":[{\"id\":\"3915\"}],\"margin\":[5,5,5,5],\"min_border_bottom\":10,\"min_border_left\":10,\"min_border_right\":10,\"min_border_top\":10,\"renderers\":[{\"id\":\"3938\"}],\"sizing_mode\":\"fixed\",\"title\":{\"id\":\"3903\"},\"toolbar\":{\"id\":\"3925\"},\"width\":700,\"x_range\":{\"id\":\"3899\"},\"x_scale\":{\"id\":\"3907\"},\"y_range\":{\"id\":\"3900\"},\"y_scale\":{\"id\":\"3909\"}},\"id\":\"3902\",\"subtype\":\"Figure\",\"type\":\"Plot\"},{\"attributes\":{},\"id\":\"3907\",\"type\":\"LinearScale\"},{\"attributes\":{\"line_alpha\":0.2,\"line_color\":\"#30a2da\",\"line_width\":2,\"x\":{\"field\":\"index\"},\"y\":{\"field\":\"loss\"}},\"id\":\"3937\",\"type\":\"Line\"},{\"attributes\":{},\"id\":\"3942\",\"type\":\"BasicTickFormatter\"},{\"attributes\":{},\"id\":\"3943\",\"type\":\"AllLabels\"},{\"attributes\":{\"end\":49.0,\"reset_end\":49.0,\"reset_start\":0.0,\"tags\":[[[\"index\",\"index\",null]]]},\"id\":\"3899\",\"type\":\"Range1d\"},{\"attributes\":{\"source\":{\"id\":\"3932\"}},\"id\":\"3939\",\"type\":\"CDSView\"},{\"attributes\":{\"end\":0.02970970906508228,\"reset_end\":0.02970970906508228,\"reset_start\":-0.0026986535848664062,\"start\":-0.0026986535848664062,\"tags\":[[[\"loss\",\"loss\",null]]]},\"id\":\"3900\",\"type\":\"Range1d\"},{\"attributes\":{\"callback\":null,\"renderers\":[{\"id\":\"3938\"}],\"tags\":[\"hv_created\"],\"tooltips\":[[\"index\",\"@{index}\"],[\"loss\",\"@{loss}\"]]},\"id\":\"3901\",\"type\":\"HoverTool\"},{\"attributes\":{},\"id\":\"3946\",\"type\":\"AllLabels\"},{\"attributes\":{},\"id\":\"3909\",\"type\":\"LinearScale\"},{\"attributes\":{\"tools\":[{\"id\":\"3901\"},{\"id\":\"3919\"},{\"id\":\"3920\"},{\"id\":\"3921\"},{\"id\":\"3922\"},{\"id\":\"3923\"}]},\"id\":\"3925\",\"type\":\"Toolbar\"},{\"attributes\":{},\"id\":\"3912\",\"type\":\"BasicTicker\"},{\"attributes\":{\"coordinates\":null,\"group\":null,\"text_color\":\"black\",\"text_font_size\":\"12pt\"},\"id\":\"3903\",\"type\":\"Title\"},{\"attributes\":{\"axis\":{\"id\":\"3911\"},\"coordinates\":null,\"grid_line_color\":null,\"group\":null,\"ticker\":null},\"id\":\"3914\",\"type\":\"Grid\"},{\"attributes\":{\"axis_label\":\"\",\"coordinates\":null,\"formatter\":{\"id\":\"3942\"},\"group\":null,\"major_label_policy\":{\"id\":\"3943\"},\"ticker\":{\"id\":\"3912\"}},\"id\":\"3911\",\"type\":\"LinearAxis\"},{\"attributes\":{\"children\":[{\"id\":\"3898\"},{\"id\":\"3902\"},{\"id\":\"3957\"}],\"margin\":[0,0,0,0],\"name\":\"Row02828\",\"tags\":[\"embedded\"]},\"id\":\"3897\",\"type\":\"Row\"},{\"attributes\":{\"margin\":[5,5,5,5],\"name\":\"HSpacer02832\",\"sizing_mode\":\"stretch_width\"},\"id\":\"3898\",\"type\":\"Spacer\"},{\"attributes\":{},\"id\":\"3920\",\"type\":\"PanTool\"},{\"attributes\":{\"axis_label\":\"loss\",\"coordinates\":null,\"formatter\":{\"id\":\"3945\"},\"group\":null,\"major_label_policy\":{\"id\":\"3946\"},\"ticker\":{\"id\":\"3916\"}},\"id\":\"3915\",\"type\":\"LinearAxis\"},{\"attributes\":{\"margin\":[5,5,5,5],\"name\":\"HSpacer02833\",\"sizing_mode\":\"stretch_width\"},\"id\":\"3957\",\"type\":\"Spacer\"},{\"attributes\":{\"axis\":{\"id\":\"3915\"},\"coordinates\":null,\"dimension\":1,\"grid_line_color\":null,\"group\":null,\"ticker\":null},\"id\":\"3918\",\"type\":\"Grid\"},{\"attributes\":{\"line_alpha\":0.1,\"line_color\":\"#30a2da\",\"line_width\":2,\"x\":{\"field\":\"index\"},\"y\":{\"field\":\"loss\"}},\"id\":\"3936\",\"type\":\"Line\"},{\"attributes\":{},\"id\":\"3916\",\"type\":\"BasicTicker\"},{\"attributes\":{},\"id\":\"3921\",\"type\":\"WheelZoomTool\"},{\"attributes\":{},\"id\":\"3954\",\"type\":\"UnionRenderers\"},{\"attributes\":{\"line_color\":\"#30a2da\",\"line_width\":2,\"x\":{\"field\":\"index\"},\"y\":{\"field\":\"loss\"}},\"id\":\"3935\",\"type\":\"Line\"},{\"attributes\":{},\"id\":\"3933\",\"type\":\"Selection\"},{\"attributes\":{},\"id\":\"3919\",\"type\":\"SaveTool\"},{\"attributes\":{\"overlay\":{\"id\":\"3924\"}},\"id\":\"3922\",\"type\":\"BoxZoomTool\"},{\"attributes\":{},\"id\":\"3923\",\"type\":\"ResetTool\"},{\"attributes\":{\"bottom_units\":\"screen\",\"coordinates\":null,\"fill_alpha\":0.5,\"fill_color\":\"lightgrey\",\"group\":null,\"left_units\":\"screen\",\"level\":\"overlay\",\"line_alpha\":1.0,\"line_color\":\"black\",\"line_dash\":[4,4],\"line_width\":2,\"right_units\":\"screen\",\"syncable\":false,\"top_units\":\"screen\"},\"id\":\"3924\",\"type\":\"BoxAnnotation\"},{\"attributes\":{\"coordinates\":null,\"data_source\":{\"id\":\"3932\"},\"glyph\":{\"id\":\"3935\"},\"group\":null,\"hover_glyph\":null,\"muted_glyph\":{\"id\":\"3937\"},\"nonselection_glyph\":{\"id\":\"3936\"},\"selection_glyph\":{\"id\":\"3940\"},\"view\":{\"id\":\"3939\"}},\"id\":\"3938\",\"type\":\"GlyphRenderer\"}],\"root_ids\":[\"3897\"]},\"title\":\"Bokeh Application\",\"version\":\"2.4.3\"}};\n",
       "    var render_items = [{\"docid\":\"9bde5a17-2af3-44b4-88c9-b5d4e2d92134\",\"root_ids\":[\"3897\"],\"roots\":{\"3897\":\"a37387d1-dec8-49d8-835c-5ba4ebcf47f5\"}}];\n",
       "    root.Bokeh.embed.embed_items_notebook(docs_json, render_items);\n",
       "    for (const render_item of render_items) {\n",
       "      for (const root_id of render_item.root_ids) {\n",
       "\tconst id_el = document.getElementById(root_id)\n",
       "\tif (id_el.children.length && (id_el.children[0].className === 'bk-root')) {\n",
       "\t  const root_el = id_el.children[0]\n",
       "\t  root_el.id = root_el.id + '-rendered'\n",
       "\t}\n",
       "      }\n",
       "    }\n",
       "  }\n",
       "  if (root.Bokeh !== undefined && root.Bokeh.Panel !== undefined) {\n",
       "    embed_document(root);\n",
       "  } else {\n",
       "    var attempts = 0;\n",
       "    var timer = setInterval(function(root) {\n",
       "      if (root.Bokeh !== undefined && root.Bokeh.Panel !== undefined) {\n",
       "        clearInterval(timer);\n",
       "        embed_document(root);\n",
       "      } else if (document.readyState == \"complete\") {\n",
       "        attempts++;\n",
       "        if (attempts > 200) {\n",
       "          clearInterval(timer);\n",
       "          console.log(\"Bokeh: ERROR: Unable to run BokehJS code because BokehJS library is missing\");\n",
       "        }\n",
       "      }\n",
       "    }, 25, root)\n",
       "  }\n",
       "})(window);</script>"
      ],
      "text/plain": [
       ":Curve   [index]   (loss)"
      ]
     },
     "execution_count": 110,
     "metadata": {
      "application/vnd.holoviews_exec.v0+json": {
       "id": "3897"
      }
     },
     "output_type": "execute_result"
    }
   ],
   "source": [
    "pd.DataFrame(aark_model.history.history).hvplot()"
   ]
  },
  {
   "cell_type": "code",
   "execution_count": null,
   "id": "e2cfca21-0694-4e76-95c7-4cc6befb66ad",
   "metadata": {},
   "outputs": [],
   "source": []
  }
 ],
 "metadata": {
  "kernelspec": {
   "display_name": "Python 3 (ipykernel)",
   "language": "python",
   "name": "python3"
  },
  "language_info": {
   "codemirror_mode": {
    "name": "ipython",
    "version": 3
   },
   "file_extension": ".py",
   "mimetype": "text/x-python",
   "name": "python",
   "nbconvert_exporter": "python",
   "pygments_lexer": "ipython3",
   "version": "3.9.13"
  }
 },
 "nbformat": 4,
 "nbformat_minor": 5
}
