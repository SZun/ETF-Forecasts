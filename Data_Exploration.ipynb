{
 "cells": [
  {
   "cell_type": "markdown",
   "id": "6abf772f-4479-41a4-ae84-ef2f828cb776",
   "metadata": {},
   "source": [
    "# Data Preprocessing\n",
    "\n",
    "## The Data\n",
    "\n",
    "The data used was pulled from Yahoo Finance. The focus of the data was on three ETFs: ARKK, SPY, and FNGU. The timeframe of the data is from January of 2018 to March of 2022. To get a clear review and analysis of the data we used the Adjusted Close Price.\n",
    "\n",
    "### Imports"
   ]
  },
  {
   "cell_type": "code",
   "execution_count": null,
   "id": "8ece9ae9-a055-40a9-b5fc-04383971e5b8",
   "metadata": {},
   "outputs": [],
   "source": [
    "# Import modules\n",
    "\n",
    "# Import Yahoo Finance API\n",
    "import yfinance as yf\n",
    "# Import Pandas\n",
    "import pandas as pd\n",
    "# Import Path Class\n",
    "from pathlib import Path\n",
    "# Import custom plotting class\n",
    "from plotting import Plotter"
   ]
  },
  {
   "cell_type": "code",
   "execution_count": null,
   "id": "5bca47aa-af7c-4c3c-ac16-6fc9fd4cecd4",
   "metadata": {},
   "outputs": [],
   "source": [
    "# Set global variable for tickers\n",
    "tickers = ['ARKK','SPY','FNGU']"
   ]
  },
  {
   "cell_type": "markdown",
   "id": "918ae30f-d6aa-4bb4-9fc8-8522ca2bf8bf",
   "metadata": {
    "tags": []
   },
   "source": [
    "### Extract, Transform and Load"
   ]
  },
  {
   "cell_type": "code",
   "execution_count": null,
   "id": "5646d69b-4765-4912-844d-a4a20b16368e",
   "metadata": {},
   "outputs": [],
   "source": [
    "## Extract, transform and load etf data\n",
    "etfs = pd.DataFrame({i: yf.download(i, '2018-01-26','2022-03-31')['Adj Close'].apply(lambda x: round(x,2)).rename(i) for i in tickers})"
   ]
  },
  {
   "cell_type": "markdown",
   "id": "b18332b0-e88e-4439-9892-0eb49c053e5a",
   "metadata": {},
   "source": [
    "## Data Exploration"
   ]
  },
  {
   "cell_type": "code",
   "execution_count": null,
   "id": "7fa7bfcd-765b-4f55-97ec-3384eac12ebf",
   "metadata": {},
   "outputs": [],
   "source": [
    "# Lambda method to display head and tail of DataFrame\n",
    "display_head_tail = lambda df: display(df.head(),df.tail())\n",
    "# Instantiating instance of Plotter class\n",
    "plotter = Plotter('Analysis')"
   ]
  },
  {
   "cell_type": "markdown",
   "id": "6b32199a-4f4e-4ff8-9d63-1654bade8440",
   "metadata": {},
   "source": [
    "### ETFs"
   ]
  },
  {
   "cell_type": "code",
   "execution_count": null,
   "id": "c987d0c4-cf76-4ae4-b90a-e2bc2b3e1cc6",
   "metadata": {},
   "outputs": [],
   "source": [
    "# Displaying head/tail of ETFs\n",
    "display_head_tail(etfs)"
   ]
  },
  {
   "cell_type": "code",
   "execution_count": null,
   "id": "a1021809-6d91-4880-8f5b-093580f45c75",
   "metadata": {},
   "outputs": [],
   "source": [
    "# Plotting ETF Adjusted Closing Prices\n",
    "plotter.line(etfs, '')"
   ]
  },
  {
   "cell_type": "code",
   "execution_count": null,
   "id": "5c5b766f-ba48-433c-8eeb-803a53456990",
   "metadata": {},
   "outputs": [],
   "source": [
    "# Plotting heatmap for ETFs\n",
    "plotter.heatmap(etfs,'')"
   ]
  },
  {
   "cell_type": "code",
   "execution_count": null,
   "id": "c2b01330-407b-4a54-8ac7-3781ea9694eb",
   "metadata": {},
   "outputs": [],
   "source": [
    "# Creating DataFrame for each ETF\n",
    "arkk,spy,fngu = [etfs[i].to_frame(i) for i in tickers]"
   ]
  },
  {
   "cell_type": "markdown",
   "id": "b1a002d6-bfc6-44b4-9a0e-1dedc6b8d14b",
   "metadata": {},
   "source": [
    "### ARKK"
   ]
  },
  {
   "cell_type": "code",
   "execution_count": null,
   "id": "24d24a05-7fd9-460f-b5ad-db4bf31c13b7",
   "metadata": {},
   "outputs": [],
   "source": [
    "# Displaying head/tail of ARKK ETF\n",
    "display_head_tail(arkk)"
   ]
  },
  {
   "cell_type": "code",
   "execution_count": null,
   "id": "96b87381-8082-4dfb-b15b-327478940a74",
   "metadata": {},
   "outputs": [],
   "source": [
    "# Plotting ARKK ETF Adjusted Closing Prices\n",
    "plotter.line(arkk, tickers[0])"
   ]
  },
  {
   "cell_type": "markdown",
   "id": "68614480-3d8f-43ee-9022-d14dc7dc609e",
   "metadata": {},
   "source": [
    "### SPY"
   ]
  },
  {
   "cell_type": "code",
   "execution_count": null,
   "id": "de83c636-801c-4126-86da-83b4476940ff",
   "metadata": {},
   "outputs": [],
   "source": [
    "# Displaying head/tail of SPY ETF\n",
    "display_head_tail(spy)"
   ]
  },
  {
   "cell_type": "code",
   "execution_count": null,
   "id": "8dce3d7f-22b6-4a22-8d33-d9b8b613d2af",
   "metadata": {},
   "outputs": [],
   "source": [
    "# Plotting SPY ETF Adjusted Closing Prices\n",
    "plotter.line(spy, tickers[1])"
   ]
  },
  {
   "cell_type": "markdown",
   "id": "02896442-20c7-4408-b453-1297625645ee",
   "metadata": {},
   "source": [
    "### FNGU"
   ]
  },
  {
   "cell_type": "code",
   "execution_count": null,
   "id": "57392aca-8892-4c77-945d-4230ad39e5b2",
   "metadata": {},
   "outputs": [],
   "source": [
    "# Displaying head/tail of FNGU ETF\n",
    "display_head_tail(fngu)"
   ]
  },
  {
   "cell_type": "code",
   "execution_count": null,
   "id": "197dc337-02c7-40d6-972c-94ca187a65d1",
   "metadata": {},
   "outputs": [],
   "source": [
    "# Plotting FNGU ETF Adjusted Closing Prices\n",
    "plotter.line(fngu, tickers[2])"
   ]
  },
  {
   "cell_type": "markdown",
   "id": "f346b164-59d8-473a-ae32-407dfb7b1e41",
   "metadata": {},
   "source": [
    "## Saving"
   ]
  },
  {
   "cell_type": "code",
   "execution_count": null,
   "id": "18670a90-73f2-4453-b549-9ae1df8e7aae",
   "metadata": {},
   "outputs": [],
   "source": [
    "# Saving ETF data as CSV\n",
    "etfs.to_csv(Path(\"./Resources/Data/etf_data.csv\"))"
   ]
  }
 ],
 "metadata": {
  "kernelspec": {
   "display_name": "Python 3 (ipykernel)",
   "language": "python",
   "name": "python3"
  },
  "language_info": {
   "codemirror_mode": {
    "name": "ipython",
    "version": 3
   },
   "file_extension": ".py",
   "mimetype": "text/x-python",
   "name": "python",
   "nbconvert_exporter": "python",
   "pygments_lexer": "ipython3",
   "version": "3.9.13"
  }
 },
 "nbformat": 4,
 "nbformat_minor": 5
}
