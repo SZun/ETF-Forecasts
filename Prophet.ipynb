{
 "cells": [
  {
   "cell_type": "markdown",
   "id": "f3a41dc5-93ba-45ea-946a-2883f2b328b8",
   "metadata": {},
   "source": [
    "## Prophet Model"
   ]
  },
  {
   "cell_type": "markdown",
   "id": "defce9a0-dc4a-4d7c-b0dc-e3d8a1129b99",
   "metadata": {},
   "source": [
    "## Imports"
   ]
  },
  {
   "cell_type": "code",
   "execution_count": 22,
   "id": "59a1929f-3ecf-45ea-9102-84d19c1b8096",
   "metadata": {},
   "outputs": [],
   "source": [
    "# Import the required libraries and dependencies\n",
    "import warnings\n",
    "import pandas as pd\n",
    "import hvplot.pandas\n",
    "import datetime as dt\n",
    "import holoviews as hv\n",
    "from prophet import Prophet\n",
    "from pathlib import Path\n",
    "from plotting import Plotter"
   ]
  },
  {
   "cell_type": "code",
   "execution_count": 23,
   "id": "065e3c77-dc7d-4aa7-81f5-bfd311784bbf",
   "metadata": {},
   "outputs": [],
   "source": [
    "# Ignoring warnings\n",
    "warnings.filterwarnings('ignore')"
   ]
  },
  {
   "cell_type": "markdown",
   "id": "94087dd0-497c-4c59-a809-f46674aae26c",
   "metadata": {},
   "source": [
    "## Data"
   ]
  },
  {
   "cell_type": "code",
   "execution_count": 24,
   "id": "8a3a81b9-9f3a-44c7-8058-6891c7c0c249",
   "metadata": {},
   "outputs": [],
   "source": [
    "# Setting global variables\n",
    "tickers = ['ARKK','SPY','FNGU']"
   ]
  },
  {
   "cell_type": "code",
   "execution_count": 25,
   "id": "f7b271c2-fbff-4251-b08f-70eeb8587599",
   "metadata": {},
   "outputs": [],
   "source": [
    "etf_data = pd.read_csv(Path(\"Resources/Data/etf_data.csv\"), index_col=\"Date\", infer_datetime_format=True, parse_dates=True)"
   ]
  },
  {
   "cell_type": "code",
   "execution_count": 26,
   "id": "5f82e258-baf1-4103-b35b-e130ca390c63",
   "metadata": {},
   "outputs": [],
   "source": [
    "# Separating ETF DataFrame into separate DataFrames\n",
    "arkk,spy,fngu = [etf_data[i].to_frame(i) for i in tickers]"
   ]
  },
  {
   "cell_type": "markdown",
   "id": "39790022-17d2-42d3-a62c-0886dd8e3037",
   "metadata": {},
   "source": [
    "## Trian Test Split"
   ]
  },
  {
   "cell_type": "code",
   "execution_count": 39,
   "id": "f80bd516-7f8e-44c2-a73c-430dfc5b21f6",
   "metadata": {},
   "outputs": [],
   "source": [
    "def train_test_split(df):\n",
    "    data = df.copy().reset_index()\n",
    "    data.columns = ['ds','y']\n",
    "    data = data.sort_values(by=['ds'], ascending=True)\n",
    "    return data[:-60],data[-60:]"
   ]
  },
  {
   "cell_type": "markdown",
   "id": "ac0f3d14-980c-418f-9298-052339125242",
   "metadata": {},
   "source": [
    "## Create Model, Train Model & Forecast"
   ]
  },
  {
   "cell_type": "code",
   "execution_count": 40,
   "id": "c5857fbe-b189-4a3b-9961-149fbc557b07",
   "metadata": {},
   "outputs": [],
   "source": [
    "def get_models_forecasts(dfs):\n",
    "    models_forecasts = []\n",
    "    for df in dfs:\n",
    "        model_forecast = []\n",
    "        model = Prophet()\n",
    "        X_train, X_test = train_test_split(df)\n",
    "        model.fit(X_train)\n",
    "        forecast = model.predict(X_test)\n",
    "        models_forecasts.append([model,forecast])\n",
    "    return models_forecasts "
   ]
  },
  {
   "cell_type": "code",
   "execution_count": 41,
   "id": "65a76e86-3780-4726-80c8-c5fb108c78be",
   "metadata": {},
   "outputs": [
    {
     "name": "stderr",
     "output_type": "stream",
     "text": [
      "22:28:28 - cmdstanpy - INFO - Chain [1] start processing\n",
      "22:28:28 - cmdstanpy - INFO - Chain [1] done processing\n",
      "22:28:28 - cmdstanpy - INFO - Chain [1] start processing\n",
      "22:28:29 - cmdstanpy - INFO - Chain [1] done processing\n",
      "22:28:29 - cmdstanpy - INFO - Chain [1] start processing\n",
      "22:28:29 - cmdstanpy - INFO - Chain [1] done processing\n"
     ]
    }
   ],
   "source": [
    "models_forecasts = get_models_forecasts([arkk,spy,fngu])"
   ]
  },
  {
   "cell_type": "code",
   "execution_count": 44,
   "id": "8c9b3789-7f37-416f-94e2-a901d3b86889",
   "metadata": {},
   "outputs": [
    {
     "data": {
      "text/plain": [
       "prophet.forecaster.Prophet"
      ]
     },
     "execution_count": 44,
     "metadata": {},
     "output_type": "execute_result"
    }
   ],
   "source": [
    "arkk_model,arkk_forecast = models_forecasts[0]\n",
    "spy_model,spy_forecast = models_forecasts[1]\n",
    "fngu_model,fngu_forecast = models_forecasts[2]"
   ]
  },
  {
   "cell_type": "markdown",
   "id": "248ccbd5-ecdd-4c36-a1bd-9e31b0f37d31",
   "metadata": {},
   "source": [
    "## Evaluation"
   ]
  },
  {
   "cell_type": "markdown",
   "id": "80e6092c-ba8c-406f-ab44-3ec220a0530d",
   "metadata": {},
   "source": [
    "### ARKK"
   ]
  },
  {
   "cell_type": "markdown",
   "id": "f853c8a2-b73b-4690-a995-41cbd0d78bc1",
   "metadata": {},
   "source": [
    "### SPY"
   ]
  },
  {
   "cell_type": "markdown",
   "id": "9f495413-36e3-4790-9902-4d885fe433c1",
   "metadata": {},
   "source": [
    "### FNGU"
   ]
  },
  {
   "cell_type": "markdown",
   "id": "d4878348-27fd-474e-a88d-cb24439d1098",
   "metadata": {},
   "source": [
    "### Mean Absolute Error"
   ]
  },
  {
   "cell_type": "markdown",
   "id": "11f590a2-a5eb-4afa-9bba-dccf9405c4ff",
   "metadata": {},
   "source": [
    "### Mean Squared Error"
   ]
  },
  {
   "cell_type": "markdown",
   "id": "19b031d8-5afc-490d-af33-d21a1a8a285f",
   "metadata": {},
   "source": [
    "### Root Mean Squared Error"
   ]
  },
  {
   "cell_type": "markdown",
   "id": "1ee67f26-d987-46a2-9b12-90d34982b746",
   "metadata": {},
   "source": [
    "## Results"
   ]
  },
  {
   "cell_type": "markdown",
   "id": "84af2a14-8e54-4bb6-bd22-3b25e1a08e8b",
   "metadata": {},
   "source": [
    "### Actual vs Forecast"
   ]
  },
  {
   "cell_type": "markdown",
   "id": "2099350f-fcb1-4f48-9964-8f4ad642c015",
   "metadata": {},
   "source": [
    "### Training Data vs Actual vs Forecast"
   ]
  },
  {
   "cell_type": "markdown",
   "id": "65151212-a047-4f20-b331-b98fe0cf1514",
   "metadata": {},
   "source": [
    "## Write-Up"
   ]
  },
  {
   "cell_type": "markdown",
   "id": "cd7227c3-7055-4f98-bc19-afdc0ef485c2",
   "metadata": {
    "tags": []
   },
   "source": [
    "## Conclusion"
   ]
  }
 ],
 "metadata": {
  "kernelspec": {
   "display_name": "Python 3 (ipykernel)",
   "language": "python",
   "name": "python3"
  },
  "language_info": {
   "codemirror_mode": {
    "name": "ipython",
    "version": 3
   },
   "file_extension": ".py",
   "mimetype": "text/x-python",
   "name": "python",
   "nbconvert_exporter": "python",
   "pygments_lexer": "ipython3",
   "version": "3.9.13"
  }
 },
 "nbformat": 4,
 "nbformat_minor": 5
}
