{
 "cells": [
  {
   "cell_type": "markdown",
   "metadata": {
    "id": "--vHyYAZdV6U"
   },
   "source": [
    "# LSTM RNN\n",
    "\n",
    "## Imports"
   ]
  },
  {
   "cell_type": "code",
   "execution_count": 132,
   "metadata": {
    "id": "JRK1uedMi7q_"
   },
   "outputs": [],
   "source": [
    "import warnings\n",
    "import numpy as np\n",
    "import pandas as pd\n",
    "import hvplot.pandas\n",
    "from sklearn.preprocessing import MinMaxScaler\n",
    "from tensorflow.keras.models import Sequential\n",
    "from tensorflow.keras.layers import Dense, LSTM\n",
    "import yfinance as yf\n",
    "import matplotlib.pyplot as plt"
   ]
  },
  {
   "cell_type": "code",
   "execution_count": 133,
   "metadata": {},
   "outputs": [],
   "source": [
    "warnings.filterwarnings('ignore')"
   ]
  },
  {
   "cell_type": "markdown",
   "metadata": {},
   "source": [
    "## Data"
   ]
  },
  {
   "cell_type": "code",
   "execution_count": 134,
   "metadata": {},
   "outputs": [],
   "source": [
    "display_head_tail = lambda df: display(df.head(),df.tail())"
   ]
  },
  {
   "cell_type": "code",
   "execution_count": 135,
   "metadata": {},
   "outputs": [
    {
     "data": {
      "text/html": [
       "<div>\n",
       "<style scoped>\n",
       "    .dataframe tbody tr th:only-of-type {\n",
       "        vertical-align: middle;\n",
       "    }\n",
       "\n",
       "    .dataframe tbody tr th {\n",
       "        vertical-align: top;\n",
       "    }\n",
       "\n",
       "    .dataframe thead th {\n",
       "        text-align: right;\n",
       "    }\n",
       "</style>\n",
       "<table border=\"1\" class=\"dataframe\">\n",
       "  <thead>\n",
       "    <tr style=\"text-align: right;\">\n",
       "      <th></th>\n",
       "      <th>ARKK</th>\n",
       "      <th>SPY</th>\n",
       "      <th>FNGU</th>\n",
       "    </tr>\n",
       "    <tr>\n",
       "      <th>Date</th>\n",
       "      <th></th>\n",
       "      <th></th>\n",
       "      <th></th>\n",
       "    </tr>\n",
       "  </thead>\n",
       "  <tbody>\n",
       "    <tr>\n",
       "      <th>2020-03-02</th>\n",
       "      <td>52.79</td>\n",
       "      <td>294.65</td>\n",
       "      <td>80.15</td>\n",
       "    </tr>\n",
       "    <tr>\n",
       "      <th>2020-03-03</th>\n",
       "      <td>51.73</td>\n",
       "      <td>286.22</td>\n",
       "      <td>73.85</td>\n",
       "    </tr>\n",
       "    <tr>\n",
       "      <th>2020-03-04</th>\n",
       "      <td>53.49</td>\n",
       "      <td>298.25</td>\n",
       "      <td>80.57</td>\n",
       "    </tr>\n",
       "    <tr>\n",
       "      <th>2020-03-05</th>\n",
       "      <td>52.24</td>\n",
       "      <td>288.33</td>\n",
       "      <td>73.80</td>\n",
       "    </tr>\n",
       "    <tr>\n",
       "      <th>2020-03-06</th>\n",
       "      <td>50.87</td>\n",
       "      <td>283.57</td>\n",
       "      <td>68.17</td>\n",
       "    </tr>\n",
       "  </tbody>\n",
       "</table>\n",
       "</div>"
      ],
      "text/plain": [
       "             ARKK     SPY   FNGU\n",
       "Date                            \n",
       "2020-03-02  52.79  294.65  80.15\n",
       "2020-03-03  51.73  286.22  73.85\n",
       "2020-03-04  53.49  298.25  80.57\n",
       "2020-03-05  52.24  288.33  73.80\n",
       "2020-03-06  50.87  283.57  68.17"
      ]
     },
     "metadata": {},
     "output_type": "display_data"
    },
    {
     "data": {
      "text/html": [
       "<div>\n",
       "<style scoped>\n",
       "    .dataframe tbody tr th:only-of-type {\n",
       "        vertical-align: middle;\n",
       "    }\n",
       "\n",
       "    .dataframe tbody tr th {\n",
       "        vertical-align: top;\n",
       "    }\n",
       "\n",
       "    .dataframe thead th {\n",
       "        text-align: right;\n",
       "    }\n",
       "</style>\n",
       "<table border=\"1\" class=\"dataframe\">\n",
       "  <thead>\n",
       "    <tr style=\"text-align: right;\">\n",
       "      <th></th>\n",
       "      <th>ARKK</th>\n",
       "      <th>SPY</th>\n",
       "      <th>FNGU</th>\n",
       "    </tr>\n",
       "    <tr>\n",
       "      <th>Date</th>\n",
       "      <th></th>\n",
       "      <th></th>\n",
       "      <th></th>\n",
       "    </tr>\n",
       "  </thead>\n",
       "  <tbody>\n",
       "    <tr>\n",
       "      <th>2022-03-24</th>\n",
       "      <td>66.40</td>\n",
       "      <td>444.68</td>\n",
       "      <td>236.0</td>\n",
       "    </tr>\n",
       "    <tr>\n",
       "      <th>2022-03-25</th>\n",
       "      <td>64.51</td>\n",
       "      <td>446.85</td>\n",
       "      <td>233.4</td>\n",
       "    </tr>\n",
       "    <tr>\n",
       "      <th>2022-03-28</th>\n",
       "      <td>67.06</td>\n",
       "      <td>450.03</td>\n",
       "      <td>247.0</td>\n",
       "    </tr>\n",
       "    <tr>\n",
       "      <th>2022-03-29</th>\n",
       "      <td>71.39</td>\n",
       "      <td>455.59</td>\n",
       "      <td>257.7</td>\n",
       "    </tr>\n",
       "    <tr>\n",
       "      <th>2022-03-30</th>\n",
       "      <td>68.68</td>\n",
       "      <td>452.78</td>\n",
       "      <td>247.5</td>\n",
       "    </tr>\n",
       "  </tbody>\n",
       "</table>\n",
       "</div>"
      ],
      "text/plain": [
       "             ARKK     SPY   FNGU\n",
       "Date                            \n",
       "2022-03-24  66.40  444.68  236.0\n",
       "2022-03-25  64.51  446.85  233.4\n",
       "2022-03-28  67.06  450.03  247.0\n",
       "2022-03-29  71.39  455.59  257.7\n",
       "2022-03-30  68.68  452.78  247.5"
      ]
     },
     "metadata": {},
     "output_type": "display_data"
    }
   ],
   "source": [
    "etf_data = pd.read_csv('./Resources/Data/etf_data.csv', index_col='Date', parse_dates=True, infer_datetime_format=True)\n",
    "display_head_tail(etf_data)"
   ]
  },
  {
   "cell_type": "code",
   "execution_count": 136,
   "metadata": {},
   "outputs": [],
   "source": [
    "arkk,spy,fngu = [etf_data[i].to_frame(i) for i in ['ARKK','SPY','FNGU']]"
   ]
  },
  {
   "cell_type": "code",
   "execution_count": 137,
   "metadata": {
    "colab": {
     "base_uri": "https://localhost:8080/",
     "height": 575
    },
    "id": "N00O3D7NrWvU",
    "outputId": "71a276b0-f32f-42ed-d858-dc3a639980c8"
   },
   "outputs": [
    {
     "data": {
      "text/html": [
       "<div>\n",
       "<style scoped>\n",
       "    .dataframe tbody tr th:only-of-type {\n",
       "        vertical-align: middle;\n",
       "    }\n",
       "\n",
       "    .dataframe tbody tr th {\n",
       "        vertical-align: top;\n",
       "    }\n",
       "\n",
       "    .dataframe thead th {\n",
       "        text-align: right;\n",
       "    }\n",
       "</style>\n",
       "<table border=\"1\" class=\"dataframe\">\n",
       "  <thead>\n",
       "    <tr style=\"text-align: right;\">\n",
       "      <th></th>\n",
       "      <th>ARKK</th>\n",
       "    </tr>\n",
       "    <tr>\n",
       "      <th>Date</th>\n",
       "      <th></th>\n",
       "    </tr>\n",
       "  </thead>\n",
       "  <tbody>\n",
       "    <tr>\n",
       "      <th>2020-03-02</th>\n",
       "      <td>52.79</td>\n",
       "    </tr>\n",
       "    <tr>\n",
       "      <th>2020-03-03</th>\n",
       "      <td>51.73</td>\n",
       "    </tr>\n",
       "    <tr>\n",
       "      <th>2020-03-04</th>\n",
       "      <td>53.49</td>\n",
       "    </tr>\n",
       "    <tr>\n",
       "      <th>2020-03-05</th>\n",
       "      <td>52.24</td>\n",
       "    </tr>\n",
       "    <tr>\n",
       "      <th>2020-03-06</th>\n",
       "      <td>50.87</td>\n",
       "    </tr>\n",
       "  </tbody>\n",
       "</table>\n",
       "</div>"
      ],
      "text/plain": [
       "             ARKK\n",
       "Date             \n",
       "2020-03-02  52.79\n",
       "2020-03-03  51.73\n",
       "2020-03-04  53.49\n",
       "2020-03-05  52.24\n",
       "2020-03-06  50.87"
      ]
     },
     "metadata": {},
     "output_type": "display_data"
    },
    {
     "data": {
      "text/html": [
       "<div>\n",
       "<style scoped>\n",
       "    .dataframe tbody tr th:only-of-type {\n",
       "        vertical-align: middle;\n",
       "    }\n",
       "\n",
       "    .dataframe tbody tr th {\n",
       "        vertical-align: top;\n",
       "    }\n",
       "\n",
       "    .dataframe thead th {\n",
       "        text-align: right;\n",
       "    }\n",
       "</style>\n",
       "<table border=\"1\" class=\"dataframe\">\n",
       "  <thead>\n",
       "    <tr style=\"text-align: right;\">\n",
       "      <th></th>\n",
       "      <th>ARKK</th>\n",
       "    </tr>\n",
       "    <tr>\n",
       "      <th>Date</th>\n",
       "      <th></th>\n",
       "    </tr>\n",
       "  </thead>\n",
       "  <tbody>\n",
       "    <tr>\n",
       "      <th>2022-03-24</th>\n",
       "      <td>66.40</td>\n",
       "    </tr>\n",
       "    <tr>\n",
       "      <th>2022-03-25</th>\n",
       "      <td>64.51</td>\n",
       "    </tr>\n",
       "    <tr>\n",
       "      <th>2022-03-28</th>\n",
       "      <td>67.06</td>\n",
       "    </tr>\n",
       "    <tr>\n",
       "      <th>2022-03-29</th>\n",
       "      <td>71.39</td>\n",
       "    </tr>\n",
       "    <tr>\n",
       "      <th>2022-03-30</th>\n",
       "      <td>68.68</td>\n",
       "    </tr>\n",
       "  </tbody>\n",
       "</table>\n",
       "</div>"
      ],
      "text/plain": [
       "             ARKK\n",
       "Date             \n",
       "2022-03-24  66.40\n",
       "2022-03-25  64.51\n",
       "2022-03-28  67.06\n",
       "2022-03-29  71.39\n",
       "2022-03-30  68.68"
      ]
     },
     "metadata": {},
     "output_type": "display_data"
    }
   ],
   "source": [
    "display_head_tail(arkk)"
   ]
  },
  {
   "cell_type": "code",
   "execution_count": 138,
   "metadata": {},
   "outputs": [
    {
     "data": {
      "text/html": [
       "<div>\n",
       "<style scoped>\n",
       "    .dataframe tbody tr th:only-of-type {\n",
       "        vertical-align: middle;\n",
       "    }\n",
       "\n",
       "    .dataframe tbody tr th {\n",
       "        vertical-align: top;\n",
       "    }\n",
       "\n",
       "    .dataframe thead th {\n",
       "        text-align: right;\n",
       "    }\n",
       "</style>\n",
       "<table border=\"1\" class=\"dataframe\">\n",
       "  <thead>\n",
       "    <tr style=\"text-align: right;\">\n",
       "      <th></th>\n",
       "      <th>SPY</th>\n",
       "    </tr>\n",
       "    <tr>\n",
       "      <th>Date</th>\n",
       "      <th></th>\n",
       "    </tr>\n",
       "  </thead>\n",
       "  <tbody>\n",
       "    <tr>\n",
       "      <th>2020-03-02</th>\n",
       "      <td>294.65</td>\n",
       "    </tr>\n",
       "    <tr>\n",
       "      <th>2020-03-03</th>\n",
       "      <td>286.22</td>\n",
       "    </tr>\n",
       "    <tr>\n",
       "      <th>2020-03-04</th>\n",
       "      <td>298.25</td>\n",
       "    </tr>\n",
       "    <tr>\n",
       "      <th>2020-03-05</th>\n",
       "      <td>288.33</td>\n",
       "    </tr>\n",
       "    <tr>\n",
       "      <th>2020-03-06</th>\n",
       "      <td>283.57</td>\n",
       "    </tr>\n",
       "  </tbody>\n",
       "</table>\n",
       "</div>"
      ],
      "text/plain": [
       "               SPY\n",
       "Date              \n",
       "2020-03-02  294.65\n",
       "2020-03-03  286.22\n",
       "2020-03-04  298.25\n",
       "2020-03-05  288.33\n",
       "2020-03-06  283.57"
      ]
     },
     "metadata": {},
     "output_type": "display_data"
    },
    {
     "data": {
      "text/html": [
       "<div>\n",
       "<style scoped>\n",
       "    .dataframe tbody tr th:only-of-type {\n",
       "        vertical-align: middle;\n",
       "    }\n",
       "\n",
       "    .dataframe tbody tr th {\n",
       "        vertical-align: top;\n",
       "    }\n",
       "\n",
       "    .dataframe thead th {\n",
       "        text-align: right;\n",
       "    }\n",
       "</style>\n",
       "<table border=\"1\" class=\"dataframe\">\n",
       "  <thead>\n",
       "    <tr style=\"text-align: right;\">\n",
       "      <th></th>\n",
       "      <th>SPY</th>\n",
       "    </tr>\n",
       "    <tr>\n",
       "      <th>Date</th>\n",
       "      <th></th>\n",
       "    </tr>\n",
       "  </thead>\n",
       "  <tbody>\n",
       "    <tr>\n",
       "      <th>2022-03-24</th>\n",
       "      <td>444.68</td>\n",
       "    </tr>\n",
       "    <tr>\n",
       "      <th>2022-03-25</th>\n",
       "      <td>446.85</td>\n",
       "    </tr>\n",
       "    <tr>\n",
       "      <th>2022-03-28</th>\n",
       "      <td>450.03</td>\n",
       "    </tr>\n",
       "    <tr>\n",
       "      <th>2022-03-29</th>\n",
       "      <td>455.59</td>\n",
       "    </tr>\n",
       "    <tr>\n",
       "      <th>2022-03-30</th>\n",
       "      <td>452.78</td>\n",
       "    </tr>\n",
       "  </tbody>\n",
       "</table>\n",
       "</div>"
      ],
      "text/plain": [
       "               SPY\n",
       "Date              \n",
       "2022-03-24  444.68\n",
       "2022-03-25  446.85\n",
       "2022-03-28  450.03\n",
       "2022-03-29  455.59\n",
       "2022-03-30  452.78"
      ]
     },
     "metadata": {},
     "output_type": "display_data"
    }
   ],
   "source": [
    "display_head_tail(spy)"
   ]
  },
  {
   "cell_type": "code",
   "execution_count": 139,
   "metadata": {},
   "outputs": [
    {
     "data": {
      "text/html": [
       "<div>\n",
       "<style scoped>\n",
       "    .dataframe tbody tr th:only-of-type {\n",
       "        vertical-align: middle;\n",
       "    }\n",
       "\n",
       "    .dataframe tbody tr th {\n",
       "        vertical-align: top;\n",
       "    }\n",
       "\n",
       "    .dataframe thead th {\n",
       "        text-align: right;\n",
       "    }\n",
       "</style>\n",
       "<table border=\"1\" class=\"dataframe\">\n",
       "  <thead>\n",
       "    <tr style=\"text-align: right;\">\n",
       "      <th></th>\n",
       "      <th>FNGU</th>\n",
       "    </tr>\n",
       "    <tr>\n",
       "      <th>Date</th>\n",
       "      <th></th>\n",
       "    </tr>\n",
       "  </thead>\n",
       "  <tbody>\n",
       "    <tr>\n",
       "      <th>2020-03-02</th>\n",
       "      <td>80.15</td>\n",
       "    </tr>\n",
       "    <tr>\n",
       "      <th>2020-03-03</th>\n",
       "      <td>73.85</td>\n",
       "    </tr>\n",
       "    <tr>\n",
       "      <th>2020-03-04</th>\n",
       "      <td>80.57</td>\n",
       "    </tr>\n",
       "    <tr>\n",
       "      <th>2020-03-05</th>\n",
       "      <td>73.80</td>\n",
       "    </tr>\n",
       "    <tr>\n",
       "      <th>2020-03-06</th>\n",
       "      <td>68.17</td>\n",
       "    </tr>\n",
       "  </tbody>\n",
       "</table>\n",
       "</div>"
      ],
      "text/plain": [
       "             FNGU\n",
       "Date             \n",
       "2020-03-02  80.15\n",
       "2020-03-03  73.85\n",
       "2020-03-04  80.57\n",
       "2020-03-05  73.80\n",
       "2020-03-06  68.17"
      ]
     },
     "metadata": {},
     "output_type": "display_data"
    },
    {
     "data": {
      "text/html": [
       "<div>\n",
       "<style scoped>\n",
       "    .dataframe tbody tr th:only-of-type {\n",
       "        vertical-align: middle;\n",
       "    }\n",
       "\n",
       "    .dataframe tbody tr th {\n",
       "        vertical-align: top;\n",
       "    }\n",
       "\n",
       "    .dataframe thead th {\n",
       "        text-align: right;\n",
       "    }\n",
       "</style>\n",
       "<table border=\"1\" class=\"dataframe\">\n",
       "  <thead>\n",
       "    <tr style=\"text-align: right;\">\n",
       "      <th></th>\n",
       "      <th>FNGU</th>\n",
       "    </tr>\n",
       "    <tr>\n",
       "      <th>Date</th>\n",
       "      <th></th>\n",
       "    </tr>\n",
       "  </thead>\n",
       "  <tbody>\n",
       "    <tr>\n",
       "      <th>2022-03-24</th>\n",
       "      <td>236.0</td>\n",
       "    </tr>\n",
       "    <tr>\n",
       "      <th>2022-03-25</th>\n",
       "      <td>233.4</td>\n",
       "    </tr>\n",
       "    <tr>\n",
       "      <th>2022-03-28</th>\n",
       "      <td>247.0</td>\n",
       "    </tr>\n",
       "    <tr>\n",
       "      <th>2022-03-29</th>\n",
       "      <td>257.7</td>\n",
       "    </tr>\n",
       "    <tr>\n",
       "      <th>2022-03-30</th>\n",
       "      <td>247.5</td>\n",
       "    </tr>\n",
       "  </tbody>\n",
       "</table>\n",
       "</div>"
      ],
      "text/plain": [
       "             FNGU\n",
       "Date             \n",
       "2022-03-24  236.0\n",
       "2022-03-25  233.4\n",
       "2022-03-28  247.0\n",
       "2022-03-29  257.7\n",
       "2022-03-30  247.5"
      ]
     },
     "metadata": {},
     "output_type": "display_data"
    }
   ],
   "source": [
    "display_head_tail(fngu)"
   ]
  },
  {
   "cell_type": "markdown",
   "metadata": {},
   "source": [
    "## Scaling Data"
   ]
  },
  {
   "cell_type": "code",
   "execution_count": 140,
   "metadata": {},
   "outputs": [],
   "source": [
    "dataframes = [arkk,spy,fngu]"
   ]
  },
  {
   "cell_type": "code",
   "execution_count": 141,
   "metadata": {},
   "outputs": [],
   "source": [
    "arkk_scaler, spy_scaler, fngu_scaler = [MinMaxScaler(feature_range=(0,1)).fit(i) for i in dataframes]"
   ]
  },
  {
   "cell_type": "code",
   "execution_count": 142,
   "metadata": {
    "colab": {
     "base_uri": "https://localhost:8080/"
    },
    "id": "6jGHfpjIvhn0",
    "outputId": "73715f95-8c42-4315-eea3-060be0414ff4"
   },
   "outputs": [],
   "source": [
    "arkk_array, spy_array, fngu_array = [i.values for i in dataframes]"
   ]
  },
  {
   "cell_type": "code",
   "execution_count": 143,
   "metadata": {},
   "outputs": [],
   "source": [
    "get_scaled = lambda scaler, array: scaler.transform(array)\n",
    "arkk_scaled, spy_scaled, fngu_scaled = get_scaled(arkk_scaler,arkk_array),get_scaled(spy_scaler,arkk_array),get_scaled(fngu_scaler,fngu_array);"
   ]
  },
  {
   "cell_type": "markdown",
   "metadata": {},
   "source": [
    "## Train Test Split"
   ]
  },
  {
   "cell_type": "code",
   "execution_count": 144,
   "metadata": {},
   "outputs": [],
   "source": [
    "forecast_length = 60\n",
    "training_length = len(etf_data) - forecast_length"
   ]
  },
  {
   "cell_type": "code",
   "execution_count": 145,
   "metadata": {
    "colab": {
     "base_uri": "https://localhost:8080/"
    },
    "id": "eAReFKlyxSdV",
    "outputId": "d31a6e14-d802-40d8-d7d6-5ec42e22cc9a"
   },
   "outputs": [],
   "source": [
    "def train_test_split_reshape(scaled_data, array):\n",
    "    X, y = scaled_data[0:training_length, :], scaled_data[training_length - forecast_length:, :]\n",
    "\n",
    "    X_train, X_test, y_train, y_test = [],[],[], array[training_length:, :]\n",
    "\n",
    "    for i in range(forecast_length, len(X)):\n",
    "        X_train.append(X[i-forecast_length:i, 0])\n",
    "        y_train.append(X[i,0])\n",
    "\n",
    "    for i in range(forecast_length, len(y)):\n",
    "        X_test.append(y[i-forecast_length:i, 0])\n",
    "        \n",
    "    X_train, X_test, y_train = np.array(X_train), np.array(X_test), np.array(y_train)\n",
    "    X_test = np.reshape(X_test, (X_test.shape[0], X_test.shape[1], 1))\n",
    "    \n",
    "    return [X_train, X_test, y_train, y_test]"
   ]
  },
  {
   "cell_type": "code",
   "execution_count": 146,
   "metadata": {
    "id": "gChz0Omt_5Xb"
   },
   "outputs": [],
   "source": [
    "arkk_X_train, arkk_X_test, arkk_y_train, arkk_y_test =  train_test_split_reshape(arkk_scaled, arkk_array)\n",
    "spy_X_train, spy_X_test, spy_y_train, spy_y_test = train_test_split_reshape(spy_scaled, spy_array)\n",
    "fngu_X_train, fngu_X_test, fngu_y_train, fngu_y_test = train_test_split_reshape(fngu_scaled, fngu_array)"
   ]
  },
  {
   "cell_type": "markdown",
   "metadata": {},
   "source": [
    "## Create Models"
   ]
  },
  {
   "cell_type": "code",
   "execution_count": 147,
   "metadata": {},
   "outputs": [],
   "source": [
    "def get_model(n_layer1, n_layer2, n_layer3, X_train, optimizer, loss_func):\n",
    "    model = Sequential()\n",
    "    \n",
    "    model.add(LSTM(50, return_sequences=True, input_shape=(X_train.shape[1], 1)))\n",
    "    model.add(LSTM(50, return_sequences=False))\n",
    "    model.add(Dense(25))\n",
    "    model.add(Dense(1))\n",
    "    \n",
    "    display(model.summary())\n",
    "    \n",
    "    model.compile(optimizer=optimizer, loss=loss_func)\n",
    "    \n",
    "    return model"
   ]
  },
  {
   "cell_type": "code",
   "execution_count": 148,
   "metadata": {
    "id": "nIgdv2cMK1ej"
   },
   "outputs": [
    {
     "name": "stdout",
     "output_type": "stream",
     "text": [
      "Model: \"sequential_16\"\n",
      "_________________________________________________________________\n",
      " Layer (type)                Output Shape              Param #   \n",
      "=================================================================\n",
      " lstm_32 (LSTM)              (None, 60, 50)            10400     \n",
      "                                                                 \n",
      " lstm_33 (LSTM)              (None, 50)                20200     \n",
      "                                                                 \n",
      " dense_32 (Dense)            (None, 25)                1275      \n",
      "                                                                 \n",
      " dense_33 (Dense)            (None, 1)                 26        \n",
      "                                                                 \n",
      "=================================================================\n",
      "Total params: 31,901\n",
      "Trainable params: 31,901\n",
      "Non-trainable params: 0\n",
      "_________________________________________________________________\n"
     ]
    },
    {
     "data": {
      "text/plain": [
       "None"
      ]
     },
     "metadata": {},
     "output_type": "display_data"
    }
   ],
   "source": [
    "arkk_model = get_model(50,50,25,arkk_X_train,'adam','mse')"
   ]
  },
  {
   "cell_type": "code",
   "execution_count": 149,
   "metadata": {},
   "outputs": [
    {
     "name": "stdout",
     "output_type": "stream",
     "text": [
      "Model: \"sequential_17\"\n",
      "_________________________________________________________________\n",
      " Layer (type)                Output Shape              Param #   \n",
      "=================================================================\n",
      " lstm_34 (LSTM)              (None, 60, 50)            10400     \n",
      "                                                                 \n",
      " lstm_35 (LSTM)              (None, 50)                20200     \n",
      "                                                                 \n",
      " dense_34 (Dense)            (None, 25)                1275      \n",
      "                                                                 \n",
      " dense_35 (Dense)            (None, 1)                 26        \n",
      "                                                                 \n",
      "=================================================================\n",
      "Total params: 31,901\n",
      "Trainable params: 31,901\n",
      "Non-trainable params: 0\n",
      "_________________________________________________________________\n"
     ]
    },
    {
     "data": {
      "text/plain": [
       "None"
      ]
     },
     "metadata": {},
     "output_type": "display_data"
    }
   ],
   "source": [
    "spy_model = get_model(50,50,25,spy_X_train,'adam','mse')"
   ]
  },
  {
   "cell_type": "code",
   "execution_count": 150,
   "metadata": {},
   "outputs": [
    {
     "name": "stdout",
     "output_type": "stream",
     "text": [
      "Model: \"sequential_18\"\n",
      "_________________________________________________________________\n",
      " Layer (type)                Output Shape              Param #   \n",
      "=================================================================\n",
      " lstm_36 (LSTM)              (None, 60, 50)            10400     \n",
      "                                                                 \n",
      " lstm_37 (LSTM)              (None, 50)                20200     \n",
      "                                                                 \n",
      " dense_36 (Dense)            (None, 25)                1275      \n",
      "                                                                 \n",
      " dense_37 (Dense)            (None, 1)                 26        \n",
      "                                                                 \n",
      "=================================================================\n",
      "Total params: 31,901\n",
      "Trainable params: 31,901\n",
      "Non-trainable params: 0\n",
      "_________________________________________________________________\n"
     ]
    },
    {
     "data": {
      "text/plain": [
       "None"
      ]
     },
     "metadata": {},
     "output_type": "display_data"
    }
   ],
   "source": [
    "fngu_model = get_model(50,50,25,fngu_X_train,'adam','mse')"
   ]
  },
  {
   "cell_type": "markdown",
   "metadata": {},
   "source": [
    "## Train Models"
   ]
  },
  {
   "cell_type": "code",
   "execution_count": 151,
   "metadata": {
    "colab": {
     "base_uri": "https://localhost:8080/"
    },
    "id": "ZA2EuB6zMIbi",
    "outputId": "add8f863-51cc-4082-f564-215ac9628ae5"
   },
   "outputs": [
    {
     "name": "stdout",
     "output_type": "stream",
     "text": [
      "406/406 [==============================] - 6s 11ms/step - loss: 0.0074\n"
     ]
    }
   ],
   "source": [
    "arkk_model.fit(arkk_X_train, arkk_y_train, batch_size=1, epochs=1);"
   ]
  },
  {
   "cell_type": "code",
   "execution_count": 152,
   "metadata": {},
   "outputs": [
    {
     "name": "stdout",
     "output_type": "stream",
     "text": [
      "406/406 [==============================] - 6s 11ms/step - loss: 0.0017\n"
     ]
    }
   ],
   "source": [
    "spy_model.fit(spy_X_train, spy_y_train, batch_size=1, epochs=1);"
   ]
  },
  {
   "cell_type": "code",
   "execution_count": 153,
   "metadata": {},
   "outputs": [
    {
     "name": "stdout",
     "output_type": "stream",
     "text": [
      "406/406 [==============================] - 6s 11ms/step - loss: 0.0111\n"
     ]
    }
   ],
   "source": [
    "fngu_model.fit(fngu_X_train, fngu_y_train, batch_size=1, epochs=1);"
   ]
  },
  {
   "cell_type": "markdown",
   "metadata": {},
   "source": [
    "## Predict/Forecast"
   ]
  },
  {
   "cell_type": "code",
   "execution_count": 155,
   "metadata": {
    "colab": {
     "base_uri": "https://localhost:8080/"
    },
    "id": "EHRweClsPWp5",
    "outputId": "5cce878f-ac99-4744-afd4-2a1ca885f3f8"
   },
   "outputs": [
    {
     "name": "stdout",
     "output_type": "stream",
     "text": [
      "WARNING:tensorflow:5 out of the last 9 calls to <function Model.make_predict_function.<locals>.predict_function at 0x000001AE9AD13C10> triggered tf.function retracing. Tracing is expensive and the excessive number of tracings could be due to (1) creating @tf.function repeatedly in a loop, (2) passing tensors with different shapes, (3) passing Python objects instead of tensors. For (1), please define your @tf.function outside of the loop. For (2), @tf.function has reduce_retracing=True option that can avoid unnecessary retracing. For (3), please refer to https://www.tensorflow.org/guide/function#controlling_retracing and https://www.tensorflow.org/api_docs/python/tf/function for  more details.\n",
      "2/2 [==============================] - 0s 7ms/step\n",
      "WARNING:tensorflow:6 out of the last 11 calls to <function Model.make_predict_function.<locals>.predict_function at 0x000001AE91BA2280> triggered tf.function retracing. Tracing is expensive and the excessive number of tracings could be due to (1) creating @tf.function repeatedly in a loop, (2) passing tensors with different shapes, (3) passing Python objects instead of tensors. For (1), please define your @tf.function outside of the loop. For (2), @tf.function has reduce_retracing=True option that can avoid unnecessary retracing. For (3), please refer to https://www.tensorflow.org/guide/function#controlling_retracing and https://www.tensorflow.org/api_docs/python/tf/function for  more details.\n",
      "2/2 [==============================] - 0s 7ms/step\n",
      "2/2 [==============================] - 0s 8ms/step\n"
     ]
    }
   ],
   "source": [
    "arkk_predictions = arkk_model.predict(arkk_X_test)\n",
    "spy_predictions = spy_model.predict(spy_X_test)\n",
    "fngu_predictions = fngu_model.predict(fngu_X_test)"
   ]
  },
  {
   "cell_type": "markdown",
   "metadata": {},
   "source": [
    "### Actual vs Predicted "
   ]
  },
  {
   "cell_type": "code",
   "execution_count": 216,
   "metadata": {},
   "outputs": [],
   "source": [
    "def get_actual_predicted(df, predictions): \n",
    "    valid = df[training_length:]\n",
    "    predictions = scaler.inverse_transform(predictions)\n",
    "    column_name = df.columns[0]\n",
    "    valid[f'{df.columns[0]} Forecasted Adjusted Close'] = predictions\n",
    "    valid.apply(lambda x: round(x,2))\n",
    "    valid.rename(columns={column_name:f'{column_name} Actual Adjusted Close'}, inplace=True)\n",
    "    return valid"
   ]
  },
  {
   "cell_type": "code",
   "execution_count": 217,
   "metadata": {},
   "outputs": [
    {
     "data": {
      "text/html": [
       "<div>\n",
       "<style scoped>\n",
       "    .dataframe tbody tr th:only-of-type {\n",
       "        vertical-align: middle;\n",
       "    }\n",
       "\n",
       "    .dataframe tbody tr th {\n",
       "        vertical-align: top;\n",
       "    }\n",
       "\n",
       "    .dataframe thead th {\n",
       "        text-align: right;\n",
       "    }\n",
       "</style>\n",
       "<table border=\"1\" class=\"dataframe\">\n",
       "  <thead>\n",
       "    <tr style=\"text-align: right;\">\n",
       "      <th></th>\n",
       "      <th>ARKK Actual Adjusted Close</th>\n",
       "      <th>ARKK Forecasted Adjusted Close</th>\n",
       "    </tr>\n",
       "    <tr>\n",
       "      <th>Date</th>\n",
       "      <th></th>\n",
       "      <th></th>\n",
       "    </tr>\n",
       "  </thead>\n",
       "  <tbody>\n",
       "    <tr>\n",
       "      <th>2022-01-04</th>\n",
       "      <td>92.69</td>\n",
       "      <td>105.933006</td>\n",
       "    </tr>\n",
       "    <tr>\n",
       "      <th>2022-01-05</th>\n",
       "      <td>86.12</td>\n",
       "      <td>105.765465</td>\n",
       "    </tr>\n",
       "    <tr>\n",
       "      <th>2022-01-06</th>\n",
       "      <td>85.58</td>\n",
       "      <td>105.114441</td>\n",
       "    </tr>\n",
       "    <tr>\n",
       "      <th>2022-01-07</th>\n",
       "      <td>84.42</td>\n",
       "      <td>104.186623</td>\n",
       "    </tr>\n",
       "    <tr>\n",
       "      <th>2022-01-10</th>\n",
       "      <td>84.64</td>\n",
       "      <td>103.066788</td>\n",
       "    </tr>\n",
       "  </tbody>\n",
       "</table>\n",
       "</div>"
      ],
      "text/plain": [
       "            ARKK Actual Adjusted Close  ARKK Forecasted Adjusted Close\n",
       "Date                                                                  \n",
       "2022-01-04                       92.69                      105.933006\n",
       "2022-01-05                       86.12                      105.765465\n",
       "2022-01-06                       85.58                      105.114441\n",
       "2022-01-07                       84.42                      104.186623\n",
       "2022-01-10                       84.64                      103.066788"
      ]
     },
     "metadata": {},
     "output_type": "display_data"
    },
    {
     "data": {
      "text/html": [
       "<div>\n",
       "<style scoped>\n",
       "    .dataframe tbody tr th:only-of-type {\n",
       "        vertical-align: middle;\n",
       "    }\n",
       "\n",
       "    .dataframe tbody tr th {\n",
       "        vertical-align: top;\n",
       "    }\n",
       "\n",
       "    .dataframe thead th {\n",
       "        text-align: right;\n",
       "    }\n",
       "</style>\n",
       "<table border=\"1\" class=\"dataframe\">\n",
       "  <thead>\n",
       "    <tr style=\"text-align: right;\">\n",
       "      <th></th>\n",
       "      <th>ARKK Actual Adjusted Close</th>\n",
       "      <th>ARKK Forecasted Adjusted Close</th>\n",
       "    </tr>\n",
       "    <tr>\n",
       "      <th>Date</th>\n",
       "      <th></th>\n",
       "      <th></th>\n",
       "    </tr>\n",
       "  </thead>\n",
       "  <tbody>\n",
       "    <tr>\n",
       "      <th>2022-03-24</th>\n",
       "      <td>66.40</td>\n",
       "      <td>71.225555</td>\n",
       "    </tr>\n",
       "    <tr>\n",
       "      <th>2022-03-25</th>\n",
       "      <td>64.51</td>\n",
       "      <td>71.944176</td>\n",
       "    </tr>\n",
       "    <tr>\n",
       "      <th>2022-03-28</th>\n",
       "      <td>67.06</td>\n",
       "      <td>72.544334</td>\n",
       "    </tr>\n",
       "    <tr>\n",
       "      <th>2022-03-29</th>\n",
       "      <td>71.39</td>\n",
       "      <td>73.176857</td>\n",
       "    </tr>\n",
       "    <tr>\n",
       "      <th>2022-03-30</th>\n",
       "      <td>68.68</td>\n",
       "      <td>74.030190</td>\n",
       "    </tr>\n",
       "  </tbody>\n",
       "</table>\n",
       "</div>"
      ],
      "text/plain": [
       "            ARKK Actual Adjusted Close  ARKK Forecasted Adjusted Close\n",
       "Date                                                                  \n",
       "2022-03-24                       66.40                       71.225555\n",
       "2022-03-25                       64.51                       71.944176\n",
       "2022-03-28                       67.06                       72.544334\n",
       "2022-03-29                       71.39                       73.176857\n",
       "2022-03-30                       68.68                       74.030190"
      ]
     },
     "metadata": {},
     "output_type": "display_data"
    }
   ],
   "source": [
    "arkk_actual_predicted = get_actual_predicted(arkk,arkk_predictions)\n",
    "display_head_tail(arkk_actual_predicted)"
   ]
  },
  {
   "cell_type": "code",
   "execution_count": 218,
   "metadata": {},
   "outputs": [
    {
     "data": {
      "text/html": [
       "<div>\n",
       "<style scoped>\n",
       "    .dataframe tbody tr th:only-of-type {\n",
       "        vertical-align: middle;\n",
       "    }\n",
       "\n",
       "    .dataframe tbody tr th {\n",
       "        vertical-align: top;\n",
       "    }\n",
       "\n",
       "    .dataframe thead th {\n",
       "        text-align: right;\n",
       "    }\n",
       "</style>\n",
       "<table border=\"1\" class=\"dataframe\">\n",
       "  <thead>\n",
       "    <tr style=\"text-align: right;\">\n",
       "      <th></th>\n",
       "      <th>SPY Actual Adjusted Close</th>\n",
       "      <th>SPY Forecasted Adjusted Close</th>\n",
       "    </tr>\n",
       "    <tr>\n",
       "      <th>Date</th>\n",
       "      <th></th>\n",
       "      <th></th>\n",
       "    </tr>\n",
       "  </thead>\n",
       "  <tbody>\n",
       "    <tr>\n",
       "      <th>2022-01-04</th>\n",
       "      <td>469.93</td>\n",
       "      <td>-24.101727</td>\n",
       "    </tr>\n",
       "    <tr>\n",
       "      <th>2022-01-05</th>\n",
       "      <td>460.90</td>\n",
       "      <td>-24.183472</td>\n",
       "    </tr>\n",
       "    <tr>\n",
       "      <th>2022-01-06</th>\n",
       "      <td>460.47</td>\n",
       "      <td>-24.516848</td>\n",
       "    </tr>\n",
       "    <tr>\n",
       "      <th>2022-01-07</th>\n",
       "      <td>458.65</td>\n",
       "      <td>-24.986734</td>\n",
       "    </tr>\n",
       "    <tr>\n",
       "      <th>2022-01-10</th>\n",
       "      <td>458.08</td>\n",
       "      <td>-25.542082</td>\n",
       "    </tr>\n",
       "  </tbody>\n",
       "</table>\n",
       "</div>"
      ],
      "text/plain": [
       "            SPY Actual Adjusted Close  SPY Forecasted Adjusted Close\n",
       "Date                                                                \n",
       "2022-01-04                     469.93                     -24.101727\n",
       "2022-01-05                     460.90                     -24.183472\n",
       "2022-01-06                     460.47                     -24.516848\n",
       "2022-01-07                     458.65                     -24.986734\n",
       "2022-01-10                     458.08                     -25.542082"
      ]
     },
     "metadata": {},
     "output_type": "display_data"
    },
    {
     "data": {
      "text/html": [
       "<div>\n",
       "<style scoped>\n",
       "    .dataframe tbody tr th:only-of-type {\n",
       "        vertical-align: middle;\n",
       "    }\n",
       "\n",
       "    .dataframe tbody tr th {\n",
       "        vertical-align: top;\n",
       "    }\n",
       "\n",
       "    .dataframe thead th {\n",
       "        text-align: right;\n",
       "    }\n",
       "</style>\n",
       "<table border=\"1\" class=\"dataframe\">\n",
       "  <thead>\n",
       "    <tr style=\"text-align: right;\">\n",
       "      <th></th>\n",
       "      <th>SPY Actual Adjusted Close</th>\n",
       "      <th>SPY Forecasted Adjusted Close</th>\n",
       "    </tr>\n",
       "    <tr>\n",
       "      <th>Date</th>\n",
       "      <th></th>\n",
       "      <th></th>\n",
       "    </tr>\n",
       "  </thead>\n",
       "  <tbody>\n",
       "    <tr>\n",
       "      <th>2022-03-24</th>\n",
       "      <td>444.68</td>\n",
       "      <td>-39.579117</td>\n",
       "    </tr>\n",
       "    <tr>\n",
       "      <th>2022-03-25</th>\n",
       "      <td>446.85</td>\n",
       "      <td>-39.223789</td>\n",
       "    </tr>\n",
       "    <tr>\n",
       "      <th>2022-03-28</th>\n",
       "      <td>450.03</td>\n",
       "      <td>-38.948513</td>\n",
       "    </tr>\n",
       "    <tr>\n",
       "      <th>2022-03-29</th>\n",
       "      <td>455.59</td>\n",
       "      <td>-38.656994</td>\n",
       "    </tr>\n",
       "    <tr>\n",
       "      <th>2022-03-30</th>\n",
       "      <td>452.78</td>\n",
       "      <td>-38.244995</td>\n",
       "    </tr>\n",
       "  </tbody>\n",
       "</table>\n",
       "</div>"
      ],
      "text/plain": [
       "            SPY Actual Adjusted Close  SPY Forecasted Adjusted Close\n",
       "Date                                                                \n",
       "2022-03-24                     444.68                     -39.579117\n",
       "2022-03-25                     446.85                     -39.223789\n",
       "2022-03-28                     450.03                     -38.948513\n",
       "2022-03-29                     455.59                     -38.656994\n",
       "2022-03-30                     452.78                     -38.244995"
      ]
     },
     "metadata": {},
     "output_type": "display_data"
    }
   ],
   "source": [
    "spy_actual_predicted = get_actual_predicted(spy,spy_predictions)\n",
    "display_head_tail(spy_actual_predicted)"
   ]
  },
  {
   "cell_type": "code",
   "execution_count": 219,
   "metadata": {},
   "outputs": [
    {
     "data": {
      "text/html": [
       "<div>\n",
       "<style scoped>\n",
       "    .dataframe tbody tr th:only-of-type {\n",
       "        vertical-align: middle;\n",
       "    }\n",
       "\n",
       "    .dataframe tbody tr th {\n",
       "        vertical-align: top;\n",
       "    }\n",
       "\n",
       "    .dataframe thead th {\n",
       "        text-align: right;\n",
       "    }\n",
       "</style>\n",
       "<table border=\"1\" class=\"dataframe\">\n",
       "  <thead>\n",
       "    <tr style=\"text-align: right;\">\n",
       "      <th></th>\n",
       "      <th>FNGU Actual Adjusted Close</th>\n",
       "      <th>FNGU Forecasted Adjusted Close</th>\n",
       "    </tr>\n",
       "    <tr>\n",
       "      <th>Date</th>\n",
       "      <th></th>\n",
       "      <th></th>\n",
       "    </tr>\n",
       "  </thead>\n",
       "  <tbody>\n",
       "    <tr>\n",
       "      <th>2022-01-04</th>\n",
       "      <td>380.4</td>\n",
       "      <td>124.855186</td>\n",
       "    </tr>\n",
       "    <tr>\n",
       "      <th>2022-01-05</th>\n",
       "      <td>342.9</td>\n",
       "      <td>125.264259</td>\n",
       "    </tr>\n",
       "    <tr>\n",
       "      <th>2022-01-06</th>\n",
       "      <td>349.1</td>\n",
       "      <td>124.786491</td>\n",
       "    </tr>\n",
       "    <tr>\n",
       "      <th>2022-01-07</th>\n",
       "      <td>342.4</td>\n",
       "      <td>124.043999</td>\n",
       "    </tr>\n",
       "    <tr>\n",
       "      <th>2022-01-10</th>\n",
       "      <td>344.2</td>\n",
       "      <td>123.056061</td>\n",
       "    </tr>\n",
       "  </tbody>\n",
       "</table>\n",
       "</div>"
      ],
      "text/plain": [
       "            FNGU Actual Adjusted Close  FNGU Forecasted Adjusted Close\n",
       "Date                                                                  \n",
       "2022-01-04                       380.4                      124.855186\n",
       "2022-01-05                       342.9                      125.264259\n",
       "2022-01-06                       349.1                      124.786491\n",
       "2022-01-07                       342.4                      124.043999\n",
       "2022-01-10                       344.2                      123.056061"
      ]
     },
     "metadata": {},
     "output_type": "display_data"
    },
    {
     "data": {
      "text/html": [
       "<div>\n",
       "<style scoped>\n",
       "    .dataframe tbody tr th:only-of-type {\n",
       "        vertical-align: middle;\n",
       "    }\n",
       "\n",
       "    .dataframe tbody tr th {\n",
       "        vertical-align: top;\n",
       "    }\n",
       "\n",
       "    .dataframe thead th {\n",
       "        text-align: right;\n",
       "    }\n",
       "</style>\n",
       "<table border=\"1\" class=\"dataframe\">\n",
       "  <thead>\n",
       "    <tr style=\"text-align: right;\">\n",
       "      <th></th>\n",
       "      <th>FNGU Actual Adjusted Close</th>\n",
       "      <th>FNGU Forecasted Adjusted Close</th>\n",
       "    </tr>\n",
       "    <tr>\n",
       "      <th>Date</th>\n",
       "      <th></th>\n",
       "      <th></th>\n",
       "    </tr>\n",
       "  </thead>\n",
       "  <tbody>\n",
       "    <tr>\n",
       "      <th>2022-03-24</th>\n",
       "      <td>236.0</td>\n",
       "      <td>81.510818</td>\n",
       "    </tr>\n",
       "    <tr>\n",
       "      <th>2022-03-25</th>\n",
       "      <td>233.4</td>\n",
       "      <td>83.266479</td>\n",
       "    </tr>\n",
       "    <tr>\n",
       "      <th>2022-03-28</th>\n",
       "      <td>247.0</td>\n",
       "      <td>84.900230</td>\n",
       "    </tr>\n",
       "    <tr>\n",
       "      <th>2022-03-29</th>\n",
       "      <td>257.7</td>\n",
       "      <td>86.592293</td>\n",
       "    </tr>\n",
       "    <tr>\n",
       "      <th>2022-03-30</th>\n",
       "      <td>247.5</td>\n",
       "      <td>88.374146</td>\n",
       "    </tr>\n",
       "  </tbody>\n",
       "</table>\n",
       "</div>"
      ],
      "text/plain": [
       "            FNGU Actual Adjusted Close  FNGU Forecasted Adjusted Close\n",
       "Date                                                                  \n",
       "2022-03-24                       236.0                       81.510818\n",
       "2022-03-25                       233.4                       83.266479\n",
       "2022-03-28                       247.0                       84.900230\n",
       "2022-03-29                       257.7                       86.592293\n",
       "2022-03-30                       247.5                       88.374146"
      ]
     },
     "metadata": {},
     "output_type": "display_data"
    }
   ],
   "source": [
    "fngu_actual_predicted = get_actual_predicted(fngu,fngu_predictions)\n",
    "display_head_tail(fngu_actual_predicted)"
   ]
  },
  {
   "cell_type": "markdown",
   "metadata": {},
   "source": [
    "## Visualization"
   ]
  },
  {
   "cell_type": "markdown",
   "metadata": {},
   "source": [
    "### Actual vs Predicted "
   ]
  },
  {
   "cell_type": "code",
   "execution_count": 220,
   "metadata": {},
   "outputs": [],
   "source": [
    "def display_actual_predicted(actual_predicted):\n",
    "    return actual_predicted.hvplot()"
   ]
  },
  {
   "cell_type": "code",
   "execution_count": 221,
   "metadata": {},
   "outputs": [
    {
     "data": {},
     "metadata": {},
     "output_type": "display_data"
    },
    {
     "data": {
      "application/vnd.holoviews_exec.v0+json": "",
      "text/html": [
       "<div id='4554'>\n",
       "  <div class=\"bk-root\" id=\"43e0cfdb-df53-4d66-ba53-f7d46fd2501f\" data-root-id=\"4554\"></div>\n",
       "</div>\n",
       "<script type=\"application/javascript\">(function(root) {\n",
       "  function embed_document(root) {\n",
       "    var docs_json = {\"0ec715a2-33d0-4bb9-adc0-3f5096d1f20b\":{\"defs\":[{\"extends\":null,\"module\":null,\"name\":\"ReactiveHTML1\",\"overrides\":[],\"properties\":[]},{\"extends\":null,\"module\":null,\"name\":\"FlexBox1\",\"overrides\":[],\"properties\":[{\"default\":\"flex-start\",\"kind\":null,\"name\":\"align_content\"},{\"default\":\"flex-start\",\"kind\":null,\"name\":\"align_items\"},{\"default\":\"row\",\"kind\":null,\"name\":\"flex_direction\"},{\"default\":\"wrap\",\"kind\":null,\"name\":\"flex_wrap\"},{\"default\":\"flex-start\",\"kind\":null,\"name\":\"justify_content\"}]},{\"extends\":null,\"module\":null,\"name\":\"GridStack1\",\"overrides\":[],\"properties\":[{\"default\":\"warn\",\"kind\":null,\"name\":\"mode\"},{\"default\":null,\"kind\":null,\"name\":\"ncols\"},{\"default\":null,\"kind\":null,\"name\":\"nrows\"},{\"default\":true,\"kind\":null,\"name\":\"allow_resize\"},{\"default\":true,\"kind\":null,\"name\":\"allow_drag\"},{\"default\":[],\"kind\":null,\"name\":\"state\"}]},{\"extends\":null,\"module\":null,\"name\":\"click1\",\"overrides\":[],\"properties\":[{\"default\":\"\",\"kind\":null,\"name\":\"terminal_output\"},{\"default\":\"\",\"kind\":null,\"name\":\"debug_name\"},{\"default\":0,\"kind\":null,\"name\":\"clears\"}]},{\"extends\":null,\"module\":null,\"name\":\"NotificationAreaBase1\",\"overrides\":[],\"properties\":[{\"default\":\"bottom-right\",\"kind\":null,\"name\":\"position\"},{\"default\":0,\"kind\":null,\"name\":\"_clear\"}]},{\"extends\":null,\"module\":null,\"name\":\"NotificationArea1\",\"overrides\":[],\"properties\":[{\"default\":[],\"kind\":null,\"name\":\"notifications\"},{\"default\":\"bottom-right\",\"kind\":null,\"name\":\"position\"},{\"default\":0,\"kind\":null,\"name\":\"_clear\"},{\"default\":[{\"background\":\"#ffc107\",\"icon\":{\"className\":\"fas fa-exclamation-triangle\",\"color\":\"white\",\"tagName\":\"i\"},\"type\":\"warning\"},{\"background\":\"#007bff\",\"icon\":{\"className\":\"fas fa-info-circle\",\"color\":\"white\",\"tagName\":\"i\"},\"type\":\"info\"}],\"kind\":null,\"name\":\"types\"}]},{\"extends\":null,\"module\":null,\"name\":\"Notification\",\"overrides\":[],\"properties\":[{\"default\":null,\"kind\":null,\"name\":\"background\"},{\"default\":3000,\"kind\":null,\"name\":\"duration\"},{\"default\":null,\"kind\":null,\"name\":\"icon\"},{\"default\":\"\",\"kind\":null,\"name\":\"message\"},{\"default\":null,\"kind\":null,\"name\":\"notification_type\"},{\"default\":false,\"kind\":null,\"name\":\"_destroyed\"}]},{\"extends\":null,\"module\":null,\"name\":\"TemplateActions1\",\"overrides\":[],\"properties\":[{\"default\":0,\"kind\":null,\"name\":\"open_modal\"},{\"default\":0,\"kind\":null,\"name\":\"close_modal\"}]},{\"extends\":null,\"module\":null,\"name\":\"MaterialTemplateActions1\",\"overrides\":[],\"properties\":[{\"default\":0,\"kind\":null,\"name\":\"open_modal\"},{\"default\":0,\"kind\":null,\"name\":\"close_modal\"}]}],\"roots\":{\"references\":[{\"attributes\":{\"coordinates\":null,\"group\":null,\"text_color\":\"black\",\"text_font_size\":\"12pt\"},\"id\":\"4771\",\"type\":\"Title\"},{\"attributes\":{},\"id\":\"4716\",\"type\":\"UnionRenderers\"},{\"attributes\":{},\"id\":\"4577\",\"type\":\"SaveTool\"},{\"attributes\":{\"num_minor_ticks\":5,\"tickers\":[{\"id\":\"4824\"},{\"id\":\"4825\"},{\"id\":\"4826\"},{\"id\":\"4827\"},{\"id\":\"4828\"},{\"id\":\"4829\"},{\"id\":\"4830\"},{\"id\":\"4831\"},{\"id\":\"4832\"},{\"id\":\"4833\"},{\"id\":\"4834\"},{\"id\":\"4835\"}]},\"id\":\"4780\",\"type\":\"DatetimeTicker\"},{\"attributes\":{\"axis_label\":\"\",\"coordinates\":null,\"formatter\":{\"id\":\"4804\"},\"group\":null,\"major_label_policy\":{\"id\":\"4805\"},\"ticker\":{\"id\":\"4784\"}},\"id\":\"4783\",\"type\":\"LinearAxis\"},{\"attributes\":{\"source\":{\"id\":\"4629\"}},\"id\":\"4636\",\"type\":\"CDSView\"},{\"attributes\":{\"axis\":{\"id\":\"4779\"},\"coordinates\":null,\"grid_line_color\":null,\"group\":null,\"ticker\":null},\"id\":\"4782\",\"type\":\"Grid\"},{\"attributes\":{\"line_color\":\"#fc4f30\",\"line_width\":2,\"x\":{\"field\":\"Date\"},\"y\":{\"field\":\"value\"}},\"id\":\"4662\",\"type\":\"Line\"},{\"attributes\":{\"axis_label\":\"Date\",\"coordinates\":null,\"formatter\":{\"id\":\"4801\"},\"group\":null,\"major_label_policy\":{\"id\":\"4802\"},\"ticker\":{\"id\":\"4780\"}},\"id\":\"4779\",\"type\":\"DatetimeAxis\"},{\"attributes\":{\"line_alpha\":0.1,\"line_color\":\"#fc4f30\",\"line_width\":2,\"x\":{\"field\":\"Date\"},\"y\":{\"field\":\"value\"}},\"id\":\"4633\",\"type\":\"Line\"},{\"attributes\":{\"coordinates\":null,\"data_source\":{\"id\":\"4629\"},\"glyph\":{\"id\":\"4632\"},\"group\":null,\"hover_glyph\":null,\"muted_glyph\":{\"id\":\"4634\"},\"nonselection_glyph\":{\"id\":\"4633\"},\"selection_glyph\":{\"id\":\"4662\"},\"view\":{\"id\":\"4636\"}},\"id\":\"4635\",\"type\":\"GlyphRenderer\"},{\"attributes\":{},\"id\":\"4777\",\"type\":\"LinearScale\"},{\"attributes\":{\"line_alpha\":0.2,\"line_color\":\"#fc4f30\",\"line_width\":2,\"x\":{\"field\":\"Date\"},\"y\":{\"field\":\"value\"}},\"id\":\"4634\",\"type\":\"Line\"},{\"attributes\":{\"overlay\":{\"id\":\"4582\"}},\"id\":\"4580\",\"type\":\"BoxZoomTool\"},{\"attributes\":{\"tools\":[{\"id\":\"4663\"},{\"id\":\"4682\"},{\"id\":\"4683\"},{\"id\":\"4684\"},{\"id\":\"4685\"},{\"id\":\"4686\"}]},\"id\":\"4688\",\"type\":\"Toolbar\"},{\"attributes\":{},\"id\":\"4788\",\"type\":\"PanTool\"},{\"attributes\":{\"label\":{\"value\":\"ARKK Forecasted Adjusted Close\"},\"renderers\":[{\"id\":\"4635\"}]},\"id\":\"4661\",\"type\":\"LegendItem\"},{\"attributes\":{},\"id\":\"4802\",\"type\":\"AllLabels\"},{\"attributes\":{\"axis\":{\"id\":\"4783\"},\"coordinates\":null,\"dimension\":1,\"grid_line_color\":null,\"group\":null,\"ticker\":null},\"id\":\"4786\",\"type\":\"Grid\"},{\"attributes\":{},\"id\":\"4784\",\"type\":\"BasicTicker\"},{\"attributes\":{},\"id\":\"4789\",\"type\":\"WheelZoomTool\"},{\"attributes\":{},\"id\":\"4646\",\"type\":\"UnionRenderers\"},{\"attributes\":{\"axis_label\":\"Date\",\"coordinates\":null,\"formatter\":{\"id\":\"4591\"},\"group\":null,\"major_label_policy\":{\"id\":\"4592\"},\"ticker\":{\"id\":\"4570\"}},\"id\":\"4569\",\"type\":\"DatetimeAxis\"},{\"attributes\":{},\"id\":\"4787\",\"type\":\"SaveTool\"},{\"attributes\":{\"data\":{\"Date\":{\"__ndarray__\":\"AAAAKybid0IAAMCQeOJ3QgAAgPbK4ndCAABAXB3jd0IAAICNFOR3QgAAQPNm5HdCAAAAWbnkd0IAAMC+C+V3QgAAgCRe5XdCAACAu6fmd0IAAEAh+uZ3QgAAAIdM53dCAADA7J7nd0IAAAAeluh3QgAAwIPo6HdCAACA6Trpd0IAAEBPjel3QgAAALXf6XdCAABA5tbqd0IAAABMKet3QgAAwLF763dCAACAF87rd0IAAEB9IOx3QgAAgK4X7XdCAABAFGrtd0IAAAB6vO13QgAAwN8O7ndCAACARWHud0IAAMB2WO93QgAAgNyq73dCAABAQv3vd0IAAACoT/B3QgAAwA2i8HdCAADApOvxd0IAAIAKPvJ3QgAAQHCQ8ndCAAAA1uLyd0IAAEAH2vN3QgAAAG0s9HdCAADA0n70d0IAAIA40fR3QgAAQJ4j9XdCAACAzxr2d0IAAEA1bfZ3QgAAAJu/9ndCAADAABL3d0IAAIBmZPd3QgAAwJdb+HdCAACA/a34d0IAAEBjAPl3QgAAAMlS+XdCAADALqX5d0IAAABgnPp3QgAAwMXu+ndCAACAK0H7d0IAAECRk/t3QgAAAPfl+3dCAABAKN38d0IAAACOL/13QgAAwPOB/XdC\",\"dtype\":\"float64\",\"order\":\"little\",\"shape\":[60]},\"Variable\":[\"ARKK Forecasted Adjusted Close\",\"ARKK Forecasted Adjusted Close\",\"ARKK Forecasted Adjusted Close\",\"ARKK Forecasted Adjusted Close\",\"ARKK Forecasted Adjusted Close\",\"ARKK Forecasted Adjusted Close\",\"ARKK Forecasted Adjusted Close\",\"ARKK Forecasted Adjusted Close\",\"ARKK Forecasted Adjusted Close\",\"ARKK Forecasted Adjusted Close\",\"ARKK Forecasted Adjusted Close\",\"ARKK Forecasted Adjusted Close\",\"ARKK Forecasted Adjusted Close\",\"ARKK Forecasted Adjusted Close\",\"ARKK Forecasted Adjusted Close\",\"ARKK Forecasted Adjusted Close\",\"ARKK Forecasted Adjusted Close\",\"ARKK Forecasted Adjusted Close\",\"ARKK Forecasted Adjusted Close\",\"ARKK Forecasted Adjusted Close\",\"ARKK Forecasted Adjusted Close\",\"ARKK Forecasted Adjusted Close\",\"ARKK Forecasted Adjusted Close\",\"ARKK Forecasted Adjusted Close\",\"ARKK Forecasted Adjusted Close\",\"ARKK Forecasted Adjusted Close\",\"ARKK Forecasted Adjusted Close\",\"ARKK Forecasted Adjusted Close\",\"ARKK Forecasted Adjusted Close\",\"ARKK Forecasted Adjusted Close\",\"ARKK Forecasted Adjusted Close\",\"ARKK Forecasted Adjusted Close\",\"ARKK Forecasted Adjusted Close\",\"ARKK Forecasted Adjusted Close\",\"ARKK Forecasted Adjusted Close\",\"ARKK Forecasted Adjusted Close\",\"ARKK Forecasted Adjusted Close\",\"ARKK Forecasted Adjusted Close\",\"ARKK Forecasted Adjusted Close\",\"ARKK Forecasted Adjusted Close\",\"ARKK Forecasted Adjusted Close\",\"ARKK Forecasted Adjusted Close\",\"ARKK Forecasted Adjusted Close\",\"ARKK Forecasted Adjusted Close\",\"ARKK Forecasted Adjusted Close\",\"ARKK Forecasted Adjusted Close\",\"ARKK Forecasted Adjusted Close\",\"ARKK Forecasted Adjusted Close\",\"ARKK Forecasted Adjusted Close\",\"ARKK Forecasted Adjusted Close\",\"ARKK Forecasted Adjusted Close\",\"ARKK Forecasted Adjusted Close\",\"ARKK Forecasted Adjusted Close\",\"ARKK Forecasted Adjusted Close\",\"ARKK Forecasted Adjusted Close\",\"ARKK Forecasted Adjusted Close\",\"ARKK Forecasted Adjusted Close\",\"ARKK Forecasted Adjusted Close\",\"ARKK Forecasted Adjusted Close\",\"ARKK Forecasted Adjusted Close\"],\"value\":{\"__ndarray__\":\"s93TQuuH00KYOtJCjV/QQjIizkKfzstCF9PJQsrfx0LHisVChyjDQh58wEJ2qb1C9+q6Qifgt0K0ELVCOjuyQhtar0K5TaxCX52pQkoFqEJfX6dC9eqmQtUqpkLasqVCDWKlQt8rpUJydKVC5cGlQhXbpUINxKVCTf+lQr0hpkIhrqVCi4SkQkLRokLQlqBC862eQvRNnUKBo5xCBDicQgzom0IWNJtCD/eZQlA3mELsTJZCereUQl8vk0JtWJFCaQ+PQpXYjELOZotCatWKQkEri0Kq3otCfhmNQnxzjkJr449CsxaRQo1akkJ1D5RC\",\"dtype\":\"float32\",\"order\":\"little\",\"shape\":[60]}},\"selected\":{\"id\":\"4630\"},\"selection_policy\":{\"id\":\"4646\"}},\"id\":\"4629\",\"type\":\"ColumnDataSource\"},{\"attributes\":{\"overlay\":{\"id\":\"4792\"}},\"id\":\"4790\",\"type\":\"BoxZoomTool\"},{\"attributes\":{\"callback\":null,\"formatters\":{\"@{Date}\":\"datetime\"},\"renderers\":[{\"id\":\"4602\"},{\"id\":\"4635\"}],\"tags\":[\"hv_created\"],\"tooltips\":[[\"Variable\",\"@{Variable}\"],[\"Date\",\"@{Date}{%F %T}\"],[\"value\",\"@{value}\"]]},\"id\":\"4558\",\"type\":\"HoverTool\"},{\"attributes\":{},\"id\":\"4791\",\"type\":\"ResetTool\"},{\"attributes\":{\"bottom_units\":\"screen\",\"coordinates\":null,\"fill_alpha\":0.5,\"fill_color\":\"lightgrey\",\"group\":null,\"left_units\":\"screen\",\"level\":\"overlay\",\"line_alpha\":1.0,\"line_color\":\"black\",\"line_dash\":[4,4],\"line_width\":2,\"right_units\":\"screen\",\"syncable\":false,\"top_units\":\"screen\"},\"id\":\"4582\",\"type\":\"BoxAnnotation\"},{\"attributes\":{\"bottom_units\":\"screen\",\"coordinates\":null,\"fill_alpha\":0.5,\"fill_color\":\"lightgrey\",\"group\":null,\"left_units\":\"screen\",\"level\":\"overlay\",\"line_alpha\":1.0,\"line_color\":\"black\",\"line_dash\":[4,4],\"line_width\":2,\"right_units\":\"screen\",\"syncable\":false,\"top_units\":\"screen\"},\"id\":\"4792\",\"type\":\"BoxAnnotation\"},{\"attributes\":{},\"id\":\"4821\",\"type\":\"UnionRenderers\"},{\"attributes\":{\"mantissas\":[1,2,5],\"max_interval\":500.0,\"num_minor_ticks\":0},\"id\":\"4719\",\"type\":\"AdaptiveTicker\"},{\"attributes\":{},\"id\":\"4807\",\"type\":\"Selection\"},{\"attributes\":{\"base\":60,\"mantissas\":[1,2,5,10,15,20,30],\"max_interval\":1800000.0,\"min_interval\":1000.0,\"num_minor_ticks\":0},\"id\":\"4720\",\"type\":\"AdaptiveTicker\"},{\"attributes\":{\"base\":24,\"mantissas\":[1,2,4,6,8,12],\"max_interval\":43200000.0,\"min_interval\":3600000.0,\"num_minor_ticks\":0},\"id\":\"4721\",\"type\":\"AdaptiveTicker\"},{\"attributes\":{},\"id\":\"4730\",\"type\":\"YearsTicker\"},{\"attributes\":{\"months\":[0,1,2,3,4,5,6,7,8,9,10,11]},\"id\":\"4726\",\"type\":\"MonthsTicker\"},{\"attributes\":{\"days\":[1,15]},\"id\":\"4725\",\"type\":\"DaysTicker\"},{\"attributes\":{\"below\":[{\"id\":\"4569\"}],\"center\":[{\"id\":\"4572\"},{\"id\":\"4576\"}],\"height\":300,\"left\":[{\"id\":\"4573\"}],\"margin\":null,\"min_border_bottom\":10,\"min_border_left\":10,\"min_border_right\":10,\"min_border_top\":10,\"renderers\":[{\"id\":\"4602\"},{\"id\":\"4635\"}],\"right\":[{\"id\":\"4626\"}],\"sizing_mode\":\"fixed\",\"title\":{\"id\":\"4561\"},\"toolbar\":{\"id\":\"4583\"},\"toolbar_location\":null,\"width\":700,\"x_range\":{\"id\":\"4556\"},\"x_scale\":{\"id\":\"4565\"},\"y_range\":{\"id\":\"4557\"},\"y_scale\":{\"id\":\"4567\"}},\"id\":\"4560\",\"subtype\":\"Figure\",\"type\":\"Plot\"},{\"attributes\":{},\"id\":\"4581\",\"type\":\"ResetTool\"},{\"attributes\":{\"days\":[1,2,3,4,5,6,7,8,9,10,11,12,13,14,15,16,17,18,19,20,21,22,23,24,25,26,27,28,29,30,31]},\"id\":\"4722\",\"type\":\"DaysTicker\"},{\"attributes\":{\"line_alpha\":0.2,\"line_color\":\"#30a2da\",\"line_width\":2,\"x\":{\"field\":\"Date\"},\"y\":{\"field\":\"value\"}},\"id\":\"4811\",\"type\":\"Line\"},{\"attributes\":{\"days\":[1,4,7,10,13,16,19,22,25,28]},\"id\":\"4723\",\"type\":\"DaysTicker\"},{\"attributes\":{\"days\":[1,8,15,22]},\"id\":\"4724\",\"type\":\"DaysTicker\"},{\"attributes\":{\"months\":[0,6]},\"id\":\"4729\",\"type\":\"MonthsTicker\"},{\"attributes\":{\"months\":[0,2,4,6,8,10]},\"id\":\"4727\",\"type\":\"MonthsTicker\"},{\"attributes\":{\"line_color\":\"#30a2da\",\"line_width\":2,\"x\":{\"field\":\"Date\"},\"y\":{\"field\":\"value\"}},\"id\":\"4809\",\"type\":\"Line\"},{\"attributes\":{},\"id\":\"4597\",\"type\":\"Selection\"},{\"attributes\":{\"tools\":[{\"id\":\"4768\"},{\"id\":\"4787\"},{\"id\":\"4788\"},{\"id\":\"4789\"},{\"id\":\"4790\"},{\"id\":\"4791\"}]},\"id\":\"4793\",\"type\":\"Toolbar\"},{\"attributes\":{\"months\":[0,4,8]},\"id\":\"4728\",\"type\":\"MonthsTicker\"},{\"attributes\":{\"axis_label\":\"\",\"coordinates\":null,\"formatter\":{\"id\":\"4699\"},\"group\":null,\"major_label_policy\":{\"id\":\"4700\"},\"ticker\":{\"id\":\"4679\"}},\"id\":\"4678\",\"type\":\"LinearAxis\"},{\"attributes\":{\"source\":{\"id\":\"4806\"}},\"id\":\"4813\",\"type\":\"CDSView\"},{\"attributes\":{},\"id\":\"4592\",\"type\":\"AllLabels\"},{\"attributes\":{\"callback\":null,\"formatters\":{\"@{Date}\":\"datetime\"},\"renderers\":[{\"id\":\"4707\"},{\"id\":\"4740\"}],\"tags\":[\"hv_created\"],\"tooltips\":[[\"Variable\",\"@{Variable}\"],[\"Date\",\"@{Date}{%F %T}\"],[\"value\",\"@{value}\"]]},\"id\":\"4663\",\"type\":\"HoverTool\"},{\"attributes\":{\"coordinates\":null,\"data_source\":{\"id\":\"4806\"},\"glyph\":{\"id\":\"4809\"},\"group\":null,\"hover_glyph\":null,\"muted_glyph\":{\"id\":\"4811\"},\"nonselection_glyph\":{\"id\":\"4810\"},\"selection_glyph\":{\"id\":\"4838\"},\"view\":{\"id\":\"4813\"}},\"id\":\"4812\",\"type\":\"GlyphRenderer\"},{\"attributes\":{\"mantissas\":[1,2,5],\"max_interval\":500.0,\"num_minor_ticks\":0},\"id\":\"4824\",\"type\":\"AdaptiveTicker\"},{\"attributes\":{\"click_policy\":\"mute\",\"coordinates\":null,\"group\":null,\"items\":[{\"id\":\"4837\"},{\"id\":\"4871\"}],\"location\":[0,0],\"title\":\"Variable\"},\"id\":\"4836\",\"type\":\"Legend\"},{\"attributes\":{\"base\":60,\"mantissas\":[1,2,5,10,15,20,30],\"max_interval\":1800000.0,\"min_interval\":1000.0,\"num_minor_ticks\":0},\"id\":\"4825\",\"type\":\"AdaptiveTicker\"},{\"attributes\":{\"line_alpha\":0.1,\"line_color\":\"#30a2da\",\"line_width\":2,\"x\":{\"field\":\"Date\"},\"y\":{\"field\":\"value\"}},\"id\":\"4810\",\"type\":\"Line\"},{\"attributes\":{\"base\":24,\"mantissas\":[1,2,4,6,8,12],\"max_interval\":43200000.0,\"min_interval\":3600000.0,\"num_minor_ticks\":0},\"id\":\"4826\",\"type\":\"AdaptiveTicker\"},{\"attributes\":{},\"id\":\"4835\",\"type\":\"YearsTicker\"},{\"attributes\":{},\"id\":\"4670\",\"type\":\"LinearScale\"},{\"attributes\":{\"months\":[0,1,2,3,4,5,6,7,8,9,10,11]},\"id\":\"4831\",\"type\":\"MonthsTicker\"},{\"attributes\":{\"days\":[1,15]},\"id\":\"4830\",\"type\":\"DaysTicker\"},{\"attributes\":{\"coordinates\":null,\"group\":null,\"text_color\":\"black\",\"text_font_size\":\"12pt\"},\"id\":\"4666\",\"type\":\"Title\"},{\"attributes\":{\"line_color\":\"#30a2da\",\"line_width\":2,\"x\":{\"field\":\"Date\"},\"y\":{\"field\":\"value\"}},\"id\":\"4599\",\"type\":\"Line\"},{\"attributes\":{\"days\":[1,2,3,4,5,6,7,8,9,10,11,12,13,14,15,16,17,18,19,20,21,22,23,24,25,26,27,28,29,30,31]},\"id\":\"4827\",\"type\":\"DaysTicker\"},{\"attributes\":{\"days\":[1,4,7,10,13,16,19,22,25,28]},\"id\":\"4828\",\"type\":\"DaysTicker\"},{\"attributes\":{\"days\":[1,8,15,22]},\"id\":\"4829\",\"type\":\"DaysTicker\"},{\"attributes\":{\"months\":[0,6]},\"id\":\"4834\",\"type\":\"MonthsTicker\"},{\"attributes\":{\"children\":[{\"id\":\"4555\"},{\"id\":\"4951\"},{\"id\":\"5024\"}],\"margin\":[0,0,0,0],\"name\":\"Row03932\",\"tags\":[\"embedded\"]},\"id\":\"4554\",\"type\":\"Row\"},{\"attributes\":{\"months\":[0,2,4,6,8,10]},\"id\":\"4832\",\"type\":\"MonthsTicker\"},{\"attributes\":{},\"id\":\"4578\",\"type\":\"PanTool\"},{\"attributes\":{\"axis\":{\"id\":\"4674\"},\"coordinates\":null,\"grid_line_color\":null,\"group\":null,\"ticker\":null},\"id\":\"4677\",\"type\":\"Grid\"},{\"attributes\":{\"label\":{\"value\":\"FNGU Actual Adjusted Close\"},\"renderers\":[{\"id\":\"4812\"}]},\"id\":\"4837\",\"type\":\"LegendItem\"},{\"attributes\":{\"data\":{\"Date\":{\"__ndarray__\":\"AAAAKybid0IAAMCQeOJ3QgAAgPbK4ndCAABAXB3jd0IAAICNFOR3QgAAQPNm5HdCAAAAWbnkd0IAAMC+C+V3QgAAgCRe5XdCAACAu6fmd0IAAEAh+uZ3QgAAAIdM53dCAADA7J7nd0IAAAAeluh3QgAAwIPo6HdCAACA6Trpd0IAAEBPjel3QgAAALXf6XdCAABA5tbqd0IAAABMKet3QgAAwLF763dCAACAF87rd0IAAEB9IOx3QgAAgK4X7XdCAABAFGrtd0IAAAB6vO13QgAAwN8O7ndCAACARWHud0IAAMB2WO93QgAAgNyq73dCAABAQv3vd0IAAACoT/B3QgAAwA2i8HdCAADApOvxd0IAAIAKPvJ3QgAAQHCQ8ndCAAAA1uLyd0IAAEAH2vN3QgAAAG0s9HdCAADA0n70d0IAAIA40fR3QgAAQJ4j9XdCAACAzxr2d0IAAEA1bfZ3QgAAAJu/9ndCAADAABL3d0IAAIBmZPd3QgAAwJdb+HdCAACA/a34d0IAAEBjAPl3QgAAAMlS+XdCAADALqX5d0IAAABgnPp3QgAAwMXu+ndCAACAK0H7d0IAAECRk/t3QgAAAPfl+3dCAABAKN38d0IAAACOL/13QgAAwPOB/XdC\",\"dtype\":\"float64\",\"order\":\"little\",\"shape\":[60]},\"Variable\":[\"SPY Forecasted Adjusted Close\",\"SPY Forecasted Adjusted Close\",\"SPY Forecasted Adjusted Close\",\"SPY Forecasted Adjusted Close\",\"SPY Forecasted Adjusted Close\",\"SPY Forecasted Adjusted Close\",\"SPY Forecasted Adjusted Close\",\"SPY Forecasted Adjusted Close\",\"SPY Forecasted Adjusted Close\",\"SPY Forecasted Adjusted Close\",\"SPY Forecasted Adjusted Close\",\"SPY Forecasted Adjusted Close\",\"SPY Forecasted Adjusted Close\",\"SPY Forecasted Adjusted Close\",\"SPY Forecasted Adjusted Close\",\"SPY Forecasted Adjusted Close\",\"SPY Forecasted Adjusted Close\",\"SPY Forecasted Adjusted Close\",\"SPY Forecasted Adjusted Close\",\"SPY Forecasted Adjusted Close\",\"SPY Forecasted Adjusted Close\",\"SPY Forecasted Adjusted Close\",\"SPY Forecasted Adjusted Close\",\"SPY Forecasted Adjusted Close\",\"SPY Forecasted Adjusted Close\",\"SPY Forecasted Adjusted Close\",\"SPY Forecasted Adjusted Close\",\"SPY Forecasted Adjusted Close\",\"SPY Forecasted Adjusted Close\",\"SPY Forecasted Adjusted Close\",\"SPY Forecasted Adjusted Close\",\"SPY Forecasted Adjusted Close\",\"SPY Forecasted Adjusted Close\",\"SPY Forecasted Adjusted Close\",\"SPY Forecasted Adjusted Close\",\"SPY Forecasted Adjusted Close\",\"SPY Forecasted Adjusted Close\",\"SPY Forecasted Adjusted Close\",\"SPY Forecasted Adjusted Close\",\"SPY Forecasted Adjusted Close\",\"SPY Forecasted Adjusted Close\",\"SPY Forecasted Adjusted Close\",\"SPY Forecasted Adjusted Close\",\"SPY Forecasted Adjusted Close\",\"SPY Forecasted Adjusted Close\",\"SPY Forecasted Adjusted Close\",\"SPY Forecasted Adjusted Close\",\"SPY Forecasted Adjusted Close\",\"SPY Forecasted Adjusted Close\",\"SPY Forecasted Adjusted Close\",\"SPY Forecasted Adjusted Close\",\"SPY Forecasted Adjusted Close\",\"SPY Forecasted Adjusted Close\",\"SPY Forecasted Adjusted Close\",\"SPY Forecasted Adjusted Close\",\"SPY Forecasted Adjusted Close\",\"SPY Forecasted Adjusted Close\",\"SPY Forecasted Adjusted Close\",\"SPY Forecasted Adjusted Close\",\"SPY Forecasted Adjusted Close\"],\"value\":{\"__ndarray__\":\"VtDAwcB3wcGBIsTB1eTHwS9WzMGF1dDBmYDUwQAP2MEla9zBfdzgwUDi5cHULOvBaj3wwaDp9cGbCPvBRRgAwgW4AsKYhQXCPuoHwpgeCcLpXwnCeosJwpMiCsIjdArClaQKwrzACsJ/WQrCVfoJwm3dCcLh9gnCaLMJwr2OCcJRDwrCYU0Lwq8ODcLhTQ/CHRkRwmRDEsLOqhLCKuASwrcIE8JPrRPCzukUwvGrFsKiihjCXPoZwu9ZG8IzEx3CukYfwjtWIcJ4fiLCDLgiwm8LIsJ4HiHCPLkfwgRRHsIp5RzCR8sbwsOgGsLg+hjC\",\"dtype\":\"float32\",\"order\":\"little\",\"shape\":[60]}},\"selected\":{\"id\":\"4735\"},\"selection_policy\":{\"id\":\"4751\"}},\"id\":\"4734\",\"type\":\"ColumnDataSource\"},{\"attributes\":{\"num_minor_ticks\":5,\"tickers\":[{\"id\":\"4719\"},{\"id\":\"4720\"},{\"id\":\"4721\"},{\"id\":\"4722\"},{\"id\":\"4723\"},{\"id\":\"4724\"},{\"id\":\"4725\"},{\"id\":\"4726\"},{\"id\":\"4727\"},{\"id\":\"4728\"},{\"id\":\"4729\"},{\"id\":\"4730\"}]},\"id\":\"4675\",\"type\":\"DatetimeTicker\"},{\"attributes\":{\"months\":[0,4,8]},\"id\":\"4833\",\"type\":\"MonthsTicker\"},{\"attributes\":{},\"id\":\"4565\",\"type\":\"LinearScale\"},{\"attributes\":{\"axis_label\":\"Date\",\"coordinates\":null,\"formatter\":{\"id\":\"4696\"},\"group\":null,\"major_label_policy\":{\"id\":\"4697\"},\"ticker\":{\"id\":\"4675\"}},\"id\":\"4674\",\"type\":\"DatetimeAxis\"},{\"attributes\":{},\"id\":\"4672\",\"type\":\"LinearScale\"},{\"attributes\":{},\"id\":\"4567\",\"type\":\"LinearScale\"},{\"attributes\":{\"axis\":{\"id\":\"4569\"},\"coordinates\":null,\"grid_line_color\":null,\"group\":null,\"ticker\":null},\"id\":\"4572\",\"type\":\"Grid\"},{\"attributes\":{},\"id\":\"4683\",\"type\":\"PanTool\"},{\"attributes\":{\"toolbars\":[{\"id\":\"4583\"},{\"id\":\"4688\"},{\"id\":\"4793\"}],\"tools\":[{\"id\":\"4558\"},{\"id\":\"4577\"},{\"id\":\"4578\"},{\"id\":\"4579\"},{\"id\":\"4580\"},{\"id\":\"4581\"},{\"id\":\"4663\"},{\"id\":\"4682\"},{\"id\":\"4683\"},{\"id\":\"4684\"},{\"id\":\"4685\"},{\"id\":\"4686\"},{\"id\":\"4768\"},{\"id\":\"4787\"},{\"id\":\"4788\"},{\"id\":\"4789\"},{\"id\":\"4790\"},{\"id\":\"4791\"}]},\"id\":\"4949\",\"type\":\"ProxyToolbar\"},{\"attributes\":{\"axis\":{\"id\":\"4678\"},\"coordinates\":null,\"dimension\":1,\"grid_line_color\":null,\"group\":null,\"ticker\":null},\"id\":\"4681\",\"type\":\"Grid\"},{\"attributes\":{\"tools\":[{\"id\":\"4558\"},{\"id\":\"4577\"},{\"id\":\"4578\"},{\"id\":\"4579\"},{\"id\":\"4580\"},{\"id\":\"4581\"}]},\"id\":\"4583\",\"type\":\"Toolbar\"},{\"attributes\":{},\"id\":\"4679\",\"type\":\"BasicTicker\"},{\"attributes\":{},\"id\":\"4684\",\"type\":\"WheelZoomTool\"},{\"attributes\":{},\"id\":\"4591\",\"type\":\"DatetimeTickFormatter\"},{\"attributes\":{},\"id\":\"4579\",\"type\":\"WheelZoomTool\"},{\"attributes\":{\"bottom_units\":\"screen\",\"coordinates\":null,\"fill_alpha\":0.5,\"fill_color\":\"lightgrey\",\"group\":null,\"left_units\":\"screen\",\"level\":\"overlay\",\"line_alpha\":1.0,\"line_color\":\"black\",\"line_dash\":[4,4],\"line_width\":2,\"right_units\":\"screen\",\"syncable\":false,\"top_units\":\"screen\"},\"id\":\"4687\",\"type\":\"BoxAnnotation\"},{\"attributes\":{},\"id\":\"4682\",\"type\":\"SaveTool\"},{\"attributes\":{\"overlay\":{\"id\":\"4687\"}},\"id\":\"4685\",\"type\":\"BoxZoomTool\"},{\"attributes\":{},\"id\":\"4686\",\"type\":\"ResetTool\"},{\"attributes\":{},\"id\":\"4804\",\"type\":\"BasicTickFormatter\"},{\"attributes\":{},\"id\":\"4801\",\"type\":\"DatetimeTickFormatter\"},{\"attributes\":{},\"id\":\"4805\",\"type\":\"AllLabels\"},{\"attributes\":{},\"id\":\"4630\",\"type\":\"Selection\"},{\"attributes\":{\"coordinates\":null,\"data_source\":{\"id\":\"4596\"},\"glyph\":{\"id\":\"4599\"},\"group\":null,\"hover_glyph\":null,\"muted_glyph\":{\"id\":\"4601\"},\"nonselection_glyph\":{\"id\":\"4600\"},\"selection_glyph\":{\"id\":\"4628\"},\"view\":{\"id\":\"4603\"}},\"id\":\"4602\",\"type\":\"GlyphRenderer\"},{\"attributes\":{},\"id\":\"4702\",\"type\":\"Selection\"},{\"attributes\":{\"mantissas\":[1,2,5],\"max_interval\":500.0,\"num_minor_ticks\":0},\"id\":\"4614\",\"type\":\"AdaptiveTicker\"},{\"attributes\":{\"data\":{\"Date\":{\"__ndarray__\":\"AAAAKybid0IAAMCQeOJ3QgAAgPbK4ndCAABAXB3jd0IAAICNFOR3QgAAQPNm5HdCAAAAWbnkd0IAAMC+C+V3QgAAgCRe5XdCAACAu6fmd0IAAEAh+uZ3QgAAAIdM53dCAADA7J7nd0IAAAAeluh3QgAAwIPo6HdCAACA6Trpd0IAAEBPjel3QgAAALXf6XdCAABA5tbqd0IAAABMKet3QgAAwLF763dCAACAF87rd0IAAEB9IOx3QgAAgK4X7XdCAABAFGrtd0IAAAB6vO13QgAAwN8O7ndCAACARWHud0IAAMB2WO93QgAAgNyq73dCAABAQv3vd0IAAACoT/B3QgAAwA2i8HdCAADApOvxd0IAAIAKPvJ3QgAAQHCQ8ndCAAAA1uLyd0IAAEAH2vN3QgAAAG0s9HdCAADA0n70d0IAAIA40fR3QgAAQJ4j9XdCAACAzxr2d0IAAEA1bfZ3QgAAAJu/9ndCAADAABL3d0IAAIBmZPd3QgAAwJdb+HdCAACA/a34d0IAAEBjAPl3QgAAAMlS+XdCAADALqX5d0IAAABgnPp3QgAAwMXu+ndCAACAK0H7d0IAAECRk/t3QgAAAPfl+3dCAABAKN38d0IAAACOL/13QgAAwPOB/XdC\",\"dtype\":\"float64\",\"order\":\"little\",\"shape\":[60]},\"Variable\":[\"ARKK Actual Adjusted Close\",\"ARKK Actual Adjusted Close\",\"ARKK Actual Adjusted Close\",\"ARKK Actual Adjusted Close\",\"ARKK Actual Adjusted Close\",\"ARKK Actual Adjusted Close\",\"ARKK Actual Adjusted Close\",\"ARKK Actual Adjusted Close\",\"ARKK Actual Adjusted Close\",\"ARKK Actual Adjusted Close\",\"ARKK Actual Adjusted Close\",\"ARKK Actual Adjusted Close\",\"ARKK Actual Adjusted Close\",\"ARKK Actual Adjusted Close\",\"ARKK Actual Adjusted Close\",\"ARKK Actual Adjusted Close\",\"ARKK Actual Adjusted Close\",\"ARKK Actual Adjusted Close\",\"ARKK Actual Adjusted Close\",\"ARKK Actual Adjusted Close\",\"ARKK Actual Adjusted Close\",\"ARKK Actual Adjusted Close\",\"ARKK Actual Adjusted Close\",\"ARKK Actual Adjusted Close\",\"ARKK Actual Adjusted Close\",\"ARKK Actual Adjusted Close\",\"ARKK Actual Adjusted Close\",\"ARKK Actual Adjusted Close\",\"ARKK Actual Adjusted Close\",\"ARKK Actual Adjusted Close\",\"ARKK Actual Adjusted Close\",\"ARKK Actual Adjusted Close\",\"ARKK Actual Adjusted Close\",\"ARKK Actual Adjusted Close\",\"ARKK Actual Adjusted Close\",\"ARKK Actual Adjusted Close\",\"ARKK Actual Adjusted Close\",\"ARKK Actual Adjusted Close\",\"ARKK Actual Adjusted Close\",\"ARKK Actual Adjusted Close\",\"ARKK Actual Adjusted Close\",\"ARKK Actual Adjusted Close\",\"ARKK Actual Adjusted Close\",\"ARKK Actual Adjusted Close\",\"ARKK Actual Adjusted Close\",\"ARKK Actual Adjusted Close\",\"ARKK Actual Adjusted Close\",\"ARKK Actual Adjusted Close\",\"ARKK Actual Adjusted Close\",\"ARKK Actual Adjusted Close\",\"ARKK Actual Adjusted Close\",\"ARKK Actual Adjusted Close\",\"ARKK Actual Adjusted Close\",\"ARKK Actual Adjusted Close\",\"ARKK Actual Adjusted Close\",\"ARKK Actual Adjusted Close\",\"ARKK Actual Adjusted Close\",\"ARKK Actual Adjusted Close\",\"ARKK Actual Adjusted Close\",\"ARKK Actual Adjusted Close\"],\"value\":{\"__ndarray__\":\"XI/C9SgsV0BI4XoUrodVQIXrUbgeZVVAexSuR+EaVUApXI/C9ShVQB+F61G4vlVApHA9CtcjVUAfhetRuP5TQI/C9ShcD1RACtejcD06U0AAAAAAAPBSQEjhehSu91JA4XoUrkfhUUDD9Shcj2JSQDMzMzMzs1FAUrgehetBUUCF61G4HpVQQArXo3A9OlFA7FG4HoXbUkCF61G4HkVTQClcj8L1SFJAw/UoXI9CUUAAAAAAADBSQB+F61G4HlJAKVyPwvUYUkDXo3A9CgdTQHE9CtejcFJAmpmZmZn5UUApXI/C9dhRQFK4HoXr0VJASOF6FK43UkDsUbgehQtRQDMzMzMzM1BAUrgeheuxT0BxPQrXo3BOQEjhehSuZ1BAFK5H4Xr0UECuR+F6FJ5RQKRwPQrXE1FApHA9CtfjUEDhehSuR6FPQD0K16NwHU5AZmZmZmYGTUCPwvUoXE9NQHsUrkfh2k5AhetRuB7FTUAK16NwPcpLQIXrUbgeJUpAUrgehesxS0CF61G4HgVOQNejcD0Kd09A4XoUrkdxUEA9CtejcP1PQK5H4XoUvlBAexSuR+FqUECamZmZmZlQQHE9CtejIFBApHA9CtfDUEApXI/C9dhRQOxRuB6FK1FA\",\"dtype\":\"float64\",\"order\":\"little\",\"shape\":[60]}},\"selected\":{\"id\":\"4597\"},\"selection_policy\":{\"id\":\"4611\"}},\"id\":\"4596\",\"type\":\"ColumnDataSource\"},{\"attributes\":{\"line_color\":\"#fc4f30\",\"line_width\":2,\"x\":{\"field\":\"Date\"},\"y\":{\"field\":\"value\"}},\"id\":\"4872\",\"type\":\"Line\"},{\"attributes\":{},\"id\":\"4696\",\"type\":\"DatetimeTickFormatter\"},{\"attributes\":{\"base\":60,\"mantissas\":[1,2,5,10,15,20,30],\"max_interval\":1800000.0,\"min_interval\":1000.0,\"num_minor_ticks\":0},\"id\":\"4615\",\"type\":\"AdaptiveTicker\"},{\"attributes\":{\"base\":24,\"mantissas\":[1,2,4,6,8,12],\"max_interval\":43200000.0,\"min_interval\":3600000.0,\"num_minor_ticks\":0},\"id\":\"4616\",\"type\":\"AdaptiveTicker\"},{\"attributes\":{},\"id\":\"4625\",\"type\":\"YearsTicker\"},{\"attributes\":{\"months\":[0,1,2,3,4,5,6,7,8,9,10,11]},\"id\":\"4621\",\"type\":\"MonthsTicker\"},{\"attributes\":{\"num_minor_ticks\":5,\"tickers\":[{\"id\":\"4614\"},{\"id\":\"4615\"},{\"id\":\"4616\"},{\"id\":\"4617\"},{\"id\":\"4618\"},{\"id\":\"4619\"},{\"id\":\"4620\"},{\"id\":\"4621\"},{\"id\":\"4622\"},{\"id\":\"4623\"},{\"id\":\"4624\"},{\"id\":\"4625\"}]},\"id\":\"4570\",\"type\":\"DatetimeTicker\"},{\"attributes\":{\"days\":[1,15]},\"id\":\"4620\",\"type\":\"DaysTicker\"},{\"attributes\":{\"days\":[1,2,3,4,5,6,7,8,9,10,11,12,13,14,15,16,17,18,19,20,21,22,23,24,25,26,27,28,29,30,31]},\"id\":\"4617\",\"type\":\"DaysTicker\"},{\"attributes\":{\"line_alpha\":0.2,\"line_color\":\"#fc4f30\",\"line_width\":2,\"x\":{\"field\":\"Date\"},\"y\":{\"field\":\"value\"}},\"id\":\"4739\",\"type\":\"Line\"},{\"attributes\":{\"days\":[1,4,7,10,13,16,19,22,25,28]},\"id\":\"4618\",\"type\":\"DaysTicker\"},{\"attributes\":{\"days\":[1,8,15,22]},\"id\":\"4619\",\"type\":\"DaysTicker\"},{\"attributes\":{\"line_color\":\"#30a2da\",\"line_width\":2,\"x\":{\"field\":\"Date\"},\"y\":{\"field\":\"value\"}},\"id\":\"4733\",\"type\":\"Line\"},{\"attributes\":{\"months\":[0,6]},\"id\":\"4624\",\"type\":\"MonthsTicker\"},{\"attributes\":{},\"id\":\"4697\",\"type\":\"AllLabels\"},{\"attributes\":{\"months\":[0,2,4,6,8,10]},\"id\":\"4622\",\"type\":\"MonthsTicker\"},{\"attributes\":{},\"id\":\"4699\",\"type\":\"BasicTickFormatter\"},{\"attributes\":{\"source\":{\"id\":\"4596\"}},\"id\":\"4603\",\"type\":\"CDSView\"},{\"attributes\":{},\"id\":\"4700\",\"type\":\"AllLabels\"},{\"attributes\":{\"months\":[0,4,8]},\"id\":\"4623\",\"type\":\"MonthsTicker\"},{\"attributes\":{\"line_alpha\":0.1,\"line_color\":\"#fc4f30\",\"line_width\":2,\"x\":{\"field\":\"Date\"},\"y\":{\"field\":\"value\"}},\"id\":\"4738\",\"type\":\"Line\"},{\"attributes\":{\"margin\":[5,5,5,5],\"name\":\"HSpacer03937\",\"sizing_mode\":\"stretch_width\"},\"id\":\"5024\",\"type\":\"Spacer\"},{\"attributes\":{\"line_color\":\"#fc4f30\",\"line_width\":2,\"x\":{\"field\":\"Date\"},\"y\":{\"field\":\"value\"}},\"id\":\"4737\",\"type\":\"Line\"},{\"attributes\":{\"margin\":[5,5,5,5],\"name\":\"HSpacer03936\",\"sizing_mode\":\"stretch_width\"},\"id\":\"4555\",\"type\":\"Spacer\"},{\"attributes\":{\"end\":520.9909733276368,\"reset_end\":520.9909733276368,\"reset_start\":-91.74070660400392,\"start\":-91.74070660400392,\"tags\":[[[\"value\",\"value\",null]]]},\"id\":\"4557\",\"type\":\"Range1d\"},{\"attributes\":{},\"id\":\"4594\",\"type\":\"BasicTickFormatter\"},{\"attributes\":{\"source\":{\"id\":\"4734\"}},\"id\":\"4741\",\"type\":\"CDSView\"},{\"attributes\":{\"line_alpha\":0.1,\"line_color\":\"#30a2da\",\"line_width\":2,\"x\":{\"field\":\"Date\"},\"y\":{\"field\":\"value\"}},\"id\":\"4705\",\"type\":\"Line\"},{\"attributes\":{},\"id\":\"4735\",\"type\":\"Selection\"},{\"attributes\":{\"line_color\":\"#fc4f30\",\"line_width\":2,\"x\":{\"field\":\"Date\"},\"y\":{\"field\":\"value\"}},\"id\":\"4767\",\"type\":\"Line\"},{\"attributes\":{\"label\":{\"value\":\"SPY Actual Adjusted Close\"},\"renderers\":[{\"id\":\"4707\"}]},\"id\":\"4732\",\"type\":\"LegendItem\"},{\"attributes\":{\"coordinates\":null,\"data_source\":{\"id\":\"4734\"},\"glyph\":{\"id\":\"4737\"},\"group\":null,\"hover_glyph\":null,\"muted_glyph\":{\"id\":\"4739\"},\"nonselection_glyph\":{\"id\":\"4738\"},\"selection_glyph\":{\"id\":\"4767\"},\"view\":{\"id\":\"4741\"}},\"id\":\"4740\",\"type\":\"GlyphRenderer\"},{\"attributes\":{\"below\":[{\"id\":\"4779\"}],\"center\":[{\"id\":\"4782\"},{\"id\":\"4786\"}],\"height\":300,\"left\":[{\"id\":\"4783\"}],\"margin\":null,\"min_border_bottom\":10,\"min_border_left\":10,\"min_border_right\":10,\"min_border_top\":10,\"renderers\":[{\"id\":\"4812\"},{\"id\":\"4845\"}],\"right\":[{\"id\":\"4836\"}],\"sizing_mode\":\"fixed\",\"title\":{\"id\":\"4771\"},\"toolbar\":{\"id\":\"4793\"},\"toolbar_location\":null,\"width\":700,\"x_range\":{\"id\":\"4556\"},\"x_scale\":{\"id\":\"4775\"},\"y_range\":{\"id\":\"4557\"},\"y_scale\":{\"id\":\"4777\"}},\"id\":\"4770\",\"subtype\":\"Figure\",\"type\":\"Plot\"},{\"attributes\":{\"label\":{\"value\":\"SPY Forecasted Adjusted Close\"},\"renderers\":[{\"id\":\"4740\"}]},\"id\":\"4766\",\"type\":\"LegendItem\"},{\"attributes\":{\"children\":[{\"id\":\"4950\"},{\"id\":\"4948\"}]},\"id\":\"4951\",\"type\":\"Column\"},{\"attributes\":{\"callback\":null,\"formatters\":{\"@{Date}\":\"datetime\"},\"renderers\":[{\"id\":\"4812\"},{\"id\":\"4845\"}],\"tags\":[\"hv_created\"],\"tooltips\":[[\"Variable\",\"@{Variable}\"],[\"Date\",\"@{Date}{%F %T}\"],[\"value\",\"@{value}\"]]},\"id\":\"4768\",\"type\":\"HoverTool\"},{\"attributes\":{},\"id\":\"4775\",\"type\":\"LinearScale\"},{\"attributes\":{\"toolbar\":{\"id\":\"4949\"},\"toolbar_location\":\"above\"},\"id\":\"4950\",\"type\":\"ToolbarBox\"},{\"attributes\":{\"line_alpha\":0.1,\"line_color\":\"#30a2da\",\"line_width\":2,\"x\":{\"field\":\"Date\"},\"y\":{\"field\":\"value\"}},\"id\":\"4600\",\"type\":\"Line\"},{\"attributes\":{},\"id\":\"4574\",\"type\":\"BasicTicker\"},{\"attributes\":{\"line_alpha\":0.2,\"line_color\":\"#30a2da\",\"line_width\":2,\"x\":{\"field\":\"Date\"},\"y\":{\"field\":\"value\"}},\"id\":\"4706\",\"type\":\"Line\"},{\"attributes\":{\"source\":{\"id\":\"4701\"}},\"id\":\"4708\",\"type\":\"CDSView\"},{\"attributes\":{\"line_alpha\":0.2,\"line_color\":\"#fc4f30\",\"line_width\":2,\"x\":{\"field\":\"Date\"},\"y\":{\"field\":\"value\"}},\"id\":\"4844\",\"type\":\"Line\"},{\"attributes\":{},\"id\":\"4751\",\"type\":\"UnionRenderers\"},{\"attributes\":{\"line_color\":\"#30a2da\",\"line_width\":2,\"x\":{\"field\":\"Date\"},\"y\":{\"field\":\"value\"}},\"id\":\"4704\",\"type\":\"Line\"},{\"attributes\":{\"line_color\":\"#30a2da\",\"line_width\":2,\"x\":{\"field\":\"Date\"},\"y\":{\"field\":\"value\"}},\"id\":\"4838\",\"type\":\"Line\"},{\"attributes\":{\"coordinates\":null,\"data_source\":{\"id\":\"4701\"},\"glyph\":{\"id\":\"4704\"},\"group\":null,\"hover_glyph\":null,\"muted_glyph\":{\"id\":\"4706\"},\"nonselection_glyph\":{\"id\":\"4705\"},\"selection_glyph\":{\"id\":\"4733\"},\"view\":{\"id\":\"4708\"}},\"id\":\"4707\",\"type\":\"GlyphRenderer\"},{\"attributes\":{\"click_policy\":\"mute\",\"coordinates\":null,\"group\":null,\"items\":[{\"id\":\"4732\"},{\"id\":\"4766\"}],\"location\":[0,0],\"title\":\"Variable\"},\"id\":\"4731\",\"type\":\"Legend\"},{\"attributes\":{\"line_alpha\":0.1,\"line_color\":\"#fc4f30\",\"line_width\":2,\"x\":{\"field\":\"Date\"},\"y\":{\"field\":\"value\"}},\"id\":\"4843\",\"type\":\"Line\"},{\"attributes\":{\"line_color\":\"#fc4f30\",\"line_width\":2,\"x\":{\"field\":\"Date\"},\"y\":{\"field\":\"value\"}},\"id\":\"4842\",\"type\":\"Line\"},{\"attributes\":{\"axis\":{\"id\":\"4573\"},\"coordinates\":null,\"dimension\":1,\"grid_line_color\":null,\"group\":null,\"ticker\":null},\"id\":\"4576\",\"type\":\"Grid\"},{\"attributes\":{\"source\":{\"id\":\"4839\"}},\"id\":\"4846\",\"type\":\"CDSView\"},{\"attributes\":{},\"id\":\"4611\",\"type\":\"UnionRenderers\"},{\"attributes\":{\"end\":1648598400000.0,\"reset_end\":1648598400000.0,\"reset_start\":1641254400000.0,\"start\":1641254400000.0,\"tags\":[[[\"Date\",\"Date\",null]]]},\"id\":\"4556\",\"type\":\"Range1d\"},{\"attributes\":{},\"id\":\"4840\",\"type\":\"Selection\"},{\"attributes\":{\"coordinates\":null,\"data_source\":{\"id\":\"4839\"},\"glyph\":{\"id\":\"4842\"},\"group\":null,\"hover_glyph\":null,\"muted_glyph\":{\"id\":\"4844\"},\"nonselection_glyph\":{\"id\":\"4843\"},\"selection_glyph\":{\"id\":\"4872\"},\"view\":{\"id\":\"4846\"}},\"id\":\"4845\",\"type\":\"GlyphRenderer\"},{\"attributes\":{},\"id\":\"4595\",\"type\":\"AllLabels\"},{\"attributes\":{\"axis_label\":\"\",\"coordinates\":null,\"formatter\":{\"id\":\"4594\"},\"group\":null,\"major_label_policy\":{\"id\":\"4595\"},\"ticker\":{\"id\":\"4574\"}},\"id\":\"4573\",\"type\":\"LinearAxis\"},{\"attributes\":{\"label\":{\"value\":\"FNGU Forecasted Adjusted Close\"},\"renderers\":[{\"id\":\"4845\"}]},\"id\":\"4871\",\"type\":\"LegendItem\"},{\"attributes\":{\"children\":[[{\"id\":\"4560\"},0,0],[{\"id\":\"4665\"},0,1],[{\"id\":\"4770\"},0,2]]},\"id\":\"4948\",\"type\":\"GridBox\"},{\"attributes\":{\"line_alpha\":0.2,\"line_color\":\"#30a2da\",\"line_width\":2,\"x\":{\"field\":\"Date\"},\"y\":{\"field\":\"value\"}},\"id\":\"4601\",\"type\":\"Line\"},{\"attributes\":{},\"id\":\"4856\",\"type\":\"UnionRenderers\"},{\"attributes\":{\"data\":{\"Date\":{\"__ndarray__\":\"AAAAKybid0IAAMCQeOJ3QgAAgPbK4ndCAABAXB3jd0IAAICNFOR3QgAAQPNm5HdCAAAAWbnkd0IAAMC+C+V3QgAAgCRe5XdCAACAu6fmd0IAAEAh+uZ3QgAAAIdM53dCAADA7J7nd0IAAAAeluh3QgAAwIPo6HdCAACA6Trpd0IAAEBPjel3QgAAALXf6XdCAABA5tbqd0IAAABMKet3QgAAwLF763dCAACAF87rd0IAAEB9IOx3QgAAgK4X7XdCAABAFGrtd0IAAAB6vO13QgAAwN8O7ndCAACARWHud0IAAMB2WO93QgAAgNyq73dCAABAQv3vd0IAAACoT/B3QgAAwA2i8HdCAADApOvxd0IAAIAKPvJ3QgAAQHCQ8ndCAAAA1uLyd0IAAEAH2vN3QgAAAG0s9HdCAADA0n70d0IAAIA40fR3QgAAQJ4j9XdCAACAzxr2d0IAAEA1bfZ3QgAAAJu/9ndCAADAABL3d0IAAIBmZPd3QgAAwJdb+HdCAACA/a34d0IAAEBjAPl3QgAAAMlS+XdCAADALqX5d0IAAABgnPp3QgAAwMXu+ndCAACAK0H7d0IAAECRk/t3QgAAAPfl+3dCAABAKN38d0IAAACOL/13QgAAwPOB/XdC\",\"dtype\":\"float64\",\"order\":\"little\",\"shape\":[60]},\"Variable\":[\"FNGU Actual Adjusted Close\",\"FNGU Actual Adjusted Close\",\"FNGU Actual Adjusted Close\",\"FNGU Actual Adjusted Close\",\"FNGU Actual Adjusted Close\",\"FNGU Actual Adjusted Close\",\"FNGU Actual Adjusted Close\",\"FNGU Actual Adjusted Close\",\"FNGU Actual Adjusted Close\",\"FNGU Actual Adjusted Close\",\"FNGU Actual Adjusted Close\",\"FNGU Actual Adjusted Close\",\"FNGU Actual Adjusted Close\",\"FNGU Actual Adjusted Close\",\"FNGU Actual Adjusted Close\",\"FNGU Actual Adjusted Close\",\"FNGU Actual Adjusted Close\",\"FNGU Actual Adjusted Close\",\"FNGU Actual Adjusted Close\",\"FNGU Actual Adjusted Close\",\"FNGU Actual Adjusted Close\",\"FNGU Actual Adjusted Close\",\"FNGU Actual Adjusted Close\",\"FNGU Actual Adjusted Close\",\"FNGU Actual Adjusted Close\",\"FNGU Actual Adjusted Close\",\"FNGU Actual Adjusted Close\",\"FNGU Actual Adjusted Close\",\"FNGU Actual Adjusted Close\",\"FNGU Actual Adjusted Close\",\"FNGU Actual Adjusted Close\",\"FNGU Actual Adjusted Close\",\"FNGU Actual Adjusted Close\",\"FNGU Actual Adjusted Close\",\"FNGU Actual Adjusted Close\",\"FNGU Actual Adjusted Close\",\"FNGU Actual Adjusted Close\",\"FNGU Actual Adjusted Close\",\"FNGU Actual Adjusted Close\",\"FNGU Actual Adjusted Close\",\"FNGU Actual Adjusted Close\",\"FNGU Actual Adjusted Close\",\"FNGU Actual Adjusted Close\",\"FNGU Actual Adjusted Close\",\"FNGU Actual Adjusted Close\",\"FNGU Actual Adjusted Close\",\"FNGU Actual Adjusted Close\",\"FNGU Actual Adjusted Close\",\"FNGU Actual Adjusted Close\",\"FNGU Actual Adjusted Close\",\"FNGU Actual Adjusted Close\",\"FNGU Actual Adjusted Close\",\"FNGU Actual Adjusted Close\",\"FNGU Actual Adjusted Close\",\"FNGU Actual Adjusted Close\",\"FNGU Actual Adjusted Close\",\"FNGU Actual Adjusted Close\",\"FNGU Actual Adjusted Close\",\"FNGU Actual Adjusted Close\",\"FNGU Actual Adjusted Close\"],\"value\":{\"__ndarray__\":\"ZmZmZmbGd0BmZmZmZm51QJqZmZmZ0XVAZmZmZmZmdUAzMzMzM4N1QJqZmZmZeXZAMzMzMzNLd0AzMzMzM9N0QAAAAAAAaHVAMzMzMzPTc0DNzMzMzERzQAAAAAAAKHNAZmZmZmYWcEAzMzMzMzNvQGZmZmZmNm1AAAAAAADwbEDNzMzMzIxrQJqZmZmZCW5AmpmZmZmhcUCamZmZmTlyQDMzMzMzK3JAAAAAAACQbkAAAAAAAChwQJqZmZmZaW5AmpmZmZkRcEAAAAAAAEBxQAAAAAAAMHBAAAAAAABAbUBmZmZmZrZtQAAAAAAAMHBAZmZmZmY+cEAAAAAAAFBtQJqZmZmZiWtAZmZmZmaGaUDNzMzMzBxnQJqZmZmZWWlAzczMzMw8akAzMzMzM8NqQDMzMzMzc2pAAAAAAAAAa0DNzMzMzAxpQGZmZmZmhmdAMzMzMzOjZEAAAAAAADBkQDMzMzMz42ZAZmZmZmaGZUAzMzMzM9NiQJqZmZmZqWBAmpmZmZkJYkBmZmZmZqZnQAAAAAAAEGhAmpmZmZmZakAAAAAAAABqQJqZmZmZ2WxAzczMzMxMbEAAAAAAAIBtQM3MzMzMLG1AAAAAAADgbkAzMzMzMxtwQAAAAAAA8G5A\",\"dtype\":\"float64\",\"order\":\"little\",\"shape\":[60]}},\"selected\":{\"id\":\"4807\"},\"selection_policy\":{\"id\":\"4821\"}},\"id\":\"4806\",\"type\":\"ColumnDataSource\"},{\"attributes\":{\"label\":{\"value\":\"ARKK Actual Adjusted Close\"},\"renderers\":[{\"id\":\"4602\"}]},\"id\":\"4627\",\"type\":\"LegendItem\"},{\"attributes\":{\"click_policy\":\"mute\",\"coordinates\":null,\"group\":null,\"items\":[{\"id\":\"4627\"},{\"id\":\"4661\"}],\"location\":[0,0],\"title\":\"Variable\"},\"id\":\"4626\",\"type\":\"Legend\"},{\"attributes\":{\"below\":[{\"id\":\"4674\"}],\"center\":[{\"id\":\"4677\"},{\"id\":\"4681\"}],\"height\":300,\"left\":[{\"id\":\"4678\"}],\"margin\":null,\"min_border_bottom\":10,\"min_border_left\":10,\"min_border_right\":10,\"min_border_top\":10,\"renderers\":[{\"id\":\"4707\"},{\"id\":\"4740\"}],\"right\":[{\"id\":\"4731\"}],\"sizing_mode\":\"fixed\",\"title\":{\"id\":\"4666\"},\"toolbar\":{\"id\":\"4688\"},\"toolbar_location\":null,\"width\":700,\"x_range\":{\"id\":\"4556\"},\"x_scale\":{\"id\":\"4670\"},\"y_range\":{\"id\":\"4557\"},\"y_scale\":{\"id\":\"4672\"}},\"id\":\"4665\",\"subtype\":\"Figure\",\"type\":\"Plot\"},{\"attributes\":{\"coordinates\":null,\"group\":null,\"text_color\":\"black\",\"text_font_size\":\"12pt\"},\"id\":\"4561\",\"type\":\"Title\"},{\"attributes\":{\"data\":{\"Date\":{\"__ndarray__\":\"AAAAKybid0IAAMCQeOJ3QgAAgPbK4ndCAABAXB3jd0IAAICNFOR3QgAAQPNm5HdCAAAAWbnkd0IAAMC+C+V3QgAAgCRe5XdCAACAu6fmd0IAAEAh+uZ3QgAAAIdM53dCAADA7J7nd0IAAAAeluh3QgAAwIPo6HdCAACA6Trpd0IAAEBPjel3QgAAALXf6XdCAABA5tbqd0IAAABMKet3QgAAwLF763dCAACAF87rd0IAAEB9IOx3QgAAgK4X7XdCAABAFGrtd0IAAAB6vO13QgAAwN8O7ndCAACARWHud0IAAMB2WO93QgAAgNyq73dCAABAQv3vd0IAAACoT/B3QgAAwA2i8HdCAADApOvxd0IAAIAKPvJ3QgAAQHCQ8ndCAAAA1uLyd0IAAEAH2vN3QgAAAG0s9HdCAADA0n70d0IAAIA40fR3QgAAQJ4j9XdCAACAzxr2d0IAAEA1bfZ3QgAAAJu/9ndCAADAABL3d0IAAIBmZPd3QgAAwJdb+HdCAACA/a34d0IAAEBjAPl3QgAAAMlS+XdCAADALqX5d0IAAABgnPp3QgAAwMXu+ndCAACAK0H7d0IAAECRk/t3QgAAAPfl+3dCAABAKN38d0IAAACOL/13QgAAwPOB/XdC\",\"dtype\":\"float64\",\"order\":\"little\",\"shape\":[60]},\"Variable\":[\"FNGU Forecasted Adjusted Close\",\"FNGU Forecasted Adjusted Close\",\"FNGU Forecasted Adjusted Close\",\"FNGU Forecasted Adjusted Close\",\"FNGU Forecasted Adjusted Close\",\"FNGU Forecasted Adjusted Close\",\"FNGU Forecasted Adjusted Close\",\"FNGU Forecasted Adjusted Close\",\"FNGU Forecasted Adjusted Close\",\"FNGU Forecasted Adjusted Close\",\"FNGU Forecasted Adjusted Close\",\"FNGU Forecasted Adjusted Close\",\"FNGU Forecasted Adjusted Close\",\"FNGU Forecasted Adjusted Close\",\"FNGU Forecasted Adjusted Close\",\"FNGU Forecasted Adjusted Close\",\"FNGU Forecasted Adjusted Close\",\"FNGU Forecasted Adjusted Close\",\"FNGU Forecasted Adjusted Close\",\"FNGU Forecasted Adjusted Close\",\"FNGU Forecasted Adjusted Close\",\"FNGU Forecasted Adjusted Close\",\"FNGU Forecasted Adjusted Close\",\"FNGU Forecasted Adjusted Close\",\"FNGU Forecasted Adjusted Close\",\"FNGU Forecasted Adjusted Close\",\"FNGU Forecasted Adjusted Close\",\"FNGU Forecasted Adjusted Close\",\"FNGU Forecasted Adjusted Close\",\"FNGU Forecasted Adjusted Close\",\"FNGU Forecasted Adjusted Close\",\"FNGU Forecasted Adjusted Close\",\"FNGU Forecasted Adjusted Close\",\"FNGU Forecasted Adjusted Close\",\"FNGU Forecasted Adjusted Close\",\"FNGU Forecasted Adjusted Close\",\"FNGU Forecasted Adjusted Close\",\"FNGU Forecasted Adjusted Close\",\"FNGU Forecasted Adjusted Close\",\"FNGU Forecasted Adjusted Close\",\"FNGU Forecasted Adjusted Close\",\"FNGU Forecasted Adjusted Close\",\"FNGU Forecasted Adjusted Close\",\"FNGU Forecasted Adjusted Close\",\"FNGU Forecasted Adjusted Close\",\"FNGU Forecasted Adjusted Close\",\"FNGU Forecasted Adjusted Close\",\"FNGU Forecasted Adjusted Close\",\"FNGU Forecasted Adjusted Close\",\"FNGU Forecasted Adjusted Close\",\"FNGU Forecasted Adjusted Close\",\"FNGU Forecasted Adjusted Close\",\"FNGU Forecasted Adjusted Close\",\"FNGU Forecasted Adjusted Close\",\"FNGU Forecasted Adjusted Close\",\"FNGU Forecasted Adjusted Close\",\"FNGU Forecasted Adjusted Close\",\"FNGU Forecasted Adjusted Close\",\"FNGU Forecasted Adjusted Close\",\"FNGU Forecasted Adjusted Close\"],\"value\":{\"__ndarray__\":\"27X5Qk2H+kKvkvlChxb4QrQc9kJYGvRC587yQjZ18kIlG/FCctLvQsen7UKR6upCAQToQjNi40IAAd5C5ALYQiET0kJ1MsxClYzHQthuxUJgL8VCAgDGQqKrxUJdW8VCM3XEQunVw0KTEsRC/hvEQo0ow0KN6MFCNVfBQtwuwULWV8BCYbi+Qow0vELLsLhCsYm1QngHs0J8N7FC8NivQiABr0KV9a1C7nesQjcFqkJfGqdCQeKkQkPNokItNqBCWfCcQnLnmUIHxZhCreOYQnF3mkKjmJxCxrmfQooFo0JwiKZC68ypQkEvrUKQv7BC\",\"dtype\":\"float32\",\"order\":\"little\",\"shape\":[60]}},\"selected\":{\"id\":\"4840\"},\"selection_policy\":{\"id\":\"4856\"}},\"id\":\"4839\",\"type\":\"ColumnDataSource\"},{\"attributes\":{\"line_color\":\"#30a2da\",\"line_width\":2,\"x\":{\"field\":\"Date\"},\"y\":{\"field\":\"value\"}},\"id\":\"4628\",\"type\":\"Line\"},{\"attributes\":{\"data\":{\"Date\":{\"__ndarray__\":\"AAAAKybid0IAAMCQeOJ3QgAAgPbK4ndCAABAXB3jd0IAAICNFOR3QgAAQPNm5HdCAAAAWbnkd0IAAMC+C+V3QgAAgCRe5XdCAACAu6fmd0IAAEAh+uZ3QgAAAIdM53dCAADA7J7nd0IAAAAeluh3QgAAwIPo6HdCAACA6Trpd0IAAEBPjel3QgAAALXf6XdCAABA5tbqd0IAAABMKet3QgAAwLF763dCAACAF87rd0IAAEB9IOx3QgAAgK4X7XdCAABAFGrtd0IAAAB6vO13QgAAwN8O7ndCAACARWHud0IAAMB2WO93QgAAgNyq73dCAABAQv3vd0IAAACoT/B3QgAAwA2i8HdCAADApOvxd0IAAIAKPvJ3QgAAQHCQ8ndCAAAA1uLyd0IAAEAH2vN3QgAAAG0s9HdCAADA0n70d0IAAIA40fR3QgAAQJ4j9XdCAACAzxr2d0IAAEA1bfZ3QgAAAJu/9ndCAADAABL3d0IAAIBmZPd3QgAAwJdb+HdCAACA/a34d0IAAEBjAPl3QgAAAMlS+XdCAADALqX5d0IAAABgnPp3QgAAwMXu+ndCAACAK0H7d0IAAECRk/t3QgAAAPfl+3dCAABAKN38d0IAAACOL/13QgAAwPOB/XdC\",\"dtype\":\"float64\",\"order\":\"little\",\"shape\":[60]},\"Variable\":[\"SPY Actual Adjusted Close\",\"SPY Actual Adjusted Close\",\"SPY Actual Adjusted Close\",\"SPY Actual Adjusted Close\",\"SPY Actual Adjusted Close\",\"SPY Actual Adjusted Close\",\"SPY Actual Adjusted Close\",\"SPY Actual Adjusted Close\",\"SPY Actual Adjusted Close\",\"SPY Actual Adjusted Close\",\"SPY Actual Adjusted Close\",\"SPY Actual Adjusted Close\",\"SPY Actual Adjusted Close\",\"SPY Actual Adjusted Close\",\"SPY Actual Adjusted Close\",\"SPY Actual Adjusted Close\",\"SPY Actual Adjusted Close\",\"SPY Actual Adjusted Close\",\"SPY Actual Adjusted Close\",\"SPY Actual Adjusted Close\",\"SPY Actual Adjusted Close\",\"SPY Actual Adjusted Close\",\"SPY Actual Adjusted Close\",\"SPY Actual Adjusted Close\",\"SPY Actual Adjusted Close\",\"SPY Actual Adjusted Close\",\"SPY Actual Adjusted Close\",\"SPY Actual Adjusted Close\",\"SPY Actual Adjusted Close\",\"SPY Actual Adjusted Close\",\"SPY Actual Adjusted Close\",\"SPY Actual Adjusted Close\",\"SPY Actual Adjusted Close\",\"SPY Actual Adjusted Close\",\"SPY Actual Adjusted Close\",\"SPY Actual Adjusted Close\",\"SPY Actual Adjusted Close\",\"SPY Actual Adjusted Close\",\"SPY Actual Adjusted Close\",\"SPY Actual Adjusted Close\",\"SPY Actual Adjusted Close\",\"SPY Actual Adjusted Close\",\"SPY Actual Adjusted Close\",\"SPY Actual Adjusted Close\",\"SPY Actual Adjusted Close\",\"SPY Actual Adjusted Close\",\"SPY Actual Adjusted Close\",\"SPY Actual Adjusted Close\",\"SPY Actual Adjusted Close\",\"SPY Actual Adjusted Close\",\"SPY Actual Adjusted Close\",\"SPY Actual Adjusted Close\",\"SPY Actual Adjusted Close\",\"SPY Actual Adjusted Close\",\"SPY Actual Adjusted Close\",\"SPY Actual Adjusted Close\",\"SPY Actual Adjusted Close\",\"SPY Actual Adjusted Close\",\"SPY Actual Adjusted Close\",\"SPY Actual Adjusted Close\"],\"value\":{\"__ndarray__\":\"exSuR+FefUBmZmZmZs58QOxRuB6Fx3xAZmZmZmaqfEDhehSuR6F8QAAAAAAA5HxAAAAAAAD4fED2KFyPwpF8QM3MzMzMlHxAMzMzMzMTfEBxPQrXo8h7QFK4HoXreXtApHA9CtfvekCF61G4Hg17QBSuR+F6uHpAj8L1KFynekD2KFyPwoV6QArXo3A9LntASOF6FK6re0DsUbgehdt7QM3MzMzMIHxA7FG4HoV3e0BxPQrXo5h7QFK4HoXrgXtApHA9Cte7e0CkcD0K1yN8QGZmZmZmontAexSuR+EWe0Bcj8L1KAB7QEjhehSub3tA7FG4HoV3e0DhehSuR+F6QM3MzMzMtHpAj8L1KFxrekCPwvUoXPN5QI/C9ShcV3pAXI/C9SjsekDD9Shcj9p6QFK4HoXrcXpAZmZmZmbuekAAAAAAAMx6QLgehetRlHpASOF6FK7LeUCamZmZmZl5QD0K16NwSXpA16NwPQorekD2KFyPwtV5QD0K16NwpXlAUrgehes1ekAfhetRuMp6QBSuR+F6IHtAFK5H4Xpse0BmZmZmZmp7QHE9CtejvHtAhetRuB5he0B7FK5H4cp7QJqZmZmZ7XtAFK5H4XogfEA9CtejcHl8QBSuR+F6THxA\",\"dtype\":\"float64\",\"order\":\"little\",\"shape\":[60]}},\"selected\":{\"id\":\"4702\"},\"selection_policy\":{\"id\":\"4716\"}},\"id\":\"4701\",\"type\":\"ColumnDataSource\"},{\"attributes\":{\"line_color\":\"#fc4f30\",\"line_width\":2,\"x\":{\"field\":\"Date\"},\"y\":{\"field\":\"value\"}},\"id\":\"4632\",\"type\":\"Line\"}],\"root_ids\":[\"4554\"]},\"title\":\"Bokeh Application\",\"version\":\"2.4.3\"}};\n",
       "    var render_items = [{\"docid\":\"0ec715a2-33d0-4bb9-adc0-3f5096d1f20b\",\"root_ids\":[\"4554\"],\"roots\":{\"4554\":\"43e0cfdb-df53-4d66-ba53-f7d46fd2501f\"}}];\n",
       "    root.Bokeh.embed.embed_items_notebook(docs_json, render_items);\n",
       "    for (const render_item of render_items) {\n",
       "      for (const root_id of render_item.root_ids) {\n",
       "\tconst id_el = document.getElementById(root_id)\n",
       "\tif (id_el.children.length && (id_el.children[0].className === 'bk-root')) {\n",
       "\t  const root_el = id_el.children[0]\n",
       "\t  root_el.id = root_el.id + '-rendered'\n",
       "\t}\n",
       "      }\n",
       "    }\n",
       "  }\n",
       "  if (root.Bokeh !== undefined && root.Bokeh.Panel !== undefined) {\n",
       "    embed_document(root);\n",
       "  } else {\n",
       "    var attempts = 0;\n",
       "    var timer = setInterval(function(root) {\n",
       "      if (root.Bokeh !== undefined && root.Bokeh.Panel !== undefined) {\n",
       "        clearInterval(timer);\n",
       "        embed_document(root);\n",
       "      } else if (document.readyState == \"complete\") {\n",
       "        attempts++;\n",
       "        if (attempts > 200) {\n",
       "          clearInterval(timer);\n",
       "          console.log(\"Bokeh: ERROR: Unable to run BokehJS code because BokehJS library is missing\");\n",
       "        }\n",
       "      }\n",
       "    }, 25, root)\n",
       "  }\n",
       "})(window);</script>"
      ],
      "text/plain": [
       ":Layout\n",
       "   .NdOverlay.I   :NdOverlay   [Variable]\n",
       "      :Curve   [Date]   (value)\n",
       "   .NdOverlay.II  :NdOverlay   [Variable]\n",
       "      :Curve   [Date]   (value)\n",
       "   .NdOverlay.III :NdOverlay   [Variable]\n",
       "      :Curve   [Date]   (value)"
      ]
     },
     "execution_count": 221,
     "metadata": {
      "application/vnd.holoviews_exec.v0+json": {
       "id": "4554"
      }
     },
     "output_type": "execute_result"
    }
   ],
   "source": [
    "display_actual_predicted(arkk_actual_predicted) + display_actual_predicted(spy_actual_predicted) + display_actual_predicted(fngu_actual_predicted) "
   ]
  },
  {
   "cell_type": "markdown",
   "metadata": {},
   "source": [
    "### Training Data vs Actual vs Predicted"
   ]
  },
  {
   "cell_type": "code",
   "execution_count": 223,
   "metadata": {},
   "outputs": [],
   "source": [
    "arkk_train,spy_train,fngu_train = [i[:training_length].rename(columns={'Adj Close':'Training Data'}, inplace=True) for i in dataframes]"
   ]
  },
  {
   "cell_type": "code",
   "execution_count": 224,
   "metadata": {},
   "outputs": [
    {
     "ename": "KeyError",
     "evalue": "'Training Data'",
     "output_type": "error",
     "traceback": [
      "\u001b[1;31m--------------------------------------------------\u001b[0m",
      "\u001b[1;31mKeyError\u001b[0m         Traceback (most recent call last)",
      "\u001b[1;32mA:\\anaconda3\\lib\\site-packages\\pandas\\core\\indexes\\base.py\u001b[0m in \u001b[0;36mget_loc\u001b[1;34m(self, key, method, tolerance)\u001b[0m\n\u001b[0;32m   3620\u001b[0m             \u001b[1;32mtry\u001b[0m\u001b[1;33m:\u001b[0m\u001b[1;33m\u001b[0m\u001b[1;33m\u001b[0m\u001b[0m\n\u001b[1;32m-> 3621\u001b[1;33m                 \u001b[1;32mreturn\u001b[0m \u001b[0mself\u001b[0m\u001b[1;33m.\u001b[0m\u001b[0m_engine\u001b[0m\u001b[1;33m.\u001b[0m\u001b[0mget_loc\u001b[0m\u001b[1;33m(\u001b[0m\u001b[0mcasted_key\u001b[0m\u001b[1;33m)\u001b[0m\u001b[1;33m\u001b[0m\u001b[1;33m\u001b[0m\u001b[0m\n\u001b[0m\u001b[0;32m   3622\u001b[0m             \u001b[1;32mexcept\u001b[0m \u001b[0mKeyError\u001b[0m \u001b[1;32mas\u001b[0m \u001b[0merr\u001b[0m\u001b[1;33m:\u001b[0m\u001b[1;33m\u001b[0m\u001b[1;33m\u001b[0m\u001b[0m\n",
      "\u001b[1;32mA:\\anaconda3\\lib\\site-packages\\pandas\\_libs\\index.pyx\u001b[0m in \u001b[0;36mpandas._libs.index.IndexEngine.get_loc\u001b[1;34m()\u001b[0m\n",
      "\u001b[1;32mA:\\anaconda3\\lib\\site-packages\\pandas\\_libs\\index.pyx\u001b[0m in \u001b[0;36mpandas._libs.index.IndexEngine.get_loc\u001b[1;34m()\u001b[0m\n",
      "\u001b[1;32mpandas\\_libs\\hashtable_class_helper.pxi\u001b[0m in \u001b[0;36mpandas._libs.hashtable.PyObjectHashTable.get_item\u001b[1;34m()\u001b[0m\n",
      "\u001b[1;32mpandas\\_libs\\hashtable_class_helper.pxi\u001b[0m in \u001b[0;36mpandas._libs.hashtable.PyObjectHashTable.get_item\u001b[1;34m()\u001b[0m\n",
      "\u001b[1;31mKeyError\u001b[0m: 'Training Data'",
      "\nThe above exception was the direct cause of the following exception:\n",
      "\u001b[1;31mKeyError\u001b[0m         Traceback (most recent call last)",
      "\u001b[1;32m~\\AppData\\Local\\Temp\\ipykernel_1396\\3830331752.py\u001b[0m in \u001b[0;36m<module>\u001b[1;34m\u001b[0m\n\u001b[1;32m----> 1\u001b[1;33m \u001b[0mtrain\u001b[0m\u001b[1;33m[\u001b[0m\u001b[1;34m'Training Data'\u001b[0m\u001b[1;33m]\u001b[0m\u001b[1;33m.\u001b[0m\u001b[0mhvplot\u001b[0m\u001b[1;33m(\u001b[0m\u001b[1;33m)\u001b[0m \u001b[1;33m*\u001b[0m \u001b[0mvalid\u001b[0m\u001b[1;33m[\u001b[0m\u001b[1;33m[\u001b[0m\u001b[1;34m'Actual Adjusted Close'\u001b[0m\u001b[1;33m,\u001b[0m \u001b[1;34m'Forecasted Adjusted Close'\u001b[0m\u001b[1;33m]\u001b[0m\u001b[1;33m]\u001b[0m\u001b[1;33m.\u001b[0m\u001b[0mhvplot\u001b[0m\u001b[1;33m(\u001b[0m\u001b[1;33m)\u001b[0m\u001b[1;33m\u001b[0m\u001b[1;33m\u001b[0m\u001b[0m\n\u001b[0m",
      "\u001b[1;32mA:\\anaconda3\\lib\\site-packages\\pandas\\core\\frame.py\u001b[0m in \u001b[0;36m__getitem__\u001b[1;34m(self, key)\u001b[0m\n\u001b[0;32m   3503\u001b[0m             \u001b[1;32mif\u001b[0m \u001b[0mself\u001b[0m\u001b[1;33m.\u001b[0m\u001b[0mcolumns\u001b[0m\u001b[1;33m.\u001b[0m\u001b[0mnlevels\u001b[0m \u001b[1;33m>\u001b[0m \u001b[1;36m1\u001b[0m\u001b[1;33m:\u001b[0m\u001b[1;33m\u001b[0m\u001b[1;33m\u001b[0m\u001b[0m\n\u001b[0;32m   3504\u001b[0m                 \u001b[1;32mreturn\u001b[0m \u001b[0mself\u001b[0m\u001b[1;33m.\u001b[0m\u001b[0m_getitem_multilevel\u001b[0m\u001b[1;33m(\u001b[0m\u001b[0mkey\u001b[0m\u001b[1;33m)\u001b[0m\u001b[1;33m\u001b[0m\u001b[1;33m\u001b[0m\u001b[0m\n\u001b[1;32m-> 3505\u001b[1;33m             \u001b[0mindexer\u001b[0m \u001b[1;33m=\u001b[0m \u001b[0mself\u001b[0m\u001b[1;33m.\u001b[0m\u001b[0mcolumns\u001b[0m\u001b[1;33m.\u001b[0m\u001b[0mget_loc\u001b[0m\u001b[1;33m(\u001b[0m\u001b[0mkey\u001b[0m\u001b[1;33m)\u001b[0m\u001b[1;33m\u001b[0m\u001b[1;33m\u001b[0m\u001b[0m\n\u001b[0m\u001b[0;32m   3506\u001b[0m             \u001b[1;32mif\u001b[0m \u001b[0mis_integer\u001b[0m\u001b[1;33m(\u001b[0m\u001b[0mindexer\u001b[0m\u001b[1;33m)\u001b[0m\u001b[1;33m:\u001b[0m\u001b[1;33m\u001b[0m\u001b[1;33m\u001b[0m\u001b[0m\n\u001b[0;32m   3507\u001b[0m                 \u001b[0mindexer\u001b[0m \u001b[1;33m=\u001b[0m \u001b[1;33m[\u001b[0m\u001b[0mindexer\u001b[0m\u001b[1;33m]\u001b[0m\u001b[1;33m\u001b[0m\u001b[1;33m\u001b[0m\u001b[0m\n",
      "\u001b[1;32mA:\\anaconda3\\lib\\site-packages\\pandas\\core\\indexes\\base.py\u001b[0m in \u001b[0;36mget_loc\u001b[1;34m(self, key, method, tolerance)\u001b[0m\n\u001b[0;32m   3621\u001b[0m                 \u001b[1;32mreturn\u001b[0m \u001b[0mself\u001b[0m\u001b[1;33m.\u001b[0m\u001b[0m_engine\u001b[0m\u001b[1;33m.\u001b[0m\u001b[0mget_loc\u001b[0m\u001b[1;33m(\u001b[0m\u001b[0mcasted_key\u001b[0m\u001b[1;33m)\u001b[0m\u001b[1;33m\u001b[0m\u001b[1;33m\u001b[0m\u001b[0m\n\u001b[0;32m   3622\u001b[0m             \u001b[1;32mexcept\u001b[0m \u001b[0mKeyError\u001b[0m \u001b[1;32mas\u001b[0m \u001b[0merr\u001b[0m\u001b[1;33m:\u001b[0m\u001b[1;33m\u001b[0m\u001b[1;33m\u001b[0m\u001b[0m\n\u001b[1;32m-> 3623\u001b[1;33m                 \u001b[1;32mraise\u001b[0m \u001b[0mKeyError\u001b[0m\u001b[1;33m(\u001b[0m\u001b[0mkey\u001b[0m\u001b[1;33m)\u001b[0m \u001b[1;32mfrom\u001b[0m \u001b[0merr\u001b[0m\u001b[1;33m\u001b[0m\u001b[1;33m\u001b[0m\u001b[0m\n\u001b[0m\u001b[0;32m   3624\u001b[0m             \u001b[1;32mexcept\u001b[0m \u001b[0mTypeError\u001b[0m\u001b[1;33m:\u001b[0m\u001b[1;33m\u001b[0m\u001b[1;33m\u001b[0m\u001b[0m\n\u001b[0;32m   3625\u001b[0m                 \u001b[1;31m# If we have a listlike key, _check_indexing_error will raise\u001b[0m\u001b[1;33m\u001b[0m\u001b[1;33m\u001b[0m\u001b[0m\n",
      "\u001b[1;31mKeyError\u001b[0m: 'Training Data'"
     ]
    }
   ],
   "source": [
    "train['Training Data'].hvplot() * valid[['Actual Adjusted Close', 'Forecasted Adjusted Close']].hvplot()"
   ]
  },
  {
   "cell_type": "code",
   "execution_count": null,
   "metadata": {
    "colab": {
     "base_uri": "https://localhost:8080/",
     "height": 455
    },
    "id": "qEmOgqjoS8_r",
    "outputId": "e2de1167-f425-4fde-bb2a-0f31a8dfbcfa"
   },
   "outputs": [],
   "source": [
    "display(valid.head(),valid.tail())"
   ]
  },
  {
   "cell_type": "markdown",
   "metadata": {},
   "source": [
    "## Evaluation"
   ]
  },
  {
   "cell_type": "code",
   "execution_count": null,
   "metadata": {},
   "outputs": [],
   "source": [
    "rmse = np.sqrt(np.mean(predictions - y_test)**2)\n",
    "rmse"
   ]
  },
  {
   "cell_type": "markdown",
   "metadata": {},
   "source": [
    "## Write-Up/Conclusion"
   ]
  }
 ],
 "metadata": {
  "colab": {
   "provenance": []
  },
  "kernelspec": {
   "display_name": "Python 3 (ipykernel)",
   "language": "python",
   "name": "python3"
  },
  "language_info": {
   "codemirror_mode": {
    "name": "ipython",
    "version": 3
   },
   "file_extension": ".py",
   "mimetype": "text/x-python",
   "name": "python",
   "nbconvert_exporter": "python",
   "pygments_lexer": "ipython3",
   "version": "3.9.13"
  }
 },
 "nbformat": 4,
 "nbformat_minor": 4
}
